{
  "nbformat": 4,
  "nbformat_minor": 0,
  "metadata": {
    "colab": {
      "name": "LiarLiar_MulticlassClassification_NewsCoverage.ipynb",
      "provenance": [],
      "collapsed_sections": [],
      "toc_visible": true
    },
    "kernelspec": {
      "name": "python3",
      "display_name": "Python 3"
    }
  },
  "cells": [
    {
      "cell_type": "markdown",
      "metadata": {
        "id": "xwOAV4pSd2G6",
        "colab_type": "text"
      },
      "source": [
        "#Multiclass Classification\n",
        "\n",
        "# Team : **The Mean Squares**\n",
        "by **Subarna Chowdhury Soma** [SJSU ID: 014549587]"
      ]
    },
    {
      "cell_type": "markdown",
      "metadata": {
        "id": "W1b-vCSrpN52",
        "colab_type": "text"
      },
      "source": [
        "# Imports"
      ]
    },
    {
      "cell_type": "code",
      "metadata": {
        "id": "5KOtyrTIpYT7",
        "colab_type": "code",
        "outputId": "310ed24c-03e0-488a-ef0d-eb2abd05ac32",
        "colab": {
          "base_uri": "https://localhost:8080/",
          "height": 34
        }
      },
      "source": [
        "# Mount Google Drive\n",
        "from google.colab import drive\n",
        "drive.mount('/content/drive')"
      ],
      "execution_count": 0,
      "outputs": [
        {
          "output_type": "stream",
          "text": [
            "Drive already mounted at /content/drive; to attempt to forcibly remount, call drive.mount(\"/content/drive\", force_remount=True).\n"
          ],
          "name": "stdout"
        }
      ]
    },
    {
      "cell_type": "code",
      "metadata": {
        "id": "ppqHYYunpOJ_",
        "colab_type": "code",
        "outputId": "a8f56b00-67bb-4e9a-d8d4-cd7b3c736ca8",
        "colab": {
          "base_uri": "https://localhost:8080/",
          "height": 252
        }
      },
      "source": [
        "import argparse\n",
        "import pandas as pd\n",
        "import numpy as np\n",
        "import operator\n",
        "import matplotlib.pyplot as plt\n",
        "import nltk as nl\n",
        "from nltk.sentiment.vader import SentimentIntensityAnalyzer\n",
        "from sklearn.model_selection import ParameterGrid\n",
        "import statistics\n",
        "import random\n",
        "import string\n",
        "import warnings\n",
        "from gensim.models import word2vec\n",
        "from string import punctuation\n",
        "from matplotlib import pyplot\n",
        "from nltk.stem.porter import PorterStemmer\n",
        "from pandas import Series, datetime\n",
        "from pandas.plotting import scatter_matrix, autocorrelation_plot\n",
        "from sklearn.metrics import precision_recall_fscore_support as score\n",
        "from sklearn.preprocessing import StandardScaler\n",
        "from sklearn.model_selection import train_test_split, KFold, cross_val_score, GridSearchCV, TimeSeriesSplit\n",
        "from sklearn.metrics import classification_report, confusion_matrix, accuracy_score, mean_squared_error\n",
        "from sklearn.pipeline import Pipeline\n",
        "from sklearn.linear_model import LogisticRegression\n",
        "from sklearn.tree import DecisionTreeClassifier\n",
        "from sklearn.neighbors import KNeighborsClassifier\n",
        "from sklearn.discriminant_analysis import LinearDiscriminantAnalysis\n",
        "from sklearn.naive_bayes import GaussianNB\n",
        "from sklearn.svm import SVC\n",
        "from sklearn.ensemble import AdaBoostClassifier, GradientBoostingClassifier, RandomForestClassifier, ExtraTreesClassifier\n",
        "from sklearn.metrics import roc_curve, auc\n",
        "from sklearn.feature_extraction.text import CountVectorizer\n",
        "from xgboost import XGBClassifier\n",
        "from sklearn.naive_bayes import MultinomialNB\n",
        "from sklearn.feature_extraction.text import TfidfVectorizer\n",
        "from sklearn.naive_bayes import MultinomialNB\n",
        "from sklearn.metrics import accuracy_score\n",
        "from sklearn.multiclass import OneVsRestClassifier\n",
        "from nltk.corpus import stopwords\n",
        "stop_words = set(stopwords.words('english'))\n",
        "from sklearn.svm import LinearSVC\n",
        "import nltk\n",
        "import re\n",
        "import io\n",
        "import requests\n",
        "import time\n",
        "import gensim\n",
        "from nltk.stem.wordnet import WordNetLemmatizer\n",
        "from nltk.corpus import stopwords\n",
        "from string import punctuation\n",
        "import nltk.sentiment\n",
        "\n",
        "\n",
        "nltk.download('punkt')\n",
        "nltk.download('stopwords')\n",
        "nltk.download('averaged_perceptron_tagger')\n",
        "nltk.download('punkt')\n",
        "nltk.download('wordnet')\n",
        "nltk.download('vader_lexicon')\n",
        "from scipy import sparse\n",
        "# Code source: https://degravek.github.io/project-pages/project1/2017/04/28/New-Notebook/\n",
        "# Dataset from Chakraborty et al. (https://github.com/bhargaviparanjape/clickbait/tree/master/dataset)"
      ],
      "execution_count": 0,
      "outputs": [
        {
          "output_type": "stream",
          "text": [
            "[nltk_data] Downloading package punkt to /root/nltk_data...\n",
            "[nltk_data]   Package punkt is already up-to-date!\n",
            "[nltk_data] Downloading package stopwords to /root/nltk_data...\n",
            "[nltk_data]   Package stopwords is already up-to-date!\n",
            "[nltk_data] Downloading package averaged_perceptron_tagger to\n",
            "[nltk_data]     /root/nltk_data...\n",
            "[nltk_data]   Package averaged_perceptron_tagger is already up-to-\n",
            "[nltk_data]       date!\n",
            "[nltk_data] Downloading package punkt to /root/nltk_data...\n",
            "[nltk_data]   Package punkt is already up-to-date!\n",
            "[nltk_data] Downloading package wordnet to /root/nltk_data...\n",
            "[nltk_data]   Package wordnet is already up-to-date!\n",
            "[nltk_data] Downloading package vader_lexicon to /root/nltk_data...\n",
            "[nltk_data]   Package vader_lexicon is already up-to-date!\n"
          ],
          "name": "stdout"
        }
      ]
    },
    {
      "cell_type": "code",
      "metadata": {
        "id": "uvdIekt21I9X",
        "colab_type": "code",
        "colab": {}
      },
      "source": [
        "senti = nltk.sentiment.vader.SentimentIntensityAnalyzer()"
      ],
      "execution_count": 0,
      "outputs": []
    },
    {
      "cell_type": "markdown",
      "metadata": {
        "id": "BuLD0w5mLQt5",
        "colab_type": "text"
      },
      "source": [
        "change location here"
      ]
    },
    {
      "cell_type": "code",
      "metadata": {
        "id": "FAzOuPqCF2oh",
        "colab_type": "code",
        "colab": {}
      },
      "source": [
        "location = \"/content/drive/Shared drives/CMPE 257: Machine Learning/AlterusVera-Datasets/liar_dataset/\"\n",
        "location1= \"/content/drive/Shared drives/CMPE 257: Machine Learning/AlterusVera-Datasets/\""
      ],
      "execution_count": 0,
      "outputs": []
    },
    {
      "cell_type": "markdown",
      "metadata": {
        "id": "nUAK6G3ppf4e",
        "colab_type": "text"
      },
      "source": [
        "# Loading Dataset"
      ]
    },
    {
      "cell_type": "markdown",
      "metadata": {
        "id": "a0ONimeg7mtR",
        "colab_type": "text"
      },
      "source": [
        "## Kaggle- Fake News"
      ]
    },
    {
      "cell_type": "code",
      "metadata": {
        "id": "IoOrJ5d2Nndw",
        "colab_type": "code",
        "colab": {}
      },
      "source": [
        "def get_parsed_data(url, sep='\\t', header=None ):\n",
        "  return pd.read_csv(io.StringIO(requests.get(url).content.decode('utf-8')), sep=sep, header=header )\n",
        "\n",
        "# Download and parse the dataset... Let us first work with 100 articles\n",
        "KAGGLE_DATASET = 'https://github.com/synle/machine-learning-sample-dataset/raw/master/liar_dataset/kaggle'\n",
        "fake_news_data = get_parsed_data('%s/kaggle-fake.csv'% KAGGLE_DATASET, ',' , 'infer' )"
      ],
      "execution_count": 0,
      "outputs": []
    },
    {
      "cell_type": "code",
      "metadata": {
        "id": "fJNzr6jtOLvk",
        "colab_type": "code",
        "outputId": "173941cf-0ba2-49f5-e285-f2285c702dba",
        "colab": {
          "base_uri": "https://localhost:8080/",
          "height": 509
        }
      },
      "source": [
        "fake_news_data.head(3)"
      ],
      "execution_count": 0,
      "outputs": [
        {
          "output_type": "execute_result",
          "data": {
            "text/html": [
              "<div>\n",
              "<style scoped>\n",
              "    .dataframe tbody tr th:only-of-type {\n",
              "        vertical-align: middle;\n",
              "    }\n",
              "\n",
              "    .dataframe tbody tr th {\n",
              "        vertical-align: top;\n",
              "    }\n",
              "\n",
              "    .dataframe thead th {\n",
              "        text-align: right;\n",
              "    }\n",
              "</style>\n",
              "<table border=\"1\" class=\"dataframe\">\n",
              "  <thead>\n",
              "    <tr style=\"text-align: right;\">\n",
              "      <th></th>\n",
              "      <th>uuid</th>\n",
              "      <th>ord_in_thread</th>\n",
              "      <th>author</th>\n",
              "      <th>published</th>\n",
              "      <th>title</th>\n",
              "      <th>text</th>\n",
              "      <th>language</th>\n",
              "      <th>crawled</th>\n",
              "      <th>site_url</th>\n",
              "      <th>country</th>\n",
              "      <th>domain_rank</th>\n",
              "      <th>thread_title</th>\n",
              "      <th>spam_score</th>\n",
              "      <th>main_img_url</th>\n",
              "      <th>replies_count</th>\n",
              "      <th>participants_count</th>\n",
              "      <th>likes</th>\n",
              "      <th>comments</th>\n",
              "      <th>shares</th>\n",
              "      <th>type</th>\n",
              "    </tr>\n",
              "  </thead>\n",
              "  <tbody>\n",
              "    <tr>\n",
              "      <th>0</th>\n",
              "      <td>6a175f46bcd24d39b3e962ad0f29936721db70db</td>\n",
              "      <td>0</td>\n",
              "      <td>Barracuda Brigade</td>\n",
              "      <td>2016-10-26T21:41:00.000+03:00</td>\n",
              "      <td>Muslims BUSTED: They Stole Millions In Gov’t B...</td>\n",
              "      <td>Print They should pay all the back all the mon...</td>\n",
              "      <td>english</td>\n",
              "      <td>2016-10-27T01:49:27.168+03:00</td>\n",
              "      <td>100percentfedup.com</td>\n",
              "      <td>US</td>\n",
              "      <td>25689.0</td>\n",
              "      <td>Muslims BUSTED: They Stole Millions In Gov’t B...</td>\n",
              "      <td>0.0</td>\n",
              "      <td>http://bb4sp.com/wp-content/uploads/2016/10/Fu...</td>\n",
              "      <td>0</td>\n",
              "      <td>1</td>\n",
              "      <td>0</td>\n",
              "      <td>0</td>\n",
              "      <td>0</td>\n",
              "      <td>bias</td>\n",
              "    </tr>\n",
              "    <tr>\n",
              "      <th>1</th>\n",
              "      <td>2bdc29d12605ef9cf3f09f9875040a7113be5d5b</td>\n",
              "      <td>0</td>\n",
              "      <td>reasoning with facts</td>\n",
              "      <td>2016-10-29T08:47:11.259+03:00</td>\n",
              "      <td>Re: Why Did Attorney General Loretta Lynch Ple...</td>\n",
              "      <td>Why Did Attorney General Loretta Lynch Plead T...</td>\n",
              "      <td>english</td>\n",
              "      <td>2016-10-29T08:47:11.259+03:00</td>\n",
              "      <td>100percentfedup.com</td>\n",
              "      <td>US</td>\n",
              "      <td>25689.0</td>\n",
              "      <td>Re: Why Did Attorney General Loretta Lynch Ple...</td>\n",
              "      <td>0.0</td>\n",
              "      <td>http://bb4sp.com/wp-content/uploads/2016/10/Fu...</td>\n",
              "      <td>0</td>\n",
              "      <td>1</td>\n",
              "      <td>0</td>\n",
              "      <td>0</td>\n",
              "      <td>0</td>\n",
              "      <td>bias</td>\n",
              "    </tr>\n",
              "    <tr>\n",
              "      <th>2</th>\n",
              "      <td>c70e149fdd53de5e61c29281100b9de0ed268bc3</td>\n",
              "      <td>0</td>\n",
              "      <td>Barracuda Brigade</td>\n",
              "      <td>2016-10-31T01:41:49.479+02:00</td>\n",
              "      <td>BREAKING: Weiner Cooperating With FBI On Hilla...</td>\n",
              "      <td>Red State : \\nFox News Sunday reported this mo...</td>\n",
              "      <td>english</td>\n",
              "      <td>2016-10-31T01:41:49.479+02:00</td>\n",
              "      <td>100percentfedup.com</td>\n",
              "      <td>US</td>\n",
              "      <td>25689.0</td>\n",
              "      <td>BREAKING: Weiner Cooperating With FBI On Hilla...</td>\n",
              "      <td>0.0</td>\n",
              "      <td>http://bb4sp.com/wp-content/uploads/2016/10/Fu...</td>\n",
              "      <td>0</td>\n",
              "      <td>1</td>\n",
              "      <td>0</td>\n",
              "      <td>0</td>\n",
              "      <td>0</td>\n",
              "      <td>bias</td>\n",
              "    </tr>\n",
              "  </tbody>\n",
              "</table>\n",
              "</div>"
            ],
            "text/plain": [
              "                                       uuid  ord_in_thread  ... shares  type\n",
              "0  6a175f46bcd24d39b3e962ad0f29936721db70db              0  ...      0  bias\n",
              "1  2bdc29d12605ef9cf3f09f9875040a7113be5d5b              0  ...      0  bias\n",
              "2  c70e149fdd53de5e61c29281100b9de0ed268bc3              0  ...      0  bias\n",
              "\n",
              "[3 rows x 20 columns]"
            ]
          },
          "metadata": {
            "tags": []
          },
          "execution_count": 148
        }
      ]
    },
    {
      "cell_type": "markdown",
      "metadata": {
        "id": "ln5GCFwz8BBU",
        "colab_type": "text"
      },
      "source": [
        "## Liar Liar Dataset"
      ]
    },
    {
      "cell_type": "code",
      "metadata": {
        "id": "x_rVxTi0SG3_",
        "colab_type": "code",
        "colab": {}
      },
      "source": [
        "colnames = ['jsonid', 'label', 'headline_text', 'subject', 'speaker', \n",
        "            'speakerjobtitle', 'stateinfo','partyaffiliation', \n",
        "            'barelytruecounts', 'falsecounts','halftruecounts',\n",
        "            'mostlytrueocounts','pantsonfirecounts','context']\n",
        "headlinecolname = 'headline_text'\n",
        "labelcolname = 'encoded_label'\n",
        "processedheadlinecolname = 'processed_headline_text'\n",
        "\n",
        "###important columns: label,headline_text,processed_headline_text,encoded_label"
      ],
      "execution_count": 0,
      "outputs": []
    },
    {
      "cell_type": "code",
      "metadata": {
        "id": "qtKwTl1B8G18",
        "colab_type": "code",
        "colab": {}
      },
      "source": [
        "#method to load data\n",
        "colnames = ['jsonid', 'label', 'headline_text', 'subject', 'speaker', 'speakerjobtitle', 'stateinfo','partyaffiliation', 'barelytruecounts', 'falsecounts','halftruecounts','mostlytrueocunts','pantsonfirecounts','context']\n",
        "def load_train_data():\n",
        "    #load data\n",
        "    train_filename = location +'train.tsv'\n",
        "    train_news = pd.read_csv(train_filename, sep='\\t', names = colnames,error_bad_lines=False)\n",
        "    return train_news\n",
        "\n",
        "def load_test_data():\n",
        "    test_filename = location+'test.tsv'\n",
        "    test_news = pd.read_csv(test_filename, sep='\\t', names = colnames,error_bad_lines=False)\n",
        "    return test_news\n",
        "\n",
        "def load_valid_data():\n",
        "    test_filename = location+'valid.tsv'\n",
        "    test_news = pd.read_csv(test_filename, sep='\\t', names = colnames,error_bad_lines=False)\n",
        "    return test_news"
      ],
      "execution_count": 0,
      "outputs": []
    },
    {
      "cell_type": "code",
      "metadata": {
        "id": "O10qC2huqaB0",
        "colab_type": "code",
        "colab": {}
      },
      "source": [
        "#X_train, X_test, y_train, y_test = train_test_split(fake_news_data, y, test_size=0.2)"
      ],
      "execution_count": 0,
      "outputs": []
    },
    {
      "cell_type": "markdown",
      "metadata": {
        "id": "0ReiO4bko2el",
        "colab_type": "text"
      },
      "source": [
        "# Preprocessing"
      ]
    },
    {
      "cell_type": "markdown",
      "metadata": {
        "id": "LGFP9McQ8_y0",
        "colab_type": "text"
      },
      "source": [
        "## Kaggle Fake News"
      ]
    },
    {
      "cell_type": "code",
      "metadata": {
        "id": "Zhx7YrqLscvL",
        "colab_type": "code",
        "colab": {}
      },
      "source": [
        "model = gensim.models.KeyedVectors.load_word2vec_format(location1+'GoogleNews-vectors-negative300.bin.gz', binary=True)\n",
        "words = model.index2word\n",
        "\n",
        "w_rank = {}\n",
        "for i,word in enumerate(words):\n",
        "    w_rank[word] = i\n",
        "\n",
        "WORDS = w_rank"
      ],
      "execution_count": 0,
      "outputs": []
    },
    {
      "cell_type": "markdown",
      "metadata": {
        "id": "sD075nEOOyi0",
        "colab_type": "text"
      },
      "source": [
        "### Spell Cheaker"
      ]
    },
    {
      "cell_type": "code",
      "metadata": {
        "id": "g0ojbnsNmNpH",
        "colab_type": "code",
        "colab": {}
      },
      "source": [
        "import re\n",
        "from collections import Counter\n",
        "\n",
        "def words(text): return re.findall(r'\\w+', text.lower())\n",
        "\n",
        "def P(word, N=sum(WORDS.values())): \n",
        "    \"Probability of `word`.\"\n",
        "    return - WORDS.get(word, 0)\n",
        "\n",
        "def correction(word): \n",
        "    \"Most probable spelling correction for word.\"\n",
        "    return max(candidates(word), key=P)\n",
        "\n",
        "def candidates(word): \n",
        "    \"Generate possible spelling corrections for word.\"\n",
        "    return (known([word]) or known(edits1(word)) or known(edits2(word)) or [word])\n",
        "\n",
        "def known(words): \n",
        "    \"The subset of `words` that appear in the dictionary of WORDS.\"\n",
        "    return set(w for w in words if w in WORDS)\n",
        "\n",
        "def edits1(word):\n",
        "    \"All edits that are one edit away from `word`.\"\n",
        "    letters    = 'abcdefghijklmnopqrstuvwxyz'\n",
        "    splits     = [(word[:i], word[i:])    for i in range(len(word) + 1)]\n",
        "    deletes    = [L + R[1:]               for L, R in splits if R]\n",
        "    transposes = [L + R[1] + R[0] + R[2:] for L, R in splits if len(R)>1]\n",
        "    replaces   = [L + c + R[1:]           for L, R in splits if R for c in letters]\n",
        "    inserts    = [L + c + R               for L, R in splits for c in letters]\n",
        "    return set(deletes + transposes + replaces + inserts)\n",
        "\n",
        "def edits2(word): \n",
        "    \"All edits that are two edits away from `word`.\"\n",
        "    return (e2 for e1 in edits1(word) for e2 in edits1(e1))"
      ],
      "execution_count": 0,
      "outputs": []
    },
    {
      "cell_type": "code",
      "metadata": {
        "id": "Dw2kpRvosv51",
        "colab_type": "code",
        "colab": {}
      },
      "source": [
        "def spell_checker(text):\n",
        "    all_words = re.findall(r'\\w+', text.lower()) # split sentence to words\n",
        "    spell_checked_text  = []\n",
        "    for i in range(len(all_words)):\n",
        "        spell_checked_text.append(correction(all_words[i]))\n",
        "    return ' '.join(spell_checked_text)"
      ],
      "execution_count": 0,
      "outputs": []
    },
    {
      "cell_type": "code",
      "metadata": {
        "id": "RJK4otAUtMFt",
        "colab_type": "code",
        "outputId": "f25c3492-93f8-4c45-ff96-dd7b3ed0ef67",
        "colab": {
          "base_uri": "https://localhost:8080/",
          "height": 168
        }
      },
      "source": [
        "fake_news_data['type'].value_counts()"
      ],
      "execution_count": 0,
      "outputs": [
        {
          "output_type": "execute_result",
          "data": {
            "text/plain": [
              "bs            11492\n",
              "bias            443\n",
              "conspiracy      430\n",
              "hate            246\n",
              "satire          146\n",
              "state           121\n",
              "junksci         102\n",
              "fake             19\n",
              "Name: type, dtype: int64"
            ]
          },
          "metadata": {
            "tags": []
          },
          "execution_count": 155
        }
      ]
    },
    {
      "cell_type": "markdown",
      "metadata": {
        "id": "Hqqy_Lxy9IkU",
        "colab_type": "text"
      },
      "source": [
        "## Liar Liar Dataset"
      ]
    },
    {
      "cell_type": "markdown",
      "metadata": {
        "id": "xkAvpJaC9Tt9",
        "colab_type": "text"
      },
      "source": [
        "#### Label Encoding"
      ]
    },
    {
      "cell_type": "markdown",
      "metadata": {
        "id": "O-pDU4AASiI0",
        "colab_type": "text"
      },
      "source": [
        "\n",
        "* true           1676\n",
        "* mostly-true    1962\n",
        "* half-true      2114\n",
        "* barely-true    1654\n",
        "* false          1995\n",
        "* pants-fire      839"
      ]
    },
    {
      "cell_type": "code",
      "metadata": {
        "id": "CergEAhe9MlH",
        "colab_type": "code",
        "colab": {}
      },
      "source": [
        "#label encoding\n",
        "true_labels = ['original','true','mostly-true','half-true']\n",
        "false_labels = ['barely-true','false','pants-fire']\n",
        "\n",
        "def encode_news_type(input_label):\n",
        "    if input_label == 'true':\n",
        "        return 1\n",
        "    elif input_label == 'mostly-true':\n",
        "        return 2\n",
        "    elif input_label == 'half-true':\n",
        "        return 3\n",
        "    elif input_label == 'barely-true':\n",
        "        return 4\n",
        "    elif input_label == 'false':\n",
        "        return 5\n",
        "    elif input_label == 'pants-fire':\n",
        "        return 6"
      ],
      "execution_count": 0,
      "outputs": []
    },
    {
      "cell_type": "markdown",
      "metadata": {
        "id": "7pSTvfe29Zwh",
        "colab_type": "text"
      },
      "source": [
        "#### Remove Punctuations"
      ]
    },
    {
      "cell_type": "code",
      "metadata": {
        "id": "AzOAUrYf9XhS",
        "colab_type": "code",
        "colab": {}
      },
      "source": [
        "#method to remove punctuations from textual data\n",
        "def remove_punctuation(text):\n",
        "    translator = str.maketrans('', '', string.punctuation)\n",
        "    return text.translate(translator)"
      ],
      "execution_count": 0,
      "outputs": []
    },
    {
      "cell_type": "markdown",
      "metadata": {
        "id": "S4IVMM5D9nXO",
        "colab_type": "text"
      },
      "source": [
        "#### Remove Stopwords"
      ]
    },
    {
      "cell_type": "code",
      "metadata": {
        "id": "YC_KMNp69mNu",
        "colab_type": "code",
        "colab": {}
      },
      "source": [
        "from nltk.stem.snowball import SnowballStemmer\n",
        "sw = stopwords.words('english')\n",
        "stemmer = SnowballStemmer(\"english\")\n",
        "\n",
        "#Remove stop words\n",
        "def remove_stopwords(text):\n",
        "    text = [word.lower() for word in text.split() if word.lower() not in sw]\n",
        "    return \" \".join(text)\n",
        "\n",
        "#Lemmetize and pos tagging\n",
        "def lemmatize_stemming(text):\n",
        "    return stemmer.stem(WordNetLemmatizer().lemmatize(text, pos='v'))\n",
        "\n",
        "#Stemming\n",
        "def stemming(text):    \n",
        "    text = [stemmer.stem(word) for word in text.split()]\n",
        "    return \" \".join(text)"
      ],
      "execution_count": 0,
      "outputs": []
    },
    {
      "cell_type": "markdown",
      "metadata": {
        "id": "1jxF9fK5-Hon",
        "colab_type": "text"
      },
      "source": [
        "#### Distillation on Test and Training Data"
      ]
    },
    {
      "cell_type": "code",
      "metadata": {
        "id": "uZIxKy4V-MAu",
        "colab_type": "code",
        "colab": {}
      },
      "source": [
        "def text_preprocess(df):\n",
        "  ## headline_text\n",
        "    #encode labels\n",
        "    df['encoded_label'] = df.apply(lambda row: encode_news_type(row['label']), axis=1)\n",
        "    #convert to lower case\n",
        "    df['processed_headline_text'] = df['headline_text'].str.lower()\n",
        "    #remove stop words\n",
        "    df['processed_headline_text'] = df['processed_headline_text'].apply(remove_stopwords)\n",
        "    #spell check\n",
        "    df['processed_headline_text'] = df['processed_headline_text'].apply(spell_checker)\n",
        "    #Lemmetize\n",
        "    df['processed_headline_text'] = df['processed_headline_text'].apply(lemmatize_stemming)\n",
        "    #stemming\n",
        "    df['processed_headline_text'] = df['processed_headline_text'].apply(stemming)\n",
        "    #remove punctuation\n",
        "    df['processed_headline_text'] = df['processed_headline_text'].apply(remove_punctuation)\n",
        "    #remove less than 3 letter words\n",
        "    df['processed_headline_text']  = df.processed_headline_text.apply(lambda i: ' '.join(filter(lambda j: len(j) > 3, i.split())))\n",
        "    return df[['headline_text','processed_headline_text', 'subject', 'speaker', 'speakerjobtitle', 'stateinfo', 'partyaffiliation', 'context', 'encoded_label']]"
      ],
      "execution_count": 0,
      "outputs": []
    },
    {
      "cell_type": "markdown",
      "metadata": {
        "id": "XRUoFqwGM59D",
        "colab_type": "text"
      },
      "source": [
        "##### Call Load Data Function"
      ]
    },
    {
      "cell_type": "code",
      "metadata": {
        "id": "X2wIl2d5-QUT",
        "colab_type": "code",
        "colab": {}
      },
      "source": [
        "#load test and train data\n",
        "train_news = load_train_data()\n",
        "test_news = load_test_data()\n",
        "valid_news = load_valid_data()"
      ],
      "execution_count": 0,
      "outputs": []
    },
    {
      "cell_type": "markdown",
      "metadata": {
        "id": "2p8TGSNJNAas",
        "colab_type": "text"
      },
      "source": [
        "##### Call Preprocessing Function"
      ]
    },
    {
      "cell_type": "code",
      "metadata": {
        "id": "qRwgjj0H-UsJ",
        "colab_type": "code",
        "outputId": "16f7b07c-8ed2-4639-a570-d5cb0dd397da",
        "colab": {
          "base_uri": "https://localhost:8080/",
          "height": 363
        }
      },
      "source": [
        "#pre-processing train dataset\n",
        "df_train = text_preprocess(train_news)\n",
        "df_train.head(5)"
      ],
      "execution_count": 0,
      "outputs": [
        {
          "output_type": "execute_result",
          "data": {
            "text/html": [
              "<div>\n",
              "<style scoped>\n",
              "    .dataframe tbody tr th:only-of-type {\n",
              "        vertical-align: middle;\n",
              "    }\n",
              "\n",
              "    .dataframe tbody tr th {\n",
              "        vertical-align: top;\n",
              "    }\n",
              "\n",
              "    .dataframe thead th {\n",
              "        text-align: right;\n",
              "    }\n",
              "</style>\n",
              "<table border=\"1\" class=\"dataframe\">\n",
              "  <thead>\n",
              "    <tr style=\"text-align: right;\">\n",
              "      <th></th>\n",
              "      <th>headline_text</th>\n",
              "      <th>processed_headline_text</th>\n",
              "      <th>subject</th>\n",
              "      <th>speaker</th>\n",
              "      <th>speakerjobtitle</th>\n",
              "      <th>stateinfo</th>\n",
              "      <th>partyaffiliation</th>\n",
              "      <th>context</th>\n",
              "      <th>encoded_label</th>\n",
              "    </tr>\n",
              "  </thead>\n",
              "  <tbody>\n",
              "    <tr>\n",
              "      <th>0</th>\n",
              "      <td>Says the Annies List political group supports ...</td>\n",
              "      <td>nanni list polit group support third trimest a...</td>\n",
              "      <td>abortion</td>\n",
              "      <td>dwayne-bohac</td>\n",
              "      <td>State representative</td>\n",
              "      <td>Texas</td>\n",
              "      <td>republican</td>\n",
              "      <td>a mailer</td>\n",
              "      <td>5</td>\n",
              "    </tr>\n",
              "    <tr>\n",
              "      <th>1</th>\n",
              "      <td>When did the decline of coal start? It started...</td>\n",
              "      <td>declin coal start start natur took start begin...</td>\n",
              "      <td>energy,history,job-accomplishments</td>\n",
              "      <td>scott-surovell</td>\n",
              "      <td>State delegate</td>\n",
              "      <td>Virginia</td>\n",
              "      <td>democrat</td>\n",
              "      <td>a floor speech.</td>\n",
              "      <td>3</td>\n",
              "    </tr>\n",
              "    <tr>\n",
              "      <th>2</th>\n",
              "      <td>Hillary Clinton agrees with John McCain \"by vo...</td>\n",
              "      <td>hillari clinton agre john mccain vote give geo...</td>\n",
              "      <td>foreign-policy</td>\n",
              "      <td>barack-obama</td>\n",
              "      <td>President</td>\n",
              "      <td>Illinois</td>\n",
              "      <td>democrat</td>\n",
              "      <td>Denver</td>\n",
              "      <td>2</td>\n",
              "    </tr>\n",
              "    <tr>\n",
              "      <th>3</th>\n",
              "      <td>Health care reform legislation is likely to ma...</td>\n",
              "      <td>health care reform legisl like mandat free cha...</td>\n",
              "      <td>health-care</td>\n",
              "      <td>blog-posting</td>\n",
              "      <td>NaN</td>\n",
              "      <td>NaN</td>\n",
              "      <td>none</td>\n",
              "      <td>a news release</td>\n",
              "      <td>5</td>\n",
              "    </tr>\n",
              "    <tr>\n",
              "      <th>4</th>\n",
              "      <td>The economic turnaround started at the end of ...</td>\n",
              "      <td>econom turnaround start term</td>\n",
              "      <td>economy,jobs</td>\n",
              "      <td>charlie-crist</td>\n",
              "      <td>NaN</td>\n",
              "      <td>Florida</td>\n",
              "      <td>democrat</td>\n",
              "      <td>an interview on CNN</td>\n",
              "      <td>3</td>\n",
              "    </tr>\n",
              "  </tbody>\n",
              "</table>\n",
              "</div>"
            ],
            "text/plain": [
              "                                       headline_text  ... encoded_label\n",
              "0  Says the Annies List political group supports ...  ...             5\n",
              "1  When did the decline of coal start? It started...  ...             3\n",
              "2  Hillary Clinton agrees with John McCain \"by vo...  ...             2\n",
              "3  Health care reform legislation is likely to ma...  ...             5\n",
              "4  The economic turnaround started at the end of ...  ...             3\n",
              "\n",
              "[5 rows x 9 columns]"
            ]
          },
          "metadata": {
            "tags": []
          },
          "execution_count": 161
        }
      ]
    },
    {
      "cell_type": "code",
      "metadata": {
        "id": "YpqkUga3-2fa",
        "colab_type": "code",
        "outputId": "6e5c341b-9693-44de-9990-4f08dff69a2f",
        "colab": {
          "base_uri": "https://localhost:8080/",
          "height": 467
        }
      },
      "source": [
        "#pre-processing test dataset\n",
        "df_test = text_preprocess(test_news)\n",
        "df_test.head(5)"
      ],
      "execution_count": 0,
      "outputs": [
        {
          "output_type": "execute_result",
          "data": {
            "text/html": [
              "<div>\n",
              "<style scoped>\n",
              "    .dataframe tbody tr th:only-of-type {\n",
              "        vertical-align: middle;\n",
              "    }\n",
              "\n",
              "    .dataframe tbody tr th {\n",
              "        vertical-align: top;\n",
              "    }\n",
              "\n",
              "    .dataframe thead th {\n",
              "        text-align: right;\n",
              "    }\n",
              "</style>\n",
              "<table border=\"1\" class=\"dataframe\">\n",
              "  <thead>\n",
              "    <tr style=\"text-align: right;\">\n",
              "      <th></th>\n",
              "      <th>headline_text</th>\n",
              "      <th>processed_headline_text</th>\n",
              "      <th>subject</th>\n",
              "      <th>speaker</th>\n",
              "      <th>speakerjobtitle</th>\n",
              "      <th>stateinfo</th>\n",
              "      <th>partyaffiliation</th>\n",
              "      <th>context</th>\n",
              "      <th>encoded_label</th>\n",
              "    </tr>\n",
              "  </thead>\n",
              "  <tbody>\n",
              "    <tr>\n",
              "      <th>0</th>\n",
              "      <td>Building a wall on the U.S.-Mexico border will...</td>\n",
              "      <td>build wall mexico border take liter year</td>\n",
              "      <td>immigration</td>\n",
              "      <td>rick-perry</td>\n",
              "      <td>Governor</td>\n",
              "      <td>Texas</td>\n",
              "      <td>republican</td>\n",
              "      <td>Radio interview</td>\n",
              "      <td>1</td>\n",
              "    </tr>\n",
              "    <tr>\n",
              "      <th>1</th>\n",
              "      <td>Wisconsin is on pace to double the number of l...</td>\n",
              "      <td>wisconsin pace doubl number layoff year</td>\n",
              "      <td>jobs</td>\n",
              "      <td>katrina-shankland</td>\n",
              "      <td>State representative</td>\n",
              "      <td>Wisconsin</td>\n",
              "      <td>democrat</td>\n",
              "      <td>a news conference</td>\n",
              "      <td>5</td>\n",
              "    </tr>\n",
              "    <tr>\n",
              "      <th>2</th>\n",
              "      <td>Says John McCain has done nothing to help the ...</td>\n",
              "      <td>john mccain done noth help</td>\n",
              "      <td>military,veterans,voting-record</td>\n",
              "      <td>donald-trump</td>\n",
              "      <td>President-Elect</td>\n",
              "      <td>New York</td>\n",
              "      <td>republican</td>\n",
              "      <td>comments on ABC's This Week.</td>\n",
              "      <td>5</td>\n",
              "    </tr>\n",
              "    <tr>\n",
              "      <th>3</th>\n",
              "      <td>Suzanne Bonamici supports a plan that will cut...</td>\n",
              "      <td>suzann bonamici support plan choic medicar adv...</td>\n",
              "      <td>medicare,message-machine-2012,campaign-adverti...</td>\n",
              "      <td>rob-cornilles</td>\n",
              "      <td>consultant</td>\n",
              "      <td>Oregon</td>\n",
              "      <td>republican</td>\n",
              "      <td>a radio show</td>\n",
              "      <td>3</td>\n",
              "    </tr>\n",
              "    <tr>\n",
              "      <th>4</th>\n",
              "      <td>When asked by a reporter whether hes at the ce...</td>\n",
              "      <td>report whether center crimin scheme violat cam...</td>\n",
              "      <td>campaign-finance,legal-issues,campaign-adverti...</td>\n",
              "      <td>state-democratic-party-wisconsin</td>\n",
              "      <td>NaN</td>\n",
              "      <td>Wisconsin</td>\n",
              "      <td>democrat</td>\n",
              "      <td>a web video</td>\n",
              "      <td>6</td>\n",
              "    </tr>\n",
              "  </tbody>\n",
              "</table>\n",
              "</div>"
            ],
            "text/plain": [
              "                                       headline_text  ... encoded_label\n",
              "0  Building a wall on the U.S.-Mexico border will...  ...             1\n",
              "1  Wisconsin is on pace to double the number of l...  ...             5\n",
              "2  Says John McCain has done nothing to help the ...  ...             5\n",
              "3  Suzanne Bonamici supports a plan that will cut...  ...             3\n",
              "4  When asked by a reporter whether hes at the ce...  ...             6\n",
              "\n",
              "[5 rows x 9 columns]"
            ]
          },
          "metadata": {
            "tags": []
          },
          "execution_count": 162
        }
      ]
    },
    {
      "cell_type": "code",
      "metadata": {
        "id": "ZgR1PheiTWG4",
        "colab_type": "code",
        "outputId": "99c22c4e-4cc3-4d6a-be38-fc64b09e939b",
        "colab": {
          "base_uri": "https://localhost:8080/",
          "height": 481
        }
      },
      "source": [
        "#pre-processing valid dataset\n",
        "df_valid = text_preprocess(valid_news)\n",
        "df_valid.head(5)"
      ],
      "execution_count": 0,
      "outputs": [
        {
          "output_type": "execute_result",
          "data": {
            "text/html": [
              "<div>\n",
              "<style scoped>\n",
              "    .dataframe tbody tr th:only-of-type {\n",
              "        vertical-align: middle;\n",
              "    }\n",
              "\n",
              "    .dataframe tbody tr th {\n",
              "        vertical-align: top;\n",
              "    }\n",
              "\n",
              "    .dataframe thead th {\n",
              "        text-align: right;\n",
              "    }\n",
              "</style>\n",
              "<table border=\"1\" class=\"dataframe\">\n",
              "  <thead>\n",
              "    <tr style=\"text-align: right;\">\n",
              "      <th></th>\n",
              "      <th>headline_text</th>\n",
              "      <th>processed_headline_text</th>\n",
              "      <th>subject</th>\n",
              "      <th>speaker</th>\n",
              "      <th>speakerjobtitle</th>\n",
              "      <th>stateinfo</th>\n",
              "      <th>partyaffiliation</th>\n",
              "      <th>context</th>\n",
              "      <th>encoded_label</th>\n",
              "    </tr>\n",
              "  </thead>\n",
              "  <tbody>\n",
              "    <tr>\n",
              "      <th>0</th>\n",
              "      <td>We have less Americans working now than in the...</td>\n",
              "      <td>less american work</td>\n",
              "      <td>economy,jobs</td>\n",
              "      <td>vicky-hartzler</td>\n",
              "      <td>U.S. Representative</td>\n",
              "      <td>Missouri</td>\n",
              "      <td>republican</td>\n",
              "      <td>an interview with ABC17 News</td>\n",
              "      <td>4</td>\n",
              "    </tr>\n",
              "    <tr>\n",
              "      <th>1</th>\n",
              "      <td>When Obama was sworn into office, he DID NOT u...</td>\n",
              "      <td>obama sworn offic holi bibl instead kura their...</td>\n",
              "      <td>obama-birth-certificate,religion</td>\n",
              "      <td>chain-email</td>\n",
              "      <td>NaN</td>\n",
              "      <td>NaN</td>\n",
              "      <td>none</td>\n",
              "      <td>NaN</td>\n",
              "      <td>6</td>\n",
              "    </tr>\n",
              "    <tr>\n",
              "      <th>2</th>\n",
              "      <td>Says Having organizations parading as being so...</td>\n",
              "      <td>organ parad social welfar organ involv polit c...</td>\n",
              "      <td>campaign-finance,congress,taxes</td>\n",
              "      <td>earl-blumenauer</td>\n",
              "      <td>U.S. representative</td>\n",
              "      <td>Oregon</td>\n",
              "      <td>democrat</td>\n",
              "      <td>a U.S. Ways and Means hearing</td>\n",
              "      <td>5</td>\n",
              "    </tr>\n",
              "    <tr>\n",
              "      <th>3</th>\n",
              "      <td>Says nearly half of Oregons children are poor.</td>\n",
              "      <td>near half oregon children poor</td>\n",
              "      <td>poverty</td>\n",
              "      <td>jim-francesconi</td>\n",
              "      <td>Member of the State Board of Higher Education</td>\n",
              "      <td>Oregon</td>\n",
              "      <td>none</td>\n",
              "      <td>an opinion article</td>\n",
              "      <td>3</td>\n",
              "    </tr>\n",
              "    <tr>\n",
              "      <th>4</th>\n",
              "      <td>On attacks by Republicans that various program...</td>\n",
              "      <td>attack republican various program econom stimu...</td>\n",
              "      <td>economy,stimulus</td>\n",
              "      <td>barack-obama</td>\n",
              "      <td>President</td>\n",
              "      <td>Illinois</td>\n",
              "      <td>democrat</td>\n",
              "      <td>interview with CBS News</td>\n",
              "      <td>3</td>\n",
              "    </tr>\n",
              "  </tbody>\n",
              "</table>\n",
              "</div>"
            ],
            "text/plain": [
              "                                       headline_text  ... encoded_label\n",
              "0  We have less Americans working now than in the...  ...             4\n",
              "1  When Obama was sworn into office, he DID NOT u...  ...             6\n",
              "2  Says Having organizations parading as being so...  ...             5\n",
              "3     Says nearly half of Oregons children are poor.  ...             3\n",
              "4  On attacks by Republicans that various program...  ...             3\n",
              "\n",
              "[5 rows x 9 columns]"
            ]
          },
          "metadata": {
            "tags": []
          },
          "execution_count": 163
        }
      ]
    },
    {
      "cell_type": "code",
      "metadata": {
        "id": "MIfKy8ipT05L",
        "colab_type": "code",
        "outputId": "9d4d33e5-7cd6-4ddd-f759-5e7186d2b817",
        "colab": {
          "base_uri": "https://localhost:8080/",
          "height": 501
        }
      },
      "source": [
        "train_news['index'] = train_news.index\n",
        "\n",
        "train_news.head()\n",
        "\n",
        "test_news['index'] = test_news.index\n",
        "\n",
        "test_news.head()\n",
        "\n",
        "valid_news['index'] = valid_news.index\n",
        "\n",
        "valid_news.head()"
      ],
      "execution_count": 0,
      "outputs": [
        {
          "output_type": "execute_result",
          "data": {
            "text/html": [
              "<div>\n",
              "<style scoped>\n",
              "    .dataframe tbody tr th:only-of-type {\n",
              "        vertical-align: middle;\n",
              "    }\n",
              "\n",
              "    .dataframe tbody tr th {\n",
              "        vertical-align: top;\n",
              "    }\n",
              "\n",
              "    .dataframe thead th {\n",
              "        text-align: right;\n",
              "    }\n",
              "</style>\n",
              "<table border=\"1\" class=\"dataframe\">\n",
              "  <thead>\n",
              "    <tr style=\"text-align: right;\">\n",
              "      <th></th>\n",
              "      <th>jsonid</th>\n",
              "      <th>label</th>\n",
              "      <th>headline_text</th>\n",
              "      <th>subject</th>\n",
              "      <th>speaker</th>\n",
              "      <th>speakerjobtitle</th>\n",
              "      <th>stateinfo</th>\n",
              "      <th>partyaffiliation</th>\n",
              "      <th>barelytruecounts</th>\n",
              "      <th>falsecounts</th>\n",
              "      <th>halftruecounts</th>\n",
              "      <th>mostlytrueocunts</th>\n",
              "      <th>pantsonfirecounts</th>\n",
              "      <th>context</th>\n",
              "      <th>encoded_label</th>\n",
              "      <th>processed_headline_text</th>\n",
              "      <th>index</th>\n",
              "    </tr>\n",
              "  </thead>\n",
              "  <tbody>\n",
              "    <tr>\n",
              "      <th>0</th>\n",
              "      <td>12134.json</td>\n",
              "      <td>barely-true</td>\n",
              "      <td>We have less Americans working now than in the...</td>\n",
              "      <td>economy,jobs</td>\n",
              "      <td>vicky-hartzler</td>\n",
              "      <td>U.S. Representative</td>\n",
              "      <td>Missouri</td>\n",
              "      <td>republican</td>\n",
              "      <td>1</td>\n",
              "      <td>0</td>\n",
              "      <td>1</td>\n",
              "      <td>0</td>\n",
              "      <td>0</td>\n",
              "      <td>an interview with ABC17 News</td>\n",
              "      <td>4</td>\n",
              "      <td>less american work</td>\n",
              "      <td>0</td>\n",
              "    </tr>\n",
              "    <tr>\n",
              "      <th>1</th>\n",
              "      <td>238.json</td>\n",
              "      <td>pants-fire</td>\n",
              "      <td>When Obama was sworn into office, he DID NOT u...</td>\n",
              "      <td>obama-birth-certificate,religion</td>\n",
              "      <td>chain-email</td>\n",
              "      <td>NaN</td>\n",
              "      <td>NaN</td>\n",
              "      <td>none</td>\n",
              "      <td>11</td>\n",
              "      <td>43</td>\n",
              "      <td>8</td>\n",
              "      <td>5</td>\n",
              "      <td>105</td>\n",
              "      <td>NaN</td>\n",
              "      <td>6</td>\n",
              "      <td>obama sworn offic holi bibl instead kura their...</td>\n",
              "      <td>1</td>\n",
              "    </tr>\n",
              "    <tr>\n",
              "      <th>2</th>\n",
              "      <td>7891.json</td>\n",
              "      <td>false</td>\n",
              "      <td>Says Having organizations parading as being so...</td>\n",
              "      <td>campaign-finance,congress,taxes</td>\n",
              "      <td>earl-blumenauer</td>\n",
              "      <td>U.S. representative</td>\n",
              "      <td>Oregon</td>\n",
              "      <td>democrat</td>\n",
              "      <td>0</td>\n",
              "      <td>1</td>\n",
              "      <td>1</td>\n",
              "      <td>1</td>\n",
              "      <td>0</td>\n",
              "      <td>a U.S. Ways and Means hearing</td>\n",
              "      <td>5</td>\n",
              "      <td>organ parad social welfar organ involv polit c...</td>\n",
              "      <td>2</td>\n",
              "    </tr>\n",
              "    <tr>\n",
              "      <th>3</th>\n",
              "      <td>8169.json</td>\n",
              "      <td>half-true</td>\n",
              "      <td>Says nearly half of Oregons children are poor.</td>\n",
              "      <td>poverty</td>\n",
              "      <td>jim-francesconi</td>\n",
              "      <td>Member of the State Board of Higher Education</td>\n",
              "      <td>Oregon</td>\n",
              "      <td>none</td>\n",
              "      <td>0</td>\n",
              "      <td>1</td>\n",
              "      <td>1</td>\n",
              "      <td>1</td>\n",
              "      <td>0</td>\n",
              "      <td>an opinion article</td>\n",
              "      <td>3</td>\n",
              "      <td>near half oregon children poor</td>\n",
              "      <td>3</td>\n",
              "    </tr>\n",
              "    <tr>\n",
              "      <th>4</th>\n",
              "      <td>929.json</td>\n",
              "      <td>half-true</td>\n",
              "      <td>On attacks by Republicans that various program...</td>\n",
              "      <td>economy,stimulus</td>\n",
              "      <td>barack-obama</td>\n",
              "      <td>President</td>\n",
              "      <td>Illinois</td>\n",
              "      <td>democrat</td>\n",
              "      <td>70</td>\n",
              "      <td>71</td>\n",
              "      <td>160</td>\n",
              "      <td>163</td>\n",
              "      <td>9</td>\n",
              "      <td>interview with CBS News</td>\n",
              "      <td>3</td>\n",
              "      <td>attack republican various program econom stimu...</td>\n",
              "      <td>4</td>\n",
              "    </tr>\n",
              "  </tbody>\n",
              "</table>\n",
              "</div>"
            ],
            "text/plain": [
              "       jsonid  ... index\n",
              "0  12134.json  ...     0\n",
              "1    238.json  ...     1\n",
              "2   7891.json  ...     2\n",
              "3   8169.json  ...     3\n",
              "4    929.json  ...     4\n",
              "\n",
              "[5 rows x 17 columns]"
            ]
          },
          "metadata": {
            "tags": []
          },
          "execution_count": 164
        }
      ]
    },
    {
      "cell_type": "code",
      "metadata": {
        "id": "M0s_yBd_T6Lo",
        "colab_type": "code",
        "colab": {}
      },
      "source": [
        "\n",
        "train_news.to_csv(location+\"train_cleantext.csv\", sep=',')\n",
        "test_news.to_csv(location+\"test_cleantext.csv\", sep=',')\n",
        "valid_news.to_csv(location+\"valid_cleantext.csv\", sep=',')"
      ],
      "execution_count": 0,
      "outputs": []
    },
    {
      "cell_type": "markdown",
      "metadata": {
        "id": "dPqELfb7tq0R",
        "colab_type": "text"
      },
      "source": [
        "# Visualizations"
      ]
    },
    {
      "cell_type": "markdown",
      "metadata": {
        "id": "wmcOce0oB6Uz",
        "colab_type": "text"
      },
      "source": [
        "## Liar Liar Dataset"
      ]
    },
    {
      "cell_type": "code",
      "metadata": {
        "id": "dJZc7cPRtsnl",
        "colab_type": "code",
        "colab": {}
      },
      "source": [
        "from wordcloud import WordCloud, STOPWORDS\n",
        "import matplotlib.pyplot as plt\n",
        "import seaborn as sns\n",
        "from scipy import stats\n",
        "\n",
        "%matplotlib inline"
      ],
      "execution_count": 0,
      "outputs": []
    },
    {
      "cell_type": "code",
      "metadata": {
        "id": "kwLS52niB-dc",
        "colab_type": "code",
        "colab": {}
      },
      "source": [
        "#text length matrix\n",
        "def word_length_visualisation(df):\n",
        "    text_len = []\n",
        "\n",
        "    for i in range(len(df.headline_text)):\n",
        "        text_len.append(len(str(df.headline_text[i])))\n",
        "    plt.figure(figsize=(10,6))\n",
        "    pd.DataFrame(text_len).hist(bins = 100)"
      ],
      "execution_count": 0,
      "outputs": []
    },
    {
      "cell_type": "code",
      "metadata": {
        "id": "TerVTUR5CD26",
        "colab_type": "code",
        "outputId": "ed994a92-6af6-4ce1-efd0-c798330c162f",
        "colab": {
          "base_uri": "https://localhost:8080/",
          "height": 324
        }
      },
      "source": [
        "print('Train Data Word Length Visualization')\n",
        "word_length_visualisation(df_train)"
      ],
      "execution_count": 0,
      "outputs": [
        {
          "output_type": "stream",
          "text": [
            "Train Data Word Length Visualization\n"
          ],
          "name": "stdout"
        },
        {
          "output_type": "display_data",
          "data": {
            "text/plain": [
              "<Figure size 720x432 with 0 Axes>"
            ]
          },
          "metadata": {
            "tags": []
          }
        },
        {
          "output_type": "display_data",
          "data": {
            "image/png": "[encoded data removed]",
            "text/plain": [
              "<Figure size 432x288 with 1 Axes>"
            ]
          },
          "metadata": {
            "tags": [],
            "needs_background": "light"
          }
        }
      ]
    },
    {
      "cell_type": "code",
      "metadata": {
        "id": "o5ORhNVQCH84",
        "colab_type": "code",
        "outputId": "da908089-ec3f-4232-a3a9-c0e508639783",
        "colab": {
          "base_uri": "https://localhost:8080/",
          "height": 324
        }
      },
      "source": [
        "print('Test Data Word Length Visualization')\n",
        "word_length_visualisation(df_test)"
      ],
      "execution_count": 0,
      "outputs": [
        {
          "output_type": "stream",
          "text": [
            "Test Data Word Length Visualization\n"
          ],
          "name": "stdout"
        },
        {
          "output_type": "display_data",
          "data": {
            "text/plain": [
              "<Figure size 720x432 with 0 Axes>"
            ]
          },
          "metadata": {
            "tags": []
          }
        },
        {
          "output_type": "display_data",
          "data": {
            "image/png": "[encoded data removed]",
            "text/plain": [
              "<Figure size 432x288 with 1 Axes>"
            ]
          },
          "metadata": {
            "tags": [],
            "needs_background": "light"
          }
        }
      ]
    },
    {
      "cell_type": "code",
      "metadata": {
        "id": "ndP8kQimCQDn",
        "colab_type": "code",
        "colab": {}
      },
      "source": [
        "def fake_news_distribution(df):\n",
        "    #Training data set with text, domain ranking and type.\n",
        "    X = df[['processed_headline_text', 'encoded_label']]\n",
        "\n",
        "    plt.title('Category Vs Count')\n",
        "    X.groupby(['encoded_label']).size().plot(kind='barh', color='blue')\n",
        "    plt.xlabel('count')\n",
        "    plt.show()"
      ],
      "execution_count": 0,
      "outputs": []
    },
    {
      "cell_type": "code",
      "metadata": {
        "id": "Fg8cyfq1CT27",
        "colab_type": "code",
        "outputId": "54bd9e63-d160-4668-f6e4-14c1a742eae8",
        "colab": {
          "base_uri": "https://localhost:8080/",
          "height": 634
        }
      },
      "source": [
        "\n",
        "print('Train Data Fake News Encoded Label Visualization')\n",
        "fake_news_distribution(df_train)\n",
        "\n",
        "print('Test Data Fake News Encoded Label  Visualization')\n",
        "fake_news_distribution(df_test)"
      ],
      "execution_count": 0,
      "outputs": [
        {
          "output_type": "stream",
          "text": [
            "Train Data Fake News Encoded Label Visualization\n"
          ],
          "name": "stdout"
        },
        {
          "output_type": "display_data",
          "data": {
            "image/png": "[encoded data removed]",
            "text/plain": [
              "<Figure size 432x288 with 1 Axes>"
            ]
          },
          "metadata": {
            "tags": [],
            "needs_background": "light"
          }
        },
        {
          "output_type": "stream",
          "text": [
            "Test Data Fake News Encoded Label  Visualization\n"
          ],
          "name": "stdout"
        },
        {
          "output_type": "display_data",
          "data": {
            "image/png": "[encoded data removed]",
            "text/plain": [
              "<Figure size 432x288 with 1 Axes>"
            ]
          },
          "metadata": {
            "tags": [],
            "needs_background": "light"
          }
        }
      ]
    },
    {
      "cell_type": "markdown",
      "metadata": {
        "id": "1fbndtEIRGJJ",
        "colab_type": "text"
      },
      "source": [
        "#### Row counts by Label"
      ]
    },
    {
      "cell_type": "code",
      "metadata": {
        "id": "8go_tX4NRDHK",
        "colab_type": "code",
        "outputId": "bcda0862-d5ae-4026-a086-d35a44ee3603",
        "colab": {
          "base_uri": "https://localhost:8080/",
          "height": 505
        }
      },
      "source": [
        "print(\"\\nRow counts by Label:\")\n",
        "s= train_news['label'].value_counts()\n",
        "print(s)\n",
        "s.plot(kind='bar')"
      ],
      "execution_count": 0,
      "outputs": [
        {
          "output_type": "stream",
          "text": [
            "\n",
            "Row counts by Label:\n",
            "half-true      2114\n",
            "false          1995\n",
            "mostly-true    1962\n",
            "true           1676\n",
            "barely-true    1654\n",
            "pants-fire      839\n",
            "Name: label, dtype: int64\n"
          ],
          "name": "stdout"
        },
        {
          "output_type": "execute_result",
          "data": {
            "text/plain": [
              "<matplotlib.axes._subplots.AxesSubplot at 0x7f28a8bd7198>"
            ]
          },
          "metadata": {
            "tags": []
          },
          "execution_count": 172
        },
        {
          "output_type": "display_data",
          "data": {
            "image/png": "[encoded data removed]",
            "text/plain": [
              "<Figure size 432x288 with 1 Axes>"
            ]
          },
          "metadata": {
            "tags": [],
            "needs_background": "light"
          }
        }
      ]
    },
    {
      "cell_type": "code",
      "metadata": {
        "id": "d2ZKgeTKRL7X",
        "colab_type": "code",
        "outputId": "5ac60edc-37ea-42d3-bd87-eedd0f67e2a9",
        "colab": {
          "base_uri": "https://localhost:8080/",
          "height": 505
        }
      },
      "source": [
        "print(\"\\nRow counts by Label:\")\n",
        "s= test_news['label'].value_counts()\n",
        "print(s)\n",
        "s.plot(kind='bar')"
      ],
      "execution_count": 0,
      "outputs": [
        {
          "output_type": "stream",
          "text": [
            "\n",
            "Row counts by Label:\n",
            "half-true      265\n",
            "false          249\n",
            "mostly-true    241\n",
            "barely-true    212\n",
            "true           208\n",
            "pants-fire      92\n",
            "Name: label, dtype: int64\n"
          ],
          "name": "stdout"
        },
        {
          "output_type": "execute_result",
          "data": {
            "text/plain": [
              "<matplotlib.axes._subplots.AxesSubplot at 0x7f28a915e6d8>"
            ]
          },
          "metadata": {
            "tags": []
          },
          "execution_count": 173
        },
        {
          "output_type": "display_data",
          "data": {
            "image/png": "[encoded data removed]",
            "text/plain": [
              "<Figure size 432x288 with 1 Axes>"
            ]
          },
          "metadata": {
            "tags": [],
            "needs_background": "light"
          }
        }
      ]
    },
    {
      "cell_type": "markdown",
      "metadata": {
        "id": "cAM_aIEjD2WP",
        "colab_type": "text"
      },
      "source": [
        "### Word cloud"
      ]
    },
    {
      "cell_type": "code",
      "metadata": {
        "id": "_5BMWVGmD_xP",
        "colab_type": "code",
        "colab": {}
      },
      "source": [
        "#Word Cloud to Visualize important text\n",
        "# lower max_font_size, change the maximum number of word and lighten the background\n",
        "\n",
        "def word_cloud_visualization(df):\n",
        "    text = \" \".join(ht for ht in df.processed_headline_text)\n",
        "    wordcloud = WordCloud(max_font_size=50, max_words=100, background_color=\"white\").generate(text)\n",
        "    plt.figure()\n",
        "    plt.imshow(wordcloud, interpolation=\"bilinear\")\n",
        "    plt.axis(\"off\")\n",
        "    plt.show()"
      ],
      "execution_count": 0,
      "outputs": []
    },
    {
      "cell_type": "code",
      "metadata": {
        "id": "3oRel3pKD6Pi",
        "colab_type": "code",
        "outputId": "5d77add4-08f7-46d3-ea78-cfa3d5fad024",
        "colab": {
          "base_uri": "https://localhost:8080/",
          "height": 413
        }
      },
      "source": [
        "print('Train Data Word Cloud Visualization')\n",
        "word_cloud_visualization(df_train)\n",
        "\n",
        "print('Test Data Word Cloud Visualization')\n",
        "word_cloud_visualization(df_test)"
      ],
      "execution_count": 0,
      "outputs": [
        {
          "output_type": "stream",
          "text": [
            "Train Data Word Cloud Visualization\n"
          ],
          "name": "stdout"
        },
        {
          "output_type": "display_data",
          "data": {
            "image/png": "[encoded data removed]",
            "text/plain": [
              "<Figure size 432x288 with 1 Axes>"
            ]
          },
          "metadata": {
            "tags": [],
            "needs_background": "light"
          }
        },
        {
          "output_type": "stream",
          "text": [
            "Test Data Word Cloud Visualization\n"
          ],
          "name": "stdout"
        },
        {
          "output_type": "display_data",
          "data": {
            "image/png": "[encoded data removed]",
            "text/plain": [
              "<Figure size 432x288 with 1 Axes>"
            ]
          },
          "metadata": {
            "tags": [],
            "needs_background": "light"
          }
        }
      ]
    },
    {
      "cell_type": "markdown",
      "metadata": {
        "id": "z395m8coEL53",
        "colab_type": "text"
      },
      "source": [
        "### Word2Vec and t-SNE"
      ]
    },
    {
      "cell_type": "code",
      "metadata": {
        "id": "2CL00oLDEHQZ",
        "colab_type": "code",
        "colab": {}
      },
      "source": [
        "\n",
        "num_features = 15      # Word vector dimensionality                      \n",
        "min_word_count = 40   # Minimum word count                        \n",
        "num_workers = 4       # Number of threads to run in parallel\n",
        "context = 10          # Context window size                                                                                    \n",
        "downsampling = 1e-3   # Downsample setting for frequent words\n",
        "\n",
        "#Create Word2Vec Model. Get Vector from the model\n",
        "word_tokens = []\n",
        "for i in range(len(df_train)):\n",
        "    words = df_train['processed_headline_text'][i].split()\n",
        "    word_tokens.append(words)\n",
        "    \n",
        "word2vec_model = word2vec.Word2Vec(word_tokens, workers=num_workers, size=num_features, min_count = min_word_count, window = context, sample = downsampling)"
      ],
      "execution_count": 0,
      "outputs": []
    },
    {
      "cell_type": "code",
      "metadata": {
        "id": "3RRUh6GFFMuU",
        "colab_type": "code",
        "outputId": "187df14c-e140-4ff8-9019-a970e650ddc0",
        "colab": {
          "base_uri": "https://localhost:8080/",
          "height": 924
        }
      },
      "source": [
        "#\"Creates and TSNE model and plots it\"\n",
        "from sklearn.manifold import TSNE\n",
        "def tsne_plot(model):\n",
        "    labels = []\n",
        "    tokens = []\n",
        "\n",
        "    for word in model.wv.vocab:\n",
        "        tokens.append(model[word])\n",
        "        labels.append(word)\n",
        "    \n",
        "    tsne_model = TSNE(perplexity=40, n_components=2, init='pca', n_iter=2500, random_state=23)\n",
        "    new_values = tsne_model.fit_transform(tokens)\n",
        "\n",
        "    x = []\n",
        "    y = []\n",
        "    for value in new_values:\n",
        "        x.append(value[0])\n",
        "        y.append(value[1])\n",
        "        \n",
        "    plt.figure(figsize=(16, 16)) \n",
        "    for i in range(len(x)):\n",
        "        plt.scatter(x[i],y[i])\n",
        "        plt.annotate(labels[i],\n",
        "                     xy=(x[i], y[i]),\n",
        "                     xytext=(5, 2),\n",
        "                     textcoords='offset points',\n",
        "                     ha='right',\n",
        "                     va='bottom')\n",
        "    plt.show()\n",
        "\n",
        "tsne_plot(word2vec_model)"
      ],
      "execution_count": 0,
      "outputs": [
        {
          "output_type": "display_data",
          "data": {
            "image/png": "[encoded data removed]",
            "text/plain": [
              "<Figure size 1152x1152 with 1 Axes>"
            ]
          },
          "metadata": {
            "tags": [],
            "needs_background": "light"
          }
        }
      ]
    },
    {
      "cell_type": "code",
      "metadata": {
        "id": "llhDNE1Y_-2l",
        "colab_type": "code",
        "colab": {}
      },
      "source": [
        "def create_distribution1(dataFile):\n",
        "    return sb.countplot(x=labelcolname, data=dataFile, palette='hls')"
      ],
      "execution_count": 0,
      "outputs": []
    },
    {
      "cell_type": "code",
      "metadata": {
        "id": "GfiJ_aNGC-1B",
        "colab_type": "code",
        "colab": {}
      },
      "source": [
        "import seaborn as sb\n",
        "def create_distribution2(dataFile, colname):\n",
        "    g = sb.countplot(x=colname, data=dataFile, palette='hls')\n",
        "    g.set_xticklabels(g.get_xticklabels(),rotation=90)\n",
        "\n",
        "    return g"
      ],
      "execution_count": 0,
      "outputs": []
    },
    {
      "cell_type": "code",
      "metadata": {
        "id": "9odRmWSSSYoo",
        "colab_type": "code",
        "outputId": "55bf39f6-6cfc-4026-9b98-18169919d5f4",
        "colab": {
          "base_uri": "https://localhost:8080/",
          "height": 363
        }
      },
      "source": [
        "df_train.head(5)"
      ],
      "execution_count": 0,
      "outputs": [
        {
          "output_type": "execute_result",
          "data": {
            "text/html": [
              "<div>\n",
              "<style scoped>\n",
              "    .dataframe tbody tr th:only-of-type {\n",
              "        vertical-align: middle;\n",
              "    }\n",
              "\n",
              "    .dataframe tbody tr th {\n",
              "        vertical-align: top;\n",
              "    }\n",
              "\n",
              "    .dataframe thead th {\n",
              "        text-align: right;\n",
              "    }\n",
              "</style>\n",
              "<table border=\"1\" class=\"dataframe\">\n",
              "  <thead>\n",
              "    <tr style=\"text-align: right;\">\n",
              "      <th></th>\n",
              "      <th>headline_text</th>\n",
              "      <th>processed_headline_text</th>\n",
              "      <th>subject</th>\n",
              "      <th>speaker</th>\n",
              "      <th>speakerjobtitle</th>\n",
              "      <th>stateinfo</th>\n",
              "      <th>partyaffiliation</th>\n",
              "      <th>context</th>\n",
              "      <th>encoded_label</th>\n",
              "    </tr>\n",
              "  </thead>\n",
              "  <tbody>\n",
              "    <tr>\n",
              "      <th>0</th>\n",
              "      <td>Says the Annies List political group supports ...</td>\n",
              "      <td>nanni list polit group support third trimest a...</td>\n",
              "      <td>abortion</td>\n",
              "      <td>dwayne-bohac</td>\n",
              "      <td>State representative</td>\n",
              "      <td>Texas</td>\n",
              "      <td>republican</td>\n",
              "      <td>a mailer</td>\n",
              "      <td>5</td>\n",
              "    </tr>\n",
              "    <tr>\n",
              "      <th>1</th>\n",
              "      <td>When did the decline of coal start? It started...</td>\n",
              "      <td>declin coal start start natur took start begin...</td>\n",
              "      <td>energy,history,job-accomplishments</td>\n",
              "      <td>scott-surovell</td>\n",
              "      <td>State delegate</td>\n",
              "      <td>Virginia</td>\n",
              "      <td>democrat</td>\n",
              "      <td>a floor speech.</td>\n",
              "      <td>3</td>\n",
              "    </tr>\n",
              "    <tr>\n",
              "      <th>2</th>\n",
              "      <td>Hillary Clinton agrees with John McCain \"by vo...</td>\n",
              "      <td>hillari clinton agre john mccain vote give geo...</td>\n",
              "      <td>foreign-policy</td>\n",
              "      <td>barack-obama</td>\n",
              "      <td>President</td>\n",
              "      <td>Illinois</td>\n",
              "      <td>democrat</td>\n",
              "      <td>Denver</td>\n",
              "      <td>2</td>\n",
              "    </tr>\n",
              "    <tr>\n",
              "      <th>3</th>\n",
              "      <td>Health care reform legislation is likely to ma...</td>\n",
              "      <td>health care reform legisl like mandat free cha...</td>\n",
              "      <td>health-care</td>\n",
              "      <td>blog-posting</td>\n",
              "      <td>NaN</td>\n",
              "      <td>NaN</td>\n",
              "      <td>none</td>\n",
              "      <td>a news release</td>\n",
              "      <td>5</td>\n",
              "    </tr>\n",
              "    <tr>\n",
              "      <th>4</th>\n",
              "      <td>The economic turnaround started at the end of ...</td>\n",
              "      <td>econom turnaround start term</td>\n",
              "      <td>economy,jobs</td>\n",
              "      <td>charlie-crist</td>\n",
              "      <td>NaN</td>\n",
              "      <td>Florida</td>\n",
              "      <td>democrat</td>\n",
              "      <td>an interview on CNN</td>\n",
              "      <td>3</td>\n",
              "    </tr>\n",
              "  </tbody>\n",
              "</table>\n",
              "</div>"
            ],
            "text/plain": [
              "                                       headline_text  ... encoded_label\n",
              "0  Says the Annies List political group supports ...  ...             5\n",
              "1  When did the decline of coal start? It started...  ...             3\n",
              "2  Hillary Clinton agrees with John McCain \"by vo...  ...             2\n",
              "3  Health care reform legislation is likely to ma...  ...             5\n",
              "4  The economic turnaround started at the end of ...  ...             3\n",
              "\n",
              "[5 rows x 9 columns]"
            ]
          },
          "metadata": {
            "tags": []
          },
          "execution_count": 180
        }
      ]
    },
    {
      "cell_type": "markdown",
      "metadata": {
        "id": "N0XcbDNbTcxC",
        "colab_type": "text"
      },
      "source": [
        "# LDA Analysis"
      ]
    },
    {
      "cell_type": "code",
      "metadata": {
        "id": "_oDpxWe12xpt",
        "colab_type": "code",
        "colab": {}
      },
      "source": [
        "all_data = pd.concat([df_train, df_test])"
      ],
      "execution_count": 0,
      "outputs": []
    },
    {
      "cell_type": "code",
      "metadata": {
        "id": "bO-VSFISVe9K",
        "colab_type": "code",
        "colab": {}
      },
      "source": [
        "df_train, df_test = train_test_split(all_data, test_size=0.2, random_state=0)\n"
      ],
      "execution_count": 0,
      "outputs": []
    },
    {
      "cell_type": "code",
      "metadata": {
        "id": "hycc4iZU3rqN",
        "colab_type": "code",
        "outputId": "105a512a-b6b8-46db-947e-ac0ac8ef79d6",
        "colab": {
          "base_uri": "https://localhost:8080/",
          "height": 321
        }
      },
      "source": [
        "df_train.head(3)"
      ],
      "execution_count": 0,
      "outputs": [
        {
          "output_type": "execute_result",
          "data": {
            "text/html": [
              "<div>\n",
              "<style scoped>\n",
              "    .dataframe tbody tr th:only-of-type {\n",
              "        vertical-align: middle;\n",
              "    }\n",
              "\n",
              "    .dataframe tbody tr th {\n",
              "        vertical-align: top;\n",
              "    }\n",
              "\n",
              "    .dataframe thead th {\n",
              "        text-align: right;\n",
              "    }\n",
              "</style>\n",
              "<table border=\"1\" class=\"dataframe\">\n",
              "  <thead>\n",
              "    <tr style=\"text-align: right;\">\n",
              "      <th></th>\n",
              "      <th>headline_text</th>\n",
              "      <th>processed_headline_text</th>\n",
              "      <th>subject</th>\n",
              "      <th>speaker</th>\n",
              "      <th>speakerjobtitle</th>\n",
              "      <th>stateinfo</th>\n",
              "      <th>partyaffiliation</th>\n",
              "      <th>context</th>\n",
              "      <th>encoded_label</th>\n",
              "    </tr>\n",
              "  </thead>\n",
              "  <tbody>\n",
              "    <tr>\n",
              "      <th>8523</th>\n",
              "      <td>The top 1 percent pay 45 percent of all taxes ...</td>\n",
              "      <td>percent percent countri</td>\n",
              "      <td>taxes</td>\n",
              "      <td>jeb-bush</td>\n",
              "      <td>NaN</td>\n",
              "      <td>Florida</td>\n",
              "      <td>republican</td>\n",
              "      <td>in a town hall in Concord, New Hampshire</td>\n",
              "      <td>3</td>\n",
              "    </tr>\n",
              "    <tr>\n",
              "      <th>9773</th>\n",
              "      <td>Seven of Americas 10 wealthiest counties are i...</td>\n",
              "      <td>seven america wealthiest counti washington area</td>\n",
              "      <td>deficit,federal-budget</td>\n",
              "      <td>jim-jordan</td>\n",
              "      <td>U.S. representative</td>\n",
              "      <td>Ohio</td>\n",
              "      <td>republican</td>\n",
              "      <td>an interview on Fox News Sunday</td>\n",
              "      <td>1</td>\n",
              "    </tr>\n",
              "    <tr>\n",
              "      <th>2081</th>\n",
              "      <td>Portland Community College serves more student...</td>\n",
              "      <td>portland communiti colleg serv student state u...</td>\n",
              "      <td>education</td>\n",
              "      <td>portland-community-college</td>\n",
              "      <td>community college</td>\n",
              "      <td>Oregon</td>\n",
              "      <td>none</td>\n",
              "      <td>the college's website</td>\n",
              "      <td>5</td>\n",
              "    </tr>\n",
              "  </tbody>\n",
              "</table>\n",
              "</div>"
            ],
            "text/plain": [
              "                                          headline_text  ... encoded_label\n",
              "8523  The top 1 percent pay 45 percent of all taxes ...  ...             3\n",
              "9773  Seven of Americas 10 wealthiest counties are i...  ...             1\n",
              "2081  Portland Community College serves more student...  ...             5\n",
              "\n",
              "[3 rows x 9 columns]"
            ]
          },
          "metadata": {
            "tags": []
          },
          "execution_count": 183
        }
      ]
    },
    {
      "cell_type": "markdown",
      "metadata": {
        "id": "yhwVjkFEjbhd",
        "colab_type": "text"
      },
      "source": [
        "## Doc2Vec modeling"
      ]
    },
    {
      "cell_type": "code",
      "metadata": {
        "id": "y8yQ4XNFjgu3",
        "colab_type": "code",
        "colab": {}
      },
      "source": [
        "from gensim.models.doc2vec import TaggedDocument, Doc2Vec\n",
        "from gensim.parsing.preprocessing import preprocess_string\n",
        "from sklearn.base import BaseEstimator\n",
        "from sklearn import utils as skl_utils\n",
        "from tqdm import tqdm\n",
        "\n",
        "import multiprocessing\n",
        "import numpy as np\n",
        "\n",
        "class Doc2VecTransformer(BaseEstimator):\n",
        "\n",
        "    def __init__(self, vector_size=100, learning_rate=0.02, epochs=20,column='clean_text'):\n",
        "        self.learning_rate = learning_rate\n",
        "        self.epochs = epochs\n",
        "        self._model = None\n",
        "        self.vector_size = vector_size\n",
        "        self.workers = multiprocessing.cpu_count() - 1\n",
        "        self.column = column\n",
        "\n",
        "    def fit(self, df_x, df_y=None):\n",
        "        tagged_x = [TaggedDocument(str(row[self.column]).split(), [index]) for index, row in df_x.iterrows()]\n",
        "        model = Doc2Vec(documents=tagged_x, vector_size=self.vector_size, workers=self.workers)\n",
        "\n",
        "        for epoch in range(self.epochs):\n",
        "            model.train(skl_utils.shuffle([x for x in tqdm(tagged_x)]), total_examples=len(tagged_x), epochs=1)\n",
        "            model.alpha -= self.learning_rate\n",
        "            model.min_alpha = model.alpha\n",
        "\n",
        "        self._model = model\n",
        "        return self\n",
        "\n",
        "    def transform(self, df_x):\n",
        "        return np.asmatrix(np.array([self._model.infer_vector(str(row[self.column]).split())\n",
        "                                     for index, row in df_x.iterrows()]))"
      ],
      "execution_count": 0,
      "outputs": []
    },
    {
      "cell_type": "code",
      "metadata": {
        "id": "m0k4uRGLjmJe",
        "colab_type": "code",
        "outputId": "bef0b2dd-162c-4d6e-dd19-6cad536f5954",
        "colab": {
          "base_uri": "https://localhost:8080/",
          "height": 185
        }
      },
      "source": [
        "#doc2vec_tr = Doc2VecTransformer(vector_size=300)\n",
        "doc2vec_tr = Doc2VecTransformer(vector_size=10, learning_rate=0.001, epochs=10,column='processed_headline_text')\n",
        "doc2vec_tr.fit(all_data)\n",
        "doc2vec_vectors = doc2vec_tr.transform(all_data)"
      ],
      "execution_count": 0,
      "outputs": [
        {
          "output_type": "stream",
          "text": [
            "100%|██████████| 11507/11507 [00:00<00:00, 2158008.32it/s]\n",
            "100%|██████████| 11507/11507 [00:00<00:00, 2763619.80it/s]\n",
            "100%|██████████| 11507/11507 [00:00<00:00, 3046960.61it/s]\n",
            "100%|██████████| 11507/11507 [00:00<00:00, 2140588.82it/s]\n",
            "100%|██████████| 11507/11507 [00:00<00:00, 2085552.51it/s]\n",
            "100%|██████████| 11507/11507 [00:00<00:00, 2201215.73it/s]\n",
            "100%|██████████| 11507/11507 [00:00<00:00, 3004099.10it/s]\n",
            "100%|██████████| 11507/11507 [00:00<00:00, 3165881.02it/s]\n",
            "100%|██████████| 11507/11507 [00:00<00:00, 3117417.40it/s]\n",
            "100%|██████████| 11507/11507 [00:00<00:00, 1524201.99it/s]\n"
          ],
          "name": "stderr"
        }
      ]
    },
    {
      "cell_type": "code",
      "metadata": {
        "id": "PdE04T6KNrYu",
        "colab_type": "code",
        "outputId": "890c8d50-97ad-4d1d-8c2e-d78e8f6fa847",
        "colab": {
          "base_uri": "https://localhost:8080/",
          "height": 34
        }
      },
      "source": [
        "doc2vec_vectors.shape"
      ],
      "execution_count": 0,
      "outputs": [
        {
          "output_type": "execute_result",
          "data": {
            "text/plain": [
              "(11507, 10)"
            ]
          },
          "metadata": {
            "tags": []
          },
          "execution_count": 186
        }
      ]
    },
    {
      "cell_type": "code",
      "metadata": {
        "id": "Ajzn864V9OJr",
        "colab_type": "code",
        "outputId": "907a82f5-6628-48e4-9b78-053419fd17ec",
        "colab": {
          "base_uri": "https://localhost:8080/",
          "height": 34
        }
      },
      "source": [
        "labels = all_data['encoded_label'].values\n",
        "labels.shape"
      ],
      "execution_count": 0,
      "outputs": [
        {
          "output_type": "execute_result",
          "data": {
            "text/plain": [
              "(11507,)"
            ]
          },
          "metadata": {
            "tags": []
          },
          "execution_count": 187
        }
      ]
    },
    {
      "cell_type": "markdown",
      "metadata": {
        "id": "KIwZc8YlVvzs",
        "colab_type": "text"
      },
      "source": [
        "## Tf-IDF Modeling"
      ]
    },
    {
      "cell_type": "code",
      "metadata": {
        "id": "aBpnEbJdVe6x",
        "colab_type": "code",
        "colab": {}
      },
      "source": [
        "tfidf = TfidfVectorizer(min_df=3, max_features=None, strip_accents='unicode',\n",
        "                           analyzer='word', token_pattern=r'\\w{1,}', ngram_range=(1,5),\n",
        "                           use_idf=1, smooth_idf=1, sublinear_tf=1)\n",
        "\n",
        "X_train_text = tfidf.fit_transform(df_train['processed_headline_text'])\n",
        "X_test_text  = tfidf.transform(df_test['processed_headline_text'])"
      ],
      "execution_count": 0,
      "outputs": []
    },
    {
      "cell_type": "code",
      "metadata": {
        "id": "tL5H3EXzxqVf",
        "colab_type": "code",
        "outputId": "a3da0c26-cab7-41e2-ecf4-0b513e2ba1af",
        "colab": {
          "base_uri": "https://localhost:8080/",
          "height": 34
        }
      },
      "source": [
        "X_train_text.shape"
      ],
      "execution_count": 0,
      "outputs": [
        {
          "output_type": "execute_result",
          "data": {
            "text/plain": [
              "(9205, 7116)"
            ]
          },
          "metadata": {
            "tags": []
          },
          "execution_count": 189
        }
      ]
    },
    {
      "cell_type": "code",
      "metadata": {
        "id": "Ujn23m_nVema",
        "colab_type": "code",
        "outputId": "8fc904df-0087-4510-ba60-8775428a0b99",
        "colab": {
          "base_uri": "https://localhost:8080/",
          "height": 663
        }
      },
      "source": [
        "# Load the library with the CountVectorizer method\n",
        "from sklearn.feature_extraction.text import CountVectorizer\n",
        "import numpy as np\n",
        "import matplotlib.pyplot as plt\n",
        "import seaborn as sns\n",
        "sns.set_style('whitegrid')\n",
        "%matplotlib inline\n",
        "# Helper function\n",
        "def plot_10_most_common_words(count_data, count_vectorizer):\n",
        "    import matplotlib.pyplot as plt\n",
        "    words = count_vectorizer.get_feature_names()\n",
        "    \n",
        "    total_counts = np.zeros(len(words))\n",
        "    for t in count_data:\n",
        "        total_counts+=t.toarray()[0]\n",
        "    \n",
        "    count_dict = (zip(words, total_counts))\n",
        "    count_dict = sorted(count_dict, key=lambda x:x[1], reverse=True)[0:10]\n",
        "    words = [w[0] for w in count_dict]\n",
        "    counts = [w[1] for w in count_dict]\n",
        "    x_pos = np.arange(len(words)) \n",
        "    print(words)\n",
        "    plt.figure(2, figsize=(15, 15/1.6180))\n",
        "    plt.subplot(title='10 most common words')\n",
        "    sns.set_context(\"notebook\", font_scale=1.25, rc={\"lines.linewidth\": 2.5})\n",
        "    sns.barplot(x_pos, counts, palette='husl')\n",
        "    plt.xticks(x_pos, words, rotation=90) \n",
        "    plt.xlabel('words')\n",
        "    plt.ylabel('counts')\n",
        "    plt.show()\n",
        "# Initialise the count vectorizer with the English stop words\n",
        "count_vectorizer = CountVectorizer(stop_words='english')\n",
        "# Fit and transform the processed titles\n",
        "count_data = count_vectorizer.fit_transform(df_train['processed_headline_text'])\n",
        "# Visualise the 10 most common words\n",
        "plot_10_most_common_words(count_data, count_vectorizer)"
      ],
      "execution_count": 0,
      "outputs": [
        {
          "output_type": "stream",
          "text": [
            "['state', 'year', 'percent', 'obama', 'presid', 'vote', 'health', 'million', 'peopl', 'american']\n"
          ],
          "name": "stdout"
        },
        {
          "output_type": "display_data",
          "data": {
            "image/png": "[encoded data removed]",
            "text/plain": [
              "<Figure size 1080x667.491 with 1 Axes>"
            ]
          },
          "metadata": {
            "tags": [],
            "needs_background": "light"
          }
        }
      ]
    },
    {
      "cell_type": "code",
      "metadata": {
        "id": "hp-upfgUVYdh",
        "colab_type": "code",
        "outputId": "2810382c-12d6-43fb-cac1-284712660d2e",
        "colab": {
          "base_uri": "https://localhost:8080/",
          "height": 286
        }
      },
      "source": [
        "import warnings\n",
        "warnings.simplefilter(\"ignore\", DeprecationWarning)\n",
        "# Load the LDA model from sk-learn\n",
        "from sklearn.decomposition import LatentDirichletAllocation as LDA\n",
        " \n",
        "# Helper function\n",
        "def print_topics(model, count_vectorizer, n_top_words):\n",
        "    words = count_vectorizer.get_feature_names()\n",
        "    for topic_idx, topic in enumerate(model.components_):\n",
        "        print(\"\\nTopic #%d:\" % topic_idx)\n",
        "        print(\" \".join([words[i]\n",
        "                        for i in topic.argsort()[:-n_top_words - 1:-1]]))\n",
        "        \n",
        "# Tweak the two parameters below\n",
        "number_topics = 5\n",
        "number_words = 10\n",
        "# Create and fit the LDA model\n",
        "lda = LDA(n_components=number_topics, n_jobs=-1)\n",
        "lda.fit(count_data)\n",
        "# Print the topics found by the LDA model\n",
        "print(\"Topics found via LDA:\")\n",
        "print_topics(lda, count_vectorizer, number_words)"
      ],
      "execution_count": 0,
      "outputs": [
        {
          "output_type": "stream",
          "text": [
            "Topics found via LDA:\n",
            "\n",
            "Topic #0:\n",
            "obama presid barack year percent american immigr peopl million state\n",
            "\n",
            "Topic #1:\n",
            "clinton hillari said iraq public school romney want percent attack\n",
            "\n",
            "Topic #2:\n",
            "health care vote billion fund dollar republican budget feder million\n",
            "\n",
            "Topic #3:\n",
            "state percent rate year sinc unemploy countri democrat republican secur\n",
            "\n",
            "Topic #4:\n",
            "year state percent peopl spend budget million increas trump texa\n"
          ],
          "name": "stdout"
        }
      ]
    },
    {
      "cell_type": "code",
      "metadata": {
        "id": "6mPYoVTR2zsE",
        "colab_type": "code",
        "colab": {}
      },
      "source": [
        "def initial_clean(text):\n",
        "    \"\"\"\n",
        "    Function to clean text of websites, email addresess and any punctuation\n",
        "    We also lower case the text\n",
        "    \"\"\"\n",
        "    text = re.sub(\"((\\S+)?(http(s)?)(\\S+))|((\\S+)?(www)(\\S+))|((\\S+)?(\\@)(\\S+)?)\", \" \", text)\n",
        "    text = re.sub(\"[^a-zA-Z ]\", \"\", text)\n",
        "    text = text.lower() # lower case the text\n",
        "    text = nltk.word_tokenize(text)\n",
        "    return text\n",
        "\n",
        "stop_words = stopwords.words('english')\n",
        "def remove_stop_words(text):\n",
        "    \"\"\"\n",
        "    Function that removes all stopwords from text\n",
        "    \"\"\"\n",
        "    return [word for word in text if word not in stop_words]\n",
        "\n",
        "stemmer = PorterStemmer()\n",
        "def stem_words(text):\n",
        "    \"\"\"\n",
        "    Function to stem words, so plural and singular are treated the same\n",
        "    \"\"\"\n",
        "    try:\n",
        "        text = [stemmer.stem(word) for word in text]\n",
        "        text = [word for word in text if len(word) > 1] # make sure we have no 1 letter words\n",
        "    except IndexError: # the word \"oed\" broke this, so needed try except\n",
        "        pass\n",
        "    return text\n",
        "\n",
        "def apply_all(text):\n",
        "    \"\"\"\n",
        "    This function applies all the functions above into one\n",
        "    \"\"\"\n",
        "    return stem_words(remove_stop_words(initial_clean(text)))"
      ],
      "execution_count": 0,
      "outputs": []
    },
    {
      "cell_type": "code",
      "metadata": {
        "id": "AzXTAqRV3pIX",
        "colab_type": "code",
        "outputId": "4fc5cf02-c0f5-4988-c813-a6c4479879b4",
        "colab": {
          "base_uri": "https://localhost:8080/",
          "height": 185
        }
      },
      "source": [
        "all_data.dtypes"
      ],
      "execution_count": 0,
      "outputs": [
        {
          "output_type": "execute_result",
          "data": {
            "text/plain": [
              "headline_text              object\n",
              "processed_headline_text    object\n",
              "subject                    object\n",
              "speaker                    object\n",
              "speakerjobtitle            object\n",
              "stateinfo                  object\n",
              "partyaffiliation           object\n",
              "context                    object\n",
              "encoded_label               int64\n",
              "dtype: object"
            ]
          },
          "metadata": {
            "tags": []
          },
          "execution_count": 193
        }
      ]
    },
    {
      "cell_type": "code",
      "metadata": {
        "id": "eUJgN6p732SP",
        "colab_type": "code",
        "outputId": "11ab96d0-a1fa-49d2-f632-a2847a81efcc",
        "colab": {
          "base_uri": "https://localhost:8080/",
          "height": 67
        }
      },
      "source": [
        "import nltk\n",
        "nltk.download('punkt')"
      ],
      "execution_count": 0,
      "outputs": [
        {
          "output_type": "stream",
          "text": [
            "[nltk_data] Downloading package punkt to /root/nltk_data...\n",
            "[nltk_data]   Package punkt is already up-to-date!\n"
          ],
          "name": "stdout"
        },
        {
          "output_type": "execute_result",
          "data": {
            "text/plain": [
              "True"
            ]
          },
          "metadata": {
            "tags": []
          },
          "execution_count": 194
        }
      ]
    },
    {
      "cell_type": "code",
      "metadata": {
        "id": "fuH0Y5nG3kFD",
        "colab_type": "code",
        "outputId": "926625a7-bdd5-4d02-d287-cdca8a18a8c9",
        "colab": {
          "base_uri": "https://localhost:8080/",
          "height": 34
        }
      },
      "source": [
        "t1 = time.time()\n",
        "all_data['tokenized'] = all_data['processed_headline_text'].apply(apply_all)\n",
        "t2 = time.time()\n",
        "print(\"Time to clean and tokenize\", len(all_data), \"articles:\", (t2-t1)/60, \"min\")"
      ],
      "execution_count": 0,
      "outputs": [
        {
          "output_type": "stream",
          "text": [
            "Time to clean and tokenize 11507 articles: 0.06241665681203206 min\n"
          ],
          "name": "stdout"
        }
      ]
    },
    {
      "cell_type": "code",
      "metadata": {
        "id": "qDBwH4BJ5QyZ",
        "colab_type": "code",
        "outputId": "060075a9-8e43-4cf4-8eaa-ca8d65266b00",
        "colab": {
          "base_uri": "https://localhost:8080/",
          "height": 261
        }
      },
      "source": [
        "all_data.head(2)"
      ],
      "execution_count": 0,
      "outputs": [
        {
          "output_type": "execute_result",
          "data": {
            "text/html": [
              "<div>\n",
              "<style scoped>\n",
              "    .dataframe tbody tr th:only-of-type {\n",
              "        vertical-align: middle;\n",
              "    }\n",
              "\n",
              "    .dataframe tbody tr th {\n",
              "        vertical-align: top;\n",
              "    }\n",
              "\n",
              "    .dataframe thead th {\n",
              "        text-align: right;\n",
              "    }\n",
              "</style>\n",
              "<table border=\"1\" class=\"dataframe\">\n",
              "  <thead>\n",
              "    <tr style=\"text-align: right;\">\n",
              "      <th></th>\n",
              "      <th>headline_text</th>\n",
              "      <th>processed_headline_text</th>\n",
              "      <th>subject</th>\n",
              "      <th>speaker</th>\n",
              "      <th>speakerjobtitle</th>\n",
              "      <th>stateinfo</th>\n",
              "      <th>partyaffiliation</th>\n",
              "      <th>context</th>\n",
              "      <th>encoded_label</th>\n",
              "      <th>tokenized</th>\n",
              "    </tr>\n",
              "  </thead>\n",
              "  <tbody>\n",
              "    <tr>\n",
              "      <th>0</th>\n",
              "      <td>Says the Annies List political group supports ...</td>\n",
              "      <td>nanni list polit group support third trimest a...</td>\n",
              "      <td>abortion</td>\n",
              "      <td>dwayne-bohac</td>\n",
              "      <td>State representative</td>\n",
              "      <td>Texas</td>\n",
              "      <td>republican</td>\n",
              "      <td>a mailer</td>\n",
              "      <td>5</td>\n",
              "      <td>[nanni, list, polit, group, support, third, tr...</td>\n",
              "    </tr>\n",
              "    <tr>\n",
              "      <th>1</th>\n",
              "      <td>When did the decline of coal start? It started...</td>\n",
              "      <td>declin coal start start natur took start begin...</td>\n",
              "      <td>energy,history,job-accomplishments</td>\n",
              "      <td>scott-surovell</td>\n",
              "      <td>State delegate</td>\n",
              "      <td>Virginia</td>\n",
              "      <td>democrat</td>\n",
              "      <td>a floor speech.</td>\n",
              "      <td>3</td>\n",
              "      <td>[declin, coal, start, start, natur, took, star...</td>\n",
              "    </tr>\n",
              "  </tbody>\n",
              "</table>\n",
              "</div>"
            ],
            "text/plain": [
              "                                       headline_text  ...                                          tokenized\n",
              "0  Says the Annies List political group supports ...  ...  [nanni, list, polit, group, support, third, tr...\n",
              "1  When did the decline of coal start? It started...  ...  [declin, coal, start, start, natur, took, star...\n",
              "\n",
              "[2 rows x 10 columns]"
            ]
          },
          "metadata": {
            "tags": []
          },
          "execution_count": 196
        }
      ]
    },
    {
      "cell_type": "code",
      "metadata": {
        "id": "AsAsMQ0b4t9b",
        "colab_type": "code",
        "colab": {}
      },
      "source": [
        "#merged_data.to_csv('tokenized_data.csv',index=False)"
      ],
      "execution_count": 0,
      "outputs": []
    },
    {
      "cell_type": "code",
      "metadata": {
        "id": "78XyInjFVMRz",
        "colab_type": "code",
        "colab": {}
      },
      "source": [
        "from gensim import models, corpora, similarities\n",
        "from gensim.models import LdaModel\n",
        "\n",
        "def train_lda(data):\n",
        "    \"\"\"\n",
        "    This function trains the lda model\n",
        "    We setup parameters like number of topics, the chunksize to use in Hoffman method\n",
        "    We also do 2 passes of the data since this is a small dataset, so we want the distributions to stabilize\n",
        "    \"\"\"\n",
        "    num_topics = 10\n",
        "    chunksize = 300\n",
        "    dictionary = corpora.Dictionary(data['tokenized'])\n",
        "    corpus = [dictionary.doc2bow(doc) for doc in data['tokenized']]\n",
        "    t1 = time.time()\n",
        "    # low alpha means each document is only represented by a small number of topics, and vice versa\n",
        "    # low eta means each topic is only represented by a small number of words, and vice versa\n",
        "    lda = LdaModel(corpus=corpus, num_topics=num_topics, id2word=dictionary,\n",
        "                   alpha=1e-2, eta=0.5e-2, chunksize=chunksize, minimum_probability=0.0, passes=2)\n",
        "    t2 = time.time()\n",
        "    print(\"Time to train LDA model on \", len(all_data), \"articles: \", (t2-t1)/60, \"min\")\n",
        "    return dictionary,corpus,lda"
      ],
      "execution_count": 0,
      "outputs": []
    },
    {
      "cell_type": "code",
      "metadata": {
        "id": "HjpIP3y72vvW",
        "colab_type": "code",
        "outputId": "d55a3b95-5af3-4744-d5ee-92c6abeb345c",
        "colab": {
          "base_uri": "https://localhost:8080/",
          "height": 34
        }
      },
      "source": [
        "dictionary,corpus,lda = train_lda(all_data)\n"
      ],
      "execution_count": 0,
      "outputs": [
        {
          "output_type": "stream",
          "text": [
            "Time to train LDA model on  11507 articles:  0.08112813234329223 min\n"
          ],
          "name": "stdout"
        }
      ]
    },
    {
      "cell_type": "code",
      "metadata": {
        "id": "IiVODIODHBQ-",
        "colab_type": "code",
        "outputId": "1089f0d8-a73b-406e-c8e3-ee6e1142d7c1",
        "colab": {
          "base_uri": "https://localhost:8080/",
          "height": 34
        }
      },
      "source": [
        "len(dictionary)"
      ],
      "execution_count": 0,
      "outputs": [
        {
          "output_type": "execute_result",
          "data": {
            "text/plain": [
              "7196"
            ]
          },
          "metadata": {
            "tags": []
          },
          "execution_count": 200
        }
      ]
    },
    {
      "cell_type": "code",
      "metadata": {
        "id": "eE1C4Ba63F2E",
        "colab_type": "code",
        "outputId": "b7df34f1-e627-4626-b3fa-44a289d1dc95",
        "colab": {
          "base_uri": "https://localhost:8080/",
          "height": 373
        }
      },
      "source": [
        "lda.show_topics(num_topics=10, num_words=20)\n"
      ],
      "execution_count": 0,
      "outputs": [
        {
          "output_type": "execute_result",
          "data": {
            "text/plain": [
              "[(0,\n",
              "  '0.062*\"health\" + 0.055*\"care\" + 0.023*\"would\" + 0.023*\"educ\" + 0.023*\"busi\" + 0.022*\"percent\" + 0.020*\"secur\" + 0.020*\"incom\" + 0.017*\"bill\" + 0.017*\"fund\" + 0.017*\"stimulu\" + 0.016*\"take\" + 0.016*\"famili\" + 0.016*\"cost\" + 0.015*\"could\" + 0.015*\"social\" + 0.015*\"oppo\" + 0.015*\"iraq\" + 0.014*\"american\" + 0.014*\"peopl\"'),\n",
              " (1,\n",
              "  '0.061*\"million\" + 0.043*\"public\" + 0.039*\"dollar\" + 0.038*\"even\" + 0.030*\"system\" + 0.028*\"illeg\" + 0.028*\"immigr\" + 0.026*\"number\" + 0.025*\"dont\" + 0.025*\"want\" + 0.023*\"without\" + 0.022*\"know\" + 0.021*\"spent\" + 0.019*\"help\" + 0.019*\"need\" + 0.018*\"univ\" + 0.018*\"privat\" + 0.017*\"would\" + 0.017*\"administr\" + 0.017*\"start\"'),\n",
              " (2,\n",
              "  '0.078*\"percent\" + 0.048*\"texa\" + 0.046*\"rate\" + 0.024*\"unemploy\" + 0.024*\"averag\" + 0.024*\"year\" + 0.023*\"governor\" + 0.022*\"scott\" + 0.022*\"state\" + 0.021*\"medicar\" + 0.020*\"rick\" + 0.020*\"today\" + 0.019*\"live\" + 0.018*\"perc\" + 0.017*\"children\" + 0.017*\"nation\" + 0.014*\"four\" + 0.014*\"walker\" + 0.013*\"alreadi\" + 0.012*\"countri\"'),\n",
              " (3,\n",
              "  '0.053*\"school\" + 0.041*\"fund\" + 0.039*\"state\" + 0.036*\"obamacar\" + 0.036*\"hou\" + 0.032*\"florida\" + 0.028*\"bill\" + 0.027*\"employ\" + 0.027*\"half\" + 0.026*\"campaign\" + 0.024*\"less\" + 0.022*\"peopl\" + 0.021*\"pass\" + 0.019*\"vote\" + 0.019*\"high\" + 0.019*\"percent\" + 0.019*\"provid\" + 0.018*\"receiv\" + 0.018*\"student\" + 0.017*\"member\"'),\n",
              " (4,\n",
              "  '0.077*\"year\" + 0.063*\"state\" + 0.039*\"budget\" + 0.033*\"last\" + 0.030*\"unit\" + 0.026*\"senat\" + 0.026*\"offic\" + 0.025*\"time\" + 0.022*\"billion\" + 0.021*\"money\" + 0.021*\"sinc\" + 0.021*\"three\" + 0.020*\"deficit\" + 0.019*\"congress\" + 0.015*\"took\" + 0.015*\"elect\" + 0.015*\"creat\" + 0.014*\"economi\" + 0.014*\"spend\" + 0.013*\"america\"'),\n",
              " (5,\n",
              "  '0.032*\"insur\" + 0.030*\"trump\" + 0.025*\"allow\" + 0.023*\"program\" + 0.023*\"compani\" + 0.023*\"donald\" + 0.021*\"bush\" + 0.019*\"singl\" + 0.018*\"benefit\" + 0.017*\"state\" + 0.016*\"virginia\" + 0.016*\"militari\" + 0.016*\"colleg\" + 0.015*\"georg\" + 0.014*\"island\" + 0.014*\"mccain\" + 0.014*\"health\" + 0.014*\"deal\" + 0.014*\"rode\" + 0.014*\"rank\"'),\n",
              " (6,\n",
              "  '0.046*\"debt\" + 0.039*\"everi\" + 0.037*\"nation\" + 0.030*\"georgia\" + 0.026*\"work\" + 0.026*\"weve\" + 0.026*\"major\" + 0.025*\"make\" + 0.025*\"call\" + 0.024*\"highest\" + 0.024*\"trillion\" + 0.023*\"chang\" + 0.023*\"wage\" + 0.022*\"state\" + 0.022*\"women\" + 0.018*\"year\" + 0.018*\"ohio\" + 0.018*\"right\" + 0.017*\"growth\" + 0.017*\"reform\"'),\n",
              " (7,\n",
              "  '0.128*\"obama\" + 0.094*\"presid\" + 0.065*\"barack\" + 0.051*\"democrat\" + 0.041*\"vote\" + 0.038*\"republican\" + 0.017*\"never\" + 0.015*\"requir\" + 0.014*\"energi\" + 0.014*\"support\" + 0.013*\"parti\" + 0.012*\"promi\" + 0.011*\"sign\" + 0.011*\"candid\" + 0.011*\"went\" + 0.011*\"seven\" + 0.011*\"build\" + 0.011*\"abort\" + 0.010*\"money\" + 0.010*\"congress\"'),\n",
              " (8,\n",
              "  '0.064*\"govern\" + 0.061*\"increa\" + 0.059*\"feder\" + 0.046*\"percent\" + 0.035*\"month\" + 0.034*\"counti\" + 0.034*\"spend\" + 0.028*\"billion\" + 0.027*\"abort\" + 0.027*\"includ\" + 0.025*\"record\" + 0.024*\"medicaid\" + 0.024*\"citi\" + 0.022*\"third\" + 0.020*\"year\" + 0.019*\"attack\" + 0.019*\"worker\" + 0.017*\"rai\" + 0.017*\"milwauk\" + 0.015*\"crist\"'),\n",
              " (9,\n",
              "  '0.049*\"plan\" + 0.045*\"american\" + 0.044*\"clinton\" + 0.039*\"first\" + 0.034*\"countri\" + 0.032*\"romney\" + 0.031*\"support\" + 0.030*\"hillari\" + 0.030*\"said\" + 0.025*\"depart\" + 0.025*\"show\" + 0.024*\"mitt\" + 0.023*\"world\" + 0.023*\"time\" + 0.022*\"made\" + 0.021*\"mani\" + 0.020*\"histori\" + 0.019*\"china\" + 0.018*\"come\" + 0.017*\"gener\"')]"
            ]
          },
          "metadata": {
            "tags": []
          },
          "execution_count": 201
        }
      ]
    },
    {
      "cell_type": "code",
      "metadata": {
        "id": "Sz-9CGl-D4Jh",
        "colab_type": "code",
        "colab": {}
      },
      "source": [
        "#lda.save('/content/drive/My Drive/model2/lda.model')\n"
      ],
      "execution_count": 0,
      "outputs": []
    },
    {
      "cell_type": "code",
      "metadata": {
        "id": "z9mMbpN0Rx30",
        "colab_type": "code",
        "outputId": "b002516c-8896-4b21-ced7-c0637b3c80cc",
        "colab": {
          "base_uri": "https://localhost:8080/",
          "height": 241
        }
      },
      "source": [
        "all_data.loc[all_data.index == 0]"
      ],
      "execution_count": 0,
      "outputs": [
        {
          "output_type": "execute_result",
          "data": {
            "text/html": [
              "<div>\n",
              "<style scoped>\n",
              "    .dataframe tbody tr th:only-of-type {\n",
              "        vertical-align: middle;\n",
              "    }\n",
              "\n",
              "    .dataframe tbody tr th {\n",
              "        vertical-align: top;\n",
              "    }\n",
              "\n",
              "    .dataframe thead th {\n",
              "        text-align: right;\n",
              "    }\n",
              "</style>\n",
              "<table border=\"1\" class=\"dataframe\">\n",
              "  <thead>\n",
              "    <tr style=\"text-align: right;\">\n",
              "      <th></th>\n",
              "      <th>headline_text</th>\n",
              "      <th>processed_headline_text</th>\n",
              "      <th>subject</th>\n",
              "      <th>speaker</th>\n",
              "      <th>speakerjobtitle</th>\n",
              "      <th>stateinfo</th>\n",
              "      <th>partyaffiliation</th>\n",
              "      <th>context</th>\n",
              "      <th>encoded_label</th>\n",
              "      <th>tokenized</th>\n",
              "    </tr>\n",
              "  </thead>\n",
              "  <tbody>\n",
              "    <tr>\n",
              "      <th>0</th>\n",
              "      <td>Says the Annies List political group supports ...</td>\n",
              "      <td>nanni list polit group support third trimest a...</td>\n",
              "      <td>abortion</td>\n",
              "      <td>dwayne-bohac</td>\n",
              "      <td>State representative</td>\n",
              "      <td>Texas</td>\n",
              "      <td>republican</td>\n",
              "      <td>a mailer</td>\n",
              "      <td>5</td>\n",
              "      <td>[nanni, list, polit, group, support, third, tr...</td>\n",
              "    </tr>\n",
              "    <tr>\n",
              "      <th>0</th>\n",
              "      <td>Building a wall on the U.S.-Mexico border will...</td>\n",
              "      <td>build wall mexico border take liter year</td>\n",
              "      <td>immigration</td>\n",
              "      <td>rick-perry</td>\n",
              "      <td>Governor</td>\n",
              "      <td>Texas</td>\n",
              "      <td>republican</td>\n",
              "      <td>Radio interview</td>\n",
              "      <td>1</td>\n",
              "      <td>[build, wall, mexico, border, take, liter, year]</td>\n",
              "    </tr>\n",
              "  </tbody>\n",
              "</table>\n",
              "</div>"
            ],
            "text/plain": [
              "                                       headline_text  ...                                          tokenized\n",
              "0  Says the Annies List political group supports ...  ...  [nanni, list, polit, group, support, third, tr...\n",
              "0  Building a wall on the U.S.-Mexico border will...  ...   [build, wall, mexico, border, take, liter, year]\n",
              "\n",
              "[2 rows x 10 columns]"
            ]
          },
          "metadata": {
            "tags": []
          },
          "execution_count": 202
        }
      ]
    },
    {
      "cell_type": "markdown",
      "metadata": {
        "id": "CdHUa9dUUhCm",
        "colab_type": "text"
      },
      "source": [
        "## Add LDA Topics to dataframe "
      ]
    },
    {
      "cell_type": "code",
      "metadata": {
        "id": "yvFCGQbtLGCm",
        "colab_type": "code",
        "colab": {}
      },
      "source": [
        "all_data['lda_topics'] = ''"
      ],
      "execution_count": 0,
      "outputs": []
    },
    {
      "cell_type": "code",
      "metadata": {
        "id": "75gAC-FWJo2m",
        "colab_type": "code",
        "colab": {}
      },
      "source": [
        "def getKey(item):\n",
        "  return item[1]\n",
        "\n",
        "\n",
        "\n",
        "corpus = [dictionary.doc2bow(doc) for doc in all_data['tokenized']]\n",
        "for i in range(0,len(corpus)):\n",
        "  list = lda[corpus[i]] # corpus[0] means the first document.\n",
        "  sorted_list = sorted(list, key=getKey)\n",
        "  sorted_list.reverse()\n",
        "  text = \" \".join([dictionary[j[0]] for j in sorted_list])\n",
        "  \n",
        "  all_data.loc[all_data.index == i, ['lda_topics']] = text\n"
      ],
      "execution_count": 0,
      "outputs": []
    },
    {
      "cell_type": "code",
      "metadata": {
        "id": "KU-_bimK6ARv",
        "colab_type": "code",
        "outputId": "3b85749e-2c2a-48ce-d9a9-a7e93c7eb1fe",
        "colab": {
          "base_uri": "https://localhost:8080/",
          "height": 374
        }
      },
      "source": [
        "all_data.head(3)"
      ],
      "execution_count": 0,
      "outputs": [
        {
          "output_type": "execute_result",
          "data": {
            "text/html": [
              "<div>\n",
              "<style scoped>\n",
              "    .dataframe tbody tr th:only-of-type {\n",
              "        vertical-align: middle;\n",
              "    }\n",
              "\n",
              "    .dataframe tbody tr th {\n",
              "        vertical-align: top;\n",
              "    }\n",
              "\n",
              "    .dataframe thead th {\n",
              "        text-align: right;\n",
              "    }\n",
              "</style>\n",
              "<table border=\"1\" class=\"dataframe\">\n",
              "  <thead>\n",
              "    <tr style=\"text-align: right;\">\n",
              "      <th></th>\n",
              "      <th>headline_text</th>\n",
              "      <th>processed_headline_text</th>\n",
              "      <th>subject</th>\n",
              "      <th>speaker</th>\n",
              "      <th>speakerjobtitle</th>\n",
              "      <th>stateinfo</th>\n",
              "      <th>partyaffiliation</th>\n",
              "      <th>context</th>\n",
              "      <th>encoded_label</th>\n",
              "      <th>tokenized</th>\n",
              "      <th>lda_topics</th>\n",
              "    </tr>\n",
              "  </thead>\n",
              "  <tbody>\n",
              "    <tr>\n",
              "      <th>0</th>\n",
              "      <td>Says the Annies List political group supports ...</td>\n",
              "      <td>nanni list polit group support third trimest a...</td>\n",
              "      <td>abortion</td>\n",
              "      <td>dwayne-bohac</td>\n",
              "      <td>State representative</td>\n",
              "      <td>Texas</td>\n",
              "      <td>republican</td>\n",
              "      <td>a mailer</td>\n",
              "      <td>5</td>\n",
              "      <td>[nanni, list, polit, group, support, third, tr...</td>\n",
              "      <td>trimest support nanni administr third polit li...</td>\n",
              "    </tr>\n",
              "    <tr>\n",
              "      <th>1</th>\n",
              "      <td>When did the decline of coal start? It started...</td>\n",
              "      <td>declin coal start start natur took start begin...</td>\n",
              "      <td>energy,history,job-accomplishments</td>\n",
              "      <td>scott-surovell</td>\n",
              "      <td>State delegate</td>\n",
              "      <td>Virginia</td>\n",
              "      <td>democrat</td>\n",
              "      <td>a floor speech.</td>\n",
              "      <td>3</td>\n",
              "      <td>[declin, coal, start, start, natur, took, star...</td>\n",
              "      <td>trimest demand third polit administr support n...</td>\n",
              "    </tr>\n",
              "    <tr>\n",
              "      <th>2</th>\n",
              "      <td>Hillary Clinton agrees with John McCain \"by vo...</td>\n",
              "      <td>hillari clinton agre john mccain vote give geo...</td>\n",
              "      <td>foreign-policy</td>\n",
              "      <td>barack-obama</td>\n",
              "      <td>President</td>\n",
              "      <td>Illinois</td>\n",
              "      <td>democrat</td>\n",
              "      <td>Denver</td>\n",
              "      <td>2</td>\n",
              "      <td>[hillari, clinton, agr, john, mccain, vote, gi...</td>\n",
              "      <td>polit administr third trimest support nanni li...</td>\n",
              "    </tr>\n",
              "  </tbody>\n",
              "</table>\n",
              "</div>"
            ],
            "text/plain": [
              "                                       headline_text  ...                                         lda_topics\n",
              "0  Says the Annies List political group supports ...  ...  trimest support nanni administr third polit li...\n",
              "1  When did the decline of coal start? It started...  ...  trimest demand third polit administr support n...\n",
              "2  Hillary Clinton agrees with John McCain \"by vo...  ...  polit administr third trimest support nanni li...\n",
              "\n",
              "[3 rows x 11 columns]"
            ]
          },
          "metadata": {
            "tags": []
          },
          "execution_count": 205
        }
      ]
    },
    {
      "cell_type": "markdown",
      "metadata": {
        "id": "JQbK9xskUjkg",
        "colab_type": "text"
      },
      "source": [
        "## Doc2Vec for LDA topics"
      ]
    },
    {
      "cell_type": "code",
      "metadata": {
        "id": "XVjyOmRDUlyd",
        "colab_type": "code",
        "outputId": "dc5e9dc1-a79e-4d52-85bd-23ad36980ea5",
        "colab": {
          "base_uri": "https://localhost:8080/",
          "height": 185
        }
      },
      "source": [
        "#doc2vec_tr = Doc2VecTransformer(vector_size=300)\n",
        "doc2vector2 = Doc2VecTransformer(vector_size=10, learning_rate=0.001, epochs=10,column='lda_topics')\n",
        "doc2vector2.fit(all_data)\n",
        "doc2vec_vectors2 = doc2vector2.transform(all_data)"
      ],
      "execution_count": 0,
      "outputs": [
        {
          "output_type": "stream",
          "text": [
            "100%|██████████| 11507/11507 [00:00<00:00, 2646189.82it/s]\n",
            "100%|██████████| 11507/11507 [00:00<00:00, 2218823.84it/s]\n",
            "100%|██████████| 11507/11507 [00:00<00:00, 2900820.78it/s]\n",
            "100%|██████████| 11507/11507 [00:00<00:00, 2262085.50it/s]\n",
            "100%|██████████| 11507/11507 [00:00<00:00, 1974951.15it/s]\n",
            "100%|██████████| 11507/11507 [00:00<00:00, 2822282.68it/s]\n",
            "100%|██████████| 11507/11507 [00:00<00:00, 2400112.19it/s]\n",
            "100%|██████████| 11507/11507 [00:00<00:00, 1855802.52it/s]\n",
            "100%|██████████| 11507/11507 [00:00<00:00, 3100196.31it/s]\n",
            "100%|██████████| 11507/11507 [00:00<00:00, 1856659.21it/s]\n"
          ],
          "name": "stderr"
        }
      ]
    },
    {
      "cell_type": "markdown",
      "metadata": {
        "id": "ccuDhc6Vnpjp",
        "colab_type": "text"
      },
      "source": [
        "## Sentiment Analysis"
      ]
    },
    {
      "cell_type": "code",
      "metadata": {
        "id": "dTlJ8Fg8noFB",
        "colab_type": "code",
        "colab": {}
      },
      "source": [
        "all_data['negative'] = 0.0\n",
        "all_data['neutral'] = 0.0\n",
        "all_data['positive'] = 0.0\n",
        "all_data['compound'] = 0.0\n"
      ],
      "execution_count": 0,
      "outputs": []
    },
    {
      "cell_type": "code",
      "metadata": {
        "id": "Nhdx0-8Gn8TL",
        "colab_type": "code",
        "outputId": "cc34ca69-7e21-4a5c-9b32-44854451f78f",
        "colab": {
          "base_uri": "https://localhost:8080/",
          "height": 67
        }
      },
      "source": [
        "nltk.download('vader_lexicon')"
      ],
      "execution_count": 0,
      "outputs": [
        {
          "output_type": "stream",
          "text": [
            "[nltk_data] Downloading package vader_lexicon to /root/nltk_data...\n",
            "[nltk_data]   Package vader_lexicon is already up-to-date!\n"
          ],
          "name": "stdout"
        },
        {
          "output_type": "execute_result",
          "data": {
            "text/plain": [
              "True"
            ]
          },
          "metadata": {
            "tags": []
          },
          "execution_count": 208
        }
      ]
    },
    {
      "cell_type": "code",
      "metadata": {
        "id": "QCMGX9LmoAzj",
        "colab_type": "code",
        "outputId": "df52f41a-cd5d-427c-b0aa-8d5effb757ad",
        "colab": {
          "base_uri": "https://localhost:8080/",
          "height": 412
        }
      },
      "source": [
        "from nltk.sentiment.vader import SentimentIntensityAnalyzer \n",
        "senti = nltk.sentiment.vader.SentimentIntensityAnalyzer()\n",
        "\n",
        "headlines = all_data['processed_headline_text'].tolist()\n",
        "ids = all_data.index.tolist()\n",
        "for index in range(0,len(headlines)):\n",
        "    line = headlines[index]\n",
        "    if not pd.isna(line):\n",
        "      pol_score = senti.polarity_scores(line)\n",
        "      #print(pol_score)\n",
        "      id = ids[index]\n",
        "      all_data.loc[all_data.index == id, ['negative']] = pol_score['neg']# [neg,neu,pos,compound]\n",
        "      all_data.loc[all_data.index == id, ['neutral']] = pol_score['neu']\n",
        "      all_data.loc[all_data.index == id, ['positive']] = pol_score['pos']\n",
        "      all_data.loc[all_data.index == id, ['compound']] = pol_score['compound']\n",
        "      if index % 1500 == 0:\n",
        "        print(\"processing \",index,' of ',len(headlines))\n",
        "        \n",
        "      \n",
        "all_data.head(2)"
      ],
      "execution_count": 0,
      "outputs": [
        {
          "output_type": "stream",
          "text": [
            "processing  0  of  11507\n",
            "processing  1500  of  11507\n",
            "processing  3000  of  11507\n",
            "processing  4500  of  11507\n",
            "processing  6000  of  11507\n",
            "processing  7500  of  11507\n",
            "processing  9000  of  11507\n",
            "processing  10500  of  11507\n"
          ],
          "name": "stdout"
        },
        {
          "output_type": "execute_result",
          "data": {
            "text/html": [
              "<div>\n",
              "<style scoped>\n",
              "    .dataframe tbody tr th:only-of-type {\n",
              "        vertical-align: middle;\n",
              "    }\n",
              "\n",
              "    .dataframe tbody tr th {\n",
              "        vertical-align: top;\n",
              "    }\n",
              "\n",
              "    .dataframe thead th {\n",
              "        text-align: right;\n",
              "    }\n",
              "</style>\n",
              "<table border=\"1\" class=\"dataframe\">\n",
              "  <thead>\n",
              "    <tr style=\"text-align: right;\">\n",
              "      <th></th>\n",
              "      <th>headline_text</th>\n",
              "      <th>processed_headline_text</th>\n",
              "      <th>subject</th>\n",
              "      <th>speaker</th>\n",
              "      <th>speakerjobtitle</th>\n",
              "      <th>stateinfo</th>\n",
              "      <th>partyaffiliation</th>\n",
              "      <th>context</th>\n",
              "      <th>encoded_label</th>\n",
              "      <th>tokenized</th>\n",
              "      <th>lda_topics</th>\n",
              "      <th>negative</th>\n",
              "      <th>neutral</th>\n",
              "      <th>positive</th>\n",
              "      <th>compound</th>\n",
              "    </tr>\n",
              "  </thead>\n",
              "  <tbody>\n",
              "    <tr>\n",
              "      <th>0</th>\n",
              "      <td>Says the Annies List political group supports ...</td>\n",
              "      <td>nanni list polit group support third trimest a...</td>\n",
              "      <td>abortion</td>\n",
              "      <td>dwayne-bohac</td>\n",
              "      <td>State representative</td>\n",
              "      <td>Texas</td>\n",
              "      <td>republican</td>\n",
              "      <td>a mailer</td>\n",
              "      <td>5</td>\n",
              "      <td>[nanni, list, polit, group, support, third, tr...</td>\n",
              "      <td>trimest support nanni administr third polit li...</td>\n",
              "      <td>0.0</td>\n",
              "      <td>1.000</td>\n",
              "      <td>0.000</td>\n",
              "      <td>0.0000</td>\n",
              "    </tr>\n",
              "    <tr>\n",
              "      <th>1</th>\n",
              "      <td>When did the decline of coal start? It started...</td>\n",
              "      <td>declin coal start start natur took start begin...</td>\n",
              "      <td>energy,history,job-accomplishments</td>\n",
              "      <td>scott-surovell</td>\n",
              "      <td>State delegate</td>\n",
              "      <td>Virginia</td>\n",
              "      <td>democrat</td>\n",
              "      <td>a floor speech.</td>\n",
              "      <td>3</td>\n",
              "      <td>[declin, coal, start, start, natur, took, star...</td>\n",
              "      <td>trimest demand third polit administr support n...</td>\n",
              "      <td>0.0</td>\n",
              "      <td>0.794</td>\n",
              "      <td>0.206</td>\n",
              "      <td>0.0772</td>\n",
              "    </tr>\n",
              "  </tbody>\n",
              "</table>\n",
              "</div>"
            ],
            "text/plain": [
              "                                       headline_text  ... compound\n",
              "0  Says the Annies List political group supports ...  ...   0.0000\n",
              "1  When did the decline of coal start? It started...  ...   0.0772\n",
              "\n",
              "[2 rows x 15 columns]"
            ]
          },
          "metadata": {
            "tags": []
          },
          "execution_count": 209
        }
      ]
    },
    {
      "cell_type": "code",
      "metadata": {
        "id": "5KDcC6zCpN6W",
        "colab_type": "code",
        "colab": {}
      },
      "source": [
        "#merged_data.to_csv('sentiment_isot.csv')"
      ],
      "execution_count": 0,
      "outputs": []
    },
    {
      "cell_type": "code",
      "metadata": {
        "id": "bPWG4Oonp7Ic",
        "colab_type": "code",
        "outputId": "ccee2dd0-2c21-41d0-956f-f850ad5fa9b6",
        "colab": {
          "base_uri": "https://localhost:8080/",
          "height": 34
        }
      },
      "source": [
        "sentiment_values = all_data[['compound','negative','neutral','positive']].values\n",
        "sentiment_values.shape"
      ],
      "execution_count": 0,
      "outputs": [
        {
          "output_type": "execute_result",
          "data": {
            "text/plain": [
              "(11507, 4)"
            ]
          },
          "metadata": {
            "tags": []
          },
          "execution_count": 211
        }
      ]
    },
    {
      "cell_type": "markdown",
      "metadata": {
        "id": "Atv-xS74MDMc",
        "colab_type": "text"
      },
      "source": [
        "## Taking other Categorical Columns"
      ]
    },
    {
      "cell_type": "code",
      "metadata": {
        "id": "lu2MKDUFMM4Z",
        "colab_type": "code",
        "outputId": "180e5f85-feb8-42a2-e5d5-5b69c7375cc5",
        "colab": {
          "base_uri": "https://localhost:8080/",
          "height": 374
        }
      },
      "source": [
        "all_data.head(3)"
      ],
      "execution_count": 0,
      "outputs": [
        {
          "output_type": "execute_result",
          "data": {
            "text/html": [
              "<div>\n",
              "<style scoped>\n",
              "    .dataframe tbody tr th:only-of-type {\n",
              "        vertical-align: middle;\n",
              "    }\n",
              "\n",
              "    .dataframe tbody tr th {\n",
              "        vertical-align: top;\n",
              "    }\n",
              "\n",
              "    .dataframe thead th {\n",
              "        text-align: right;\n",
              "    }\n",
              "</style>\n",
              "<table border=\"1\" class=\"dataframe\">\n",
              "  <thead>\n",
              "    <tr style=\"text-align: right;\">\n",
              "      <th></th>\n",
              "      <th>headline_text</th>\n",
              "      <th>processed_headline_text</th>\n",
              "      <th>subject</th>\n",
              "      <th>speaker</th>\n",
              "      <th>speakerjobtitle</th>\n",
              "      <th>stateinfo</th>\n",
              "      <th>partyaffiliation</th>\n",
              "      <th>context</th>\n",
              "      <th>encoded_label</th>\n",
              "      <th>tokenized</th>\n",
              "      <th>lda_topics</th>\n",
              "      <th>negative</th>\n",
              "      <th>neutral</th>\n",
              "      <th>positive</th>\n",
              "      <th>compound</th>\n",
              "    </tr>\n",
              "  </thead>\n",
              "  <tbody>\n",
              "    <tr>\n",
              "      <th>0</th>\n",
              "      <td>Says the Annies List political group supports ...</td>\n",
              "      <td>nanni list polit group support third trimest a...</td>\n",
              "      <td>abortion</td>\n",
              "      <td>dwayne-bohac</td>\n",
              "      <td>State representative</td>\n",
              "      <td>Texas</td>\n",
              "      <td>republican</td>\n",
              "      <td>a mailer</td>\n",
              "      <td>5</td>\n",
              "      <td>[nanni, list, polit, group, support, third, tr...</td>\n",
              "      <td>trimest support nanni administr third polit li...</td>\n",
              "      <td>0.0</td>\n",
              "      <td>1.000</td>\n",
              "      <td>0.000</td>\n",
              "      <td>0.0000</td>\n",
              "    </tr>\n",
              "    <tr>\n",
              "      <th>1</th>\n",
              "      <td>When did the decline of coal start? It started...</td>\n",
              "      <td>declin coal start start natur took start begin...</td>\n",
              "      <td>energy,history,job-accomplishments</td>\n",
              "      <td>scott-surovell</td>\n",
              "      <td>State delegate</td>\n",
              "      <td>Virginia</td>\n",
              "      <td>democrat</td>\n",
              "      <td>a floor speech.</td>\n",
              "      <td>3</td>\n",
              "      <td>[declin, coal, start, start, natur, took, star...</td>\n",
              "      <td>trimest demand third polit administr support n...</td>\n",
              "      <td>0.0</td>\n",
              "      <td>0.794</td>\n",
              "      <td>0.206</td>\n",
              "      <td>0.0772</td>\n",
              "    </tr>\n",
              "    <tr>\n",
              "      <th>2</th>\n",
              "      <td>Hillary Clinton agrees with John McCain \"by vo...</td>\n",
              "      <td>hillari clinton agre john mccain vote give geo...</td>\n",
              "      <td>foreign-policy</td>\n",
              "      <td>barack-obama</td>\n",
              "      <td>President</td>\n",
              "      <td>Illinois</td>\n",
              "      <td>democrat</td>\n",
              "      <td>Denver</td>\n",
              "      <td>2</td>\n",
              "      <td>[hillari, clinton, agr, john, mccain, vote, gi...</td>\n",
              "      <td>polit administr third trimest support nanni li...</td>\n",
              "      <td>0.0</td>\n",
              "      <td>0.597</td>\n",
              "      <td>0.403</td>\n",
              "      <td>0.4019</td>\n",
              "    </tr>\n",
              "  </tbody>\n",
              "</table>\n",
              "</div>"
            ],
            "text/plain": [
              "                                       headline_text  ... compound\n",
              "0  Says the Annies List political group supports ...  ...   0.0000\n",
              "1  When did the decline of coal start? It started...  ...   0.0772\n",
              "2  Hillary Clinton agrees with John McCain \"by vo...  ...   0.4019\n",
              "\n",
              "[3 rows x 15 columns]"
            ]
          },
          "metadata": {
            "tags": []
          },
          "execution_count": 212
        }
      ]
    },
    {
      "cell_type": "code",
      "metadata": {
        "id": "4z1RrEdAMLbQ",
        "colab_type": "code",
        "colab": {}
      },
      "source": [
        "all_data['subject_codes'] = all_data['subject'].astype('category').cat.codes\n",
        "all_data['speaker_codes'] = all_data['speaker'].astype('category').cat.codes\n",
        "all_data['partyaffiliation_codes'] = all_data['partyaffiliation'].astype('category').cat.codes\n",
        "all_data['speakerjobtitle_codes'] = all_data['speakerjobtitle'].astype('category').cat.codes\n",
        "all_data['context_codes'] = all_data['context'].astype('category').cat.codes"
      ],
      "execution_count": 0,
      "outputs": []
    },
    {
      "cell_type": "code",
      "metadata": {
        "id": "vyHnHhMPMv8p",
        "colab_type": "code",
        "outputId": "69c3b0dc-8fc2-46dc-d953-81bee42c58e2",
        "colab": {
          "base_uri": "https://localhost:8080/",
          "height": 34
        }
      },
      "source": [
        "cat_col_values = all_data[['subject_codes','speaker_codes','partyaffiliation_codes','speakerjobtitle_codes','context_codes']].values\n",
        "cat_col_values.shape"
      ],
      "execution_count": 0,
      "outputs": [
        {
          "output_type": "execute_result",
          "data": {
            "text/plain": [
              "(11507, 5)"
            ]
          },
          "metadata": {
            "tags": []
          },
          "execution_count": 214
        }
      ]
    },
    {
      "cell_type": "markdown",
      "metadata": {
        "id": "t1lgI4HiAq2z",
        "colab_type": "text"
      },
      "source": [
        "## Aggregate vectors and sentiment labels"
      ]
    },
    {
      "cell_type": "code",
      "metadata": {
        "id": "YuWtMFWl_OyO",
        "colab_type": "code",
        "outputId": "bca31a25-c8dc-48d9-bf51-b2f0e2c46a04",
        "colab": {
          "base_uri": "https://localhost:8080/",
          "height": 84
        }
      },
      "source": [
        "print(doc2vec_vectors.shape)\n",
        "print(doc2vec_vectors2.shape)\n",
        "print(sentiment_values.shape)\n",
        "doc2vec_vectors3 = np.concatenate([doc2vec_vectors, doc2vec_vectors2,sentiment_values,cat_col_values],axis=1)\n",
        "print(doc2vec_vectors3.shape)"
      ],
      "execution_count": 0,
      "outputs": [
        {
          "output_type": "stream",
          "text": [
            "(11507, 10)\n",
            "(11507, 10)\n",
            "(11507, 4)\n",
            "(11507, 29)\n"
          ],
          "name": "stdout"
        }
      ]
    },
    {
      "cell_type": "code",
      "metadata": {
        "id": "GiCu7PLAoTCL",
        "colab_type": "code",
        "outputId": "a619bae0-32e9-47b4-8344-0bff34907244",
        "colab": {
          "base_uri": "https://localhost:8080/",
          "height": 34
        }
      },
      "source": [
        "labels = all_data['encoded_label'].values\n",
        "labels.shape"
      ],
      "execution_count": 0,
      "outputs": [
        {
          "output_type": "execute_result",
          "data": {
            "text/plain": [
              "(11507,)"
            ]
          },
          "metadata": {
            "tags": []
          },
          "execution_count": 216
        }
      ]
    },
    {
      "cell_type": "markdown",
      "metadata": {
        "id": "P1_4nlbGViQL",
        "colab_type": "text"
      },
      "source": [
        "# Multilevel Classification"
      ]
    },
    {
      "cell_type": "code",
      "metadata": {
        "id": "KU2zhZndI4hU",
        "colab_type": "code",
        "outputId": "a5309a16-8f02-49a1-fd67-e02942d7255e",
        "colab": {
          "base_uri": "https://localhost:8080/",
          "height": 1000
        }
      },
      "source": [
        "import matplotlib.pyplot as mp\n",
        "figure, axes = mp.subplots(figsize=(15,15))\n",
        "sns.heatmap(all_data.corr(), annot=True, vmax=1, linewidths=1.5, cmap='Reds')\n",
        "mp.xticks(rotation=45)"
      ],
      "execution_count": 0,
      "outputs": [
        {
          "output_type": "execute_result",
          "data": {
            "text/plain": [
              "(array([0.5, 1.5, 2.5, 3.5, 4.5, 5.5, 6.5, 7.5, 8.5, 9.5]),\n",
              " <a list of 10 Text major ticklabel objects>)"
            ]
          },
          "metadata": {
            "tags": []
          },
          "execution_count": 217
        },
        {
          "output_type": "display_data",
          "data": {
            "image/png": "[encoded data removed]",
            "text/plain": [
              "<Figure size 1080x1080 with 2 Axes>"
            ]
          },
          "metadata": {
            "tags": [],
            "needs_background": "light"
          }
        }
      ]
    },
    {
      "cell_type": "markdown",
      "metadata": {
        "id": "dhEHr6a2smDQ",
        "colab_type": "text"
      },
      "source": [
        "## New Classification before LDA"
      ]
    },
    {
      "cell_type": "markdown",
      "metadata": {
        "id": "kYLHbiCNXHlz",
        "colab_type": "text"
      },
      "source": [
        "### Test -Train"
      ]
    },
    {
      "cell_type": "code",
      "metadata": {
        "id": "rVSmmKj1XiSl",
        "colab_type": "code",
        "outputId": "2d7cd31e-5b8a-4f95-dd8c-aff942353f8a",
        "colab": {
          "base_uri": "https://localhost:8080/",
          "height": 374
        }
      },
      "source": [
        "all_data.head(3)"
      ],
      "execution_count": 0,
      "outputs": [
        {
          "output_type": "execute_result",
          "data": {
            "text/html": [
              "<div>\n",
              "<style scoped>\n",
              "    .dataframe tbody tr th:only-of-type {\n",
              "        vertical-align: middle;\n",
              "    }\n",
              "\n",
              "    .dataframe tbody tr th {\n",
              "        vertical-align: top;\n",
              "    }\n",
              "\n",
              "    .dataframe thead th {\n",
              "        text-align: right;\n",
              "    }\n",
              "</style>\n",
              "<table border=\"1\" class=\"dataframe\">\n",
              "  <thead>\n",
              "    <tr style=\"text-align: right;\">\n",
              "      <th></th>\n",
              "      <th>headline_text</th>\n",
              "      <th>processed_headline_text</th>\n",
              "      <th>subject</th>\n",
              "      <th>speaker</th>\n",
              "      <th>speakerjobtitle</th>\n",
              "      <th>stateinfo</th>\n",
              "      <th>partyaffiliation</th>\n",
              "      <th>context</th>\n",
              "      <th>encoded_label</th>\n",
              "      <th>tokenized</th>\n",
              "      <th>lda_topics</th>\n",
              "      <th>negative</th>\n",
              "      <th>neutral</th>\n",
              "      <th>positive</th>\n",
              "      <th>compound</th>\n",
              "      <th>subject_codes</th>\n",
              "      <th>speaker_codes</th>\n",
              "      <th>partyaffiliation_codes</th>\n",
              "      <th>speakerjobtitle_codes</th>\n",
              "      <th>context_codes</th>\n",
              "    </tr>\n",
              "  </thead>\n",
              "  <tbody>\n",
              "    <tr>\n",
              "      <th>0</th>\n",
              "      <td>Says the Annies List political group supports ...</td>\n",
              "      <td>nanni list polit group support third trimest a...</td>\n",
              "      <td>abortion</td>\n",
              "      <td>dwayne-bohac</td>\n",
              "      <td>State representative</td>\n",
              "      <td>Texas</td>\n",
              "      <td>republican</td>\n",
              "      <td>a mailer</td>\n",
              "      <td>5</td>\n",
              "      <td>[nanni, list, polit, group, support, third, tr...</td>\n",
              "      <td>trimest support nanni administr third polit li...</td>\n",
              "      <td>0.0</td>\n",
              "      <td>1.000</td>\n",
              "      <td>0.000</td>\n",
              "      <td>0.0000</td>\n",
              "      <td>31</td>\n",
              "      <td>868</td>\n",
              "      <td>20</td>\n",
              "      <td>930</td>\n",
              "      <td>1430</td>\n",
              "    </tr>\n",
              "    <tr>\n",
              "      <th>1</th>\n",
              "      <td>When did the decline of coal start? It started...</td>\n",
              "      <td>declin coal start start natur took start begin...</td>\n",
              "      <td>energy,history,job-accomplishments</td>\n",
              "      <td>scott-surovell</td>\n",
              "      <td>State delegate</td>\n",
              "      <td>Virginia</td>\n",
              "      <td>democrat</td>\n",
              "      <td>a floor speech.</td>\n",
              "      <td>3</td>\n",
              "      <td>[declin, coal, start, start, natur, took, star...</td>\n",
              "      <td>trimest demand third polit administr support n...</td>\n",
              "      <td>0.0</td>\n",
              "      <td>0.794</td>\n",
              "      <td>0.206</td>\n",
              "      <td>0.0772</td>\n",
              "      <td>2810</td>\n",
              "      <td>2652</td>\n",
              "      <td>6</td>\n",
              "      <td>928</td>\n",
              "      <td>1257</td>\n",
              "    </tr>\n",
              "    <tr>\n",
              "      <th>2</th>\n",
              "      <td>Hillary Clinton agrees with John McCain \"by vo...</td>\n",
              "      <td>hillari clinton agre john mccain vote give geo...</td>\n",
              "      <td>foreign-policy</td>\n",
              "      <td>barack-obama</td>\n",
              "      <td>President</td>\n",
              "      <td>Illinois</td>\n",
              "      <td>democrat</td>\n",
              "      <td>Denver</td>\n",
              "      <td>2</td>\n",
              "      <td>[hillari, clinton, agr, john, mccain, vote, gi...</td>\n",
              "      <td>polit administr third trimest support nanni li...</td>\n",
              "      <td>0.0</td>\n",
              "      <td>0.597</td>\n",
              "      <td>0.403</td>\n",
              "      <td>0.4019</td>\n",
              "      <td>3139</td>\n",
              "      <td>197</td>\n",
              "      <td>6</td>\n",
              "      <td>686</td>\n",
              "      <td>87</td>\n",
              "    </tr>\n",
              "  </tbody>\n",
              "</table>\n",
              "</div>"
            ],
            "text/plain": [
              "                                       headline_text  ... context_codes\n",
              "0  Says the Annies List political group supports ...  ...          1430\n",
              "1  When did the decline of coal start? It started...  ...          1257\n",
              "2  Hillary Clinton agrees with John McCain \"by vo...  ...            87\n",
              "\n",
              "[3 rows x 20 columns]"
            ]
          },
          "metadata": {
            "tags": []
          },
          "execution_count": 218
        }
      ]
    },
    {
      "cell_type": "code",
      "metadata": {
        "id": "nPa9ZVeZXfFf",
        "colab_type": "code",
        "colab": {}
      },
      "source": [
        "#all_data = pd.concat([df_train[['processed_headline_text', 'encoded_label']], df_test[['processed_headline_text', 'encoded_label']]])"
      ],
      "execution_count": 0,
      "outputs": []
    },
    {
      "cell_type": "code",
      "metadata": {
        "id": "ve1SqpsJ_YyA",
        "colab_type": "code",
        "colab": {}
      },
      "source": [
        ""
      ],
      "execution_count": 0,
      "outputs": []
    },
    {
      "cell_type": "code",
      "metadata": {
        "id": "T3-UijrTXGUp",
        "colab_type": "code",
        "outputId": "bcf161a0-50a6-4ae9-e306-904bee3b0f19",
        "colab": {
          "base_uri": "https://localhost:8080/",
          "height": 50
        }
      },
      "source": [
        "from sklearn.model_selection import train_test_split\n",
        "\n",
        "X_train, X_test, y_train, y_test = train_test_split(\n",
        "    all_data['processed_headline_text'], \n",
        "    all_data['encoded_label'], \n",
        "    random_state = 1\n",
        ")\n",
        "\n",
        "print(\"Training dataset: \", X_train.shape[0])\n",
        "print(\"Test dataset: \", X_test.shape[0])"
      ],
      "execution_count": 0,
      "outputs": [
        {
          "output_type": "stream",
          "text": [
            "Training dataset:  8630\n",
            "Test dataset:  2877\n"
          ],
          "name": "stdout"
        }
      ]
    },
    {
      "cell_type": "code",
      "metadata": {
        "id": "40sqURefX_Dh",
        "colab_type": "code",
        "colab": {}
      },
      "source": [
        "from sklearn.feature_extraction.text import CountVectorizer\n",
        "\n",
        "count_vector = CountVectorizer(stop_words = 'english')\n",
        "training_data = count_vector.fit_transform(X_train)\n",
        "testing_data = count_vector.transform(X_test)"
      ],
      "execution_count": 0,
      "outputs": []
    },
    {
      "cell_type": "code",
      "metadata": {
        "id": "NIiq3wM4uq-I",
        "colab_type": "code",
        "outputId": "de23bab8-cfa8-4b60-ae58-989ec770afd7",
        "colab": {
          "base_uri": "https://localhost:8080/",
          "height": 34
        }
      },
      "source": [
        "training_data.shape"
      ],
      "execution_count": 0,
      "outputs": [
        {
          "output_type": "execute_result",
          "data": {
            "text/plain": [
              "(8630, 6598)"
            ]
          },
          "metadata": {
            "tags": []
          },
          "execution_count": 222
        }
      ]
    },
    {
      "cell_type": "markdown",
      "metadata": {
        "id": "L77wwOxtYJfM",
        "colab_type": "text"
      },
      "source": [
        "### Multinomial Naive Bias Classifiar"
      ]
    },
    {
      "cell_type": "code",
      "metadata": {
        "id": "qVekq5PHYOoy",
        "colab_type": "code",
        "outputId": "c6911446-82b4-4d6a-9b4a-6c6f7a899756",
        "colab": {
          "base_uri": "https://localhost:8080/",
          "height": 34
        }
      },
      "source": [
        "from sklearn.naive_bayes import MultinomialNB\n",
        "\n",
        "naive_bayes = MultinomialNB()\n",
        "naive_bayes.fit(training_data, y_train)"
      ],
      "execution_count": 0,
      "outputs": [
        {
          "output_type": "execute_result",
          "data": {
            "text/plain": [
              "MultinomialNB(alpha=1.0, class_prior=None, fit_prior=True)"
            ]
          },
          "metadata": {
            "tags": []
          },
          "execution_count": 223
        }
      ]
    },
    {
      "cell_type": "markdown",
      "metadata": {
        "id": "Ff5ZT_FPYShY",
        "colab_type": "text"
      },
      "source": [
        "Generate Prediction"
      ]
    },
    {
      "cell_type": "code",
      "metadata": {
        "id": "10t57XPlYVBP",
        "colab_type": "code",
        "outputId": "893dc6a0-67b2-464f-c63e-839a8183b986",
        "colab": {
          "base_uri": "https://localhost:8080/",
          "height": 34
        }
      },
      "source": [
        "predictions = naive_bayes.predict(testing_data)\n",
        "predictions"
      ],
      "execution_count": 0,
      "outputs": [
        {
          "output_type": "execute_result",
          "data": {
            "text/plain": [
              "array([3, 4, 2, ..., 1, 3, 5])"
            ]
          },
          "metadata": {
            "tags": []
          },
          "execution_count": 224
        }
      ]
    },
    {
      "cell_type": "markdown",
      "metadata": {
        "id": "6t247E4SYaMl",
        "colab_type": "text"
      },
      "source": [
        "### Evaluate Model Performance"
      ]
    },
    {
      "cell_type": "code",
      "metadata": {
        "id": "nSPzJh88YdN7",
        "colab_type": "code",
        "outputId": "e11bf6cd-bcc7-48ed-acdb-d33f4a562c4d",
        "colab": {
          "base_uri": "https://localhost:8080/",
          "height": 84
        }
      },
      "source": [
        "from sklearn.metrics import accuracy_score, recall_score, precision_score, f1_score\n",
        "\n",
        "print(\"Accuracy score: \", accuracy_score(y_test, predictions))\n",
        "print(\"Recall score: \", recall_score(y_test, predictions, average = 'weighted'))\n",
        "print(\"Precision score: \", precision_score(y_test, predictions, average = 'weighted'))\n",
        "print(\"F1 score: \", f1_score(y_test, predictions, average = 'weighted'))"
      ],
      "execution_count": 0,
      "outputs": [
        {
          "output_type": "stream",
          "text": [
            "Accuracy score:  0.2599930483142162\n",
            "Recall score:  0.2599930483142162\n",
            "Precision score:  0.2618250606061912\n",
            "F1 score:  0.2515737102825491\n"
          ],
          "name": "stdout"
        }
      ]
    },
    {
      "cell_type": "markdown",
      "metadata": {
        "id": "E0nremv3Ys7X",
        "colab_type": "text"
      },
      "source": [
        "### AutoML"
      ]
    },
    {
      "cell_type": "code",
      "metadata": {
        "id": "7_5M1gz2bbIB",
        "colab_type": "code",
        "colab": {}
      },
      "source": [
        "def get_words( headlines ):               \n",
        "    headlines_onlyletters = re.sub(\"[^a-zA-Z]\", \" \",headlines) #Remove everything other than letters     \n",
        "    words = headlines_onlyletters.lower().split() #Convert to lower case, split into individual words    \n",
        "    stops = set(stopwords.words(\"english\"))  #Convert the stopwords to a set for improvised performance                 \n",
        "    meaningful_words = [w for w in words if not w in stops]   #Removing stopwords\n",
        "    return( \" \".join( meaningful_words )) #Joining the words\n",
        "    "
      ],
      "execution_count": 0,
      "outputs": []
    },
    {
      "cell_type": "code",
      "metadata": {
        "id": "AlAAooAFbdd4",
        "colab_type": "code",
        "colab": {}
      },
      "source": [
        "\n",
        "all_data['encoded_label'] = all_data['encoded_label'].astype('int')"
      ],
      "execution_count": 0,
      "outputs": []
    },
    {
      "cell_type": "code",
      "metadata": {
        "id": "S6MxGHVuaTwk",
        "colab_type": "code",
        "colab": {}
      },
      "source": [
        "def prepareTestTraining(x_col, y_col, articleDataFrame):\n",
        "  #articleDataFrame['label_NewsCoverage'] = articleDataFrame['x_col'].astype('int')\n",
        "\n",
        "  # Separate the dataframe for input(X) and output variables(y)\n",
        "  #['Unnamed: 0', 'id', 'title', 'publication', 'author', 'date', 'year','month', 'url', 'content', 'NYT summary', 'processed_content','score', 'label_NewsCoverage']\n",
        "  X = articleDataFrame[x_col]\n",
        "  Y = articleDataFrame[y_col]\n",
        "\n",
        "  X_train, X_test, Y_train, Y_test = train_test_split(X, Y, test_size = 0.3)\n",
        "  X_train = np.array(X_train);\n",
        "  X_test = np.array(X_test);\n",
        "  Y_train = np.array(Y_train);\n",
        "  Y_test = np.array(Y_test);\n",
        "  cleanHeadlines_train = [] #To append processed headlines\n",
        "  cleanHeadlines_test = [] #To append processed headlines\n",
        "  number_reviews_train = len(X_train) #Calculating the number of reviews\n",
        "  number_reviews_test = len(X_test) #Calculating the number of reviews\n",
        "\n",
        "  for i in range(0,number_reviews_train):\n",
        "    cleanHeadline = get_words(X_train[i]) #Processing the data and getting words with no special characters, numbers or html tags\n",
        "    cleanHeadlines_train.append( cleanHeadline )\n",
        "  for i in range(0,number_reviews_test):\n",
        "    cleanHeadline = get_words(X_test[i]) #Processing the data and getting words with no special characters, numbers or html tags\n",
        "    cleanHeadlines_test.append( cleanHeadline )\n",
        "\n",
        "  #vectorize = CountVectorizer(stop_words='english')\n",
        "  vectorize = CountVectorizer(analyzer = \"word\",max_features = 1700)    #(stop_words='english')\n",
        "  bagOfWords_train = vectorize.fit_transform(cleanHeadlines_train)\n",
        "  X_train = bagOfWords_train.toarray()\n",
        "  bagOfWords_test = vectorize.transform(cleanHeadlines_test)\n",
        "  X_test = bagOfWords_test.toarray()\n",
        "\n",
        "  #call autoML\n",
        "  callAutoML(X_train,Y_train,X_test,Y_test)"
      ],
      "execution_count": 0,
      "outputs": []
    },
    {
      "cell_type": "code",
      "metadata": {
        "id": "vk-D-RsqY829",
        "colab_type": "code",
        "colab": {}
      },
      "source": [
        "from sklearn.discriminant_analysis import LinearDiscriminantAnalysis\n",
        "from sklearn.linear_model import LogisticRegression\n",
        "num_folds = 10\n",
        "seed = 7\n",
        "scoring = 'accuracy'\n",
        "\n",
        "models = []\n",
        "models.append(('LR' , LogisticRegression(random_state=0, solver='lbfgs', multi_class='multinomial')))\n",
        "models.append(('LDA' , LinearDiscriminantAnalysis()))\n",
        "#models.append(('KNN' , KNeighborsClassifier()))\n",
        "#models.append(('CART' , DecisionTreeClassifier()))\n",
        "#models.append(('NB' , GaussianNB()))\n",
        "#models.append(('SVM' , SVC()))\n",
        "models.append(('MNB', MultinomialNB()))\n",
        "models.append(('RF' , RandomForestClassifier(n_estimators=50)))\n",
        "#models.append(('XGBoost', XGBClassifier()))"
      ],
      "execution_count": 0,
      "outputs": []
    },
    {
      "cell_type": "code",
      "metadata": {
        "id": "iIodvcLKZAEa",
        "colab_type": "code",
        "colab": {}
      },
      "source": [
        "def callAutoML(X_train,Y_train,X_test,Y_test):\n",
        "  results = []\n",
        "  names = []\n",
        "\n",
        "  '''\n",
        "  for name, model in models:\n",
        "      kfold = KFold(n_splits=num_folds, random_state=42)\n",
        "      cv_results = cross_val_score(model, X_train, y_train, cv=kfold, scoring=scoring)\n",
        "      results.append(cv_results)\n",
        "      names.append(name)\n",
        "      msg = \"%s: %f (%f)\" % (name, cv_results.mean(), cv_results.std())\n",
        "      print(msg) '''\n",
        "\n",
        "  for name, model in models:\n",
        "      clf = model\n",
        "      clf.fit(X_train, Y_train)\n",
        "      Y_pred = clf.predict(X_test)\n",
        "      accu_score = accuracy_score(Y_test, Y_pred)\n",
        "      print(name + \": \" + str(accu_score))"
      ],
      "execution_count": 0,
      "outputs": []
    },
    {
      "cell_type": "code",
      "metadata": {
        "id": "8xKf1xhCa9mi",
        "colab_type": "code",
        "outputId": "473c4869-ee83-40b7-e285-d685bfc33fae",
        "colab": {
          "base_uri": "https://localhost:8080/",
          "height": 84
        }
      },
      "source": [
        "prepareTestTraining('processed_headline_text','encoded_label',all_data)"
      ],
      "execution_count": 0,
      "outputs": [
        {
          "output_type": "stream",
          "text": [
            "LR: 0.228786562409499\n",
            "LDA: 0.22589052997393572\n",
            "MNB: 0.23689545322907615\n",
            "RF: 0.24181870836953373\n"
          ],
          "name": "stdout"
        }
      ]
    },
    {
      "cell_type": "markdown",
      "metadata": {
        "id": "W_tlWLLFqPKU",
        "colab_type": "text"
      },
      "source": [
        "### Pipeline"
      ]
    },
    {
      "cell_type": "markdown",
      "metadata": {
        "id": "t752NLlssvd_",
        "colab_type": "text"
      },
      "source": [
        "#### Naive Bayes"
      ]
    },
    {
      "cell_type": "code",
      "metadata": {
        "id": "4ywJaD3Xqhip",
        "colab_type": "code",
        "colab": {}
      },
      "source": [
        "from sklearn.feature_extraction.text import TfidfVectorizer\n",
        "from sklearn.naive_bayes import MultinomialNB\n",
        "from sklearn.metrics import accuracy_score\n",
        "from sklearn.multiclass import OneVsRestClassifier\n",
        "from nltk.corpus import stopwords\n",
        "stop_words = set(stopwords.words('english'))\n",
        "from sklearn.svm import LinearSVC\n",
        "#from sklearn.linear_model import Logis\n",
        "\n",
        "# Define a pipeline combining a text feature extractor with multi lable classifier\n",
        "NB_pipeline = Pipeline([\n",
        "                ('tfidf', TfidfVectorizer(stop_words=stop_words)),\n",
        "                ('clf', OneVsRestClassifier(MultinomialNB(\n",
        "                    fit_prior=True, class_prior=None))),\n",
        "            ])"
      ],
      "execution_count": 0,
      "outputs": []
    },
    {
      "cell_type": "code",
      "metadata": {
        "id": "WzIU4x4br_qF",
        "colab_type": "code",
        "outputId": "12843eec-683a-41b3-d5ab-61231eeab6b8",
        "colab": {
          "base_uri": "https://localhost:8080/",
          "height": 34
        }
      },
      "source": [
        "# train the model using X_dtm & y\n",
        "NB_pipeline.fit(X_train, y_train)\n",
        "# compute the testing accuracy\n",
        "prediction = NB_pipeline.predict(X_test)\n",
        "print('Test accuracy is {}'.format(accuracy_score(y_test, prediction)))\n"
      ],
      "execution_count": 0,
      "outputs": [
        {
          "output_type": "stream",
          "text": [
            "Test accuracy is 0.2453945081682308\n"
          ],
          "name": "stdout"
        }
      ]
    },
    {
      "cell_type": "markdown",
      "metadata": {
        "id": "cz6vpvg6szDp",
        "colab_type": "text"
      },
      "source": [
        "#### LinearSVC"
      ]
    },
    {
      "cell_type": "code",
      "metadata": {
        "id": "sJftaeXqs5Gz",
        "colab_type": "code",
        "colab": {}
      },
      "source": [
        "SVC_pipeline = Pipeline([\n",
        "                ('tfidf', TfidfVectorizer(stop_words=stop_words)),\n",
        "                ('clf', OneVsRestClassifier(LinearSVC(), n_jobs=1)),\n",
        "            ])"
      ],
      "execution_count": 0,
      "outputs": []
    },
    {
      "cell_type": "code",
      "metadata": {
        "id": "idJhgtFMs9VI",
        "colab_type": "code",
        "outputId": "130a27c5-c9bc-4d0e-e804-f7b2e1ed5c81",
        "colab": {
          "base_uri": "https://localhost:8080/",
          "height": 34
        }
      },
      "source": [
        "SVC_pipeline.fit(X_train, y_train)\n",
        "# compute the testing accuracy\n",
        "prediction = SVC_pipeline.predict(X_test)\n",
        "print('Test accuracy is {}'.format(accuracy_score(y_test, prediction)))"
      ],
      "execution_count": 0,
      "outputs": [
        {
          "output_type": "stream",
          "text": [
            "Test accuracy is 0.24817518248175183\n"
          ],
          "name": "stdout"
        }
      ]
    },
    {
      "cell_type": "markdown",
      "metadata": {
        "id": "7ot3alvftjAW",
        "colab_type": "text"
      },
      "source": [
        "#### Logistic Regression"
      ]
    },
    {
      "cell_type": "code",
      "metadata": {
        "id": "DCXkTdmbtltk",
        "colab_type": "code",
        "outputId": "a79a557c-fa53-4ce3-8765-67e32fde65dc",
        "colab": {
          "base_uri": "https://localhost:8080/",
          "height": 34
        }
      },
      "source": [
        "LogReg_pipeline = Pipeline([\n",
        "                ('tfidf', TfidfVectorizer(stop_words=stop_words)),\n",
        "                ('clf', OneVsRestClassifier(LogisticRegression(solver='sag'), n_jobs=1)),\n",
        "            ])\n",
        "\n",
        "# train the model using X_dtm & y\n",
        "LogReg_pipeline.fit(X_train, y_train)\n",
        "# compute the testing accuracy\n",
        "prediction = LogReg_pipeline.predict(X_test)\n",
        "print('Test accuracy is {}'.format(accuracy_score(y_test, prediction)))"
      ],
      "execution_count": 0,
      "outputs": [
        {
          "output_type": "stream",
          "text": [
            "Test accuracy is 0.25060827250608275\n"
          ],
          "name": "stdout"
        }
      ]
    },
    {
      "cell_type": "markdown",
      "metadata": {
        "id": "Xi91-K0SAmkD",
        "colab_type": "text"
      },
      "source": [
        "## New Classification after LDA"
      ]
    },
    {
      "cell_type": "code",
      "metadata": {
        "id": "l0K6zc5RAqvP",
        "colab_type": "code",
        "colab": {}
      },
      "source": [
        "from sklearn.model_selection import RandomizedSearchCV, train_test_split\n",
        "from sklearn.model_selection._search import BaseSearchCV\n",
        "import pickle as pkl\n",
        "\n",
        "seed = 58\n",
        "\n",
        "# perform the split which gets us the train data and the test data\n",
        "news_train, news_test, labels_train, labels_test = train_test_split(doc2vec_vectors3, labels,\n",
        "                                                                    test_size=0.25,\n",
        "                                                                    random_state=seed,\n",
        "                                                                    stratify=labels)"
      ],
      "execution_count": 0,
      "outputs": []
    },
    {
      "cell_type": "code",
      "metadata": {
        "id": "QbcSvhxKA8e6",
        "colab_type": "code",
        "colab": {}
      },
      "source": [
        "import warnings\n",
        "# Ignore some unimportant warnings\n",
        "warnings.filterwarnings(\"ignore\") \n",
        "                        \n",
        "from mlxtend.classifier import EnsembleVoteClassifier\n",
        "\n",
        "from sklearn.metrics import classification_report\n",
        "from sklearn import model_selection\n",
        "from sklearn.naive_bayes import GaussianNB\n",
        "from sklearn.ensemble import GradientBoostingClassifier\n",
        "from scipy.stats import randint\n",
        "from scipy.stats.distributions import uniform\n",
        "from sklearn.neighbors import KNeighborsClassifier\n",
        "from sklearn.linear_model import LogisticRegression\n",
        "from sklearn.ensemble import RandomForestClassifier\n",
        "from sklearn.svm import SVC\n",
        "import numpy as np\n",
        "\n",
        "\n",
        "\n",
        "# KNN classifier\n",
        "knn = KNeighborsClassifier(algorithm='auto', leaf_size=30, metric='cosine',\n",
        "                           metric_params=None, n_jobs=1, n_neighbors=10, p=2,\n",
        "                           weights='distance')\n",
        "\n",
        "\n",
        "\n",
        "# SVC classifier\n",
        "svc = SVC(C=0.8, cache_size=200, class_weight=None, coef0=0.0,\n",
        "          decision_function_shape='ovr', degree=3, gamma='auto', kernel='rbf',\n",
        "          max_iter=-1, probability=True, random_state=0, shrinking=True,\n",
        "          tol=0.001, verbose=False)\n",
        "\n",
        "# GNB classifier\n",
        "gnb = GaussianNB(priors=None)\n",
        "\n",
        "# RF classifier\n",
        "rf = RandomForestClassifier(bootstrap=False, class_weight=None,\n",
        "                            criterion='entropy', max_depth=10, max_features=7,\n",
        "                            max_leaf_nodes=None, min_impurity_decrease=0.0,\n",
        "                            min_impurity_split=None, min_samples_leaf=9,\n",
        "                            min_samples_split=6, min_weight_fraction_leaf=0.0,\n",
        "                            n_estimators=50, n_jobs=1, oob_score=False, random_state=None,\n",
        "                            verbose=0, warm_start=False)\n",
        "\n",
        "# LG classifier\n",
        "lg = LogisticRegression(C=7.374558791, class_weight=None, dual=False,\n",
        "                        fit_intercept=True, intercept_scaling=1, max_iter=100,\n",
        "                        multi_class='ovr', n_jobs=1, penalty='l2', random_state=None,\n",
        "                        solver='liblinear', tol=0.0001, verbose=0, warm_start=False)\n",
        "\n",
        "#mnb = MultinomialNB()\n",
        "\n",
        "classifiers_list = [knn,  svc, gnb, rf, lg]\n",
        "model_names = ['knn',  'svc', 'gnb', 'rf', 'lg']"
      ],
      "execution_count": 0,
      "outputs": []
    },
    {
      "cell_type": "code",
      "metadata": {
        "id": "DdHNHTh0Bboy",
        "colab_type": "code",
        "outputId": "df48acb4-a58b-4c05-8f43-ee58619be797",
        "colab": {
          "base_uri": "https://localhost:8080/",
          "height": 185
        }
      },
      "source": [
        "from sklearn.metrics import classification_report\n",
        "\n",
        "# print details of testing results\n",
        "i = 0\n",
        "for model in classifiers_list:\n",
        "    model.fit(news_train, labels_train)\n",
        "    labels_pred = model.predict(news_test)\n",
        "    \n",
        "    # Report the metrics\n",
        "    target_names = ['true','mostly-true','half-true','barely-true','false','pants-fire']\n",
        "    print(model.__class__.__name__)\n",
        "    print('Test accuracy is {}'.format(accuracy_score(labels_test, labels_pred)))\n",
        "    #print(classification_report(y_true=labels_test, y_pred=labels_pred, target_names=target_names, digits=3))\n",
        "    #filename = model_names[i]+'.pkl'\n",
        "    #pkl.dump(model, open(filename, 'wb'))\n",
        "    i+=1"
      ],
      "execution_count": 0,
      "outputs": [
        {
          "output_type": "stream",
          "text": [
            "KNeighborsClassifier\n",
            "Test accuracy is 0.20264164059784498\n",
            "SVC\n",
            "Test accuracy is 0.20924574209245742\n",
            "GaussianNB\n",
            "Test accuracy is 0.22384428223844283\n",
            "RandomForestClassifier\n",
            "Test accuracy is 0.23531456378171706\n",
            "LogisticRegression\n",
            "Test accuracy is 0.2283628779979145\n"
          ],
          "name": "stdout"
        }
      ]
    },
    {
      "cell_type": "markdown",
      "metadata": {
        "id": "-i0AUXN5txI-",
        "colab_type": "text"
      },
      "source": [
        "# Reference\n",
        "\n",
        "* 1. https://github.com/susanli2016/Machine-Learning-with-Python\n",
        "* 2. https://www.kaggle.com/cnokello/news-article-classification-using-naive-bayes\n",
        "* 3. https://www.kaggle.com/ngyptr/multi-class-classification-with-lstm"
      ]
    }
  ]
}