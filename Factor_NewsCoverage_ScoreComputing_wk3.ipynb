{
  "nbformat": 4,
  "nbformat_minor": 0,
  "metadata": {
    "colab": {
      "name": "Factor_NewsCoverage_ScoreComputing_wk3.ipynb",
      "provenance": [],
      "collapsed_sections": [],
      "toc_visible": true,
      "machine_shape": "hm",
      "include_colab_link": true
    },
    "kernelspec": {
      "name": "python3",
      "display_name": "Python 3"
    },
    "accelerator": "GPU"
  },
  "cells": [
    {
      "cell_type": "markdown",
      "metadata": {
        "id": "view-in-github",
        "colab_type": "text"
      },
      "source": [
        "<a href=\"https://colab.research.google.com/github/s-c-soma/AlternusVera/blob/master/Factor_NewsCoverage_ScoreComputing_wk3.ipynb\" target=\"_parent\"><img src=\"https://colab.research.google.com/assets/colab-badge.svg\" alt=\"Open In Colab\"/></a>"
      ]
    },
    {
      "cell_type": "markdown",
      "metadata": {
        "id": "0wQQSqp-V7cE",
        "colab_type": "text"
      },
      "source": [
        "This NoteBook Is Part of the Ongoing Alterus Vera Assignment"
      ]
    },
    {
      "cell_type": "markdown",
      "metadata": {
        "id": "JG8gbRPAZQgj",
        "colab_type": "text"
      },
      "source": [
        "<h1>Alternus Vera - Final Version - Hyunwook Shin</h1>\n",
        "\n",
        "November 25, 2018\n",
        "012507417"
      ]
    },
    {
      "cell_type": "markdown",
      "metadata": {
        "id": "X1UkVSmlOB-j",
        "colab_type": "text"
      },
      "source": [
        "Link to the main group notebook from previous week(s):\n",
        "\n",
        "https://colab.research.google.com/drive/1bOoY6V0ytxSigKuZ6lJntNWJJcTM_6wU#scrollTo=ebnN4ikZzQtu"
      ]
    },
    {
      "cell_type": "markdown",
      "metadata": {
        "id": "kWBbJqDFhN5p",
        "colab_type": "text"
      },
      "source": [
        "## Subarna Chowdhury Soma"
      ]
    },
    {
      "cell_type": "code",
      "metadata": {
        "id": "wJKaCuStfGCW",
        "colab_type": "code",
        "outputId": "0fe701d1-f6aa-4d3f-9424-369b53d7d3e7",
        "colab": {
          "base_uri": "https://localhost:8080/",
          "height": 121
        }
      },
      "source": [
        "from google.colab import drive\n",
        "drive.mount('/content/drive')"
      ],
      "execution_count": 0,
      "outputs": [
        {
          "output_type": "stream",
          "text": [
            "Go to this URL in a browser: https://accounts.google.com/o/oauth2/auth?client_id=947318989803-6bn6qk8qdgf4n4g3pfee6491hc0brc4i.apps.googleusercontent.com&redirect_uri=urn%3aietf%3awg%3aoauth%3a2.0%3aoob&response_type=code&scope=email%20https%3a%2f%2fwww.googleapis.com%2fauth%2fdocs.test%20https%3a%2f%2fwww.googleapis.com%2fauth%2fdrive%20https%3a%2f%2fwww.googleapis.com%2fauth%2fdrive.photos.readonly%20https%3a%2f%2fwww.googleapis.com%2fauth%2fpeopleapi.readonly\n",
            "\n",
            "Enter your authorization code:\n",
            "··········\n",
            "Mounted at /content/drive\n"
          ],
          "name": "stdout"
        }
      ]
    },
    {
      "cell_type": "markdown",
      "metadata": {
        "id": "Q-8OIZALZUHv",
        "colab_type": "text"
      },
      "source": [
        "## 1 Introduction\n",
        "\n",
        "I will be focusing on the factor **news coverage** to identify  which if a news story is genuine or fake news, as shown below:\n",
        "\n",
        "| Factor | Explanation|\n",
        "| -- | -- |\n",
        "| Coverage of the latent event from outside sources  | Level of coverage regarding the latent story or topic  | \n",
        "\n",
        "\n",
        "The news coverage is the factor I put my most personal effort in, covering all areas of distillation (preprocessing, LDA, sentiment analysis)\n"
      ]
    },
    {
      "cell_type": "markdown",
      "metadata": {
        "id": "NOKUHCJAFRDb",
        "colab_type": "text"
      },
      "source": [
        "### 1.2 Contribution - Notebook\n",
        "\n",
        "The following notebook is prepared by Subarna Chowdhury Soma. "
      ]
    },
    {
      "cell_type": "markdown",
      "metadata": {
        "id": "psDhy-9WFWQr",
        "colab_type": "text"
      },
      "source": [
        "### 1.3 Definitions\n",
        "\n",
        "We shall define the  following terms as follows:\n",
        "\n",
        "* **coverage**  - number of news from media outlet that covered the same event or latent topic depicted in the article, within a fixed time window. There is a fixed window of time 1 month (coverage 30) and 2 months (coverage 60) before and after the article was published.\n",
        "\n",
        "\n",
        "\n",
        "\n",
        "\n"
      ]
    },
    {
      "cell_type": "markdown",
      "metadata": {
        "id": "Z3oI6SJzHc35",
        "colab_type": "text"
      },
      "source": [
        "## 2 Design Approach\n",
        "\n",
        "I shall try all the distillation approach on liar liar data set first and then on all news data set. Then I shall perform LDA to to identify topics with score. Next plan is comparing the topic stories between liar liar and all news data set. Most important task is computing news coverage score. Final implementation identifying best fit classification model through auto ML. Best performed classification will be applied on liar liar dataset, kaggle all news dataset and combined data set after amalgamation. "
      ]
    },
    {
      "cell_type": "markdown",
      "metadata": {
        "id": "OIM_ME3FGXtE",
        "colab_type": "text"
      },
      "source": [
        "### 2.1  Scope\n",
        "\n",
        "After the necessary distillation , the goal is to create approximate scores for news coverage.\n",
        "\n",
        "To summarize the document will focus on:\n",
        "\n",
        "1. Introduction\n",
        "2. Methods and Approaches\n",
        "3. Importing Data including Data Enrichment\n",
        "4. Other Preliminary Requirements\n",
        "5. Distillation Function Code Reuse and Refactored Code\n",
        "6. Topic Modeling and LDA Analysis\n",
        "7. New Coverage Factor using Word2Vec and Random Forrest Classifier\n"
      ]
    },
    {
      "cell_type": "markdown",
      "metadata": {
        "id": "chJbzhJcFciq",
        "colab_type": "text"
      },
      "source": [
        " ### 2.2 News Coverage\n",
        " * **Coverage** We first use topic modeling to find the key latent topics. Then we use a separate dataset called \"All the news\" dataset to see if there are other  articles covering a similar story. It is important to note that we are *not* cross-checking factual claims made in the article, but rather checking to see if a related and latent topic can be found in other news sources. If there are no external coverage for the story/topic, chances are that the article in question is likely a fake news. However, just because there are sufficient coverage during the time frame, it does not necessarily mean that the news is completely reliable.\n",
        "  \n"
      ]
    },
    {
      "cell_type": "markdown",
      "metadata": {
        "id": "YSJ18x01FgFv",
        "colab_type": "text"
      },
      "source": [
        "### 2.3 Alternative Methods Tried\n",
        "\n",
        "\n",
        "\n",
        "As a team we collected financial news data using API from Newyork Times and Reddit News for our first Machine Learning project. At first I tried to use that news collection, but that dataset has only two news source. For news coverage I need a data set with multiple source covering the same story. Later I have found Kaggle \"All News\" dataset which contains news of various domain from 15 news sources. So I am proceeding with Kaggle dataset for data enrichment and amalgamation.\n",
        "\n"
      ]
    },
    {
      "cell_type": "markdown",
      "metadata": {
        "id": "fOlkr5a4XBUY",
        "colab_type": "text"
      },
      "source": [
        "## 3 Data Preprataions\n"
      ]
    },
    {
      "cell_type": "markdown",
      "metadata": {
        "id": "syWUTZ9KIgXf",
        "colab_type": "text"
      },
      "source": [
        "### 3.1 Import Libraries"
      ]
    },
    {
      "cell_type": "code",
      "metadata": {
        "id": "uKTkSKmvt4pZ",
        "colab_type": "code",
        "outputId": "0c94c5f5-3ff7-4092-e6dc-1898f64e3cb5",
        "colab": {
          "base_uri": "https://localhost:8080/",
          "height": 34
        }
      },
      "source": [
        "# For caculating approximate time to process notebook (IGNORE)\n",
        "import datetime\n",
        "datetime.datetime.now()"
      ],
      "execution_count": 0,
      "outputs": [
        {
          "output_type": "execute_result",
          "data": {
            "text/plain": [
              "datetime.datetime(2020, 4, 27, 2, 14, 12, 95521)"
            ]
          },
          "metadata": {
            "tags": []
          },
          "execution_count": 2
        }
      ]
    },
    {
      "cell_type": "code",
      "metadata": {
        "id": "GbtKyhjPZPJn",
        "colab_type": "code",
        "outputId": "009e95db-d822-481e-f8fa-a9a7263fcaa0",
        "colab": {
          "base_uri": "https://localhost:8080/",
          "height": 101
        }
      },
      "source": [
        "from nltk.corpus import stopwords\n",
        "from string import punctuation\n",
        "\n",
        "import pandas as pd\n",
        "import nltk\n",
        "import io\n",
        "import requests\n",
        "import re\n",
        "\n",
        "# download nltk stopwords\n",
        "nltk.download('stopwords')\n",
        "nltk.download('wordnet')\n",
        "\n",
        "\n"
      ],
      "execution_count": 0,
      "outputs": [
        {
          "output_type": "stream",
          "text": [
            "[nltk_data] Downloading package stopwords to /root/nltk_data...\n",
            "[nltk_data]   Unzipping corpora/stopwords.zip.\n",
            "[nltk_data] Downloading package wordnet to /root/nltk_data...\n",
            "[nltk_data]   Unzipping corpora/wordnet.zip.\n"
          ],
          "name": "stdout"
        },
        {
          "output_type": "execute_result",
          "data": {
            "text/plain": [
              "True"
            ]
          },
          "metadata": {
            "tags": []
          },
          "execution_count": 3
        }
      ]
    },
    {
      "cell_type": "code",
      "metadata": {
        "id": "0JdYiClyeAkm",
        "colab_type": "code",
        "outputId": "6a0195bd-e905-480d-a9cb-6025a9311ffd",
        "colab": {
          "base_uri": "https://localhost:8080/",
          "height": 289
        }
      },
      "source": [
        "import argparse\n",
        "import pandas as pd\n",
        "import numpy as np\n",
        "import operator\n",
        "import matplotlib.pyplot as plt\n",
        "import nltk as nl\n",
        "from nltk.sentiment.vader import SentimentIntensityAnalyzer\n",
        "from sklearn.model_selection import ParameterGrid\n",
        "import statistics\n",
        "import random\n",
        "import warnings\n",
        "from string import punctuation\n",
        "from matplotlib import pyplot\n",
        "from pandas import Series, datetime\n",
        "from pandas.plotting import scatter_matrix, autocorrelation_plot\n",
        "from sklearn.preprocessing import StandardScaler\n",
        "from sklearn.model_selection import train_test_split, KFold, cross_val_score, GridSearchCV, TimeSeriesSplit\n",
        "from sklearn.metrics import classification_report, confusion_matrix, accuracy_score, mean_squared_error\n",
        "from sklearn.pipeline import Pipeline\n",
        "from sklearn.linear_model import LogisticRegression\n",
        "from sklearn.tree import DecisionTreeClassifier\n",
        "from sklearn.neighbors import KNeighborsClassifier\n",
        "from sklearn.discriminant_analysis import LinearDiscriminantAnalysis\n",
        "from sklearn.naive_bayes import GaussianNB\n",
        "from sklearn.svm import SVC\n",
        "from sklearn.ensemble import AdaBoostClassifier, GradientBoostingClassifier, RandomForestClassifier, ExtraTreesClassifier\n",
        "from sklearn.metrics import roc_curve, auc\n",
        "from sklearn.feature_extraction.text import CountVectorizer\n",
        "from xgboost import XGBClassifier\n",
        "from sklearn.naive_bayes import MultinomialNB\n",
        "import nltk\n",
        "import re\n",
        "import io\n",
        "import requests\n",
        "import time\n",
        "import gensim\n",
        "from nltk.stem.wordnet import WordNetLemmatizer\n",
        "from nltk.corpus import stopwords\n",
        "import nltk.sentiment\n",
        "\n",
        "nltk.download('punkt')\n",
        "nltk.download('stopwords')\n",
        "nltk.download('averaged_perceptron_tagger')\n",
        "nltk.download('punkt')\n",
        "nltk.download('wordnet')\n",
        "nltk.download('vader_lexicon')"
      ],
      "execution_count": 0,
      "outputs": [
        {
          "output_type": "stream",
          "text": [
            "/usr/local/lib/python3.6/dist-packages/nltk/twitter/__init__.py:20: UserWarning: The twython library has not been installed. Some functionality from the twitter package will not be available.\n",
            "  warnings.warn(\"The twython library has not been installed. \"\n"
          ],
          "name": "stderr"
        },
        {
          "output_type": "stream",
          "text": [
            "[nltk_data] Downloading package punkt to /root/nltk_data...\n",
            "[nltk_data]   Unzipping tokenizers/punkt.zip.\n",
            "[nltk_data] Downloading package stopwords to /root/nltk_data...\n",
            "[nltk_data]   Package stopwords is already up-to-date!\n",
            "[nltk_data] Downloading package averaged_perceptron_tagger to\n",
            "[nltk_data]     /root/nltk_data...\n",
            "[nltk_data]   Unzipping taggers/averaged_perceptron_tagger.zip.\n",
            "[nltk_data] Downloading package punkt to /root/nltk_data...\n",
            "[nltk_data]   Package punkt is already up-to-date!\n",
            "[nltk_data] Downloading package wordnet to /root/nltk_data...\n",
            "[nltk_data]   Package wordnet is already up-to-date!\n",
            "[nltk_data] Downloading package vader_lexicon to /root/nltk_data...\n"
          ],
          "name": "stdout"
        },
        {
          "output_type": "execute_result",
          "data": {
            "text/plain": [
              "True"
            ]
          },
          "metadata": {
            "tags": []
          },
          "execution_count": 4
        }
      ]
    },
    {
      "cell_type": "markdown",
      "metadata": {
        "id": "vpgjGVAEFmk7",
        "colab_type": "text"
      },
      "source": [
        "### 3.2 Data Load: Liar Liar Dataset\n",
        "\n",
        "For the purpose of this study, we will focus on the Kaggle's Liar Dataset (Risdal, 2016) The main benefit of Kaggle's Liar Dataset is the text entry that is included with the headline.\n",
        "\n",
        "https://github.com/synle/machine-learning-sample-dataset/raw/master/liar_dataset/kaggle"
      ]
    },
    {
      "cell_type": "code",
      "metadata": {
        "id": "4MOppAByIs4U",
        "colab_type": "code",
        "colab": {}
      },
      "source": [
        "def get_parsed_data(url, sep='\\t', header=None ):\n",
        "  return pd.read_csv(io.StringIO(requests.get(url).content.decode('utf-8')), sep=sep, header=header )\n",
        "\n",
        "# Download and parse the dataset... Let us first work with 100 articles\n",
        "KAGGLE_DATASET = 'https://github.com/synle/machine-learning-sample-dataset/raw/master/liar_dataset/kaggle'\n",
        "data_liar_liar = get_parsed_data('%s/kaggle-fake.csv'% KAGGLE_DATASET, ',' , 'infer' )[:1000]"
      ],
      "execution_count": 0,
      "outputs": []
    },
    {
      "cell_type": "code",
      "metadata": {
        "id": "b71vANUdD3Wu",
        "colab_type": "code",
        "outputId": "39378698-b01f-4f35-de29-f258623345db",
        "colab": {
          "base_uri": "https://localhost:8080/",
          "height": 214
        }
      },
      "source": [
        "data_liar_liar.head(1)"
      ],
      "execution_count": 0,
      "outputs": [
        {
          "output_type": "execute_result",
          "data": {
            "text/html": [
              "<div>\n",
              "<style scoped>\n",
              "    .dataframe tbody tr th:only-of-type {\n",
              "        vertical-align: middle;\n",
              "    }\n",
              "\n",
              "    .dataframe tbody tr th {\n",
              "        vertical-align: top;\n",
              "    }\n",
              "\n",
              "    .dataframe thead th {\n",
              "        text-align: right;\n",
              "    }\n",
              "</style>\n",
              "<table border=\"1\" class=\"dataframe\">\n",
              "  <thead>\n",
              "    <tr style=\"text-align: right;\">\n",
              "      <th></th>\n",
              "      <th>uuid</th>\n",
              "      <th>ord_in_thread</th>\n",
              "      <th>author</th>\n",
              "      <th>published</th>\n",
              "      <th>title</th>\n",
              "      <th>text</th>\n",
              "      <th>language</th>\n",
              "      <th>crawled</th>\n",
              "      <th>site_url</th>\n",
              "      <th>country</th>\n",
              "      <th>domain_rank</th>\n",
              "      <th>thread_title</th>\n",
              "      <th>spam_score</th>\n",
              "      <th>main_img_url</th>\n",
              "      <th>replies_count</th>\n",
              "      <th>participants_count</th>\n",
              "      <th>likes</th>\n",
              "      <th>comments</th>\n",
              "      <th>shares</th>\n",
              "      <th>type</th>\n",
              "    </tr>\n",
              "  </thead>\n",
              "  <tbody>\n",
              "    <tr>\n",
              "      <th>0</th>\n",
              "      <td>6a175f46bcd24d39b3e962ad0f29936721db70db</td>\n",
              "      <td>0</td>\n",
              "      <td>Barracuda Brigade</td>\n",
              "      <td>2016-10-26T21:41:00.000+03:00</td>\n",
              "      <td>Muslims BUSTED: They Stole Millions In Gov’t B...</td>\n",
              "      <td>Print They should pay all the back all the mon...</td>\n",
              "      <td>english</td>\n",
              "      <td>2016-10-27T01:49:27.168+03:00</td>\n",
              "      <td>100percentfedup.com</td>\n",
              "      <td>US</td>\n",
              "      <td>25689.0</td>\n",
              "      <td>Muslims BUSTED: They Stole Millions In Gov’t B...</td>\n",
              "      <td>0.0</td>\n",
              "      <td>http://bb4sp.com/wp-content/uploads/2016/10/Fu...</td>\n",
              "      <td>0</td>\n",
              "      <td>1</td>\n",
              "      <td>0</td>\n",
              "      <td>0</td>\n",
              "      <td>0</td>\n",
              "      <td>bias</td>\n",
              "    </tr>\n",
              "  </tbody>\n",
              "</table>\n",
              "</div>"
            ],
            "text/plain": [
              "                                       uuid  ord_in_thread  ... shares  type\n",
              "0  6a175f46bcd24d39b3e962ad0f29936721db70db              0  ...      0  bias\n",
              "\n",
              "[1 rows x 20 columns]"
            ]
          },
          "metadata": {
            "tags": []
          },
          "execution_count": 6
        }
      ]
    },
    {
      "cell_type": "markdown",
      "metadata": {
        "id": "BQ937__JFq8k",
        "colab_type": "text"
      },
      "source": [
        "### 3.3 Data Load: Kaggle All News Dataset\n",
        "\n",
        "We have use two main datasets to be used for data enrichment:\n",
        "\n",
        "**Dataset 1** - All The News (Thompson, 2017)\n",
        "- Original: https://www.kaggle.com/snapcrack/all-the-news\n",
        "- Github Link: https://github.com/hyunwookshin/all_news_dataset_kaggle\n",
        "\n",
        "The above data is useful for analyzing coverage report of non-fake news articles\n",
        "curated from mainstream news media sites.\n",
        "\n"
      ]
    },
    {
      "cell_type": "code",
      "metadata": {
        "id": "mUaf-4iXI8Tf",
        "colab_type": "code",
        "outputId": "98ff032c-d297-4631-ad07-1dfb307db442",
        "colab": {
          "base_uri": "https://localhost:8080/",
          "height": 70
        }
      },
      "source": [
        "# All News Kaggle\n",
        "\n",
        "def get_parsed_data2(url):\n",
        "    return pd.read_csv(io.StringIO(requests.get(url, verify=False).content.decode('utf-8')), sep=',', header='infer')\n",
        "\n",
        "# download and parse the dataset from github\n",
        "data_all_news = get_parsed_data2('https://media.githubusercontent.com/media/hyunwookshin/all_news_dataset_kaggle/master/articles1.csv')"
      ],
      "execution_count": 0,
      "outputs": [
        {
          "output_type": "stream",
          "text": [
            "/usr/local/lib/python3.6/dist-packages/urllib3/connectionpool.py:847: InsecureRequestWarning: Unverified HTTPS request is being made. Adding certificate verification is strongly advised. See: https://urllib3.readthedocs.io/en/latest/advanced-usage.html#ssl-warnings\n",
            "  InsecureRequestWarning)\n"
          ],
          "name": "stderr"
        }
      ]
    },
    {
      "cell_type": "markdown",
      "metadata": {
        "id": "Bl8tguc6Fz0T",
        "colab_type": "text"
      },
      "source": [
        "## 4 Distillation - Liar Liar Data"
      ]
    },
    {
      "cell_type": "markdown",
      "metadata": {
        "id": "m0aPcu4lD26_",
        "colab_type": "text"
      },
      "source": [
        "### 4.1 Tokenization\n",
        "\n",
        "As part of the distillation, we tokenize the headline and the body of the articles, by the following methods. First the words are split based on the white space. We also use this step to combine the title with the body of the article.\n",
        "\n",
        "\n",
        "\n"
      ]
    },
    {
      "cell_type": "code",
      "metadata": {
        "id": "yFMX9n-AvUdB",
        "colab_type": "code",
        "outputId": "972955cd-b39f-4d17-8ba7-f59a14a18eb0",
        "colab": {
          "base_uri": "https://localhost:8080/",
          "height": 214
        }
      },
      "source": [
        "data_liar_liar['text_distilled'] = data_liar_liar['title'].apply(lambda x : re.split('\\W+', str(x).lower())) +\\\n",
        "   data_liar_liar['text'].apply(lambda x : re.split('\\W+', str(x).lower()))\n",
        "data_liar_liar.head(1)"
      ],
      "execution_count": 0,
      "outputs": [
        {
          "output_type": "execute_result",
          "data": {
            "text/html": [
              "<div>\n",
              "<style scoped>\n",
              "    .dataframe tbody tr th:only-of-type {\n",
              "        vertical-align: middle;\n",
              "    }\n",
              "\n",
              "    .dataframe tbody tr th {\n",
              "        vertical-align: top;\n",
              "    }\n",
              "\n",
              "    .dataframe thead th {\n",
              "        text-align: right;\n",
              "    }\n",
              "</style>\n",
              "<table border=\"1\" class=\"dataframe\">\n",
              "  <thead>\n",
              "    <tr style=\"text-align: right;\">\n",
              "      <th></th>\n",
              "      <th>uuid</th>\n",
              "      <th>ord_in_thread</th>\n",
              "      <th>author</th>\n",
              "      <th>published</th>\n",
              "      <th>title</th>\n",
              "      <th>text</th>\n",
              "      <th>language</th>\n",
              "      <th>crawled</th>\n",
              "      <th>site_url</th>\n",
              "      <th>country</th>\n",
              "      <th>domain_rank</th>\n",
              "      <th>thread_title</th>\n",
              "      <th>spam_score</th>\n",
              "      <th>main_img_url</th>\n",
              "      <th>replies_count</th>\n",
              "      <th>participants_count</th>\n",
              "      <th>likes</th>\n",
              "      <th>comments</th>\n",
              "      <th>shares</th>\n",
              "      <th>type</th>\n",
              "      <th>text_distilled</th>\n",
              "    </tr>\n",
              "  </thead>\n",
              "  <tbody>\n",
              "    <tr>\n",
              "      <th>0</th>\n",
              "      <td>6a175f46bcd24d39b3e962ad0f29936721db70db</td>\n",
              "      <td>0</td>\n",
              "      <td>Barracuda Brigade</td>\n",
              "      <td>2016-10-26T21:41:00.000+03:00</td>\n",
              "      <td>Muslims BUSTED: They Stole Millions In Gov’t B...</td>\n",
              "      <td>Print They should pay all the back all the mon...</td>\n",
              "      <td>english</td>\n",
              "      <td>2016-10-27T01:49:27.168+03:00</td>\n",
              "      <td>100percentfedup.com</td>\n",
              "      <td>US</td>\n",
              "      <td>25689.0</td>\n",
              "      <td>Muslims BUSTED: They Stole Millions In Gov’t B...</td>\n",
              "      <td>0.0</td>\n",
              "      <td>http://bb4sp.com/wp-content/uploads/2016/10/Fu...</td>\n",
              "      <td>0</td>\n",
              "      <td>1</td>\n",
              "      <td>0</td>\n",
              "      <td>0</td>\n",
              "      <td>0</td>\n",
              "      <td>bias</td>\n",
              "      <td>[muslims, busted, they, stole, millions, in, g...</td>\n",
              "    </tr>\n",
              "  </tbody>\n",
              "</table>\n",
              "</div>"
            ],
            "text/plain": [
              "                                       uuid  ...                                     text_distilled\n",
              "0  6a175f46bcd24d39b3e962ad0f29936721db70db  ...  [muslims, busted, they, stole, millions, in, g...\n",
              "\n",
              "[1 rows x 21 columns]"
            ]
          },
          "metadata": {
            "tags": []
          },
          "execution_count": 8
        }
      ]
    },
    {
      "cell_type": "code",
      "metadata": {
        "id": "AwTbLXScyNPI",
        "colab_type": "code",
        "outputId": "774ec7b0-e8be-475b-c1c1-c3d5b2c1467a",
        "colab": {
          "base_uri": "https://localhost:8080/",
          "height": 437
        }
      },
      "source": [
        "data_liar_liar.text_distilled[0][:25]"
      ],
      "execution_count": 0,
      "outputs": [
        {
          "output_type": "execute_result",
          "data": {
            "text/plain": [
              "['muslims',\n",
              " 'busted',\n",
              " 'they',\n",
              " 'stole',\n",
              " 'millions',\n",
              " 'in',\n",
              " 'gov',\n",
              " 't',\n",
              " 'benefits',\n",
              " 'print',\n",
              " 'they',\n",
              " 'should',\n",
              " 'pay',\n",
              " 'all',\n",
              " 'the',\n",
              " 'back',\n",
              " 'all',\n",
              " 'the',\n",
              " 'money',\n",
              " 'plus',\n",
              " 'interest',\n",
              " 'the',\n",
              " 'entire',\n",
              " 'family',\n",
              " 'and']"
            ]
          },
          "metadata": {
            "tags": []
          },
          "execution_count": 9
        }
      ]
    },
    {
      "cell_type": "markdown",
      "metadata": {
        "id": "K9zg6DzVyV1Q",
        "colab_type": "text"
      },
      "source": [
        "### 4.2 Lemmatization\n",
        "  \n",
        "First, the raw words must be converted to root forms.  The words are converted to their root stems based on the following using lemmaitization. Stemming using nltk.PorterStemmer was used previously, but eventually dropped due to its method of dropping suffixes without correction to the root stem. For example, stemming resulted in non-existent words such as 'plu',  'interest',  'entir',  'famili',  'everyon'."
      ]
    },
    {
      "cell_type": "code",
      "metadata": {
        "id": "Qs9YyZ8WygUo",
        "colab_type": "code",
        "outputId": "134e87c8-050f-45f4-c9cd-496c1397ef69",
        "colab": {
          "base_uri": "https://localhost:8080/",
          "height": 269
        }
      },
      "source": [
        "def lemmatize(tokenized_words):\n",
        "  text = [nltk.WordNetLemmatizer().lemmatize(word) for word in tokenized_words]\n",
        "  return text\n",
        "\n",
        "# Commented out per rationale above\n",
        "#def stemming(tokenized_words):\n",
        "#  text = [nltk.PorterStemmer().stem(word) for word in tokenized_words]\n",
        "#  return text\n",
        "\n",
        "data_liar_liar['text_distilled_lemma'] = data_liar_liar['text_distilled'].apply(lemmatize)\n",
        "data_liar_liar.text_distilled[0][:15]"
      ],
      "execution_count": 0,
      "outputs": [
        {
          "output_type": "execute_result",
          "data": {
            "text/plain": [
              "['muslims',\n",
              " 'busted',\n",
              " 'they',\n",
              " 'stole',\n",
              " 'millions',\n",
              " 'in',\n",
              " 'gov',\n",
              " 't',\n",
              " 'benefits',\n",
              " 'print',\n",
              " 'they',\n",
              " 'should',\n",
              " 'pay',\n",
              " 'all',\n",
              " 'the']"
            ]
          },
          "metadata": {
            "tags": []
          },
          "execution_count": 10
        }
      ]
    },
    {
      "cell_type": "markdown",
      "metadata": {
        "id": "CRnq7Orw5sSW",
        "colab_type": "text"
      },
      "source": [
        "### 4.3 Removing Stop words\n",
        "\n",
        "Let us remove stop words, which are absolutely critical in determining keywords indicative of timed event."
      ]
    },
    {
      "cell_type": "code",
      "metadata": {
        "id": "7axUBcsp5yXD",
        "colab_type": "code",
        "outputId": "2587e889-a61c-417c-b574-67cb24cfc7e5",
        "colab": {
          "base_uri": "https://localhost:8080/",
          "height": 269
        }
      },
      "source": [
        "english_stopwords = set(stopwords.words('english') + list(punctuation) + [''])\n",
        "\n",
        "def remove_stopwords(tokenized_words):\n",
        "  text = [word for word in tokenized_words if word not in english_stopwords]\n",
        "  return text\n",
        "\n",
        "data_liar_liar['text_distilled'] = data_liar_liar['text_distilled'].apply(remove_stopwords)\n",
        "data_liar_liar.text_distilled[0][:15]"
      ],
      "execution_count": 0,
      "outputs": [
        {
          "output_type": "execute_result",
          "data": {
            "text/plain": [
              "['muslims',\n",
              " 'busted',\n",
              " 'stole',\n",
              " 'millions',\n",
              " 'gov',\n",
              " 'benefits',\n",
              " 'print',\n",
              " 'pay',\n",
              " 'back',\n",
              " 'money',\n",
              " 'plus',\n",
              " 'interest',\n",
              " 'entire',\n",
              " 'family',\n",
              " 'everyone']"
            ]
          },
          "metadata": {
            "tags": []
          },
          "execution_count": 11
        }
      ]
    },
    {
      "cell_type": "markdown",
      "metadata": {
        "id": "ejCglovYHwyb",
        "colab_type": "text"
      },
      "source": [
        "### 4.4 Custom Filtering\n",
        "\n",
        "One or two-letter words from the tokenized words are also removed to further cleanse the raw text. First, two-letter words are chosen one by one (there are roughly 100 to 150 words, plus some common country codes). Each word, is examined whether it is worth keeping. Of course, there are more two-letter words than the whitelist shown below, but many of them (e.g. so, am, it) are already eliminated using stop words. If we build a dictionary of all these non-trivial words that are two-letters long, this will help improve the accuracy of the model."
      ]
    },
    {
      "cell_type": "code",
      "metadata": {
        "id": "Z9ujoC42HwGM",
        "colab_type": "code",
        "colab": {}
      },
      "source": [
        "whitelist = set(['ai', 'ax', 'ca', 'eu', 'go', 'io', 'la', 'ox', 'us', 'uk', \n",
        "                 'al', 'ak', 'az', 'ar', 'ca', 'co', 'ct', 'de', 'fl', 'ga', 'hi', \n",
        "                 'id', 'il', 'in', 'ia', 'ks', 'ky', 'la', 'me', 'md', 'ma', 'mi',\n",
        "                 'mn', 'ms', 'mo', 'mt', 'ne', 'nv', 'nh', 'nj', 'nm', 'ny',\n",
        "                 'nc', 'nd', 'oh', 'ok', 'or', 'pa', 'ri', 'sc', 'sd', 'tn',\n",
        "                 'tx', 'ut', 'vt', 'va', 'wa', 'wv', 'wi', 'wy' ])\n",
        "def remove_too_short(tokenized_words):\n",
        "  text = [word for word in tokenized_words if (len(word) >= 3 or word not in whitelist) ]\n",
        "  return text"
      ],
      "execution_count": 0,
      "outputs": []
    },
    {
      "cell_type": "code",
      "metadata": {
        "id": "iG4ozbF3I_gb",
        "colab_type": "code",
        "outputId": "862f528d-12d2-4bb1-8a4b-a8de7b714876",
        "colab": {
          "base_uri": "https://localhost:8080/",
          "height": 269
        }
      },
      "source": [
        "data_liar_liar['text_distilled'] = data_liar_liar['text_distilled'].apply(remove_too_short)\n",
        "data_liar_liar.text_distilled[0][:15]"
      ],
      "execution_count": 0,
      "outputs": [
        {
          "output_type": "execute_result",
          "data": {
            "text/plain": [
              "['muslims',\n",
              " 'busted',\n",
              " 'stole',\n",
              " 'millions',\n",
              " 'gov',\n",
              " 'benefits',\n",
              " 'print',\n",
              " 'pay',\n",
              " 'back',\n",
              " 'money',\n",
              " 'plus',\n",
              " 'interest',\n",
              " 'entire',\n",
              " 'family',\n",
              " 'everyone']"
            ]
          },
          "metadata": {
            "tags": []
          },
          "execution_count": 13
        }
      ]
    },
    {
      "cell_type": "markdown",
      "metadata": {
        "id": "VJZExfZ4F5DY",
        "colab_type": "text"
      },
      "source": [
        "## 5 Topic Modeling - Liar Liar Data"
      ]
    },
    {
      "cell_type": "markdown",
      "metadata": {
        "id": "DGmEhyrkC0e5",
        "colab_type": "text"
      },
      "source": [
        "### 5.1 LDA Analysis\n"
      ]
    },
    {
      "cell_type": "code",
      "metadata": {
        "id": "aMZcdhA7E0Rv",
        "colab_type": "code",
        "outputId": "c84d56ff-2c8c-4686-88e0-265cb6b688fb",
        "colab": {
          "base_uri": "https://localhost:8080/",
          "height": 322
        }
      },
      "source": [
        "! pip install gensim"
      ],
      "execution_count": 0,
      "outputs": [
        {
          "output_type": "stream",
          "text": [
            "Requirement already satisfied: gensim in /usr/local/lib/python3.6/dist-packages (3.6.0)\n",
            "Requirement already satisfied: smart-open>=1.2.1 in /usr/local/lib/python3.6/dist-packages (from gensim) (1.11.1)\n",
            "Requirement already satisfied: six>=1.5.0 in /usr/local/lib/python3.6/dist-packages (from gensim) (1.12.0)\n",
            "Requirement already satisfied: scipy>=0.18.1 in /usr/local/lib/python3.6/dist-packages (from gensim) (1.4.1)\n",
            "Requirement already satisfied: numpy>=1.11.3 in /usr/local/lib/python3.6/dist-packages (from gensim) (1.18.3)\n",
            "Requirement already satisfied: boto3 in /usr/local/lib/python3.6/dist-packages (from smart-open>=1.2.1->gensim) (1.12.43)\n",
            "Requirement already satisfied: requests in /usr/local/lib/python3.6/dist-packages (from smart-open>=1.2.1->gensim) (2.21.0)\n",
            "Requirement already satisfied: boto in /usr/local/lib/python3.6/dist-packages (from smart-open>=1.2.1->gensim) (2.49.0)\n",
            "Requirement already satisfied: jmespath<1.0.0,>=0.7.1 in /usr/local/lib/python3.6/dist-packages (from boto3->smart-open>=1.2.1->gensim) (0.9.5)\n",
            "Requirement already satisfied: botocore<1.16.0,>=1.15.43 in /usr/local/lib/python3.6/dist-packages (from boto3->smart-open>=1.2.1->gensim) (1.15.43)\n",
            "Requirement already satisfied: s3transfer<0.4.0,>=0.3.0 in /usr/local/lib/python3.6/dist-packages (from boto3->smart-open>=1.2.1->gensim) (0.3.3)\n",
            "Requirement already satisfied: chardet<3.1.0,>=3.0.2 in /usr/local/lib/python3.6/dist-packages (from requests->smart-open>=1.2.1->gensim) (3.0.4)\n",
            "Requirement already satisfied: certifi>=2017.4.17 in /usr/local/lib/python3.6/dist-packages (from requests->smart-open>=1.2.1->gensim) (2020.4.5.1)\n",
            "Requirement already satisfied: idna<2.9,>=2.5 in /usr/local/lib/python3.6/dist-packages (from requests->smart-open>=1.2.1->gensim) (2.8)\n",
            "Requirement already satisfied: urllib3<1.25,>=1.21.1 in /usr/local/lib/python3.6/dist-packages (from requests->smart-open>=1.2.1->gensim) (1.24.3)\n",
            "Requirement already satisfied: python-dateutil<3.0.0,>=2.1 in /usr/local/lib/python3.6/dist-packages (from botocore<1.16.0,>=1.15.43->boto3->smart-open>=1.2.1->gensim) (2.8.1)\n",
            "Requirement already satisfied: docutils<0.16,>=0.10 in /usr/local/lib/python3.6/dist-packages (from botocore<1.16.0,>=1.15.43->boto3->smart-open>=1.2.1->gensim) (0.15.2)\n"
          ],
          "name": "stdout"
        }
      ]
    },
    {
      "cell_type": "code",
      "metadata": {
        "id": "M7Fdvch1EjQ4",
        "colab_type": "code",
        "colab": {}
      },
      "source": [
        "from gensim.models.ldamodel import LdaModel\n",
        "from gensim.corpora import Dictionary\n",
        "\n",
        "def topics(tokenized_words):\n",
        "    d = Dictionary([tokenized_words])\n",
        "    c = [d.doc2bow(tokenized_words)]\n",
        "    m = LdaModel(c, num_topics=1, id2word=d)\n",
        "    return list(m.print_topics(num_words=2))\n",
        "  \n",
        "data_liar_liar['topics'] = data_liar_liar['text_distilled'].apply(topics)\n"
      ],
      "execution_count": 0,
      "outputs": []
    },
    {
      "cell_type": "markdown",
      "metadata": {
        "id": "U2_6vpztHdgn",
        "colab_type": "text"
      },
      "source": [
        "Let us analyze the topics of some sample articles:"
      ]
    },
    {
      "cell_type": "code",
      "metadata": {
        "id": "bYd-SH8nHhOI",
        "colab_type": "code",
        "outputId": "2cb3e9ee-4aaa-4647-ede5-e1ac76d02d02",
        "colab": {
          "base_uri": "https://localhost:8080/",
          "height": 50
        }
      },
      "source": [
        "data_liar_liar.title[1],data_liar_liar.topics[1]"
      ],
      "execution_count": 0,
      "outputs": [
        {
          "output_type": "execute_result",
          "data": {
            "text/plain": [
              "('Re: Why Did Attorney General Loretta Lynch Plead The Fifth?',\n",
              " [(0, '0.033*\"lynch\" + 0.020*\"attorney\"')])"
            ]
          },
          "metadata": {
            "tags": []
          },
          "execution_count": 16
        }
      ]
    },
    {
      "cell_type": "code",
      "metadata": {
        "id": "pbXOFnFFHlMX",
        "colab_type": "code",
        "outputId": "fedc51af-d5a9-40c2-89bd-94e6bfd0dbef",
        "colab": {
          "base_uri": "https://localhost:8080/",
          "height": 50
        }
      },
      "source": [
        "data_liar_liar.title[2],data_liar_liar.topics[3]"
      ],
      "execution_count": 0,
      "outputs": [
        {
          "output_type": "execute_result",
          "data": {
            "text/plain": [
              "('BREAKING: Weiner Cooperating With FBI On Hillary Email Investigation',\n",
              " [(0, '0.049*\"speech\" + 0.037*\"donald\"')])"
            ]
          },
          "metadata": {
            "tags": []
          },
          "execution_count": 17
        }
      ]
    },
    {
      "cell_type": "code",
      "metadata": {
        "id": "OtorWr60Hndl",
        "colab_type": "code",
        "outputId": "9fab5a95-2eb2-4593-d638-b0476ebb00b8",
        "colab": {
          "base_uri": "https://localhost:8080/",
          "height": 50
        }
      },
      "source": [
        "data_liar_liar.title[3],data_liar_liar.topics[3]"
      ],
      "execution_count": 0,
      "outputs": [
        {
          "output_type": "execute_result",
          "data": {
            "text/plain": [
              "('PIN DROP SPEECH BY FATHER OF DAUGHTER Kidnapped And Killed By ISIS: \"I have voted for Donald J. Trump!\" » 100percentfedUp.com',\n",
              " [(0, '0.049*\"speech\" + 0.037*\"donald\"')])"
            ]
          },
          "metadata": {
            "tags": []
          },
          "execution_count": 18
        }
      ]
    },
    {
      "cell_type": "code",
      "metadata": {
        "id": "OVo-d0S6H_Q5",
        "colab_type": "code",
        "outputId": "ba5cff8c-ab56-4e3d-d104-f8b3bed70525",
        "colab": {
          "base_uri": "https://localhost:8080/",
          "height": 50
        }
      },
      "source": [
        "data_liar_liar.title[4],data_liar_liar.topics[4]"
      ],
      "execution_count": 0,
      "outputs": [
        {
          "output_type": "execute_result",
          "data": {
            "text/plain": [
              "(\"FANTASTIC! TRUMP'S 7 POINT PLAN To Reform Healthcare Begins With A Bombshell! » 100percentfedUp.com\",\n",
              " [(0, '0.022*\"insurance\" + 0.016*\"must\"')])"
            ]
          },
          "metadata": {
            "tags": []
          },
          "execution_count": 19
        }
      ]
    },
    {
      "cell_type": "code",
      "metadata": {
        "id": "UsAmtH0abASA",
        "colab_type": "code",
        "outputId": "66357eee-1cab-4b0d-f2d3-493699bc50f0",
        "colab": {
          "base_uri": "https://localhost:8080/",
          "height": 34
        }
      },
      "source": [
        "len(data_liar_liar.title)"
      ],
      "execution_count": 0,
      "outputs": [
        {
          "output_type": "execute_result",
          "data": {
            "text/plain": [
              "1000"
            ]
          },
          "metadata": {
            "tags": []
          },
          "execution_count": 20
        }
      ]
    },
    {
      "cell_type": "markdown",
      "metadata": {
        "id": "ze4YTpBLultl",
        "colab_type": "text"
      },
      "source": [
        "### 5.2 Topics as Simple List of Words\n",
        "\n",
        "A list of topic terms is compiled as show below. The coefficients in front of each word are dropped as part of simplification. The assumption is that the top two words comprising the topic, are both significant enough to be treated equally. It is important that the goal is to build a reliable prediction model. While there is a risk of oversimplification, if the final model results in a poor accuracy score, the coefficient can always be reintroduced here."
      ]
    },
    {
      "cell_type": "code",
      "metadata": {
        "id": "a1fxmdcyuqoB",
        "colab_type": "code",
        "colab": {}
      },
      "source": [
        "def parseTopics(topics):\n",
        "   output = []\n",
        "   words = topics[0][1].split( '+' )\n",
        "   for word in words:\n",
        "       output.append( word.split('*')[1].replace( '\"', '' ) )\n",
        "   return output\n",
        "\n",
        "data_liar_liar['topics'] = data_liar_liar['topics'].apply(parseTopics)"
      ],
      "execution_count": 0,
      "outputs": []
    },
    {
      "cell_type": "code",
      "metadata": {
        "id": "ea1LjWkvyjGg",
        "colab_type": "code",
        "outputId": "a2642088-3ce4-4cfc-8aa4-ec5b031e5164",
        "colab": {
          "base_uri": "https://localhost:8080/",
          "height": 50
        }
      },
      "source": [
        "data_liar_liar.title[1],data_liar_liar.topics[1]"
      ],
      "execution_count": 0,
      "outputs": [
        {
          "output_type": "execute_result",
          "data": {
            "text/plain": [
              "('Re: Why Did Attorney General Loretta Lynch Plead The Fifth?',\n",
              " ['lynch ', 'attorney'])"
            ]
          },
          "metadata": {
            "tags": []
          },
          "execution_count": 22
        }
      ]
    },
    {
      "cell_type": "markdown",
      "metadata": {
        "id": "4zphchkmJTFm",
        "colab_type": "text"
      },
      "source": [
        "\n",
        "\n",
        "## 6 Data Enrichment and Visual Analysis\n",
        "\n",
        "The notebook uses Kaggle's \"All the news\" dataset to curate reference articles to enrich the study of coverage analysis  (Thompson,  2017).\n",
        "\n"
      ]
    },
    {
      "cell_type": "markdown",
      "metadata": {
        "id": "S2-jg47QJw-E",
        "colab_type": "text"
      },
      "source": [
        "Since \"articles1.csv\" was sufficient to get a good coverage analysis. The data from articles2.csv and articles3.csv were dropped. Including all data unnecesarily, can result in slow distillation, training and testing."
      ]
    },
    {
      "cell_type": "code",
      "metadata": {
        "id": "Po0XsMLYfajj",
        "colab_type": "code",
        "colab": {}
      },
      "source": [
        "#data_all_news = pd.read_csv('/content/drive/My Drive/Colab Notebooks/articles1.csv', low_memory =False, encoding = \"ISO-8859-1\")\n",
        "#data_all_news.head(20)"
      ],
      "execution_count": 0,
      "outputs": []
    },
    {
      "cell_type": "markdown",
      "metadata": {
        "id": "aI2CymBjK90q",
        "colab_type": "text"
      },
      "source": [
        "### 6.1 Article Count by News Sources"
      ]
    },
    {
      "cell_type": "code",
      "metadata": {
        "id": "4eqDPc3FLH2q",
        "colab_type": "code",
        "outputId": "e9e2d1f2-c767-4581-8957-c73e5d6565ff",
        "colab": {
          "base_uri": "https://localhost:8080/",
          "height": 488
        }
      },
      "source": [
        "print(\"\\nArticle counts by publisher:\")\n",
        "s= data_all_news['publication'].value_counts()\n",
        "print(s)\n",
        "s.plot(kind='bar')"
      ],
      "execution_count": 0,
      "outputs": [
        {
          "output_type": "stream",
          "text": [
            "\n",
            "Article counts by publisher:\n",
            "Breitbart           23781\n",
            "CNN                 11488\n",
            "New York Times       7803\n",
            "Business Insider     6757\n",
            "Atlantic              171\n",
            "Name: publication, dtype: int64\n"
          ],
          "name": "stdout"
        },
        {
          "output_type": "execute_result",
          "data": {
            "text/plain": [
              "<matplotlib.axes._subplots.AxesSubplot at 0x7f69f36cbf98>"
            ]
          },
          "metadata": {
            "tags": []
          },
          "execution_count": 24
        },
        {
          "output_type": "display_data",
          "data": {
            "image/png": "[encoded data removed]",
            "text/plain": [
              "<Figure size 432x288 with 1 Axes>"
            ]
          },
          "metadata": {
            "tags": [],
            "needs_background": "light"
          }
        }
      ]
    },
    {
      "cell_type": "markdown",
      "metadata": {
        "id": "1OlXGP9BLT0K",
        "colab_type": "text"
      },
      "source": [
        "### 6.2 Article Count by Date"
      ]
    },
    {
      "cell_type": "code",
      "metadata": {
        "id": "nB4g3VsxLYfm",
        "colab_type": "code",
        "outputId": "f3525c85-f2a4-4597-fc63-ae80edf80963",
        "colab": {
          "base_uri": "https://localhost:8080/",
          "height": 565
        }
      },
      "source": [
        "print(\"\\nArticle counts by date:\")\n",
        "s= data_all_news['date'].value_counts()\n",
        "print(s)\n",
        "s.plot(kind='bar')"
      ],
      "execution_count": 0,
      "outputs": [
        {
          "output_type": "stream",
          "text": [
            "\n",
            "Article counts by date:\n",
            "2016-08-22    221\n",
            "2017-04-13    187\n",
            "2017-04-14    180\n",
            "2017-02-03    172\n",
            "2017-04-07    169\n",
            "             ... \n",
            "2014-03-03      1\n",
            "2013-05-24      1\n",
            "2013-08-15      1\n",
            "2013-07-19      1\n",
            "2012-12-21      1\n",
            "Name: date, Length: 983, dtype: int64\n"
          ],
          "name": "stdout"
        },
        {
          "output_type": "execute_result",
          "data": {
            "text/plain": [
              "<matplotlib.axes._subplots.AxesSubplot at 0x7f69f38368d0>"
            ]
          },
          "metadata": {
            "tags": []
          },
          "execution_count": 25
        },
        {
          "output_type": "display_data",
          "data": {
            "image/png": "[encoded data removed]",
            "text/plain": [
              "<Figure size 432x288 with 1 Axes>"
            ]
          },
          "metadata": {
            "tags": [],
            "needs_background": "light"
          }
        }
      ]
    },
    {
      "cell_type": "markdown",
      "metadata": {
        "id": "vkfLrxSrMFx8",
        "colab_type": "text"
      },
      "source": [
        "## 7 Distillation - Kaggle All News Dataset"
      ]
    },
    {
      "cell_type": "markdown",
      "metadata": {
        "id": "ZhQ-IF-zOUO0",
        "colab_type": "text"
      },
      "source": [
        "### 7.1 Cleansing \"All News\" Articles and Finding Document Similarity\n",
        "\n",
        "For each article, the goal is to count all relevant articles in the data_all_news dataset that contain similar topics. To achieve this, we also need to do a latent topic modelling.\n",
        "\n"
      ]
    },
    {
      "cell_type": "markdown",
      "metadata": {
        "id": "b9l9rOTXKamH",
        "colab_type": "text"
      },
      "source": [
        "### 7.2 Distillation - Tokenization"
      ]
    },
    {
      "cell_type": "code",
      "metadata": {
        "id": "sbO7ZLO1YH4W",
        "colab_type": "code",
        "colab": {}
      },
      "source": [
        "data_all_news['text_distilled'] = data_all_news['title'].apply(lambda x : re.split('\\W+', str(x).lower())) +\\\n",
        "   data_all_news['content'].apply(lambda x : re.split('\\W+', str(x).lower()))"
      ],
      "execution_count": 0,
      "outputs": []
    },
    {
      "cell_type": "markdown",
      "metadata": {
        "id": "E9irzj0FZEhF",
        "colab_type": "text"
      },
      "source": [
        "### 7.3 Distillation - Lemmatization"
      ]
    },
    {
      "cell_type": "code",
      "metadata": {
        "id": "PAfdciGTZI1O",
        "colab_type": "code",
        "colab": {}
      },
      "source": [
        "data_all_news['text_distilled'] = data_all_news['text_distilled'].apply(lemmatize)"
      ],
      "execution_count": 0,
      "outputs": []
    },
    {
      "cell_type": "markdown",
      "metadata": {
        "id": "grYBujqWZOq6",
        "colab_type": "text"
      },
      "source": [
        "### 7.4 Distillation - Stop Words"
      ]
    },
    {
      "cell_type": "code",
      "metadata": {
        "id": "gX8qfbHaZQs7",
        "colab_type": "code",
        "colab": {}
      },
      "source": [
        "data_all_news['text_distilled'] = data_all_news['text_distilled'].apply(remove_stopwords)"
      ],
      "execution_count": 0,
      "outputs": []
    },
    {
      "cell_type": "markdown",
      "metadata": {
        "id": "gY0-N4QcZVZg",
        "colab_type": "text"
      },
      "source": [
        "### 7.5 Distillation - Additional"
      ]
    },
    {
      "cell_type": "code",
      "metadata": {
        "id": "NE_D_lRwZeFS",
        "colab_type": "code",
        "outputId": "2a4769fe-04e9-4917-a159-080752588bde",
        "colab": {
          "base_uri": "https://localhost:8080/",
          "height": 269
        }
      },
      "source": [
        "data_all_news['text_distilled'] = data_all_news['text_distilled'].apply(remove_too_short)\n",
        "data_all_news.text_distilled[0][:15]"
      ],
      "execution_count": 0,
      "outputs": [
        {
          "output_type": "execute_result",
          "data": {
            "text/plain": [
              "['house',\n",
              " 'republican',\n",
              " 'fret',\n",
              " 'winning',\n",
              " 'health',\n",
              " 'care',\n",
              " 'suit',\n",
              " 'new',\n",
              " 'york',\n",
              " 'time',\n",
              " 'washington',\n",
              " 'congressional',\n",
              " 'republican',\n",
              " 'new',\n",
              " 'fear']"
            ]
          },
          "metadata": {
            "tags": []
          },
          "execution_count": 29
        }
      ]
    },
    {
      "cell_type": "markdown",
      "metadata": {
        "id": "tRzTRRnFMtBo",
        "colab_type": "text"
      },
      "source": [
        "## 8 Topic Modeling - All News Data"
      ]
    },
    {
      "cell_type": "markdown",
      "metadata": {
        "id": "w3-ov1YYh0T7",
        "colab_type": "text"
      },
      "source": [
        "### 8.1 Topic Analysis - Running LDA to Extract Topics"
      ]
    },
    {
      "cell_type": "code",
      "metadata": {
        "id": "VXE5jGJch3Sl",
        "colab_type": "code",
        "colab": {}
      },
      "source": [
        "data_all_news['topics'] = data_all_news['text_distilled'].apply(topics)"
      ],
      "execution_count": 0,
      "outputs": []
    },
    {
      "cell_type": "code",
      "metadata": {
        "id": "g-X6lPwwzFKq",
        "colab_type": "code",
        "colab": {}
      },
      "source": [
        "data_all_news['topics'] = data_all_news['topics'].apply(parseTopics)"
      ],
      "execution_count": 0,
      "outputs": []
    },
    {
      "cell_type": "markdown",
      "metadata": {
        "id": "2i5bFLlWooh9",
        "colab_type": "text"
      },
      "source": [
        "Making sure that the distillation is succesful, the following snippet was run."
      ]
    },
    {
      "cell_type": "code",
      "metadata": {
        "id": "oJiv4v0o1Nds",
        "colab_type": "code",
        "outputId": "52b8cccb-dc7f-4fa9-c006-3f107988472f",
        "colab": {
          "base_uri": "https://localhost:8080/",
          "height": 50
        }
      },
      "source": [
        "data_all_news.title[0], data_all_news.topics[0]"
      ],
      "execution_count": 0,
      "outputs": [
        {
          "output_type": "execute_result",
          "data": {
            "text/plain": [
              "('House Republicans Fret About Winning Their Health Care Suit - The New York Times',\n",
              " ['house ', 'republican'])"
            ]
          },
          "metadata": {
            "tags": []
          },
          "execution_count": 32
        }
      ]
    },
    {
      "cell_type": "markdown",
      "metadata": {
        "id": "rF7YvJWHF76L",
        "colab_type": "text"
      },
      "source": [
        "## 9 News Coverage Computation"
      ]
    },
    {
      "cell_type": "markdown",
      "metadata": {
        "id": "niepPGo74ydv",
        "colab_type": "text"
      },
      "source": [
        "### 9.1 Scoring Coverage (Ranking)\n",
        "\n",
        "The latent topics are parsed from non-fake news datset. To make an appropriate scoring coverage, the latent topics between \"all news\" data set and fake news dataset (`data_liar_liar`) are compared."
      ]
    },
    {
      "cell_type": "code",
      "metadata": {
        "id": "i2AldcftKUOQ",
        "colab_type": "code",
        "colab": {}
      },
      "source": [
        "def setDate( published ):\n",
        "   return published.split( \"T\" )[0]\n",
        "\n",
        "data_liar_liar[ 'date' ] = data_liar_liar.published.apply( setDate )"
      ],
      "execution_count": 0,
      "outputs": []
    },
    {
      "cell_type": "code",
      "metadata": {
        "id": "GmUHDODsMss4",
        "colab_type": "code",
        "outputId": "f1a2018f-b5ae-4529-cf1c-126e47386c46",
        "colab": {
          "base_uri": "https://localhost:8080/",
          "height": 214
        }
      },
      "source": [
        "data_liar_liar.head(1)"
      ],
      "execution_count": 0,
      "outputs": [
        {
          "output_type": "execute_result",
          "data": {
            "text/html": [
              "<div>\n",
              "<style scoped>\n",
              "    .dataframe tbody tr th:only-of-type {\n",
              "        vertical-align: middle;\n",
              "    }\n",
              "\n",
              "    .dataframe tbody tr th {\n",
              "        vertical-align: top;\n",
              "    }\n",
              "\n",
              "    .dataframe thead th {\n",
              "        text-align: right;\n",
              "    }\n",
              "</style>\n",
              "<table border=\"1\" class=\"dataframe\">\n",
              "  <thead>\n",
              "    <tr style=\"text-align: right;\">\n",
              "      <th></th>\n",
              "      <th>uuid</th>\n",
              "      <th>ord_in_thread</th>\n",
              "      <th>author</th>\n",
              "      <th>published</th>\n",
              "      <th>title</th>\n",
              "      <th>text</th>\n",
              "      <th>language</th>\n",
              "      <th>crawled</th>\n",
              "      <th>site_url</th>\n",
              "      <th>country</th>\n",
              "      <th>domain_rank</th>\n",
              "      <th>thread_title</th>\n",
              "      <th>spam_score</th>\n",
              "      <th>main_img_url</th>\n",
              "      <th>replies_count</th>\n",
              "      <th>participants_count</th>\n",
              "      <th>likes</th>\n",
              "      <th>comments</th>\n",
              "      <th>shares</th>\n",
              "      <th>type</th>\n",
              "      <th>text_distilled</th>\n",
              "      <th>text_distilled_lemma</th>\n",
              "      <th>topics</th>\n",
              "      <th>date</th>\n",
              "    </tr>\n",
              "  </thead>\n",
              "  <tbody>\n",
              "    <tr>\n",
              "      <th>0</th>\n",
              "      <td>6a175f46bcd24d39b3e962ad0f29936721db70db</td>\n",
              "      <td>0</td>\n",
              "      <td>Barracuda Brigade</td>\n",
              "      <td>2016-10-26T21:41:00.000+03:00</td>\n",
              "      <td>Muslims BUSTED: They Stole Millions In Gov’t B...</td>\n",
              "      <td>Print They should pay all the back all the mon...</td>\n",
              "      <td>english</td>\n",
              "      <td>2016-10-27T01:49:27.168+03:00</td>\n",
              "      <td>100percentfedup.com</td>\n",
              "      <td>US</td>\n",
              "      <td>25689.0</td>\n",
              "      <td>Muslims BUSTED: They Stole Millions In Gov’t B...</td>\n",
              "      <td>0.0</td>\n",
              "      <td>http://bb4sp.com/wp-content/uploads/2016/10/Fu...</td>\n",
              "      <td>0</td>\n",
              "      <td>1</td>\n",
              "      <td>0</td>\n",
              "      <td>0</td>\n",
              "      <td>0</td>\n",
              "      <td>bias</td>\n",
              "      <td>[muslims, busted, stole, millions, gov, benefi...</td>\n",
              "      <td>[muslim, busted, they, stole, million, in, gov...</td>\n",
              "      <td>[benefits , government]</td>\n",
              "      <td>2016-10-26</td>\n",
              "    </tr>\n",
              "  </tbody>\n",
              "</table>\n",
              "</div>"
            ],
            "text/plain": [
              "                                       uuid  ...        date\n",
              "0  6a175f46bcd24d39b3e962ad0f29936721db70db  ...  2016-10-26\n",
              "\n",
              "[1 rows x 24 columns]"
            ]
          },
          "metadata": {
            "tags": []
          },
          "execution_count": 34
        }
      ]
    },
    {
      "cell_type": "markdown",
      "metadata": {
        "id": "KUkP6m52K1bm",
        "colab_type": "text"
      },
      "source": [
        "The coverage window is simply a time-range where two articles are considered to be pushed in the same approximate \"time frame\". Narrowing the window size will result in low coverage score across all rows. Increasing the window size will result in high coverage score across all rows. The choice of the window size was arbitrary (30 days). Please see section 7.17 for 60-day coverage window."
      ]
    },
    {
      "cell_type": "code",
      "metadata": {
        "id": "W7lBooYW_G73",
        "colab_type": "code",
        "colab": {}
      },
      "source": [
        "import datetime\n",
        "\n",
        "def window( datestring, n ):\n",
        "   d = datetime.datetime.strptime( datestring, \"%Y-%m-%d\" )\n",
        "   delta = datetime.timedelta(days=n)\n",
        "   fromdate = datetime.datetime.strftime(d - delta, \"%Y-%m-%d\")\n",
        "   todate = datetime.datetime.strftime(d + delta, \"%Y-%m-%d\")\n",
        "   return ( fromdate, todate )"
      ],
      "execution_count": 0,
      "outputs": []
    },
    {
      "cell_type": "markdown",
      "metadata": {
        "id": "s7E8BzmwZwzy",
        "colab_type": "text"
      },
      "source": [
        "Please note that coverage scoring below can take about 10~15 minutes to complete (With GPU Hardware accelerator)."
      ]
    },
    {
      "cell_type": "code",
      "metadata": {
        "id": "Rf0YsfVr4-sj",
        "colab_type": "code",
        "outputId": "a6e8eebe-0e4b-4fdd-fe90-ec580baa7a83",
        "colab": {
          "base_uri": "https://localhost:8080/",
          "height": 151
        }
      },
      "source": [
        "import datetime\n",
        "\n",
        "print( \"Start Time\", datetime.datetime.now() )\n",
        "\n",
        "def coverage( article ):\n",
        "   fromdate, todate = window( article[ 'date' ], 15 )\n",
        "   selected_coverage = data_all_news[(data_all_news['date'] > fromdate) & (data_all_news['date'] < todate)]\n",
        "   selected_coverage['covered'] = selected_coverage.apply( lambda r: r[ 'topics' ][0] in article.topics and\n",
        "                                                       r[ 'topics' ][1] in article.topics, axis=1 )\n",
        "   return len(selected_coverage[selected_coverage['covered'] == True])\n",
        "\n",
        "data_liar_liar[ 'coverage' ] = data_liar_liar.apply( coverage, axis=1 )\n",
        "\n",
        "print( \"Finished Time\", datetime.datetime.now() )"
      ],
      "execution_count": 0,
      "outputs": [
        {
          "output_type": "stream",
          "text": [
            "Start Time 2020-04-27 02:19:04.728695\n"
          ],
          "name": "stdout"
        },
        {
          "output_type": "stream",
          "text": [
            "/usr/local/lib/python3.6/dist-packages/ipykernel_launcher.py:9: SettingWithCopyWarning: \n",
            "A value is trying to be set on a copy of a slice from a DataFrame.\n",
            "Try using .loc[row_indexer,col_indexer] = value instead\n",
            "\n",
            "See the caveats in the documentation: https://pandas.pydata.org/pandas-docs/stable/user_guide/indexing.html#returning-a-view-versus-a-copy\n",
            "  if __name__ == '__main__':\n"
          ],
          "name": "stderr"
        },
        {
          "output_type": "stream",
          "text": [
            "Finished Time 2020-04-27 02:20:30.963101\n"
          ],
          "name": "stdout"
        }
      ]
    },
    {
      "cell_type": "code",
      "metadata": {
        "id": "7xSxz3uSSR0l",
        "colab_type": "code",
        "outputId": "6db598b6-24ab-4fdb-d146-74928dcc6c71",
        "colab": {
          "base_uri": "https://localhost:8080/",
          "height": 635
        }
      },
      "source": [
        "data_liar_liar.sort_values(by=['coverage'], ascending=False ).head(5)"
      ],
      "execution_count": 0,
      "outputs": [
        {
          "output_type": "execute_result",
          "data": {
            "text/html": [
              "<div>\n",
              "<style scoped>\n",
              "    .dataframe tbody tr th:only-of-type {\n",
              "        vertical-align: middle;\n",
              "    }\n",
              "\n",
              "    .dataframe tbody tr th {\n",
              "        vertical-align: top;\n",
              "    }\n",
              "\n",
              "    .dataframe thead th {\n",
              "        text-align: right;\n",
              "    }\n",
              "</style>\n",
              "<table border=\"1\" class=\"dataframe\">\n",
              "  <thead>\n",
              "    <tr style=\"text-align: right;\">\n",
              "      <th></th>\n",
              "      <th>uuid</th>\n",
              "      <th>ord_in_thread</th>\n",
              "      <th>author</th>\n",
              "      <th>published</th>\n",
              "      <th>title</th>\n",
              "      <th>text</th>\n",
              "      <th>language</th>\n",
              "      <th>crawled</th>\n",
              "      <th>site_url</th>\n",
              "      <th>country</th>\n",
              "      <th>domain_rank</th>\n",
              "      <th>thread_title</th>\n",
              "      <th>spam_score</th>\n",
              "      <th>main_img_url</th>\n",
              "      <th>replies_count</th>\n",
              "      <th>participants_count</th>\n",
              "      <th>likes</th>\n",
              "      <th>comments</th>\n",
              "      <th>shares</th>\n",
              "      <th>type</th>\n",
              "      <th>text_distilled</th>\n",
              "      <th>text_distilled_lemma</th>\n",
              "      <th>topics</th>\n",
              "      <th>date</th>\n",
              "      <th>coverage</th>\n",
              "    </tr>\n",
              "  </thead>\n",
              "  <tbody>\n",
              "    <tr>\n",
              "      <th>53</th>\n",
              "      <td>a36405a8d7d32c2192b9a9b482dcf0ebc83c62eb</td>\n",
              "      <td>0</td>\n",
              "      <td>Mike Rivero</td>\n",
              "      <td>2016-11-23T00:49:00.000+02:00</td>\n",
              "      <td>FLASHBACK - Hillary Clinton’s ‘KKK’ Smear Agai...</td>\n",
              "      <td>November 21, 2016 By 21wire Leave a Comment \\n...</td>\n",
              "      <td>english</td>\n",
              "      <td>2016-11-23T01:36:58.899+02:00</td>\n",
              "      <td>21stcenturywire.com</td>\n",
              "      <td>US</td>\n",
              "      <td>NaN</td>\n",
              "      <td>FLASHBACK - Hillary Clinton’s ‘KKK’ Smear Agai...</td>\n",
              "      <td>0.0</td>\n",
              "      <td>http://i2.wp.com/21stcenturywire.com/wp-conten...</td>\n",
              "      <td>0</td>\n",
              "      <td>1</td>\n",
              "      <td>0</td>\n",
              "      <td>0</td>\n",
              "      <td>0</td>\n",
              "      <td>conspiracy</td>\n",
              "      <td>[flashback, hillary, clinton, kkk, smear, trum...</td>\n",
              "      <td>[flashback, hillary, clinton, s, kkk, smear, a...</td>\n",
              "      <td>[mr , trump]</td>\n",
              "      <td>2016-11-23</td>\n",
              "      <td>40</td>\n",
              "    </tr>\n",
              "    <tr>\n",
              "      <th>26</th>\n",
              "      <td>c1a86b752a21196a06591d5a785fa29b14fab245</td>\n",
              "      <td>0</td>\n",
              "      <td>EdJenner</td>\n",
              "      <td>2016-11-22T08:17:53.961+02:00</td>\n",
              "      <td>DONALD TRUMP Calls Meeting With Press…Dresses ...</td>\n",
              "      <td>Go to Article \\nThey had to know they had it c...</td>\n",
              "      <td>english</td>\n",
              "      <td>2016-11-22T08:17:53.961+02:00</td>\n",
              "      <td>100percentfedup.com</td>\n",
              "      <td>US</td>\n",
              "      <td>25689.0</td>\n",
              "      <td>DONALD TRUMP Calls Meeting With Press…Dresses ...</td>\n",
              "      <td>0.0</td>\n",
              "      <td>http://conservativeangle.com/wp-content/upload...</td>\n",
              "      <td>0</td>\n",
              "      <td>1</td>\n",
              "      <td>0</td>\n",
              "      <td>0</td>\n",
              "      <td>0</td>\n",
              "      <td>bias</td>\n",
              "      <td>[donald, trump, calls, meeting, press, dresses...</td>\n",
              "      <td>[donald, trump, call, meeting, with, press, dr...</td>\n",
              "      <td>[trump , said]</td>\n",
              "      <td>2016-11-22</td>\n",
              "      <td>23</td>\n",
              "    </tr>\n",
              "    <tr>\n",
              "      <th>980</th>\n",
              "      <td>29aa6e6c0aa6e47a2ee80e18b8ddc031657425b0</td>\n",
              "      <td>0</td>\n",
              "      <td>NaN</td>\n",
              "      <td>2016-10-28T18:34:48.985+03:00</td>\n",
              "      <td>FEAR OF TRUMP: BUSH, OBAMA, CLINTON ALL BUYING...</td>\n",
              "      <td>Email \\n\\nIt appears Bill and Hillary Clinton ...</td>\n",
              "      <td>english</td>\n",
              "      <td>2016-10-28T18:34:48.985+03:00</td>\n",
              "      <td>awdnews.com</td>\n",
              "      <td>DE</td>\n",
              "      <td>NaN</td>\n",
              "      <td>FEAR OF TRUMP: BUSH, OBAMA, CLINTON ALL BUYING...</td>\n",
              "      <td>0.0</td>\n",
              "      <td>http://awdnews.com/images/14776680451.jpg</td>\n",
              "      <td>0</td>\n",
              "      <td>0</td>\n",
              "      <td>0</td>\n",
              "      <td>0</td>\n",
              "      <td>0</td>\n",
              "      <td>conspiracy</td>\n",
              "      <td>[fear, trump, bush, obama, clinton, buying, pr...</td>\n",
              "      <td>[fear, of, trump, bush, obama, clinton, all, b...</td>\n",
              "      <td>[trump , clinton]</td>\n",
              "      <td>2016-10-28</td>\n",
              "      <td>20</td>\n",
              "    </tr>\n",
              "    <tr>\n",
              "      <th>988</th>\n",
              "      <td>b2e81b8debd3ca29f942d34b781126c07e427194</td>\n",
              "      <td>0</td>\n",
              "      <td>NaN</td>\n",
              "      <td>2016-10-28T18:40:18.626+03:00</td>\n",
              "      <td>FEAR OF TRUMP: BUSH, OBAMA, CLINTON ALL BUYING...</td>\n",
              "      <td>Email \\n\\nIt appears Bill and Hillary Clinton ...</td>\n",
              "      <td>english</td>\n",
              "      <td>2016-10-28T18:40:18.626+03:00</td>\n",
              "      <td>awdnews.com</td>\n",
              "      <td>DE</td>\n",
              "      <td>NaN</td>\n",
              "      <td>FEAR OF TRUMP: BUSH, OBAMA, CLINTON ALL BUYING...</td>\n",
              "      <td>0.0</td>\n",
              "      <td>http://awdnews.com/images/14776680451.jpg</td>\n",
              "      <td>0</td>\n",
              "      <td>0</td>\n",
              "      <td>0</td>\n",
              "      <td>0</td>\n",
              "      <td>0</td>\n",
              "      <td>conspiracy</td>\n",
              "      <td>[fear, trump, bush, obama, clinton, buying, pr...</td>\n",
              "      <td>[fear, of, trump, bush, obama, clinton, all, b...</td>\n",
              "      <td>[trump , clinton]</td>\n",
              "      <td>2016-10-28</td>\n",
              "      <td>20</td>\n",
              "    </tr>\n",
              "    <tr>\n",
              "      <th>631</th>\n",
              "      <td>7e8e053bbe2ed4978c6b8a69c58fb0441fd4cbf8</td>\n",
              "      <td>0</td>\n",
              "      <td>Alex Ansary</td>\n",
              "      <td>2016-10-31T19:54:37.665+02:00</td>\n",
              "      <td>Get Ready For Civil Unrest</td>\n",
              "      <td>Get Ready For Civil Unrest 10/31/2016 \\nECONOM...</td>\n",
              "      <td>english</td>\n",
              "      <td>2016-10-31T19:54:37.665+02:00</td>\n",
              "      <td>amtvmedia.com</td>\n",
              "      <td>US</td>\n",
              "      <td>NaN</td>\n",
              "      <td>Get Ready For Civil Unrest</td>\n",
              "      <td>0.0</td>\n",
              "      <td>http://www.amtvmedia.com/wp-content/uploads/20...</td>\n",
              "      <td>0</td>\n",
              "      <td>1</td>\n",
              "      <td>0</td>\n",
              "      <td>0</td>\n",
              "      <td>0</td>\n",
              "      <td>bs</td>\n",
              "      <td>[get, ready, civil, unrest, get, ready, civil,...</td>\n",
              "      <td>[get, ready, for, civil, unrest, get, ready, f...</td>\n",
              "      <td>[trump , clinton]</td>\n",
              "      <td>2016-10-31</td>\n",
              "      <td>18</td>\n",
              "    </tr>\n",
              "  </tbody>\n",
              "</table>\n",
              "</div>"
            ],
            "text/plain": [
              "                                         uuid  ...  coverage\n",
              "53   a36405a8d7d32c2192b9a9b482dcf0ebc83c62eb  ...        40\n",
              "26   c1a86b752a21196a06591d5a785fa29b14fab245  ...        23\n",
              "980  29aa6e6c0aa6e47a2ee80e18b8ddc031657425b0  ...        20\n",
              "988  b2e81b8debd3ca29f942d34b781126c07e427194  ...        20\n",
              "631  7e8e053bbe2ed4978c6b8a69c58fb0441fd4cbf8  ...        18\n",
              "\n",
              "[5 rows x 25 columns]"
            ]
          },
          "metadata": {
            "tags": []
          },
          "execution_count": 37
        }
      ]
    },
    {
      "cell_type": "code",
      "metadata": {
        "id": "bwZBsbTCUZVW",
        "colab_type": "code",
        "outputId": "f536ee02-0fb5-4233-fec6-b5296e86e27e",
        "colab": {
          "base_uri": "https://localhost:8080/",
          "height": 67
        }
      },
      "source": [
        "data_liar_liar.sort_values(by=['coverage'], ascending=False ).head(1)['title'], data_liar_liar.sort_values(by=['coverage'], ascending=False ).head(1)['coverage']"
      ],
      "execution_count": 0,
      "outputs": [
        {
          "output_type": "execute_result",
          "data": {
            "text/plain": [
              "(53    FLASHBACK - Hillary Clinton’s ‘KKK’ Smear Agai...\n",
              " Name: title, dtype: object, 53    40\n",
              " Name: coverage, dtype: int64)"
            ]
          },
          "metadata": {
            "tags": []
          },
          "execution_count": 38
        }
      ]
    },
    {
      "cell_type": "markdown",
      "metadata": {
        "id": "wYppcAHMCJTg",
        "colab_type": "text"
      },
      "source": [
        "### 9.2 Intermediary Analysis\n",
        "\n",
        "**Label Pairing** - For now,  top two words of the topics are chosen in the all-news dataset, as \"labels.\" Then using the topics of each fake news datasets and number all-news articles corresponding to each fake news article can be deduced. This means that for every article, we are searching for related articles. \n",
        "\n",
        "<i>Hypothetical Label Pairing for Illustration Purposes</i>\n",
        "\n",
        "Table A (10 articles)\n",
        "\n",
        "|  Articles | Topic Words | Computed Coverage Score | Rationale |\n",
        "| -- | -- | -- |\n",
        "|  1            | \"Apple\", \"Banana\" | 0 | Matches None from B |\n",
        "|  2            | \"Apple\", \"Orange\" | 1 |  Matches B.2 |\n",
        "|  3            | \"Orange\", \"Pear\" | 2 | Matches B.3 and B.1023 | \n",
        "| ... | ... |\n",
        "\n",
        "Table B (10,000 articles)\n",
        "\n",
        "|  Articles | Topic Words |\n",
        "| -- | -- |\n",
        "|  1            | \"Apple\", \"Pear\" |\n",
        "|  2            | \"Apple\", \"Orange\" |\n",
        "|  3            | \"Orange\", \"Pear\" |\n",
        "| ... | ... |\n",
        "|  1023      | \"Orange\", \"Pear\" |\n",
        "| ... | ... | \n",
        "\n",
        "**Building a Model** This \"search\" part should only be done during training stage, but not during testing and validation stages. But manually searching each row in the database is expensive and unscalable. Also, if the model simply looks up in internal database and return the score, it is more or less a search solution, not a Machine Learning Classification solution.\n",
        "\n",
        "Instead of doing this search for every article, the model should predict how much coverage it is likely to have based on the top two **topic terms** and the **date** of publication with classifiers such as Naive Bayes or Decision Trees. Clearly it will require lot of articles for training since there will be a rich set of topic terms and dates resulting in wide range of coverage scores.\n",
        "\n",
        "**Risks** There is some risk involved with this approach. Sometimes LDA and topic modeliing doesn't get us far enough. Sometimes the keywords generated by LDA such as \"Car\", \"Bus\", \"Train\" all have the latent super-topic called \"transporation\".  So in our distillation not only we should filter out stop words and run lemmatization, we should condense the words even further such as \"transportation\".  This will require additional data enrichment."
      ]
    },
    {
      "cell_type": "markdown",
      "metadata": {
        "id": "GqBDT4GRSfzk",
        "colab_type": "text"
      },
      "source": [
        "### 9.3 Using word2vec to Convert Topics to Vector Embeddings\n",
        "\n",
        "We use word2vec to fit the entire text from all articles, and then use word2vec model to convert the topic words to vectors."
      ]
    },
    {
      "cell_type": "code",
      "metadata": {
        "id": "UvYioQTYX45d",
        "colab_type": "code",
        "colab": {}
      },
      "source": [
        "from gensim.models import Word2Vec\n",
        "\n",
        "m = Word2Vec( data_liar_liar[ 'text_distilled' ] )"
      ],
      "execution_count": 0,
      "outputs": []
    },
    {
      "cell_type": "code",
      "metadata": {
        "id": "fOm_gT6kX-4n",
        "colab_type": "code",
        "outputId": "5c670642-c460-47a3-ce01-1e05f2fc5a50",
        "colab": {
          "base_uri": "https://localhost:8080/",
          "height": 121
        }
      },
      "source": [
        "m.similarity( 'clinton', 'hillary' )"
      ],
      "execution_count": 0,
      "outputs": [
        {
          "output_type": "stream",
          "text": [
            "/usr/local/lib/python3.6/dist-packages/ipykernel_launcher.py:1: DeprecationWarning: Call to deprecated `similarity` (Method will be removed in 4.0.0, use self.wv.similarity() instead).\n",
            "  \"\"\"Entry point for launching an IPython kernel.\n",
            "/usr/local/lib/python3.6/dist-packages/gensim/matutils.py:737: FutureWarning: Conversion of the second argument of issubdtype from `int` to `np.signedinteger` is deprecated. In future, it will be treated as `np.int64 == np.dtype(int).type`.\n",
            "  if np.issubdtype(vec.dtype, np.int):\n"
          ],
          "name": "stderr"
        },
        {
          "output_type": "execute_result",
          "data": {
            "text/plain": [
              "0.970249"
            ]
          },
          "metadata": {
            "tags": []
          },
          "execution_count": 40
        }
      ]
    },
    {
      "cell_type": "code",
      "metadata": {
        "id": "TIkRu0jJDf7O",
        "colab_type": "code",
        "outputId": "45469153-d5f1-460e-8b00-b5489fd2226e",
        "colab": {
          "base_uri": "https://localhost:8080/",
          "height": 121
        }
      },
      "source": [
        "m.similarity( 'trump', 'election' )"
      ],
      "execution_count": 0,
      "outputs": [
        {
          "output_type": "stream",
          "text": [
            "/usr/local/lib/python3.6/dist-packages/ipykernel_launcher.py:1: DeprecationWarning: Call to deprecated `similarity` (Method will be removed in 4.0.0, use self.wv.similarity() instead).\n",
            "  \"\"\"Entry point for launching an IPython kernel.\n",
            "/usr/local/lib/python3.6/dist-packages/gensim/matutils.py:737: FutureWarning: Conversion of the second argument of issubdtype from `int` to `np.signedinteger` is deprecated. In future, it will be treated as `np.int64 == np.dtype(int).type`.\n",
            "  if np.issubdtype(vec.dtype, np.int):\n"
          ],
          "name": "stderr"
        },
        {
          "output_type": "execute_result",
          "data": {
            "text/plain": [
              "0.9196891"
            ]
          },
          "metadata": {
            "tags": []
          },
          "execution_count": 41
        }
      ]
    },
    {
      "cell_type": "code",
      "metadata": {
        "id": "2xU2GJjca4ne",
        "colab_type": "code",
        "outputId": "cedc28c2-9c83-4ab6-ca46-a322bfa48cab",
        "colab": {
          "base_uri": "https://localhost:8080/",
          "height": 138
        }
      },
      "source": [
        "import numpy as np\n",
        "\n",
        "def encodeFirstColumn( topics ):\n",
        "   topic = topics[0].strip()\n",
        "   if topic in m:\n",
        "      return m[topic].tolist()\n",
        "   else:\n",
        "      return np.zeros( len(m[list(m.wv.vocab)[0]]) ).tolist()\n",
        "   \n",
        "data_liar_liar[ 'topic_0' ] = data_liar_liar.topics.apply( encodeFirstColumn )"
      ],
      "execution_count": 0,
      "outputs": [
        {
          "output_type": "stream",
          "text": [
            "/usr/local/lib/python3.6/dist-packages/ipykernel_launcher.py:5: DeprecationWarning: Call to deprecated `__contains__` (Method will be removed in 4.0.0, use self.wv.__contains__() instead).\n",
            "  \"\"\"\n",
            "/usr/local/lib/python3.6/dist-packages/ipykernel_launcher.py:6: DeprecationWarning: Call to deprecated `__getitem__` (Method will be removed in 4.0.0, use self.wv.__getitem__() instead).\n",
            "  \n",
            "/usr/local/lib/python3.6/dist-packages/ipykernel_launcher.py:8: DeprecationWarning: Call to deprecated `__getitem__` (Method will be removed in 4.0.0, use self.wv.__getitem__() instead).\n",
            "  \n"
          ],
          "name": "stderr"
        }
      ]
    },
    {
      "cell_type": "markdown",
      "metadata": {
        "id": "G7Twt8fwOD9q",
        "colab_type": "text"
      },
      "source": [
        "Running few sanity check, to ensure that the computation is correct,"
      ]
    },
    {
      "cell_type": "code",
      "metadata": {
        "id": "UxVAnQpEeFkK",
        "colab_type": "code",
        "outputId": "c1cc2615-0e32-40d2-a42d-07c84ce22844",
        "colab": {
          "base_uri": "https://localhost:8080/",
          "height": 87
        }
      },
      "source": [
        "'clinton' in m"
      ],
      "execution_count": 0,
      "outputs": [
        {
          "output_type": "stream",
          "text": [
            "/usr/local/lib/python3.6/dist-packages/ipykernel_launcher.py:1: DeprecationWarning: Call to deprecated `__contains__` (Method will be removed in 4.0.0, use self.wv.__contains__() instead).\n",
            "  \"\"\"Entry point for launching an IPython kernel.\n"
          ],
          "name": "stderr"
        },
        {
          "output_type": "execute_result",
          "data": {
            "text/plain": [
              "True"
            ]
          },
          "metadata": {
            "tags": []
          },
          "execution_count": 43
        }
      ]
    },
    {
      "cell_type": "code",
      "metadata": {
        "id": "hmUtOkKddfwx",
        "colab_type": "code",
        "outputId": "c6ca73bc-0ef7-4e0e-ad50-0d88b8218436",
        "colab": {
          "base_uri": "https://localhost:8080/",
          "height": 423
        }
      },
      "source": [
        "m['hillary']"
      ],
      "execution_count": 0,
      "outputs": [
        {
          "output_type": "stream",
          "text": [
            "/usr/local/lib/python3.6/dist-packages/ipykernel_launcher.py:1: DeprecationWarning: Call to deprecated `__getitem__` (Method will be removed in 4.0.0, use self.wv.__getitem__() instead).\n",
            "  \"\"\"Entry point for launching an IPython kernel.\n"
          ],
          "name": "stderr"
        },
        {
          "output_type": "execute_result",
          "data": {
            "text/plain": [
              "array([ 0.63913316,  0.68800205, -0.71260524, -0.12467133, -0.3992329 ,\n",
              "       -1.2420558 , -0.13671057,  0.49447855,  0.9706594 , -0.76925623,\n",
              "       -1.063885  ,  0.7927922 ,  0.15189743, -0.14153202,  0.2876226 ,\n",
              "        0.3647403 ,  1.0549103 ,  0.10126327, -0.03777416, -0.44616857,\n",
              "       -0.48125625,  0.59433585, -0.3875296 , -0.7623743 ,  0.58445525,\n",
              "       -0.44702208,  0.13653006,  0.38986945, -0.37225506,  0.6136815 ,\n",
              "       -1.0921675 , -0.10875637,  0.17992614,  1.1174641 , -0.75551254,\n",
              "        0.40070584,  0.11638577,  0.6600696 , -0.48941907, -0.26361445,\n",
              "       -0.08466573,  0.18658116,  0.74284136,  1.0103735 , -0.6977882 ,\n",
              "        1.2716756 ,  0.5594662 , -0.32046044, -0.56095725, -0.14306626,\n",
              "        0.34655163, -0.6557919 ,  0.8609253 , -0.26541883, -0.39378116,\n",
              "       -0.64913726,  0.22371441, -0.7984462 ,  0.59679276,  0.56066483,\n",
              "        0.2149614 , -0.55895114, -0.4864298 , -0.5425804 , -0.2716081 ,\n",
              "        0.3039643 ,  1.1820203 , -0.58693904,  0.07877683,  0.72787833,\n",
              "        0.4820087 ,  0.26655617, -0.5059933 , -0.631857  ,  0.70812255,\n",
              "        0.6481755 , -0.23120625,  0.10076747,  0.7487552 , -0.60253704,\n",
              "        0.12509944,  0.22192119, -0.9217675 , -1.2819734 , -0.32653907,\n",
              "       -0.70182145, -1.2107462 ,  0.06056871,  0.522587  , -0.49860603,\n",
              "        1.2356142 ,  0.05019584, -0.5405637 ,  0.32321745, -0.48545143,\n",
              "       -0.12552264,  0.31075135,  0.25479317, -0.95633024,  0.3331069 ],\n",
              "      dtype=float32)"
            ]
          },
          "metadata": {
            "tags": []
          },
          "execution_count": 44
        }
      ]
    },
    {
      "cell_type": "code",
      "metadata": {
        "id": "L2O1Hndddaya",
        "colab_type": "code",
        "outputId": "7e50b2b3-5b58-4f59-825d-cc0cc8efe26e",
        "colab": {
          "base_uri": "https://localhost:8080/",
          "height": 202
        }
      },
      "source": [
        "data_liar_liar[ 'topic_0' ][:10]"
      ],
      "execution_count": 0,
      "outputs": [
        {
          "output_type": "execute_result",
          "data": {
            "text/plain": [
              "0    [0.12792249023914337, 0.1411704272031784, 0.11...\n",
              "1    [0.14796143770217896, 0.16411587595939636, 0.1...\n",
              "2    [0.25819873809814453, 0.2622099220752716, 0.12...\n",
              "3    [0.25651535391807556, 0.2865433394908905, 0.19...\n",
              "4    [0.15407079458236694, 0.1742284744977951, 0.14...\n",
              "5    [0.5798635482788086, 0.5912808775901794, -0.72...\n",
              "6    [0.14778104424476624, 0.157606840133667, 0.115...\n",
              "7    [0.2993480861186981, 0.33051037788391113, 0.20...\n",
              "8    [0.5798635482788086, 0.5912808775901794, -0.72...\n",
              "9    [0.4159122705459595, 0.6477693915367126, -0.19...\n",
              "Name: topic_0, dtype: object"
            ]
          },
          "metadata": {
            "tags": []
          },
          "execution_count": 45
        }
      ]
    },
    {
      "cell_type": "code",
      "metadata": {
        "id": "CR9_HEdIrK4H",
        "colab_type": "code",
        "outputId": "d8e9e11d-4a9e-43c4-bcad-793d9ec9bbfd",
        "colab": {
          "base_uri": "https://localhost:8080/",
          "height": 70
        }
      },
      "source": [
        "def assertDim( topic_vec ):\n",
        "   assert len(topic_vec) == len(m[list(m.wv.vocab)[0]]) and len(topic_vec) > 0\n",
        "    \n",
        "def assertType( topic_vec ):\n",
        "   assert isinstance(topic_vec, list)\n",
        "    \n",
        "data_liar_liar.topic_0.apply( assertDim )[0]\n",
        "data_liar_liar.topic_0.apply( assertType )[0]"
      ],
      "execution_count": 0,
      "outputs": [
        {
          "output_type": "stream",
          "text": [
            "/usr/local/lib/python3.6/dist-packages/ipykernel_launcher.py:2: DeprecationWarning: Call to deprecated `__getitem__` (Method will be removed in 4.0.0, use self.wv.__getitem__() instead).\n",
            "  \n"
          ],
          "name": "stderr"
        }
      ]
    },
    {
      "cell_type": "markdown",
      "metadata": {
        "id": "ahGoFM6vh7x7",
        "colab_type": "text"
      },
      "source": [
        "The second topic term is also encoded into word2vec vector."
      ]
    },
    {
      "cell_type": "code",
      "metadata": {
        "id": "umXWwTwPh-Cq",
        "colab_type": "code",
        "outputId": "5e4469af-b007-499b-b5ab-48e4cd0c531e",
        "colab": {
          "base_uri": "https://localhost:8080/",
          "height": 205
        }
      },
      "source": [
        "import numpy as np\n",
        "\n",
        "vector_dim = len(m[list(m.wv.vocab)[0]])\n",
        "\n",
        "def encodeSecondColumn( topics ):\n",
        "\n",
        "   if len( topics ) > 1 :\n",
        "      topic = topics[1].strip()\n",
        "   else:\n",
        "      return np.zeros( len(m[list(m.wv.vocab)[0]]) ).tolist()\n",
        "   if topic in m:\n",
        "      return m[topic].tolist()\n",
        "   else:\n",
        "      return np.zeros( len(m[list(m.wv.vocab)[0]]) ).tolist()\n",
        "   \n",
        "data_liar_liar[ 'topic_1' ] = data_liar_liar.topics.apply( encodeSecondColumn )"
      ],
      "execution_count": 0,
      "outputs": [
        {
          "output_type": "stream",
          "text": [
            "/usr/local/lib/python3.6/dist-packages/ipykernel_launcher.py:3: DeprecationWarning: Call to deprecated `__getitem__` (Method will be removed in 4.0.0, use self.wv.__getitem__() instead).\n",
            "  This is separate from the ipykernel package so we can avoid doing imports until\n",
            "/usr/local/lib/python3.6/dist-packages/ipykernel_launcher.py:11: DeprecationWarning: Call to deprecated `__contains__` (Method will be removed in 4.0.0, use self.wv.__contains__() instead).\n",
            "  # This is added back by InteractiveShellApp.init_path()\n",
            "/usr/local/lib/python3.6/dist-packages/ipykernel_launcher.py:12: DeprecationWarning: Call to deprecated `__getitem__` (Method will be removed in 4.0.0, use self.wv.__getitem__() instead).\n",
            "  if sys.path[0] == '':\n",
            "/usr/local/lib/python3.6/dist-packages/ipykernel_launcher.py:14: DeprecationWarning: Call to deprecated `__getitem__` (Method will be removed in 4.0.0, use self.wv.__getitem__() instead).\n",
            "  \n",
            "/usr/local/lib/python3.6/dist-packages/ipykernel_launcher.py:10: DeprecationWarning: Call to deprecated `__getitem__` (Method will be removed in 4.0.0, use self.wv.__getitem__() instead).\n",
            "  # Remove the CWD from sys.path while we load stuff.\n"
          ],
          "name": "stderr"
        }
      ]
    },
    {
      "cell_type": "code",
      "metadata": {
        "id": "2sHff2U4rk42",
        "colab_type": "code",
        "outputId": "7b791b1c-95c8-4f12-9c0c-7d77816401bc",
        "colab": {
          "base_uri": "https://localhost:8080/",
          "height": 70
        }
      },
      "source": [
        "data_liar_liar.topic_1.apply( assertDim )[0]\n",
        "data_liar_liar.topic_1.apply( assertType )[0]"
      ],
      "execution_count": 0,
      "outputs": [
        {
          "output_type": "stream",
          "text": [
            "/usr/local/lib/python3.6/dist-packages/ipykernel_launcher.py:2: DeprecationWarning: Call to deprecated `__getitem__` (Method will be removed in 4.0.0, use self.wv.__getitem__() instead).\n",
            "  \n"
          ],
          "name": "stderr"
        }
      ]
    },
    {
      "cell_type": "markdown",
      "metadata": {
        "id": "GJaoPNCgOx35",
        "colab_type": "text"
      },
      "source": [
        "### 9.4 Sentiment Analysis\n",
        "\n",
        "Sentiment analysis has been done on the Kaggle data set, from \n",
        "(Martin et. al, n.d)"
      ]
    },
    {
      "cell_type": "code",
      "metadata": {
        "id": "ZC6SGIW2ynYk",
        "colab_type": "code",
        "outputId": "778a18a0-bdef-46df-cea7-68fc067265b3",
        "colab": {
          "base_uri": "https://localhost:8080/",
          "height": 235
        }
      },
      "source": [
        "import nltk\n",
        "nltk.download('vader_lexicon')\n",
        "from nltk.sentiment.vader import SentimentIntensityAnalyzer\n",
        "\n",
        "sia = SentimentIntensityAnalyzer()\n",
        "\n",
        "def getSentiment( text ):\n",
        "    return sia.polarity_scores(text)\n",
        "  \n",
        "data_liar_liar[ 'text_distilled_joined' ] = data_liar_liar[ 'text_distilled' ].apply( lambda x : ' '.join(x) ) \n",
        "data_liar_liar[ 'sentiment' ] = data_liar_liar.text_distilled_joined.apply( getSentiment )\n",
        "\n",
        "print(data_liar_liar['sentiment' ][:10] )"
      ],
      "execution_count": 0,
      "outputs": [
        {
          "output_type": "stream",
          "text": [
            "[nltk_data] Downloading package vader_lexicon to /root/nltk_data...\n",
            "[nltk_data]   Package vader_lexicon is already up-to-date!\n",
            "0    {'neg': 0.135, 'neu': 0.669, 'pos': 0.196, 'co...\n",
            "1    {'neg': 0.129, 'neu': 0.815, 'pos': 0.057, 'co...\n",
            "2    {'neg': 0.051, 'neu': 0.791, 'pos': 0.158, 'co...\n",
            "3    {'neg': 0.3, 'neu': 0.46, 'pos': 0.24, 'compou...\n",
            "4    {'neg': 0.093, 'neu': 0.722, 'pos': 0.185, 'co...\n",
            "5    {'neg': 0.356, 'neu': 0.591, 'pos': 0.053, 'co...\n",
            "6    {'neg': 0.135, 'neu': 0.723, 'pos': 0.142, 'co...\n",
            "7    {'neg': 0.193, 'neu': 0.735, 'pos': 0.072, 'co...\n",
            "8    {'neg': 0.066, 'neu': 0.842, 'pos': 0.093, 'co...\n",
            "9    {'neg': 0.152, 'neu': 0.792, 'pos': 0.056, 'co...\n",
            "Name: sentiment, dtype: object\n"
          ],
          "name": "stdout"
        }
      ]
    },
    {
      "cell_type": "markdown",
      "metadata": {
        "id": "XLbABjp8js1G",
        "colab_type": "text"
      },
      "source": [
        "### 9.5 Converting Dates to Numeric Format\n",
        "\n",
        "The date column with format YYYY-MM-dd is converted into YYYYMM  (where MM is month, and YYYY) is year. Specific day of the months is dropped to avoid overfitting.\n",
        "\n"
      ]
    },
    {
      "cell_type": "code",
      "metadata": {
        "id": "moZ3wZ8el_vt",
        "colab_type": "code",
        "colab": {}
      },
      "source": [
        "def setNumericDate( date ):\n",
        "   y, m, d = date.split( \"-\" )\n",
        "   return int(y + m)\n",
        "\n",
        "data_liar_liar[ 'date_int' ] = data_liar_liar.date.apply( setNumericDate )"
      ],
      "execution_count": 0,
      "outputs": []
    },
    {
      "cell_type": "code",
      "metadata": {
        "id": "tbTvpmfWqCpa",
        "colab_type": "code",
        "outputId": "6d4b185a-d07b-43e6-ee3b-e4ded53e022c",
        "colab": {
          "base_uri": "https://localhost:8080/",
          "height": 34
        }
      },
      "source": [
        "data_liar_liar[ 'date_int' ][0]"
      ],
      "execution_count": 0,
      "outputs": [
        {
          "output_type": "execute_result",
          "data": {
            "text/plain": [
              "201610"
            ]
          },
          "metadata": {
            "tags": []
          },
          "execution_count": 51
        }
      ]
    },
    {
      "cell_type": "markdown",
      "metadata": {
        "id": "WpG9THMLn5SM",
        "colab_type": "text"
      },
      "source": [
        "### 9.6 Using Ranfom Forrest Classifier\n",
        "\n",
        "Using the numeric (integer) dates, and two vectors (for top two topics chosen), a random forrest classifier is trained."
      ]
    },
    {
      "cell_type": "code",
      "metadata": {
        "id": "lHN5I6ET38BH",
        "colab_type": "code",
        "outputId": "3e5c3d58-ae75-4cea-f0eb-105dd2b78b48",
        "colab": {
          "base_uri": "https://localhost:8080/",
          "height": 159
        }
      },
      "source": [
        "# First split the vectors of word2vec into individual columns\n",
        "\n",
        "X_prep = data_liar_liar[[ 'date_int', 'topic_0', 'topic_1' ]]\n",
        "\n",
        "def select(topic_vec, idx):\n",
        "   return topic_vec[idx]\n",
        "\n",
        "prep_dict = { \"date_int\" : [] }\n",
        "for i in range( vector_dim*2 ):\n",
        "   prep_dict[str(i)] = []\n",
        "    \n",
        "X_COV = pd.DataFrame(prep_dict)\n",
        "X_COV[ 'date_int' ] = X_prep[ 'date_int' ]\n",
        "\n",
        "vector_dim = len(m[list(m.wv.vocab)[0]])\n",
        "\n",
        "for i in range( vector_dim ):\n",
        "   X_COV[str(i)] = X_prep.topic_0.apply( lambda x : select(x, i ) )\n",
        "    \n",
        "X_COV.head(1)"
      ],
      "execution_count": 0,
      "outputs": [
        {
          "output_type": "stream",
          "text": [
            "/usr/local/lib/python3.6/dist-packages/ipykernel_launcher.py:14: DeprecationWarning: Call to deprecated `__getitem__` (Method will be removed in 4.0.0, use self.wv.__getitem__() instead).\n",
            "  \n"
          ],
          "name": "stderr"
        },
        {
          "output_type": "execute_result",
          "data": {
            "text/html": [
              "<div>\n",
              "<style scoped>\n",
              "    .dataframe tbody tr th:only-of-type {\n",
              "        vertical-align: middle;\n",
              "    }\n",
              "\n",
              "    .dataframe tbody tr th {\n",
              "        vertical-align: top;\n",
              "    }\n",
              "\n",
              "    .dataframe thead th {\n",
              "        text-align: right;\n",
              "    }\n",
              "</style>\n",
              "<table border=\"1\" class=\"dataframe\">\n",
              "  <thead>\n",
              "    <tr style=\"text-align: right;\">\n",
              "      <th></th>\n",
              "      <th>date_int</th>\n",
              "      <th>0</th>\n",
              "      <th>1</th>\n",
              "      <th>2</th>\n",
              "      <th>3</th>\n",
              "      <th>4</th>\n",
              "      <th>5</th>\n",
              "      <th>6</th>\n",
              "      <th>7</th>\n",
              "      <th>8</th>\n",
              "      <th>9</th>\n",
              "      <th>10</th>\n",
              "      <th>11</th>\n",
              "      <th>12</th>\n",
              "      <th>13</th>\n",
              "      <th>14</th>\n",
              "      <th>15</th>\n",
              "      <th>16</th>\n",
              "      <th>17</th>\n",
              "      <th>18</th>\n",
              "      <th>19</th>\n",
              "      <th>20</th>\n",
              "      <th>21</th>\n",
              "      <th>22</th>\n",
              "      <th>23</th>\n",
              "      <th>24</th>\n",
              "      <th>25</th>\n",
              "      <th>26</th>\n",
              "      <th>27</th>\n",
              "      <th>28</th>\n",
              "      <th>29</th>\n",
              "      <th>30</th>\n",
              "      <th>31</th>\n",
              "      <th>32</th>\n",
              "      <th>33</th>\n",
              "      <th>34</th>\n",
              "      <th>35</th>\n",
              "      <th>36</th>\n",
              "      <th>37</th>\n",
              "      <th>38</th>\n",
              "      <th>...</th>\n",
              "      <th>160</th>\n",
              "      <th>161</th>\n",
              "      <th>162</th>\n",
              "      <th>163</th>\n",
              "      <th>164</th>\n",
              "      <th>165</th>\n",
              "      <th>166</th>\n",
              "      <th>167</th>\n",
              "      <th>168</th>\n",
              "      <th>169</th>\n",
              "      <th>170</th>\n",
              "      <th>171</th>\n",
              "      <th>172</th>\n",
              "      <th>173</th>\n",
              "      <th>174</th>\n",
              "      <th>175</th>\n",
              "      <th>176</th>\n",
              "      <th>177</th>\n",
              "      <th>178</th>\n",
              "      <th>179</th>\n",
              "      <th>180</th>\n",
              "      <th>181</th>\n",
              "      <th>182</th>\n",
              "      <th>183</th>\n",
              "      <th>184</th>\n",
              "      <th>185</th>\n",
              "      <th>186</th>\n",
              "      <th>187</th>\n",
              "      <th>188</th>\n",
              "      <th>189</th>\n",
              "      <th>190</th>\n",
              "      <th>191</th>\n",
              "      <th>192</th>\n",
              "      <th>193</th>\n",
              "      <th>194</th>\n",
              "      <th>195</th>\n",
              "      <th>196</th>\n",
              "      <th>197</th>\n",
              "      <th>198</th>\n",
              "      <th>199</th>\n",
              "    </tr>\n",
              "  </thead>\n",
              "  <tbody>\n",
              "    <tr>\n",
              "      <th>0</th>\n",
              "      <td>201610</td>\n",
              "      <td>0.127922</td>\n",
              "      <td>0.14117</td>\n",
              "      <td>0.115653</td>\n",
              "      <td>0.211629</td>\n",
              "      <td>-0.054004</td>\n",
              "      <td>-0.192324</td>\n",
              "      <td>0.215854</td>\n",
              "      <td>-0.042249</td>\n",
              "      <td>0.070671</td>\n",
              "      <td>-0.213356</td>\n",
              "      <td>-0.291566</td>\n",
              "      <td>0.326049</td>\n",
              "      <td>-0.036458</td>\n",
              "      <td>-0.033025</td>\n",
              "      <td>0.079567</td>\n",
              "      <td>0.251154</td>\n",
              "      <td>0.058</td>\n",
              "      <td>0.03044</td>\n",
              "      <td>-0.046998</td>\n",
              "      <td>-0.086017</td>\n",
              "      <td>0.046281</td>\n",
              "      <td>0.046693</td>\n",
              "      <td>-0.121886</td>\n",
              "      <td>-0.252992</td>\n",
              "      <td>0.148752</td>\n",
              "      <td>-0.155207</td>\n",
              "      <td>-0.015023</td>\n",
              "      <td>0.198719</td>\n",
              "      <td>0.025647</td>\n",
              "      <td>-0.021001</td>\n",
              "      <td>-0.240027</td>\n",
              "      <td>-0.182415</td>\n",
              "      <td>0.127518</td>\n",
              "      <td>0.30175</td>\n",
              "      <td>-0.001831</td>\n",
              "      <td>0.0009</td>\n",
              "      <td>-0.223204</td>\n",
              "      <td>-0.014369</td>\n",
              "      <td>0.048329</td>\n",
              "      <td>...</td>\n",
              "      <td>NaN</td>\n",
              "      <td>NaN</td>\n",
              "      <td>NaN</td>\n",
              "      <td>NaN</td>\n",
              "      <td>NaN</td>\n",
              "      <td>NaN</td>\n",
              "      <td>NaN</td>\n",
              "      <td>NaN</td>\n",
              "      <td>NaN</td>\n",
              "      <td>NaN</td>\n",
              "      <td>NaN</td>\n",
              "      <td>NaN</td>\n",
              "      <td>NaN</td>\n",
              "      <td>NaN</td>\n",
              "      <td>NaN</td>\n",
              "      <td>NaN</td>\n",
              "      <td>NaN</td>\n",
              "      <td>NaN</td>\n",
              "      <td>NaN</td>\n",
              "      <td>NaN</td>\n",
              "      <td>NaN</td>\n",
              "      <td>NaN</td>\n",
              "      <td>NaN</td>\n",
              "      <td>NaN</td>\n",
              "      <td>NaN</td>\n",
              "      <td>NaN</td>\n",
              "      <td>NaN</td>\n",
              "      <td>NaN</td>\n",
              "      <td>NaN</td>\n",
              "      <td>NaN</td>\n",
              "      <td>NaN</td>\n",
              "      <td>NaN</td>\n",
              "      <td>NaN</td>\n",
              "      <td>NaN</td>\n",
              "      <td>NaN</td>\n",
              "      <td>NaN</td>\n",
              "      <td>NaN</td>\n",
              "      <td>NaN</td>\n",
              "      <td>NaN</td>\n",
              "      <td>NaN</td>\n",
              "    </tr>\n",
              "  </tbody>\n",
              "</table>\n",
              "<p>1 rows × 201 columns</p>\n",
              "</div>"
            ],
            "text/plain": [
              "   date_int         0        1         2         3  ...  195  196  197  198  199\n",
              "0    201610  0.127922  0.14117  0.115653  0.211629  ...  NaN  NaN  NaN  NaN  NaN\n",
              "\n",
              "[1 rows x 201 columns]"
            ]
          },
          "metadata": {
            "tags": []
          },
          "execution_count": 52
        }
      ]
    },
    {
      "cell_type": "code",
      "metadata": {
        "id": "p7GG5K-q6T0V",
        "colab_type": "code",
        "colab": {}
      },
      "source": [
        "for i in range( vector_dim ):\n",
        "   X_COV[str(vector_dim + i)] = X_prep.topic_1.apply( lambda x : select(x, i ) )"
      ],
      "execution_count": 0,
      "outputs": []
    },
    {
      "cell_type": "code",
      "metadata": {
        "id": "sbanTosZ55UU",
        "colab_type": "code",
        "outputId": "90f63869-d7a2-4f0f-dcc9-4b21081306f0",
        "colab": {
          "base_uri": "https://localhost:8080/",
          "height": 126
        }
      },
      "source": [
        "X_COV.head(1)"
      ],
      "execution_count": 0,
      "outputs": [
        {
          "output_type": "execute_result",
          "data": {
            "text/html": [
              "<div>\n",
              "<style scoped>\n",
              "    .dataframe tbody tr th:only-of-type {\n",
              "        vertical-align: middle;\n",
              "    }\n",
              "\n",
              "    .dataframe tbody tr th {\n",
              "        vertical-align: top;\n",
              "    }\n",
              "\n",
              "    .dataframe thead th {\n",
              "        text-align: right;\n",
              "    }\n",
              "</style>\n",
              "<table border=\"1\" class=\"dataframe\">\n",
              "  <thead>\n",
              "    <tr style=\"text-align: right;\">\n",
              "      <th></th>\n",
              "      <th>date_int</th>\n",
              "      <th>0</th>\n",
              "      <th>1</th>\n",
              "      <th>2</th>\n",
              "      <th>3</th>\n",
              "      <th>4</th>\n",
              "      <th>5</th>\n",
              "      <th>6</th>\n",
              "      <th>7</th>\n",
              "      <th>8</th>\n",
              "      <th>9</th>\n",
              "      <th>10</th>\n",
              "      <th>11</th>\n",
              "      <th>12</th>\n",
              "      <th>13</th>\n",
              "      <th>14</th>\n",
              "      <th>15</th>\n",
              "      <th>16</th>\n",
              "      <th>17</th>\n",
              "      <th>18</th>\n",
              "      <th>19</th>\n",
              "      <th>20</th>\n",
              "      <th>21</th>\n",
              "      <th>22</th>\n",
              "      <th>23</th>\n",
              "      <th>24</th>\n",
              "      <th>25</th>\n",
              "      <th>26</th>\n",
              "      <th>27</th>\n",
              "      <th>28</th>\n",
              "      <th>29</th>\n",
              "      <th>30</th>\n",
              "      <th>31</th>\n",
              "      <th>32</th>\n",
              "      <th>33</th>\n",
              "      <th>34</th>\n",
              "      <th>35</th>\n",
              "      <th>36</th>\n",
              "      <th>37</th>\n",
              "      <th>38</th>\n",
              "      <th>...</th>\n",
              "      <th>160</th>\n",
              "      <th>161</th>\n",
              "      <th>162</th>\n",
              "      <th>163</th>\n",
              "      <th>164</th>\n",
              "      <th>165</th>\n",
              "      <th>166</th>\n",
              "      <th>167</th>\n",
              "      <th>168</th>\n",
              "      <th>169</th>\n",
              "      <th>170</th>\n",
              "      <th>171</th>\n",
              "      <th>172</th>\n",
              "      <th>173</th>\n",
              "      <th>174</th>\n",
              "      <th>175</th>\n",
              "      <th>176</th>\n",
              "      <th>177</th>\n",
              "      <th>178</th>\n",
              "      <th>179</th>\n",
              "      <th>180</th>\n",
              "      <th>181</th>\n",
              "      <th>182</th>\n",
              "      <th>183</th>\n",
              "      <th>184</th>\n",
              "      <th>185</th>\n",
              "      <th>186</th>\n",
              "      <th>187</th>\n",
              "      <th>188</th>\n",
              "      <th>189</th>\n",
              "      <th>190</th>\n",
              "      <th>191</th>\n",
              "      <th>192</th>\n",
              "      <th>193</th>\n",
              "      <th>194</th>\n",
              "      <th>195</th>\n",
              "      <th>196</th>\n",
              "      <th>197</th>\n",
              "      <th>198</th>\n",
              "      <th>199</th>\n",
              "    </tr>\n",
              "  </thead>\n",
              "  <tbody>\n",
              "    <tr>\n",
              "      <th>0</th>\n",
              "      <td>201610</td>\n",
              "      <td>0.127922</td>\n",
              "      <td>0.14117</td>\n",
              "      <td>0.115653</td>\n",
              "      <td>0.211629</td>\n",
              "      <td>-0.054004</td>\n",
              "      <td>-0.192324</td>\n",
              "      <td>0.215854</td>\n",
              "      <td>-0.042249</td>\n",
              "      <td>0.070671</td>\n",
              "      <td>-0.213356</td>\n",
              "      <td>-0.291566</td>\n",
              "      <td>0.326049</td>\n",
              "      <td>-0.036458</td>\n",
              "      <td>-0.033025</td>\n",
              "      <td>0.079567</td>\n",
              "      <td>0.251154</td>\n",
              "      <td>0.058</td>\n",
              "      <td>0.03044</td>\n",
              "      <td>-0.046998</td>\n",
              "      <td>-0.086017</td>\n",
              "      <td>0.046281</td>\n",
              "      <td>0.046693</td>\n",
              "      <td>-0.121886</td>\n",
              "      <td>-0.252992</td>\n",
              "      <td>0.148752</td>\n",
              "      <td>-0.155207</td>\n",
              "      <td>-0.015023</td>\n",
              "      <td>0.198719</td>\n",
              "      <td>0.025647</td>\n",
              "      <td>-0.021001</td>\n",
              "      <td>-0.240027</td>\n",
              "      <td>-0.182415</td>\n",
              "      <td>0.127518</td>\n",
              "      <td>0.30175</td>\n",
              "      <td>-0.001831</td>\n",
              "      <td>0.0009</td>\n",
              "      <td>-0.223204</td>\n",
              "      <td>-0.014369</td>\n",
              "      <td>0.048329</td>\n",
              "      <td>...</td>\n",
              "      <td>-0.553908</td>\n",
              "      <td>-0.189165</td>\n",
              "      <td>-0.140898</td>\n",
              "      <td>-0.228936</td>\n",
              "      <td>-0.225129</td>\n",
              "      <td>0.628557</td>\n",
              "      <td>0.812149</td>\n",
              "      <td>-0.547682</td>\n",
              "      <td>0.305797</td>\n",
              "      <td>0.483397</td>\n",
              "      <td>-0.347613</td>\n",
              "      <td>-0.233496</td>\n",
              "      <td>-0.176019</td>\n",
              "      <td>-0.512703</td>\n",
              "      <td>-0.020819</td>\n",
              "      <td>0.564609</td>\n",
              "      <td>0.299584</td>\n",
              "      <td>0.262894</td>\n",
              "      <td>0.642576</td>\n",
              "      <td>-0.384109</td>\n",
              "      <td>0.472714</td>\n",
              "      <td>0.462982</td>\n",
              "      <td>-0.328072</td>\n",
              "      <td>-0.783913</td>\n",
              "      <td>0.042854</td>\n",
              "      <td>-0.067226</td>\n",
              "      <td>-0.719365</td>\n",
              "      <td>0.129655</td>\n",
              "      <td>0.644223</td>\n",
              "      <td>-0.720061</td>\n",
              "      <td>0.252849</td>\n",
              "      <td>0.269332</td>\n",
              "      <td>0.045996</td>\n",
              "      <td>0.135043</td>\n",
              "      <td>-0.078418</td>\n",
              "      <td>-0.307622</td>\n",
              "      <td>-0.003494</td>\n",
              "      <td>-0.19918</td>\n",
              "      <td>0.313793</td>\n",
              "      <td>-0.116721</td>\n",
              "    </tr>\n",
              "  </tbody>\n",
              "</table>\n",
              "<p>1 rows × 201 columns</p>\n",
              "</div>"
            ],
            "text/plain": [
              "   date_int         0        1         2  ...       196      197       198       199\n",
              "0    201610  0.127922  0.14117  0.115653  ... -0.003494 -0.19918  0.313793 -0.116721\n",
              "\n",
              "[1 rows x 201 columns]"
            ]
          },
          "metadata": {
            "tags": []
          },
          "execution_count": 54
        }
      ]
    },
    {
      "cell_type": "markdown",
      "metadata": {
        "id": "VA9RRpayfFGM",
        "colab_type": "text"
      },
      "source": [
        "The following code creates training and test data."
      ]
    },
    {
      "cell_type": "code",
      "metadata": {
        "id": "E_ZO5jWRoFDK",
        "colab_type": "code",
        "outputId": "02db531c-3679-44de-fe29-59936d804c9e",
        "colab": {
          "base_uri": "https://localhost:8080/",
          "height": 50
        }
      },
      "source": [
        "from sklearn.ensemble import RandomForestClassifier\n",
        "from sklearn.model_selection import train_test_split\n",
        "\n",
        "Y_COV = data_liar_liar[ 'coverage' ]\n",
        "X_train, X_test, y_train, y_test = train_test_split(X_COV, Y_COV, test_size=0.33, random_state=42)\n",
        "print(\"train:\" , X_train.shape)\n",
        "print(\"test:\" , X_test.shape)"
      ],
      "execution_count": 0,
      "outputs": [
        {
          "output_type": "stream",
          "text": [
            "train: (670, 201)\n",
            "test: (330, 201)\n"
          ],
          "name": "stdout"
        }
      ]
    },
    {
      "cell_type": "code",
      "metadata": {
        "id": "A767PTCrrp51",
        "colab_type": "code",
        "outputId": "e141b7a2-ffc1-4abb-f51f-231046300637",
        "colab": {
          "base_uri": "https://localhost:8080/",
          "height": 185
        }
      },
      "source": [
        "X_COV.head(3)"
      ],
      "execution_count": 0,
      "outputs": [
        {
          "output_type": "execute_result",
          "data": {
            "text/html": [
              "<div>\n",
              "<style scoped>\n",
              "    .dataframe tbody tr th:only-of-type {\n",
              "        vertical-align: middle;\n",
              "    }\n",
              "\n",
              "    .dataframe tbody tr th {\n",
              "        vertical-align: top;\n",
              "    }\n",
              "\n",
              "    .dataframe thead th {\n",
              "        text-align: right;\n",
              "    }\n",
              "</style>\n",
              "<table border=\"1\" class=\"dataframe\">\n",
              "  <thead>\n",
              "    <tr style=\"text-align: right;\">\n",
              "      <th></th>\n",
              "      <th>date_int</th>\n",
              "      <th>0</th>\n",
              "      <th>1</th>\n",
              "      <th>2</th>\n",
              "      <th>3</th>\n",
              "      <th>4</th>\n",
              "      <th>5</th>\n",
              "      <th>6</th>\n",
              "      <th>7</th>\n",
              "      <th>8</th>\n",
              "      <th>9</th>\n",
              "      <th>10</th>\n",
              "      <th>11</th>\n",
              "      <th>12</th>\n",
              "      <th>13</th>\n",
              "      <th>14</th>\n",
              "      <th>15</th>\n",
              "      <th>16</th>\n",
              "      <th>17</th>\n",
              "      <th>18</th>\n",
              "      <th>19</th>\n",
              "      <th>20</th>\n",
              "      <th>21</th>\n",
              "      <th>22</th>\n",
              "      <th>23</th>\n",
              "      <th>24</th>\n",
              "      <th>25</th>\n",
              "      <th>26</th>\n",
              "      <th>27</th>\n",
              "      <th>28</th>\n",
              "      <th>29</th>\n",
              "      <th>30</th>\n",
              "      <th>31</th>\n",
              "      <th>32</th>\n",
              "      <th>33</th>\n",
              "      <th>34</th>\n",
              "      <th>35</th>\n",
              "      <th>36</th>\n",
              "      <th>37</th>\n",
              "      <th>38</th>\n",
              "      <th>...</th>\n",
              "      <th>160</th>\n",
              "      <th>161</th>\n",
              "      <th>162</th>\n",
              "      <th>163</th>\n",
              "      <th>164</th>\n",
              "      <th>165</th>\n",
              "      <th>166</th>\n",
              "      <th>167</th>\n",
              "      <th>168</th>\n",
              "      <th>169</th>\n",
              "      <th>170</th>\n",
              "      <th>171</th>\n",
              "      <th>172</th>\n",
              "      <th>173</th>\n",
              "      <th>174</th>\n",
              "      <th>175</th>\n",
              "      <th>176</th>\n",
              "      <th>177</th>\n",
              "      <th>178</th>\n",
              "      <th>179</th>\n",
              "      <th>180</th>\n",
              "      <th>181</th>\n",
              "      <th>182</th>\n",
              "      <th>183</th>\n",
              "      <th>184</th>\n",
              "      <th>185</th>\n",
              "      <th>186</th>\n",
              "      <th>187</th>\n",
              "      <th>188</th>\n",
              "      <th>189</th>\n",
              "      <th>190</th>\n",
              "      <th>191</th>\n",
              "      <th>192</th>\n",
              "      <th>193</th>\n",
              "      <th>194</th>\n",
              "      <th>195</th>\n",
              "      <th>196</th>\n",
              "      <th>197</th>\n",
              "      <th>198</th>\n",
              "      <th>199</th>\n",
              "    </tr>\n",
              "  </thead>\n",
              "  <tbody>\n",
              "    <tr>\n",
              "      <th>0</th>\n",
              "      <td>201610</td>\n",
              "      <td>0.127922</td>\n",
              "      <td>0.141170</td>\n",
              "      <td>0.115653</td>\n",
              "      <td>0.211629</td>\n",
              "      <td>-0.054004</td>\n",
              "      <td>-0.192324</td>\n",
              "      <td>0.215854</td>\n",
              "      <td>-0.042249</td>\n",
              "      <td>0.070671</td>\n",
              "      <td>-0.213356</td>\n",
              "      <td>-0.291566</td>\n",
              "      <td>0.326049</td>\n",
              "      <td>-0.036458</td>\n",
              "      <td>-0.033025</td>\n",
              "      <td>0.079567</td>\n",
              "      <td>0.251154</td>\n",
              "      <td>0.058000</td>\n",
              "      <td>0.030440</td>\n",
              "      <td>-0.046998</td>\n",
              "      <td>-0.086017</td>\n",
              "      <td>0.046281</td>\n",
              "      <td>0.046693</td>\n",
              "      <td>-0.121886</td>\n",
              "      <td>-0.252992</td>\n",
              "      <td>0.148752</td>\n",
              "      <td>-0.155207</td>\n",
              "      <td>-0.015023</td>\n",
              "      <td>0.198719</td>\n",
              "      <td>0.025647</td>\n",
              "      <td>-0.021001</td>\n",
              "      <td>-0.240027</td>\n",
              "      <td>-0.182415</td>\n",
              "      <td>0.127518</td>\n",
              "      <td>0.301750</td>\n",
              "      <td>-0.001831</td>\n",
              "      <td>0.000900</td>\n",
              "      <td>-0.223204</td>\n",
              "      <td>-0.014369</td>\n",
              "      <td>0.048329</td>\n",
              "      <td>...</td>\n",
              "      <td>-0.553908</td>\n",
              "      <td>-0.189165</td>\n",
              "      <td>-0.140898</td>\n",
              "      <td>-0.228936</td>\n",
              "      <td>-0.225129</td>\n",
              "      <td>0.628557</td>\n",
              "      <td>0.812149</td>\n",
              "      <td>-0.547682</td>\n",
              "      <td>0.305797</td>\n",
              "      <td>0.483397</td>\n",
              "      <td>-0.347613</td>\n",
              "      <td>-0.233496</td>\n",
              "      <td>-0.176019</td>\n",
              "      <td>-0.512703</td>\n",
              "      <td>-0.020819</td>\n",
              "      <td>0.564609</td>\n",
              "      <td>0.299584</td>\n",
              "      <td>0.262894</td>\n",
              "      <td>0.642576</td>\n",
              "      <td>-0.384109</td>\n",
              "      <td>0.472714</td>\n",
              "      <td>0.462982</td>\n",
              "      <td>-0.328072</td>\n",
              "      <td>-0.783913</td>\n",
              "      <td>0.042854</td>\n",
              "      <td>-0.067226</td>\n",
              "      <td>-0.719365</td>\n",
              "      <td>0.129655</td>\n",
              "      <td>0.644223</td>\n",
              "      <td>-0.720061</td>\n",
              "      <td>0.252849</td>\n",
              "      <td>0.269332</td>\n",
              "      <td>0.045996</td>\n",
              "      <td>0.135043</td>\n",
              "      <td>-0.078418</td>\n",
              "      <td>-0.307622</td>\n",
              "      <td>-0.003494</td>\n",
              "      <td>-0.199180</td>\n",
              "      <td>0.313793</td>\n",
              "      <td>-0.116721</td>\n",
              "    </tr>\n",
              "    <tr>\n",
              "      <th>1</th>\n",
              "      <td>201610</td>\n",
              "      <td>0.147961</td>\n",
              "      <td>0.164116</td>\n",
              "      <td>0.107296</td>\n",
              "      <td>0.222217</td>\n",
              "      <td>-0.068831</td>\n",
              "      <td>-0.236392</td>\n",
              "      <td>0.231995</td>\n",
              "      <td>-0.032045</td>\n",
              "      <td>0.091995</td>\n",
              "      <td>-0.246132</td>\n",
              "      <td>-0.341970</td>\n",
              "      <td>0.376503</td>\n",
              "      <td>-0.035033</td>\n",
              "      <td>-0.043606</td>\n",
              "      <td>0.085815</td>\n",
              "      <td>0.279468</td>\n",
              "      <td>0.077860</td>\n",
              "      <td>0.041947</td>\n",
              "      <td>-0.052407</td>\n",
              "      <td>-0.099529</td>\n",
              "      <td>0.038261</td>\n",
              "      <td>0.052053</td>\n",
              "      <td>-0.143395</td>\n",
              "      <td>-0.278196</td>\n",
              "      <td>0.168821</td>\n",
              "      <td>-0.173511</td>\n",
              "      <td>-0.015786</td>\n",
              "      <td>0.222959</td>\n",
              "      <td>0.016112</td>\n",
              "      <td>-0.017128</td>\n",
              "      <td>-0.276922</td>\n",
              "      <td>-0.201428</td>\n",
              "      <td>0.129783</td>\n",
              "      <td>0.343571</td>\n",
              "      <td>-0.011343</td>\n",
              "      <td>-0.004175</td>\n",
              "      <td>-0.244213</td>\n",
              "      <td>-0.012065</td>\n",
              "      <td>0.049022</td>\n",
              "      <td>...</td>\n",
              "      <td>-0.336842</td>\n",
              "      <td>-0.205791</td>\n",
              "      <td>-0.185537</td>\n",
              "      <td>-0.198117</td>\n",
              "      <td>-0.168601</td>\n",
              "      <td>0.410178</td>\n",
              "      <td>0.609230</td>\n",
              "      <td>-0.417090</td>\n",
              "      <td>0.231764</td>\n",
              "      <td>0.394387</td>\n",
              "      <td>-0.137905</td>\n",
              "      <td>-0.132766</td>\n",
              "      <td>-0.164731</td>\n",
              "      <td>-0.420565</td>\n",
              "      <td>0.049814</td>\n",
              "      <td>0.442172</td>\n",
              "      <td>0.199867</td>\n",
              "      <td>0.165724</td>\n",
              "      <td>0.487684</td>\n",
              "      <td>-0.290809</td>\n",
              "      <td>0.318260</td>\n",
              "      <td>0.341218</td>\n",
              "      <td>-0.291474</td>\n",
              "      <td>-0.663814</td>\n",
              "      <td>-0.017127</td>\n",
              "      <td>-0.109247</td>\n",
              "      <td>-0.590206</td>\n",
              "      <td>0.128570</td>\n",
              "      <td>0.446847</td>\n",
              "      <td>-0.505754</td>\n",
              "      <td>0.272548</td>\n",
              "      <td>0.189019</td>\n",
              "      <td>-0.063879</td>\n",
              "      <td>0.124159</td>\n",
              "      <td>-0.104841</td>\n",
              "      <td>-0.181233</td>\n",
              "      <td>-0.007652</td>\n",
              "      <td>-0.130429</td>\n",
              "      <td>0.110950</td>\n",
              "      <td>-0.037272</td>\n",
              "    </tr>\n",
              "    <tr>\n",
              "      <th>2</th>\n",
              "      <td>201610</td>\n",
              "      <td>0.258199</td>\n",
              "      <td>0.262210</td>\n",
              "      <td>0.123083</td>\n",
              "      <td>0.319092</td>\n",
              "      <td>-0.128244</td>\n",
              "      <td>-0.424444</td>\n",
              "      <td>0.343730</td>\n",
              "      <td>-0.023144</td>\n",
              "      <td>0.185504</td>\n",
              "      <td>-0.395772</td>\n",
              "      <td>-0.560898</td>\n",
              "      <td>0.600576</td>\n",
              "      <td>-0.055539</td>\n",
              "      <td>-0.075666</td>\n",
              "      <td>0.143994</td>\n",
              "      <td>0.439426</td>\n",
              "      <td>0.179015</td>\n",
              "      <td>0.066711</td>\n",
              "      <td>-0.080660</td>\n",
              "      <td>-0.168734</td>\n",
              "      <td>0.013826</td>\n",
              "      <td>0.105660</td>\n",
              "      <td>-0.227628</td>\n",
              "      <td>-0.450318</td>\n",
              "      <td>0.280182</td>\n",
              "      <td>-0.278826</td>\n",
              "      <td>-0.001072</td>\n",
              "      <td>0.348255</td>\n",
              "      <td>0.002979</td>\n",
              "      <td>0.016447</td>\n",
              "      <td>-0.461642</td>\n",
              "      <td>-0.311486</td>\n",
              "      <td>0.192811</td>\n",
              "      <td>0.570385</td>\n",
              "      <td>-0.057527</td>\n",
              "      <td>0.010509</td>\n",
              "      <td>-0.359569</td>\n",
              "      <td>0.011597</td>\n",
              "      <td>0.059478</td>\n",
              "      <td>...</td>\n",
              "      <td>-0.239631</td>\n",
              "      <td>-0.154028</td>\n",
              "      <td>-0.125104</td>\n",
              "      <td>-0.129165</td>\n",
              "      <td>-0.112834</td>\n",
              "      <td>0.285311</td>\n",
              "      <td>0.415396</td>\n",
              "      <td>-0.296294</td>\n",
              "      <td>0.160412</td>\n",
              "      <td>0.273647</td>\n",
              "      <td>-0.094182</td>\n",
              "      <td>-0.092483</td>\n",
              "      <td>-0.117483</td>\n",
              "      <td>-0.304490</td>\n",
              "      <td>0.023302</td>\n",
              "      <td>0.307485</td>\n",
              "      <td>0.141201</td>\n",
              "      <td>0.109935</td>\n",
              "      <td>0.341253</td>\n",
              "      <td>-0.208896</td>\n",
              "      <td>0.222216</td>\n",
              "      <td>0.243689</td>\n",
              "      <td>-0.204327</td>\n",
              "      <td>-0.453706</td>\n",
              "      <td>-0.008562</td>\n",
              "      <td>-0.083614</td>\n",
              "      <td>-0.418522</td>\n",
              "      <td>0.084573</td>\n",
              "      <td>0.296922</td>\n",
              "      <td>-0.352952</td>\n",
              "      <td>0.187181</td>\n",
              "      <td>0.129936</td>\n",
              "      <td>-0.048724</td>\n",
              "      <td>0.091078</td>\n",
              "      <td>-0.067207</td>\n",
              "      <td>-0.135803</td>\n",
              "      <td>-0.013775</td>\n",
              "      <td>-0.110263</td>\n",
              "      <td>0.097802</td>\n",
              "      <td>-0.034177</td>\n",
              "    </tr>\n",
              "  </tbody>\n",
              "</table>\n",
              "<p>3 rows × 201 columns</p>\n",
              "</div>"
            ],
            "text/plain": [
              "   date_int         0         1  ...       197       198       199\n",
              "0    201610  0.127922  0.141170  ... -0.199180  0.313793 -0.116721\n",
              "1    201610  0.147961  0.164116  ... -0.130429  0.110950 -0.037272\n",
              "2    201610  0.258199  0.262210  ... -0.110263  0.097802 -0.034177\n",
              "\n",
              "[3 rows x 201 columns]"
            ]
          },
          "metadata": {
            "tags": []
          },
          "execution_count": 56
        }
      ]
    },
    {
      "cell_type": "code",
      "metadata": {
        "id": "eeWd0pHVqn6q",
        "colab_type": "code",
        "colab": {}
      },
      "source": [
        "f_cov = RandomForestClassifier(n_estimators=10)\n",
        "f_cov.fit(X_train, y_train)\n",
        "y_pred = f_cov.predict(X_test)"
      ],
      "execution_count": 0,
      "outputs": []
    },
    {
      "cell_type": "markdown",
      "metadata": {
        "id": "awhW0Wfr6tao",
        "colab_type": "text"
      },
      "source": [
        "Predicting the accuracy of the coverage,"
      ]
    },
    {
      "cell_type": "code",
      "metadata": {
        "id": "3S28IoxY6wVL",
        "colab_type": "code",
        "outputId": "54ae4958-0864-4da8-940a-51acd7156af1",
        "colab": {
          "base_uri": "https://localhost:8080/",
          "height": 34
        }
      },
      "source": [
        "from sklearn import metrics\n",
        "\n",
        "'Accuracy', metrics.accuracy_score(y_test, y_pred)"
      ],
      "execution_count": 0,
      "outputs": [
        {
          "output_type": "execute_result",
          "data": {
            "text/plain": [
              "('Accuracy', 0.9393939393939394)"
            ]
          },
          "metadata": {
            "tags": []
          },
          "execution_count": 58
        }
      ]
    },
    {
      "cell_type": "markdown",
      "metadata": {
        "id": "5K6h6RfZxvZx",
        "colab_type": "text"
      },
      "source": [
        "### 9.7 AutoML"
      ]
    },
    {
      "cell_type": "code",
      "metadata": {
        "id": "R0Lt5tBu1bQK",
        "colab_type": "code",
        "colab": {}
      },
      "source": [
        "from sklearn.discriminant_analysis import LinearDiscriminantAnalysis\n",
        "from sklearn.linear_model import LogisticRegression\n",
        "num_folds = 10\n",
        "seed = 7\n",
        "scoring = 'accuracy'\n",
        "\n",
        "models = []\n",
        "models.append(('LR' , LogisticRegression()))\n",
        "models.append(('LDA' , LinearDiscriminantAnalysis()))\n",
        "#models.append(('KNN' , KNeighborsClassifier()))\n",
        "#models.append(('CART' , DecisionTreeClassifier()))\n",
        "#models.append(('NB' , GaussianNB()))\n",
        "#models.append(('SVM' , SVC()))\n",
        "#models.append(('MNB', MultinomialNB()))\n",
        "models.append(('RF' , RandomForestClassifier(n_estimators=50)))\n",
        "#models.append(('XGBoost', XGBClassifier()))"
      ],
      "execution_count": 0,
      "outputs": []
    },
    {
      "cell_type": "code",
      "metadata": {
        "id": "7_WWzOq31y-9",
        "colab_type": "code",
        "outputId": "7841d179-2058-49bd-f9c7-52e59864b1db",
        "colab": {
          "base_uri": "https://localhost:8080/",
          "height": 67
        }
      },
      "source": [
        "results = []\n",
        "names = []\n",
        "\n",
        "'''\n",
        "for name, model in models:\n",
        "  kfold = KFold(n_splits=num_folds, random_state=42)\n",
        "  cv_results = cross_val_score(model, X_train, y_train, cv=kfold, scoring=scoring)\n",
        "  results.append(cv_results)\n",
        "  names.append(name)\n",
        "  msg = \"%s: %f (%f)\" % (name, cv_results.mean(), cv_results.std())\n",
        "  print(msg) '''\n",
        "\n",
        "for name, model in models:\n",
        "    clf = model\n",
        "    clf.fit(X_train, y_train)\n",
        "    y_pred = clf.predict(X_test)\n",
        "    accu_score = accuracy_score(y_test, y_pred)\n",
        "    print(name + \": \" + str(accu_score))"
      ],
      "execution_count": 0,
      "outputs": [
        {
          "output_type": "stream",
          "text": [
            "LR: 0.9121212121212121\n",
            "LDA: 0.8454545454545455\n",
            "RF: 0.9363636363636364\n"
          ],
          "name": "stdout"
        }
      ]
    },
    {
      "cell_type": "markdown",
      "metadata": {
        "id": "sHC2IGew6_Qg",
        "colab_type": "text"
      },
      "source": [
        "The accuracy based on the unseen test data is 90%~95%. This means that using the word2vec-based model one can build a reliable coverage score."
      ]
    },
    {
      "cell_type": "code",
      "metadata": {
        "id": "-6qus8Ai7dux",
        "colab_type": "code",
        "outputId": "d338276d-3a68-4b37-ab46-bfa209b38260",
        "colab": {
          "base_uri": "https://localhost:8080/",
          "height": 366
        }
      },
      "source": [
        "import matplotlib.pyplot as plt\n",
        "import seaborn as sns\n",
        "\n",
        "importantCols = pd.Series(f_cov.feature_importances_,index=list(X_COV)).sort_values(ascending=False)\n",
        "sns.barplot(y=importantCols[:20], x=importantCols.index[:20])\n",
        "\n",
        "plt.ylabel('Importance Score')\n",
        "plt.xlabel('Columns')\n",
        "plt.title(\"Importance Sorted\")\n",
        "plt.legend()\n",
        "plt.show()"
      ],
      "execution_count": 0,
      "outputs": [
        {
          "output_type": "stream",
          "text": [
            "/usr/local/lib/python3.6/dist-packages/statsmodels/tools/_testing.py:19: FutureWarning: pandas.util.testing is deprecated. Use the functions in the public API at pandas.testing instead.\n",
            "  import pandas.util.testing as tm\n",
            "No handles with labels found to put in legend.\n"
          ],
          "name": "stderr"
        },
        {
          "output_type": "display_data",
          "data": {
            "image/png": "[encoded data removed]",
            "text/plain": [
              "<Figure size 432x288 with 1 Axes>"
            ]
          },
          "metadata": {
            "tags": [],
            "needs_background": "light"
          }
        }
      ]
    },
    {
      "cell_type": "markdown",
      "metadata": {
        "id": "CiWlQq2M-tfz",
        "colab_type": "text"
      },
      "source": [
        "### 9.8 Interpretation\n",
        "\n",
        "As shown above \"`date_int`\"  is one of the most important feature in determining whether or not the news has high news coverage. This is expected since the date the news has been posted definitely impacts on whether the news has sufficient coverage from peer articles. Some of the numeric (word2vec) columns  have significant impact on the prediction of the coverage score. But, since these factors are latent, they do not correspond to specific words in the vocabulary."
      ]
    },
    {
      "cell_type": "markdown",
      "metadata": {
        "id": "JiIceCrcYqx9",
        "colab_type": "text"
      },
      "source": [
        "### 9.10 Other Methods Tried\n",
        "Also tried using TFIDF as well as shown below."
      ]
    },
    {
      "cell_type": "code",
      "metadata": {
        "id": "N_b0jANCS4Jx",
        "colab_type": "code",
        "colab": {}
      },
      "source": [
        "from sklearn.feature_extraction.text import TfidfVectorizer\n",
        "\n",
        "ktdv = TfidfVectorizer()\n",
        "  \n",
        "data_liar_liar['text_distilled_joined'] = data_liar_liar[ 'text_distilled' ].apply( lambda x :  ' '.join( x ) )\n",
        "ktdv.fit( data_liar_liar[ 'text_distilled_joined' ])\n",
        "dim_row = len(ktdv.transform([data_liar_liar[ 'text_distilled_joined' ][0]]).toarray())\n",
        "dim_col = len(ktdv.transform([data_liar_liar[ 'text_distilled_joined' ][0]]).toarray()[0])\n",
        "# Eventually dropped"
      ],
      "execution_count": 0,
      "outputs": []
    },
    {
      "cell_type": "markdown",
      "metadata": {
        "id": "P7lp6PDLbb7c",
        "colab_type": "text"
      },
      "source": [
        "### 9.11 Extension - Increase  the window to 2 Months\n",
        "\n",
        "Now that we have coverage of 5 and above for 6/100 articles. We can try and see what values we see if the coverage is increased from 30 days to 60 days"
      ]
    },
    {
      "cell_type": "code",
      "metadata": {
        "id": "mKe0HrIYcHp_",
        "colab_type": "code",
        "outputId": "fded3077-5163-480f-d1eb-ae1b3f7b5eb0",
        "colab": {
          "base_uri": "https://localhost:8080/",
          "height": 118
        }
      },
      "source": [
        "def coverage60( article ):\n",
        "   fromdate, todate = window( article[ 'date' ], 60 )\n",
        "   selected_coverage = data_all_news[(data_all_news['date'] > fromdate) & (data_all_news['date'] < todate)]\n",
        "   selected_coverage['covered'] = selected_coverage.apply( lambda r: r[ 'topics' ][0] in article.topics and\n",
        "                                                       r[ 'topics' ][1] in article.topics, axis=1 )\n",
        "   return len(selected_coverage[selected_coverage['covered'] == True])\n",
        "\n",
        "data_liar_liar[ 'coverage60' ] = data_liar_liar.apply( coverage60, axis=1 )"
      ],
      "execution_count": 0,
      "outputs": [
        {
          "output_type": "stream",
          "text": [
            "/usr/local/lib/python3.6/dist-packages/ipykernel_launcher.py:5: SettingWithCopyWarning: \n",
            "A value is trying to be set on a copy of a slice from a DataFrame.\n",
            "Try using .loc[row_indexer,col_indexer] = value instead\n",
            "\n",
            "See the caveats in the documentation: https://pandas.pydata.org/pandas-docs/stable/user_guide/indexing.html#returning-a-view-versus-a-copy\n",
            "  \"\"\"\n"
          ],
          "name": "stderr"
        }
      ]
    },
    {
      "cell_type": "code",
      "metadata": {
        "id": "gw8RejabdY8t",
        "colab_type": "code",
        "outputId": "9825ae8c-53a8-4ab0-ca28-0bb681b1d0cf",
        "colab": {
          "base_uri": "https://localhost:8080/",
          "height": 719
        }
      },
      "source": [
        "data_liar_liar.sort_values(by=['coverage'], ascending=False ).head(5)"
      ],
      "execution_count": 0,
      "outputs": [
        {
          "output_type": "execute_result",
          "data": {
            "text/html": [
              "<div>\n",
              "<style scoped>\n",
              "    .dataframe tbody tr th:only-of-type {\n",
              "        vertical-align: middle;\n",
              "    }\n",
              "\n",
              "    .dataframe tbody tr th {\n",
              "        vertical-align: top;\n",
              "    }\n",
              "\n",
              "    .dataframe thead th {\n",
              "        text-align: right;\n",
              "    }\n",
              "</style>\n",
              "<table border=\"1\" class=\"dataframe\">\n",
              "  <thead>\n",
              "    <tr style=\"text-align: right;\">\n",
              "      <th></th>\n",
              "      <th>uuid</th>\n",
              "      <th>ord_in_thread</th>\n",
              "      <th>author</th>\n",
              "      <th>published</th>\n",
              "      <th>title</th>\n",
              "      <th>text</th>\n",
              "      <th>language</th>\n",
              "      <th>crawled</th>\n",
              "      <th>site_url</th>\n",
              "      <th>country</th>\n",
              "      <th>domain_rank</th>\n",
              "      <th>thread_title</th>\n",
              "      <th>spam_score</th>\n",
              "      <th>main_img_url</th>\n",
              "      <th>replies_count</th>\n",
              "      <th>participants_count</th>\n",
              "      <th>likes</th>\n",
              "      <th>comments</th>\n",
              "      <th>shares</th>\n",
              "      <th>type</th>\n",
              "      <th>text_distilled</th>\n",
              "      <th>text_distilled_lemma</th>\n",
              "      <th>topics</th>\n",
              "      <th>date</th>\n",
              "      <th>coverage</th>\n",
              "      <th>topic_0</th>\n",
              "      <th>topic_1</th>\n",
              "      <th>text_distilled_joined</th>\n",
              "      <th>sentiment</th>\n",
              "      <th>date_int</th>\n",
              "      <th>coverage60</th>\n",
              "    </tr>\n",
              "  </thead>\n",
              "  <tbody>\n",
              "    <tr>\n",
              "      <th>53</th>\n",
              "      <td>a36405a8d7d32c2192b9a9b482dcf0ebc83c62eb</td>\n",
              "      <td>0</td>\n",
              "      <td>Mike Rivero</td>\n",
              "      <td>2016-11-23T00:49:00.000+02:00</td>\n",
              "      <td>FLASHBACK - Hillary Clinton’s ‘KKK’ Smear Agai...</td>\n",
              "      <td>November 21, 2016 By 21wire Leave a Comment \\n...</td>\n",
              "      <td>english</td>\n",
              "      <td>2016-11-23T01:36:58.899+02:00</td>\n",
              "      <td>21stcenturywire.com</td>\n",
              "      <td>US</td>\n",
              "      <td>NaN</td>\n",
              "      <td>FLASHBACK - Hillary Clinton’s ‘KKK’ Smear Agai...</td>\n",
              "      <td>0.0</td>\n",
              "      <td>http://i2.wp.com/21stcenturywire.com/wp-conten...</td>\n",
              "      <td>0</td>\n",
              "      <td>1</td>\n",
              "      <td>0</td>\n",
              "      <td>0</td>\n",
              "      <td>0</td>\n",
              "      <td>conspiracy</td>\n",
              "      <td>[flashback, hillary, clinton, kkk, smear, trum...</td>\n",
              "      <td>[flashback, hillary, clinton, s, kkk, smear, a...</td>\n",
              "      <td>[mr , trump]</td>\n",
              "      <td>2016-11-23</td>\n",
              "      <td>40</td>\n",
              "      <td>[0.3621350824832916, 0.44432565569877625, 0.22...</td>\n",
              "      <td>[0.4159122705459595, 0.6477693915367126, -0.19...</td>\n",
              "      <td>flashback hillary clinton kkk smear trump demo...</td>\n",
              "      <td>{'neg': 0.141, 'neu': 0.737, 'pos': 0.122, 'co...</td>\n",
              "      <td>201611</td>\n",
              "      <td>117</td>\n",
              "    </tr>\n",
              "    <tr>\n",
              "      <th>26</th>\n",
              "      <td>c1a86b752a21196a06591d5a785fa29b14fab245</td>\n",
              "      <td>0</td>\n",
              "      <td>EdJenner</td>\n",
              "      <td>2016-11-22T08:17:53.961+02:00</td>\n",
              "      <td>DONALD TRUMP Calls Meeting With Press…Dresses ...</td>\n",
              "      <td>Go to Article \\nThey had to know they had it c...</td>\n",
              "      <td>english</td>\n",
              "      <td>2016-11-22T08:17:53.961+02:00</td>\n",
              "      <td>100percentfedup.com</td>\n",
              "      <td>US</td>\n",
              "      <td>25689.0</td>\n",
              "      <td>DONALD TRUMP Calls Meeting With Press…Dresses ...</td>\n",
              "      <td>0.0</td>\n",
              "      <td>http://conservativeangle.com/wp-content/upload...</td>\n",
              "      <td>0</td>\n",
              "      <td>1</td>\n",
              "      <td>0</td>\n",
              "      <td>0</td>\n",
              "      <td>0</td>\n",
              "      <td>bias</td>\n",
              "      <td>[donald, trump, calls, meeting, press, dresses...</td>\n",
              "      <td>[donald, trump, call, meeting, with, press, dr...</td>\n",
              "      <td>[trump , said]</td>\n",
              "      <td>2016-11-22</td>\n",
              "      <td>23</td>\n",
              "      <td>[0.4159122705459595, 0.6477693915367126, -0.19...</td>\n",
              "      <td>[0.26030877232551575, 0.35639217495918274, 0.2...</td>\n",
              "      <td>donald trump calls meeting press dresses real ...</td>\n",
              "      <td>{'neg': 0.217, 'neu': 0.719, 'pos': 0.064, 'co...</td>\n",
              "      <td>201611</td>\n",
              "      <td>65</td>\n",
              "    </tr>\n",
              "    <tr>\n",
              "      <th>980</th>\n",
              "      <td>29aa6e6c0aa6e47a2ee80e18b8ddc031657425b0</td>\n",
              "      <td>0</td>\n",
              "      <td>NaN</td>\n",
              "      <td>2016-10-28T18:34:48.985+03:00</td>\n",
              "      <td>FEAR OF TRUMP: BUSH, OBAMA, CLINTON ALL BUYING...</td>\n",
              "      <td>Email \\n\\nIt appears Bill and Hillary Clinton ...</td>\n",
              "      <td>english</td>\n",
              "      <td>2016-10-28T18:34:48.985+03:00</td>\n",
              "      <td>awdnews.com</td>\n",
              "      <td>DE</td>\n",
              "      <td>NaN</td>\n",
              "      <td>FEAR OF TRUMP: BUSH, OBAMA, CLINTON ALL BUYING...</td>\n",
              "      <td>0.0</td>\n",
              "      <td>http://awdnews.com/images/14776680451.jpg</td>\n",
              "      <td>0</td>\n",
              "      <td>0</td>\n",
              "      <td>0</td>\n",
              "      <td>0</td>\n",
              "      <td>0</td>\n",
              "      <td>conspiracy</td>\n",
              "      <td>[fear, trump, bush, obama, clinton, buying, pr...</td>\n",
              "      <td>[fear, of, trump, bush, obama, clinton, all, b...</td>\n",
              "      <td>[trump , clinton]</td>\n",
              "      <td>2016-10-28</td>\n",
              "      <td>20</td>\n",
              "      <td>[0.4159122705459595, 0.6477693915367126, -0.19...</td>\n",
              "      <td>[0.5798635482788086, 0.5912808775901794, -0.72...</td>\n",
              "      <td>fear trump bush obama clinton buying property ...</td>\n",
              "      <td>{'neg': 0.107, 'neu': 0.745, 'pos': 0.148, 'co...</td>\n",
              "      <td>201610</td>\n",
              "      <td>98</td>\n",
              "    </tr>\n",
              "    <tr>\n",
              "      <th>988</th>\n",
              "      <td>b2e81b8debd3ca29f942d34b781126c07e427194</td>\n",
              "      <td>0</td>\n",
              "      <td>NaN</td>\n",
              "      <td>2016-10-28T18:40:18.626+03:00</td>\n",
              "      <td>FEAR OF TRUMP: BUSH, OBAMA, CLINTON ALL BUYING...</td>\n",
              "      <td>Email \\n\\nIt appears Bill and Hillary Clinton ...</td>\n",
              "      <td>english</td>\n",
              "      <td>2016-10-28T18:40:18.626+03:00</td>\n",
              "      <td>awdnews.com</td>\n",
              "      <td>DE</td>\n",
              "      <td>NaN</td>\n",
              "      <td>FEAR OF TRUMP: BUSH, OBAMA, CLINTON ALL BUYING...</td>\n",
              "      <td>0.0</td>\n",
              "      <td>http://awdnews.com/images/14776680451.jpg</td>\n",
              "      <td>0</td>\n",
              "      <td>0</td>\n",
              "      <td>0</td>\n",
              "      <td>0</td>\n",
              "      <td>0</td>\n",
              "      <td>conspiracy</td>\n",
              "      <td>[fear, trump, bush, obama, clinton, buying, pr...</td>\n",
              "      <td>[fear, of, trump, bush, obama, clinton, all, b...</td>\n",
              "      <td>[trump , clinton]</td>\n",
              "      <td>2016-10-28</td>\n",
              "      <td>20</td>\n",
              "      <td>[0.4159122705459595, 0.6477693915367126, -0.19...</td>\n",
              "      <td>[0.5798635482788086, 0.5912808775901794, -0.72...</td>\n",
              "      <td>fear trump bush obama clinton buying property ...</td>\n",
              "      <td>{'neg': 0.107, 'neu': 0.745, 'pos': 0.148, 'co...</td>\n",
              "      <td>201610</td>\n",
              "      <td>98</td>\n",
              "    </tr>\n",
              "    <tr>\n",
              "      <th>631</th>\n",
              "      <td>7e8e053bbe2ed4978c6b8a69c58fb0441fd4cbf8</td>\n",
              "      <td>0</td>\n",
              "      <td>Alex Ansary</td>\n",
              "      <td>2016-10-31T19:54:37.665+02:00</td>\n",
              "      <td>Get Ready For Civil Unrest</td>\n",
              "      <td>Get Ready For Civil Unrest 10/31/2016 \\nECONOM...</td>\n",
              "      <td>english</td>\n",
              "      <td>2016-10-31T19:54:37.665+02:00</td>\n",
              "      <td>amtvmedia.com</td>\n",
              "      <td>US</td>\n",
              "      <td>NaN</td>\n",
              "      <td>Get Ready For Civil Unrest</td>\n",
              "      <td>0.0</td>\n",
              "      <td>http://www.amtvmedia.com/wp-content/uploads/20...</td>\n",
              "      <td>0</td>\n",
              "      <td>1</td>\n",
              "      <td>0</td>\n",
              "      <td>0</td>\n",
              "      <td>0</td>\n",
              "      <td>bs</td>\n",
              "      <td>[get, ready, civil, unrest, get, ready, civil,...</td>\n",
              "      <td>[get, ready, for, civil, unrest, get, ready, f...</td>\n",
              "      <td>[trump , clinton]</td>\n",
              "      <td>2016-10-31</td>\n",
              "      <td>18</td>\n",
              "      <td>[0.4159122705459595, 0.6477693915367126, -0.19...</td>\n",
              "      <td>[0.5798635482788086, 0.5912808775901794, -0.72...</td>\n",
              "      <td>get ready civil unrest get ready civil unrest ...</td>\n",
              "      <td>{'neg': 0.171, 'neu': 0.686, 'pos': 0.143, 'co...</td>\n",
              "      <td>201610</td>\n",
              "      <td>96</td>\n",
              "    </tr>\n",
              "  </tbody>\n",
              "</table>\n",
              "</div>"
            ],
            "text/plain": [
              "                                         uuid  ...  coverage60\n",
              "53   a36405a8d7d32c2192b9a9b482dcf0ebc83c62eb  ...         117\n",
              "26   c1a86b752a21196a06591d5a785fa29b14fab245  ...          65\n",
              "980  29aa6e6c0aa6e47a2ee80e18b8ddc031657425b0  ...          98\n",
              "988  b2e81b8debd3ca29f942d34b781126c07e427194  ...          98\n",
              "631  7e8e053bbe2ed4978c6b8a69c58fb0441fd4cbf8  ...          96\n",
              "\n",
              "[5 rows x 31 columns]"
            ]
          },
          "metadata": {
            "tags": []
          },
          "execution_count": 64
        }
      ]
    },
    {
      "cell_type": "markdown",
      "metadata": {
        "id": "ntHZZBZre56u",
        "colab_type": "text"
      },
      "source": [
        "Counting number of articles with coverage scores above 1"
      ]
    },
    {
      "cell_type": "code",
      "metadata": {
        "id": "2PcffI6Oe9-9",
        "colab_type": "code",
        "outputId": "e36aa59f-3087-46c6-b10b-cc6382ee4252",
        "colab": {
          "base_uri": "https://localhost:8080/",
          "height": 34
        }
      },
      "source": [
        "len(data_liar_liar[data_liar_liar['coverage60']>1])"
      ],
      "execution_count": 0,
      "outputs": [
        {
          "output_type": "execute_result",
          "data": {
            "text/plain": [
              "93"
            ]
          },
          "metadata": {
            "tags": []
          },
          "execution_count": 65
        }
      ]
    },
    {
      "cell_type": "markdown",
      "metadata": {
        "id": "AhnJaXY8cVtD",
        "colab_type": "text"
      },
      "source": [
        "## 10 Testing on Non-Fake News\n",
        "\n",
        "The coverage scores (with window = 60 days) are compared between fake news dataset and \"All news\" non-fake news dataset. Since window of 60 days are chosen for fake news dataset, the same window is chosen for non-fake datasets for consistency."
      ]
    },
    {
      "cell_type": "code",
      "metadata": {
        "id": "vbcKaZ3MdNBz",
        "colab_type": "code",
        "outputId": "55f4b684-bf43-4b8b-c214-38720f35db96",
        "colab": {
          "base_uri": "https://localhost:8080/",
          "height": 218
        }
      },
      "source": [
        "non_fake_data = data_all_news[:100]\n",
        "\n",
        "non_fake_data[ 'coverage60' ] = non_fake_data.apply( coverage60, axis=1 )"
      ],
      "execution_count": 0,
      "outputs": [
        {
          "output_type": "stream",
          "text": [
            "/usr/local/lib/python3.6/dist-packages/ipykernel_launcher.py:5: SettingWithCopyWarning: \n",
            "A value is trying to be set on a copy of a slice from a DataFrame.\n",
            "Try using .loc[row_indexer,col_indexer] = value instead\n",
            "\n",
            "See the caveats in the documentation: https://pandas.pydata.org/pandas-docs/stable/user_guide/indexing.html#returning-a-view-versus-a-copy\n",
            "  \"\"\"\n",
            "/usr/local/lib/python3.6/dist-packages/ipykernel_launcher.py:3: SettingWithCopyWarning: \n",
            "A value is trying to be set on a copy of a slice from a DataFrame.\n",
            "Try using .loc[row_indexer,col_indexer] = value instead\n",
            "\n",
            "See the caveats in the documentation: https://pandas.pydata.org/pandas-docs/stable/user_guide/indexing.html#returning-a-view-versus-a-copy\n",
            "  This is separate from the ipykernel package so we can avoid doing imports until\n"
          ],
          "name": "stderr"
        }
      ]
    },
    {
      "cell_type": "code",
      "metadata": {
        "id": "XjnAL_cxebSx",
        "colab_type": "code",
        "outputId": "afdbc3e4-69d8-4046-8e50-2081f1b4bce0",
        "colab": {
          "base_uri": "https://localhost:8080/",
          "height": 464
        }
      },
      "source": [
        "non_fake_data.sort_values(by=['coverage60'], ascending=False ).head(5)"
      ],
      "execution_count": 0,
      "outputs": [
        {
          "output_type": "execute_result",
          "data": {
            "text/html": [
              "<div>\n",
              "<style scoped>\n",
              "    .dataframe tbody tr th:only-of-type {\n",
              "        vertical-align: middle;\n",
              "    }\n",
              "\n",
              "    .dataframe tbody tr th {\n",
              "        vertical-align: top;\n",
              "    }\n",
              "\n",
              "    .dataframe thead th {\n",
              "        text-align: right;\n",
              "    }\n",
              "</style>\n",
              "<table border=\"1\" class=\"dataframe\">\n",
              "  <thead>\n",
              "    <tr style=\"text-align: right;\">\n",
              "      <th></th>\n",
              "      <th>Unnamed: 0</th>\n",
              "      <th>id</th>\n",
              "      <th>title</th>\n",
              "      <th>publication</th>\n",
              "      <th>author</th>\n",
              "      <th>date</th>\n",
              "      <th>year</th>\n",
              "      <th>month</th>\n",
              "      <th>url</th>\n",
              "      <th>content</th>\n",
              "      <th>text_distilled</th>\n",
              "      <th>topics</th>\n",
              "      <th>coverage60</th>\n",
              "    </tr>\n",
              "  </thead>\n",
              "  <tbody>\n",
              "    <tr>\n",
              "      <th>43</th>\n",
              "      <td>43</td>\n",
              "      <td>17334</td>\n",
              "      <td>Trump Appears to Side With Assange Over Intell...</td>\n",
              "      <td>New York Times</td>\n",
              "      <td>Scott Shane, Maggie Haberman and Julie Hirschf...</td>\n",
              "      <td>2017-01-05</td>\n",
              "      <td>2017.0</td>\n",
              "      <td>1.0</td>\n",
              "      <td>NaN</td>\n",
              "      <td>■   Donald J. Trump appears to side with the W...</td>\n",
              "      <td>[trump, appears, side, assange, intelligence, ...</td>\n",
              "      <td>[mr , trump]</td>\n",
              "      <td>154</td>\n",
              "    </tr>\n",
              "    <tr>\n",
              "      <th>93</th>\n",
              "      <td>93</td>\n",
              "      <td>17392</td>\n",
              "      <td>Trump Takes on Democrats and Health Law in New...</td>\n",
              "      <td>New York Times</td>\n",
              "      <td>Julie Hirschfeld Davis</td>\n",
              "      <td>2017-01-06</td>\n",
              "      <td>2017.0</td>\n",
              "      <td>1.0</td>\n",
              "      <td>NaN</td>\n",
              "      <td>WASHINGTON  —     Donald J. Trump lashed out a...</td>\n",
              "      <td>[trump, take, democrat, health, law, new, twit...</td>\n",
              "      <td>[mr , trump]</td>\n",
              "      <td>154</td>\n",
              "    </tr>\n",
              "    <tr>\n",
              "      <th>12</th>\n",
              "      <td>12</td>\n",
              "      <td>17295</td>\n",
              "      <td>Mar-a-Lago, the Future Winter White House and ...</td>\n",
              "      <td>New York Times</td>\n",
              "      <td>Maggie Haberman</td>\n",
              "      <td>2017-01-02</td>\n",
              "      <td>2017.0</td>\n",
              "      <td>1.0</td>\n",
              "      <td>NaN</td>\n",
              "      <td>WEST PALM BEACH, Fla.  —   When   Donald J. Tr...</td>\n",
              "      <td>[mar, lago, future, winter, white, house, home...</td>\n",
              "      <td>[mr , trump]</td>\n",
              "      <td>151</td>\n",
              "    </tr>\n",
              "    <tr>\n",
              "      <th>10</th>\n",
              "      <td>10</td>\n",
              "      <td>17293</td>\n",
              "      <td>Weak Federal Powers Could Limit Trump’s Climat...</td>\n",
              "      <td>New York Times</td>\n",
              "      <td>Justin Gillis</td>\n",
              "      <td>2017-01-03</td>\n",
              "      <td>2017.0</td>\n",
              "      <td>1.0</td>\n",
              "      <td>NaN</td>\n",
              "      <td>With Donald J. Trump about to take control of ...</td>\n",
              "      <td>[weak, federal, power, could, limit, trump, cl...</td>\n",
              "      <td>[trump , mr]</td>\n",
              "      <td>74</td>\n",
              "    </tr>\n",
              "    <tr>\n",
              "      <th>77</th>\n",
              "      <td>77</td>\n",
              "      <td>17373</td>\n",
              "      <td>Enough With the Tweets, China’s State Media Te...</td>\n",
              "      <td>New York Times</td>\n",
              "      <td>Chris Buckley</td>\n",
              "      <td>2017-01-05</td>\n",
              "      <td>2017.0</td>\n",
              "      <td>1.0</td>\n",
              "      <td>NaN</td>\n",
              "      <td>BEIJING  —   China’s leaders thought they had ...</td>\n",
              "      <td>[enough, tweet, china, state, medium, tell, tr...</td>\n",
              "      <td>[trump , mr]</td>\n",
              "      <td>74</td>\n",
              "    </tr>\n",
              "  </tbody>\n",
              "</table>\n",
              "</div>"
            ],
            "text/plain": [
              "    Unnamed: 0     id  ...        topics coverage60\n",
              "43          43  17334  ...  [mr , trump]        154\n",
              "93          93  17392  ...  [mr , trump]        154\n",
              "12          12  17295  ...  [mr , trump]        151\n",
              "10          10  17293  ...  [trump , mr]         74\n",
              "77          77  17373  ...  [trump , mr]         74\n",
              "\n",
              "[5 rows x 13 columns]"
            ]
          },
          "metadata": {
            "tags": []
          },
          "execution_count": 67
        }
      ]
    },
    {
      "cell_type": "markdown",
      "metadata": {
        "id": "Mgwc_azbfHdK",
        "colab_type": "text"
      },
      "source": [
        "Counting the number of articles with coverage score greater than 1,"
      ]
    },
    {
      "cell_type": "code",
      "metadata": {
        "id": "IJ1dxOHVfKOh",
        "colab_type": "code",
        "outputId": "4404290d-03a4-4207-c6c3-ce58fd135b72",
        "colab": {
          "base_uri": "https://localhost:8080/",
          "height": 34
        }
      },
      "source": [
        "len(non_fake_data[non_fake_data['coverage60']>1])"
      ],
      "execution_count": 0,
      "outputs": [
        {
          "output_type": "execute_result",
          "data": {
            "text/plain": [
              "29"
            ]
          },
          "metadata": {
            "tags": []
          },
          "execution_count": 68
        }
      ]
    },
    {
      "cell_type": "markdown",
      "metadata": {
        "id": "CadFX0H6T3Qg",
        "colab_type": "text"
      },
      "source": [
        "### 10.1 Comparisons between Fake and Non-Fake News Datasets\n",
        "\n",
        "Based on sample of 100 articles from pool of fake and non-fake news sources, the coverage score for non-fake news articles are significantly higher than the fake news articles. In particular, around 30 out of 100 of non-fake news articles had coverage score greater than one. On the other hand, only 14 out of 100 of fake news articles had coverge score greater than one. \n"
      ]
    },
    {
      "cell_type": "code",
      "metadata": {
        "id": "U2qLJGG11B6n",
        "colab_type": "code",
        "outputId": "33f6600d-788a-47b4-ebaf-f850bfff854d",
        "colab": {
          "base_uri": "https://localhost:8080/",
          "height": 34
        }
      },
      "source": [
        "# For caculating approximate time to process notebook (IGNORE)\n",
        "import datetime\n",
        "datetime.datetime.now()"
      ],
      "execution_count": 0,
      "outputs": [
        {
          "output_type": "execute_result",
          "data": {
            "text/plain": [
              "datetime.datetime(2020, 4, 27, 2, 27, 37, 110505)"
            ]
          },
          "metadata": {
            "tags": []
          },
          "execution_count": 69
        }
      ]
    },
    {
      "cell_type": "markdown",
      "metadata": {
        "id": "twKJ25sCO2en",
        "colab_type": "text"
      },
      "source": [
        "## 11 Amalgamation (Liar Liar + All News)"
      ]
    },
    {
      "cell_type": "markdown",
      "metadata": {
        "id": "fkzIohC5pBQS",
        "colab_type": "text"
      },
      "source": [
        "### 11.0 Preparing for the Polynomial (News Coverage Score)\n",
        "\n",
        "To prepare for polynomial equation, we should apply the rank to the combined dataset of fake and non-fake news, prepared by Gene. Here are several reasons news coverage score has been chosen:\n",
        "\n",
        "- More accurate model\n",
        "- Clear difference between all news data set and fakenews dataset\n",
        "- Interest of time and resources"
      ]
    },
    {
      "cell_type": "markdown",
      "metadata": {
        "id": "uf6lwvd-YZ3t",
        "colab_type": "text"
      },
      "source": [
        "### 11.1 Cleaning Up Exiting Data"
      ]
    },
    {
      "cell_type": "code",
      "metadata": {
        "id": "7AmiK2Atuyyp",
        "colab_type": "code",
        "colab": {}
      },
      "source": [
        "# Clean up some existing data\n",
        "\n",
        "data_all_news = data_all_news.iloc[0:0]\n",
        "data_liar_liar = data_liar_liar.iloc[0:0] "
      ],
      "execution_count": 0,
      "outputs": []
    },
    {
      "cell_type": "markdown",
      "metadata": {
        "id": "C2Ydtpy1YiyL",
        "colab_type": "text"
      },
      "source": [
        "### 11.2 Uniform Data Preparation\n",
        "\n",
        "We need to apply our trained model on amalgamated data. No training is required. We just need to apply our model to this dataset."
      ]
    },
    {
      "cell_type": "code",
      "metadata": {
        "id": "MgkthGJX5AKG",
        "colab_type": "code",
        "outputId": "6b52a99c-4f4d-4f29-8a78-e1eb4aa1e199",
        "colab": {
          "base_uri": "https://localhost:8080/",
          "height": 322
        }
      },
      "source": [
        "!pip install gensim"
      ],
      "execution_count": 0,
      "outputs": [
        {
          "output_type": "stream",
          "text": [
            "Requirement already satisfied: gensim in /usr/local/lib/python3.6/dist-packages (3.6.0)\n",
            "Requirement already satisfied: six>=1.5.0 in /usr/local/lib/python3.6/dist-packages (from gensim) (1.12.0)\n",
            "Requirement already satisfied: smart-open>=1.2.1 in /usr/local/lib/python3.6/dist-packages (from gensim) (1.11.1)\n",
            "Requirement already satisfied: numpy>=1.11.3 in /usr/local/lib/python3.6/dist-packages (from gensim) (1.18.3)\n",
            "Requirement already satisfied: scipy>=0.18.1 in /usr/local/lib/python3.6/dist-packages (from gensim) (1.4.1)\n",
            "Requirement already satisfied: boto3 in /usr/local/lib/python3.6/dist-packages (from smart-open>=1.2.1->gensim) (1.12.43)\n",
            "Requirement already satisfied: requests in /usr/local/lib/python3.6/dist-packages (from smart-open>=1.2.1->gensim) (2.21.0)\n",
            "Requirement already satisfied: boto in /usr/local/lib/python3.6/dist-packages (from smart-open>=1.2.1->gensim) (2.49.0)\n",
            "Requirement already satisfied: s3transfer<0.4.0,>=0.3.0 in /usr/local/lib/python3.6/dist-packages (from boto3->smart-open>=1.2.1->gensim) (0.3.3)\n",
            "Requirement already satisfied: jmespath<1.0.0,>=0.7.1 in /usr/local/lib/python3.6/dist-packages (from boto3->smart-open>=1.2.1->gensim) (0.9.5)\n",
            "Requirement already satisfied: botocore<1.16.0,>=1.15.43 in /usr/local/lib/python3.6/dist-packages (from boto3->smart-open>=1.2.1->gensim) (1.15.43)\n",
            "Requirement already satisfied: urllib3<1.25,>=1.21.1 in /usr/local/lib/python3.6/dist-packages (from requests->smart-open>=1.2.1->gensim) (1.24.3)\n",
            "Requirement already satisfied: chardet<3.1.0,>=3.0.2 in /usr/local/lib/python3.6/dist-packages (from requests->smart-open>=1.2.1->gensim) (3.0.4)\n",
            "Requirement already satisfied: idna<2.9,>=2.5 in /usr/local/lib/python3.6/dist-packages (from requests->smart-open>=1.2.1->gensim) (2.8)\n",
            "Requirement already satisfied: certifi>=2017.4.17 in /usr/local/lib/python3.6/dist-packages (from requests->smart-open>=1.2.1->gensim) (2020.4.5.1)\n",
            "Requirement already satisfied: docutils<0.16,>=0.10 in /usr/local/lib/python3.6/dist-packages (from botocore<1.16.0,>=1.15.43->boto3->smart-open>=1.2.1->gensim) (0.15.2)\n",
            "Requirement already satisfied: python-dateutil<3.0.0,>=2.1 in /usr/local/lib/python3.6/dist-packages (from botocore<1.16.0,>=1.15.43->boto3->smart-open>=1.2.1->gensim) (2.8.1)\n"
          ],
          "name": "stdout"
        }
      ]
    },
    {
      "cell_type": "code",
      "metadata": {
        "id": "LPc-q4aGpgtl",
        "colab_type": "code",
        "outputId": "773c80df-37ca-4a48-a0ac-b033618aaf59",
        "colab": {
          "base_uri": "https://localhost:8080/",
          "height": 168
        }
      },
      "source": [
        "\n",
        "# dependencies\n",
        "import pandas as pd\n",
        "import nltk\n",
        "import numpy as np\n",
        "import io\n",
        "import requests\n",
        "from sklearn.feature_extraction.text import TfidfVectorizer\n",
        "from nltk import word_tokenize\n",
        "from nltk.corpus import stopwords\n",
        "# from sklearn.pipeline import Pipeline\n",
        "from sklearn.decomposition import TruncatedSVD\n",
        "from sklearn.feature_selection import chi2\n",
        "from string import punctuation\n",
        "from nltk import PorterStemmer\n",
        "import copy \n",
        "import re, math\n",
        "from sklearn.model_selection import train_test_split\n",
        "from nltk import WordNetLemmatizer\n",
        "from nltk import bigrams\n",
        "from nltk.util import ngrams\n",
        "from nltk.sentiment.vader import SentimentIntensityAnalyzer\n",
        "from gensim.models.ldamodel import LdaModel\n",
        "from gensim.corpora import Dictionary\n",
        "import pickle\n",
        "from collections import Counter\n",
        "from sklearn.ensemble import RandomForestClassifier\n",
        "from sklearn.svm import SVC\n",
        "from sklearn.linear_model import LogisticRegression\n",
        "from sklearn.naive_bayes import GaussianNB\n",
        "from sklearn.metrics import accuracy_score, confusion_matrix, roc_auc_score\n",
        "from xgboost import XGBClassifier\n",
        "\n",
        "nltk.download('vader_lexicon')\n",
        "nltk.download('punkt')\n",
        "nltk.download('stopwords')\n",
        "nltk.download('wordnet')"
      ],
      "execution_count": 0,
      "outputs": [
        {
          "output_type": "stream",
          "text": [
            "[nltk_data] Downloading package vader_lexicon to /root/nltk_data...\n",
            "[nltk_data]   Package vader_lexicon is already up-to-date!\n",
            "[nltk_data] Downloading package punkt to /root/nltk_data...\n",
            "[nltk_data]   Package punkt is already up-to-date!\n",
            "[nltk_data] Downloading package stopwords to /root/nltk_data...\n",
            "[nltk_data]   Package stopwords is already up-to-date!\n",
            "[nltk_data] Downloading package wordnet to /root/nltk_data...\n",
            "[nltk_data]   Package wordnet is already up-to-date!\n"
          ],
          "name": "stdout"
        },
        {
          "output_type": "execute_result",
          "data": {
            "text/plain": [
              "True"
            ]
          },
          "metadata": {
            "tags": []
          },
          "execution_count": 72
        }
      ]
    },
    {
      "cell_type": "code",
      "metadata": {
        "id": "yHe-bOHApmVA",
        "colab_type": "code",
        "outputId": "339513bc-323a-4779-931f-a77312979013",
        "colab": {
          "base_uri": "https://localhost:8080/",
          "height": 104
        }
      },
      "source": [
        "\n",
        "def get_parsed_data2(url):\n",
        "    return pd.read_csv(io.StringIO(requests.get(url, verify=False).content.decode('utf-8')), sep=',', header='infer')\n",
        "\n",
        "# download and parse the dataset...\n",
        "data_kg_fake_news = get_parsed_data2('https://github.com/synle/machine-learning-sample-dataset/raw/master/liar_dataset/kaggle/kaggle-fake.csv')"
      ],
      "execution_count": 0,
      "outputs": [
        {
          "output_type": "stream",
          "text": [
            "/usr/local/lib/python3.6/dist-packages/urllib3/connectionpool.py:847: InsecureRequestWarning: Unverified HTTPS request is being made. Adding certificate verification is strongly advised. See: https://urllib3.readthedocs.io/en/latest/advanced-usage.html#ssl-warnings\n",
            "  InsecureRequestWarning)\n",
            "/usr/local/lib/python3.6/dist-packages/urllib3/connectionpool.py:847: InsecureRequestWarning: Unverified HTTPS request is being made. Adding certificate verification is strongly advised. See: https://urllib3.readthedocs.io/en/latest/advanced-usage.html#ssl-warnings\n",
            "  InsecureRequestWarning)\n"
          ],
          "name": "stderr"
        }
      ]
    },
    {
      "cell_type": "code",
      "metadata": {
        "id": "x3AuNeD_9u67",
        "colab_type": "code",
        "outputId": "8899c16b-5471-4333-ccef-06d188787a61",
        "colab": {
          "base_uri": "https://localhost:8080/",
          "height": 70
        }
      },
      "source": [
        "# All News Kaggle\n",
        "\n",
        "def get_parsed_data2(url):\n",
        "    return pd.read_csv(io.StringIO(requests.get(url, verify=False).content.decode('utf-8')), sep=',', header='infer')\n",
        "\n",
        "# download and parse the dataset...\n",
        "data_kg_nonfake_news = get_parsed_data2('https://media.githubusercontent.com/media/hyunwookshin/all_news_dataset_kaggle/master/articles1.csv')"
      ],
      "execution_count": 0,
      "outputs": [
        {
          "output_type": "stream",
          "text": [
            "/usr/local/lib/python3.6/dist-packages/urllib3/connectionpool.py:847: InsecureRequestWarning: Unverified HTTPS request is being made. Adding certificate verification is strongly advised. See: https://urllib3.readthedocs.io/en/latest/advanced-usage.html#ssl-warnings\n",
            "  InsecureRequestWarning)\n"
          ],
          "name": "stderr"
        }
      ]
    },
    {
      "cell_type": "code",
      "metadata": {
        "id": "P4XaxlhWpwy2",
        "colab_type": "code",
        "colab": {}
      },
      "source": [
        "\n",
        "def tokenize2(text):\n",
        "    cachedStopWords = set(stopwords.words('english') + list(punctuation))\n",
        "    min_length = 3\n",
        "    # tokenize\n",
        "    # convert to lower case\n",
        "    words = map(lambda word: word.lower(), word_tokenize(text))\n",
        "    # remove stop words\n",
        "    words = [word for word in words if word not in cachedStopWords]\n",
        "    # steming\n",
        "    #tokens = list(map(lambda token: PorterStemmer().stem(token), words))\n",
        "    # lemmatize\n",
        "    lemmas = [WordNetLemmatizer().lemmatize(word) for word in words]\n",
        "    # only focus on alphabetic words\n",
        "    p = re.compile('[a-zA-Z]+')\n",
        "    \n",
        "    filtered_lemmas = list(filter(lambda lemma: p.match(lemma) and len(lemma) >= min_length, lemmas))\n",
        "    return filtered_lemmas\n"
      ],
      "execution_count": 0,
      "outputs": []
    },
    {
      "cell_type": "code",
      "metadata": {
        "id": "K5w6iiEZ0JTR",
        "colab_type": "code",
        "colab": {}
      },
      "source": [
        "\n",
        "data_kg_nonfake_news.rename(columns={\"content\": \"text\"}, inplace=True)\n",
        "data_kg_nonfake_news['type'] = 0\n",
        "data_kg_fake_news.loc[data_kg_fake_news['type']!='bs', 'type'] = 0\n",
        "data_kg_fake_news.loc[data_kg_fake_news['type']=='bs', 'type'] = 1\n",
        "\n",
        "\n",
        "### From Earlier Part of the assignment\n",
        "def setDate( published ):\n",
        "   return published.split( \"T\" )[0]\n",
        "  \n",
        "data_kg_fake_news[ 'date' ] = data_kg_fake_news.published.apply( setDate )\n",
        "\n",
        "all_data = pd.concat([data_kg_fake_news[['date', 'title','text','type']], data_kg_nonfake_news[['date', 'title','text','type']]])"
      ],
      "execution_count": 0,
      "outputs": []
    },
    {
      "cell_type": "code",
      "metadata": {
        "id": "aceO8aMm5-bM",
        "colab_type": "code",
        "outputId": "77fd0d55-d37b-4605-cf36-ee06b9a9dfaa",
        "colab": {
          "base_uri": "https://localhost:8080/",
          "height": 67
        }
      },
      "source": [
        "all_data.type.value_counts()"
      ],
      "execution_count": 0,
      "outputs": [
        {
          "output_type": "execute_result",
          "data": {
            "text/plain": [
              "0    51507\n",
              "1    11492\n",
              "Name: type, dtype: int64"
            ]
          },
          "metadata": {
            "tags": []
          },
          "execution_count": 77
        }
      ]
    },
    {
      "cell_type": "code",
      "metadata": {
        "id": "dg9ucgHo6lUe",
        "colab_type": "code",
        "colab": {}
      },
      "source": [
        "all_data_to_export = all_data[[\"title\"]]\n",
        "all_data_to_export.to_csv('all_data_mini.csv', 'w' )\n",
        "from google.colab import files\n",
        "\n",
        "#files.download('all_data_mini.csv')"
      ],
      "execution_count": 0,
      "outputs": []
    },
    {
      "cell_type": "code",
      "metadata": {
        "id": "LGwTsk1gp62l",
        "colab_type": "code",
        "colab": {}
      },
      "source": [
        "\n",
        "all_data['text_clean']=all_data['text'].astype('U').apply(tokenize2)\n",
        "#all_data['title_clean']=all_data['title'].astype('U').apply(tokenize2)"
      ],
      "execution_count": 0,
      "outputs": []
    },
    {
      "cell_type": "markdown",
      "metadata": {
        "id": "gToCjmRTrEDe",
        "colab_type": "text"
      },
      "source": [
        "Please refer to section 7.9 - 14 for explanations"
      ]
    },
    {
      "cell_type": "code",
      "metadata": {
        "id": "npXQ9HDU3Nsl",
        "colab_type": "code",
        "outputId": "52bb2887-752f-45b2-8251-f67b7c49ca75",
        "colab": {
          "base_uri": "https://localhost:8080/",
          "height": 67
        }
      },
      "source": [
        "all_data.text_clean.head(2)"
      ],
      "execution_count": 0,
      "outputs": [
        {
          "output_type": "execute_result",
          "data": {
            "text/plain": [
              "0    [print, pay, back, money, plus, interest, enti...\n",
              "1    [attorney, general, loretta, lynch, plead, fif...\n",
              "Name: text_clean, dtype: object"
            ]
          },
          "metadata": {
            "tags": []
          },
          "execution_count": 80
        }
      ]
    },
    {
      "cell_type": "code",
      "metadata": {
        "id": "53nejRhj6IbI",
        "colab_type": "code",
        "outputId": "df25dbdb-5072-452e-f9eb-88ba07c56844",
        "colab": {
          "base_uri": "https://localhost:8080/",
          "height": 67
        }
      },
      "source": [
        "all_data.type.value_counts()"
      ],
      "execution_count": 0,
      "outputs": [
        {
          "output_type": "execute_result",
          "data": {
            "text/plain": [
              "0    51507\n",
              "1    11492\n",
              "Name: type, dtype: int64"
            ]
          },
          "metadata": {
            "tags": []
          },
          "execution_count": 81
        }
      ]
    },
    {
      "cell_type": "code",
      "metadata": {
        "id": "YoCKS-7bqqiH",
        "colab_type": "code",
        "outputId": "5de5e325-8c00-41f2-8fc2-0927c8101ffb",
        "colab": {
          "base_uri": "https://localhost:8080/",
          "height": 330
        }
      },
      "source": [
        "\n",
        "s= all_data['type'].value_counts()\n",
        "print(s)\n",
        "s.plot(kind='bar')"
      ],
      "execution_count": 0,
      "outputs": [
        {
          "output_type": "stream",
          "text": [
            "0    51507\n",
            "1    11492\n",
            "Name: type, dtype: int64\n"
          ],
          "name": "stdout"
        },
        {
          "output_type": "execute_result",
          "data": {
            "text/plain": [
              "<matplotlib.axes._subplots.AxesSubplot at 0x7f695612d128>"
            ]
          },
          "metadata": {
            "tags": []
          },
          "execution_count": 82
        },
        {
          "output_type": "display_data",
          "data": {
            "image/png": "[encoded data removed]",
            "text/plain": [
              "<Figure size 432x288 with 1 Axes>"
            ]
          },
          "metadata": {
            "tags": [],
            "needs_background": "light"
          }
        }
      ]
    },
    {
      "cell_type": "markdown",
      "metadata": {
        "id": "auh3CfmuZFsL",
        "colab_type": "text"
      },
      "source": [
        "### 11.3 Applying LDA (as done before)"
      ]
    },
    {
      "cell_type": "code",
      "metadata": {
        "id": "SUk43bSXqsZw",
        "colab_type": "code",
        "colab": {}
      },
      "source": [
        "#all_data['text_distilled'] = all_data[ 'text_clean' ].apply( lambda x : x.split())\n",
        "from gensim.models.ldamodel import LdaModel\n",
        "from gensim.corpora import Dictionary\n",
        "\n",
        "def topics(tokenized_words):\n",
        "    if len( tokenized_words ) == 0 :\n",
        "      return []\n",
        "    d = Dictionary([tokenized_words])\n",
        "    c = [d.doc2bow(tokenized_words)]\n",
        "    m = LdaModel(c, num_topics=1, id2word=d)\n",
        "    return list(m.print_topics(num_words=2))\n",
        "  \n",
        "all_data['topics'] = all_data['text_clean'].apply(topics)\n"
      ],
      "execution_count": 0,
      "outputs": []
    },
    {
      "cell_type": "code",
      "metadata": {
        "id": "fAVl3EZk5wHR",
        "colab_type": "code",
        "outputId": "b2cb3137-4448-494b-dc14-17339555904d",
        "colab": {
          "base_uri": "https://localhost:8080/",
          "height": 118
        }
      },
      "source": [
        "all_data['topics'].head(5)"
      ],
      "execution_count": 0,
      "outputs": [
        {
          "output_type": "execute_result",
          "data": {
            "text/plain": [
              "0    [(0, 0.036*\"government\" + 0.036*\"group\")]\n",
              "1          [(0, 0.033*\"lynch\" + 0.022*\"cash\")]\n",
              "2         [(0, 0.027*\"weiner\" + 0.018*\"form\")]\n",
              "3      [(0, 0.056*\"mueller\" + 0.056*\"speech\")]\n",
              "4      [(0, 0.024*\"insurance\" + 0.018*\"must\")]\n",
              "Name: topics, dtype: object"
            ]
          },
          "metadata": {
            "tags": []
          },
          "execution_count": 84
        }
      ]
    },
    {
      "cell_type": "code",
      "metadata": {
        "id": "iA6Uytjb5rIe",
        "colab_type": "code",
        "colab": {}
      },
      "source": [
        "\n",
        "def parseTopics(topics):\n",
        "   output = []\n",
        "   if len( topics ) >= 1 :\n",
        "      words = topics[0][1].split( '+' )\n",
        "   else:\n",
        "      return []\n",
        "   for word in words:\n",
        "       if '*' not in word:\n",
        "           print(word)\n",
        "           output.append( word )\n",
        "       else:\n",
        "           output.append( word.split('*')[1].replace( '\"', '' ) )\n",
        "   if len( output ) < 2:\n",
        "      output.append( output[0] )\n",
        "   if len( output ) != 2:\n",
        "      return output[:2]\n",
        "   if not isinstance( output[0], str ) or not isinstance( output[1], str ):\n",
        "      print( output )\n",
        "      assert isinstance( output[0], str )\n",
        "      assert isinstance( output[1], str )\n",
        "   return output"
      ],
      "execution_count": 0,
      "outputs": []
    },
    {
      "cell_type": "code",
      "metadata": {
        "id": "uIpZ2p7orDIc",
        "colab_type": "code",
        "outputId": "d7785c67-a070-4232-80c1-90b1509ebcca",
        "colab": {
          "base_uri": "https://localhost:8080/",
          "height": 134
        }
      },
      "source": [
        "all_data['topics'] = all_data['topics'].apply(parseTopics)"
      ],
      "execution_count": 0,
      "outputs": [
        {
          "output_type": "stream",
          "text": [
            "placement\"\n",
            "placement\"\n",
            "placement\"\n",
            "1z\"\n",
            "1z\"\n",
            "1z\"\n",
            "1z\"\n"
          ],
          "name": "stdout"
        }
      ]
    },
    {
      "cell_type": "markdown",
      "metadata": {
        "id": "pDHoVJiOY9-_",
        "colab_type": "text"
      },
      "source": [
        "### 11.4 Encoding Topics using word2vec (Same Practice)"
      ]
    },
    {
      "cell_type": "code",
      "metadata": {
        "id": "SMHYRuc3rStb",
        "colab_type": "code",
        "outputId": "8610e4b9-fdf2-4c1a-80c5-7a9f0e60e0e1",
        "colab": {
          "base_uri": "https://localhost:8080/",
          "height": 289
        }
      },
      "source": [
        "m = Word2Vec( all_data[ 'text_clean' ] )\n",
        "vector_dim = len(m[list(m.wv.vocab)[0]])\n",
        "\n",
        "def encodeFirstColumn( topics ):\n",
        "   if len(topics) == 0:\n",
        "      return np.zeros( len(m[list(m.wv.vocab)[0]]) ).tolist()\n",
        "   topic = topics[0].strip()\n",
        "   if topic in m:\n",
        "      return m[topic].tolist()\n",
        "   else:\n",
        "      return np.zeros( len(m[list(m.wv.vocab)[0]]) ).tolist()\n",
        "    \n",
        "def encodeSecondColumn( topics ):\n",
        "   if len(topics) == 0:\n",
        "      return np.zeros( len(m[list(m.wv.vocab)[0]]) ).tolist()\n",
        "   topic = topics[0].strip()\n",
        "   if topic in m:\n",
        "      return m[topic].tolist()\n",
        "   else:\n",
        "      return np.zeros( len(m[list(m.wv.vocab)[0]]) ).tolist()\n",
        "    \n",
        "all_data[ 'topic_0' ] = all_data.topics.apply( encodeFirstColumn )\n",
        "all_data[ 'topic_1' ] = all_data.topics.apply( encodeSecondColumn )"
      ],
      "execution_count": 0,
      "outputs": [
        {
          "output_type": "stream",
          "text": [
            "/usr/local/lib/python3.6/dist-packages/ipykernel_launcher.py:2: DeprecationWarning: Call to deprecated `__getitem__` (Method will be removed in 4.0.0, use self.wv.__getitem__() instead).\n",
            "  \n",
            "/usr/local/lib/python3.6/dist-packages/ipykernel_launcher.py:8: DeprecationWarning: Call to deprecated `__contains__` (Method will be removed in 4.0.0, use self.wv.__contains__() instead).\n",
            "  \n",
            "/usr/local/lib/python3.6/dist-packages/ipykernel_launcher.py:9: DeprecationWarning: Call to deprecated `__getitem__` (Method will be removed in 4.0.0, use self.wv.__getitem__() instead).\n",
            "  if __name__ == '__main__':\n",
            "/usr/local/lib/python3.6/dist-packages/ipykernel_launcher.py:6: DeprecationWarning: Call to deprecated `__getitem__` (Method will be removed in 4.0.0, use self.wv.__getitem__() instead).\n",
            "  \n",
            "/usr/local/lib/python3.6/dist-packages/ipykernel_launcher.py:11: DeprecationWarning: Call to deprecated `__getitem__` (Method will be removed in 4.0.0, use self.wv.__getitem__() instead).\n",
            "  # This is added back by InteractiveShellApp.init_path()\n",
            "/usr/local/lib/python3.6/dist-packages/ipykernel_launcher.py:17: DeprecationWarning: Call to deprecated `__contains__` (Method will be removed in 4.0.0, use self.wv.__contains__() instead).\n",
            "/usr/local/lib/python3.6/dist-packages/ipykernel_launcher.py:18: DeprecationWarning: Call to deprecated `__getitem__` (Method will be removed in 4.0.0, use self.wv.__getitem__() instead).\n",
            "/usr/local/lib/python3.6/dist-packages/ipykernel_launcher.py:15: DeprecationWarning: Call to deprecated `__getitem__` (Method will be removed in 4.0.0, use self.wv.__getitem__() instead).\n",
            "  from ipykernel import kernelapp as app\n",
            "/usr/local/lib/python3.6/dist-packages/ipykernel_launcher.py:20: DeprecationWarning: Call to deprecated `__getitem__` (Method will be removed in 4.0.0, use self.wv.__getitem__() instead).\n"
          ],
          "name": "stderr"
        }
      ]
    },
    {
      "cell_type": "code",
      "metadata": {
        "id": "G1uM8QhQG886",
        "colab_type": "code",
        "outputId": "60134d7c-a146-41d5-b3b9-ec051e6a65fd",
        "colab": {
          "base_uri": "https://localhost:8080/",
          "height": 174
        }
      },
      "source": [
        "all_data.head(2)"
      ],
      "execution_count": 0,
      "outputs": [
        {
          "output_type": "execute_result",
          "data": {
            "text/html": [
              "<div>\n",
              "<style scoped>\n",
              "    .dataframe tbody tr th:only-of-type {\n",
              "        vertical-align: middle;\n",
              "    }\n",
              "\n",
              "    .dataframe tbody tr th {\n",
              "        vertical-align: top;\n",
              "    }\n",
              "\n",
              "    .dataframe thead th {\n",
              "        text-align: right;\n",
              "    }\n",
              "</style>\n",
              "<table border=\"1\" class=\"dataframe\">\n",
              "  <thead>\n",
              "    <tr style=\"text-align: right;\">\n",
              "      <th></th>\n",
              "      <th>date</th>\n",
              "      <th>title</th>\n",
              "      <th>text</th>\n",
              "      <th>type</th>\n",
              "      <th>text_clean</th>\n",
              "      <th>topics</th>\n",
              "      <th>topic_0</th>\n",
              "      <th>topic_1</th>\n",
              "    </tr>\n",
              "  </thead>\n",
              "  <tbody>\n",
              "    <tr>\n",
              "      <th>0</th>\n",
              "      <td>2016-10-26</td>\n",
              "      <td>Muslims BUSTED: They Stole Millions In Gov’t B...</td>\n",
              "      <td>Print They should pay all the back all the mon...</td>\n",
              "      <td>0</td>\n",
              "      <td>[print, pay, back, money, plus, interest, enti...</td>\n",
              "      <td>[government , group]</td>\n",
              "      <td>[-0.1733947992324829, -0.8915804624557495, 0.0...</td>\n",
              "      <td>[-0.1733947992324829, -0.8915804624557495, 0.0...</td>\n",
              "    </tr>\n",
              "    <tr>\n",
              "      <th>1</th>\n",
              "      <td>2016-10-29</td>\n",
              "      <td>Re: Why Did Attorney General Loretta Lynch Ple...</td>\n",
              "      <td>Why Did Attorney General Loretta Lynch Plead T...</td>\n",
              "      <td>0</td>\n",
              "      <td>[attorney, general, loretta, lynch, plead, fif...</td>\n",
              "      <td>[lynch , cash]</td>\n",
              "      <td>[0.42601731419563293, 0.21464447677135468, -0....</td>\n",
              "      <td>[0.42601731419563293, 0.21464447677135468, -0....</td>\n",
              "    </tr>\n",
              "  </tbody>\n",
              "</table>\n",
              "</div>"
            ],
            "text/plain": [
              "         date  ...                                            topic_1\n",
              "0  2016-10-26  ...  [-0.1733947992324829, -0.8915804624557495, 0.0...\n",
              "1  2016-10-29  ...  [0.42601731419563293, 0.21464447677135468, -0....\n",
              "\n",
              "[2 rows x 8 columns]"
            ]
          },
          "metadata": {
            "tags": []
          },
          "execution_count": 88
        }
      ]
    },
    {
      "cell_type": "code",
      "metadata": {
        "id": "M8qvjQz5voEd",
        "colab_type": "code",
        "colab": {}
      },
      "source": [
        "all_data[ 'date_int' ] = all_data.date.apply( setNumericDate )"
      ],
      "execution_count": 0,
      "outputs": []
    },
    {
      "cell_type": "code",
      "metadata": {
        "id": "-YjzryxOHEDx",
        "colab_type": "code",
        "outputId": "72bc1cf8-8a31-4c55-b2f1-1824b1a2b65e",
        "colab": {
          "base_uri": "https://localhost:8080/",
          "height": 110
        }
      },
      "source": [
        "all_data.head(1)"
      ],
      "execution_count": 0,
      "outputs": [
        {
          "output_type": "execute_result",
          "data": {
            "text/html": [
              "<div>\n",
              "<style scoped>\n",
              "    .dataframe tbody tr th:only-of-type {\n",
              "        vertical-align: middle;\n",
              "    }\n",
              "\n",
              "    .dataframe tbody tr th {\n",
              "        vertical-align: top;\n",
              "    }\n",
              "\n",
              "    .dataframe thead th {\n",
              "        text-align: right;\n",
              "    }\n",
              "</style>\n",
              "<table border=\"1\" class=\"dataframe\">\n",
              "  <thead>\n",
              "    <tr style=\"text-align: right;\">\n",
              "      <th></th>\n",
              "      <th>date</th>\n",
              "      <th>title</th>\n",
              "      <th>text</th>\n",
              "      <th>type</th>\n",
              "      <th>text_clean</th>\n",
              "      <th>topics</th>\n",
              "      <th>topic_0</th>\n",
              "      <th>topic_1</th>\n",
              "      <th>date_int</th>\n",
              "    </tr>\n",
              "  </thead>\n",
              "  <tbody>\n",
              "    <tr>\n",
              "      <th>0</th>\n",
              "      <td>2016-10-26</td>\n",
              "      <td>Muslims BUSTED: They Stole Millions In Gov’t B...</td>\n",
              "      <td>Print They should pay all the back all the mon...</td>\n",
              "      <td>0</td>\n",
              "      <td>[print, pay, back, money, plus, interest, enti...</td>\n",
              "      <td>[government , group]</td>\n",
              "      <td>[-0.1733947992324829, -0.8915804624557495, 0.0...</td>\n",
              "      <td>[-0.1733947992324829, -0.8915804624557495, 0.0...</td>\n",
              "      <td>201610</td>\n",
              "    </tr>\n",
              "  </tbody>\n",
              "</table>\n",
              "</div>"
            ],
            "text/plain": [
              "         date  ... date_int\n",
              "0  2016-10-26  ...   201610\n",
              "\n",
              "[1 rows x 9 columns]"
            ]
          },
          "metadata": {
            "tags": []
          },
          "execution_count": 90
        }
      ]
    },
    {
      "cell_type": "code",
      "metadata": {
        "id": "m2Aj0rzQwwuB",
        "colab_type": "code",
        "colab": {}
      },
      "source": [
        "for i in range( vector_dim ):\n",
        "   all_data[str(i)] = all_data.topic_0.apply( lambda x : select(x, i ) )\n",
        "    \n",
        "for i in range( vector_dim ):\n",
        "   all_data[str(vector_dim + i)] = all_data.topic_0.apply( lambda x : select(x, i ) )"
      ],
      "execution_count": 0,
      "outputs": []
    },
    {
      "cell_type": "code",
      "metadata": {
        "id": "m7N75jLuHXmh",
        "colab_type": "code",
        "outputId": "d046d0c3-4878-49ec-e949-669241395bf2",
        "colab": {
          "base_uri": "https://localhost:8080/",
          "height": 390
        }
      },
      "source": [
        "all_data.head(2)"
      ],
      "execution_count": 0,
      "outputs": [
        {
          "output_type": "execute_result",
          "data": {
            "text/html": [
              "<div>\n",
              "<style scoped>\n",
              "    .dataframe tbody tr th:only-of-type {\n",
              "        vertical-align: middle;\n",
              "    }\n",
              "\n",
              "    .dataframe tbody tr th {\n",
              "        vertical-align: top;\n",
              "    }\n",
              "\n",
              "    .dataframe thead th {\n",
              "        text-align: right;\n",
              "    }\n",
              "</style>\n",
              "<table border=\"1\" class=\"dataframe\">\n",
              "  <thead>\n",
              "    <tr style=\"text-align: right;\">\n",
              "      <th></th>\n",
              "      <th>date</th>\n",
              "      <th>title</th>\n",
              "      <th>text</th>\n",
              "      <th>type</th>\n",
              "      <th>text_clean</th>\n",
              "      <th>topics</th>\n",
              "      <th>topic_0</th>\n",
              "      <th>topic_1</th>\n",
              "      <th>date_int</th>\n",
              "      <th>0</th>\n",
              "      <th>1</th>\n",
              "      <th>2</th>\n",
              "      <th>3</th>\n",
              "      <th>4</th>\n",
              "      <th>5</th>\n",
              "      <th>6</th>\n",
              "      <th>7</th>\n",
              "      <th>8</th>\n",
              "      <th>9</th>\n",
              "      <th>10</th>\n",
              "      <th>11</th>\n",
              "      <th>12</th>\n",
              "      <th>13</th>\n",
              "      <th>14</th>\n",
              "      <th>15</th>\n",
              "      <th>16</th>\n",
              "      <th>17</th>\n",
              "      <th>18</th>\n",
              "      <th>19</th>\n",
              "      <th>20</th>\n",
              "      <th>21</th>\n",
              "      <th>22</th>\n",
              "      <th>23</th>\n",
              "      <th>24</th>\n",
              "      <th>25</th>\n",
              "      <th>26</th>\n",
              "      <th>27</th>\n",
              "      <th>28</th>\n",
              "      <th>29</th>\n",
              "      <th>30</th>\n",
              "      <th>...</th>\n",
              "      <th>160</th>\n",
              "      <th>161</th>\n",
              "      <th>162</th>\n",
              "      <th>163</th>\n",
              "      <th>164</th>\n",
              "      <th>165</th>\n",
              "      <th>166</th>\n",
              "      <th>167</th>\n",
              "      <th>168</th>\n",
              "      <th>169</th>\n",
              "      <th>170</th>\n",
              "      <th>171</th>\n",
              "      <th>172</th>\n",
              "      <th>173</th>\n",
              "      <th>174</th>\n",
              "      <th>175</th>\n",
              "      <th>176</th>\n",
              "      <th>177</th>\n",
              "      <th>178</th>\n",
              "      <th>179</th>\n",
              "      <th>180</th>\n",
              "      <th>181</th>\n",
              "      <th>182</th>\n",
              "      <th>183</th>\n",
              "      <th>184</th>\n",
              "      <th>185</th>\n",
              "      <th>186</th>\n",
              "      <th>187</th>\n",
              "      <th>188</th>\n",
              "      <th>189</th>\n",
              "      <th>190</th>\n",
              "      <th>191</th>\n",
              "      <th>192</th>\n",
              "      <th>193</th>\n",
              "      <th>194</th>\n",
              "      <th>195</th>\n",
              "      <th>196</th>\n",
              "      <th>197</th>\n",
              "      <th>198</th>\n",
              "      <th>199</th>\n",
              "    </tr>\n",
              "  </thead>\n",
              "  <tbody>\n",
              "    <tr>\n",
              "      <th>0</th>\n",
              "      <td>2016-10-26</td>\n",
              "      <td>Muslims BUSTED: They Stole Millions In Gov’t B...</td>\n",
              "      <td>Print They should pay all the back all the mon...</td>\n",
              "      <td>0</td>\n",
              "      <td>[print, pay, back, money, plus, interest, enti...</td>\n",
              "      <td>[government , group]</td>\n",
              "      <td>[-0.1733947992324829, -0.8915804624557495, 0.0...</td>\n",
              "      <td>[-0.1733947992324829, -0.8915804624557495, 0.0...</td>\n",
              "      <td>201610</td>\n",
              "      <td>-0.173395</td>\n",
              "      <td>-0.891580</td>\n",
              "      <td>0.060823</td>\n",
              "      <td>3.312421</td>\n",
              "      <td>0.231936</td>\n",
              "      <td>2.750938</td>\n",
              "      <td>-0.271186</td>\n",
              "      <td>-2.411854</td>\n",
              "      <td>-0.382584</td>\n",
              "      <td>-0.490341</td>\n",
              "      <td>0.626130</td>\n",
              "      <td>-0.589607</td>\n",
              "      <td>-1.758963</td>\n",
              "      <td>-1.296880</td>\n",
              "      <td>0.790806</td>\n",
              "      <td>0.385367</td>\n",
              "      <td>-2.276515</td>\n",
              "      <td>-0.154486</td>\n",
              "      <td>-1.358704</td>\n",
              "      <td>-2.978072</td>\n",
              "      <td>1.785823</td>\n",
              "      <td>2.758748</td>\n",
              "      <td>1.460959</td>\n",
              "      <td>1.517574</td>\n",
              "      <td>-2.500423</td>\n",
              "      <td>-0.496182</td>\n",
              "      <td>1.108973</td>\n",
              "      <td>-1.512697</td>\n",
              "      <td>1.382489</td>\n",
              "      <td>-1.563169</td>\n",
              "      <td>2.356459</td>\n",
              "      <td>...</td>\n",
              "      <td>0.607361</td>\n",
              "      <td>4.222023</td>\n",
              "      <td>0.337220</td>\n",
              "      <td>-1.073706</td>\n",
              "      <td>0.381967</td>\n",
              "      <td>0.131377</td>\n",
              "      <td>-1.409240</td>\n",
              "      <td>0.648077</td>\n",
              "      <td>-3.143917</td>\n",
              "      <td>-0.472733</td>\n",
              "      <td>-2.223505</td>\n",
              "      <td>-0.836300</td>\n",
              "      <td>2.693700</td>\n",
              "      <td>-0.944663</td>\n",
              "      <td>0.833425</td>\n",
              "      <td>-0.802933</td>\n",
              "      <td>-1.630299</td>\n",
              "      <td>-1.559976</td>\n",
              "      <td>0.806982</td>\n",
              "      <td>-1.003949</td>\n",
              "      <td>1.523741</td>\n",
              "      <td>-0.988339</td>\n",
              "      <td>1.223467</td>\n",
              "      <td>-1.516205</td>\n",
              "      <td>-0.512805</td>\n",
              "      <td>0.24737</td>\n",
              "      <td>-0.011138</td>\n",
              "      <td>-0.005962</td>\n",
              "      <td>0.156812</td>\n",
              "      <td>-0.363005</td>\n",
              "      <td>-4.115564</td>\n",
              "      <td>1.716272</td>\n",
              "      <td>1.783408</td>\n",
              "      <td>1.192768</td>\n",
              "      <td>-0.964811</td>\n",
              "      <td>0.842061</td>\n",
              "      <td>-1.525443</td>\n",
              "      <td>2.420656</td>\n",
              "      <td>1.385487</td>\n",
              "      <td>-0.413753</td>\n",
              "    </tr>\n",
              "    <tr>\n",
              "      <th>1</th>\n",
              "      <td>2016-10-29</td>\n",
              "      <td>Re: Why Did Attorney General Loretta Lynch Ple...</td>\n",
              "      <td>Why Did Attorney General Loretta Lynch Plead T...</td>\n",
              "      <td>0</td>\n",
              "      <td>[attorney, general, loretta, lynch, plead, fif...</td>\n",
              "      <td>[lynch , cash]</td>\n",
              "      <td>[0.42601731419563293, 0.21464447677135468, -0....</td>\n",
              "      <td>[0.42601731419563293, 0.21464447677135468, -0....</td>\n",
              "      <td>201610</td>\n",
              "      <td>0.426017</td>\n",
              "      <td>0.214644</td>\n",
              "      <td>-0.216890</td>\n",
              "      <td>1.668777</td>\n",
              "      <td>1.617055</td>\n",
              "      <td>0.907496</td>\n",
              "      <td>-0.187264</td>\n",
              "      <td>-0.230224</td>\n",
              "      <td>-0.514038</td>\n",
              "      <td>-1.027847</td>\n",
              "      <td>0.876765</td>\n",
              "      <td>-0.665336</td>\n",
              "      <td>1.169308</td>\n",
              "      <td>0.875009</td>\n",
              "      <td>0.182923</td>\n",
              "      <td>-0.629195</td>\n",
              "      <td>0.022829</td>\n",
              "      <td>1.507794</td>\n",
              "      <td>-0.625272</td>\n",
              "      <td>1.732559</td>\n",
              "      <td>2.282631</td>\n",
              "      <td>1.427866</td>\n",
              "      <td>0.093813</td>\n",
              "      <td>1.606595</td>\n",
              "      <td>-1.201756</td>\n",
              "      <td>0.414337</td>\n",
              "      <td>0.831319</td>\n",
              "      <td>-0.073277</td>\n",
              "      <td>0.485346</td>\n",
              "      <td>-2.295456</td>\n",
              "      <td>-0.662552</td>\n",
              "      <td>...</td>\n",
              "      <td>0.217779</td>\n",
              "      <td>0.544378</td>\n",
              "      <td>-0.003539</td>\n",
              "      <td>-1.171714</td>\n",
              "      <td>0.764273</td>\n",
              "      <td>-0.397583</td>\n",
              "      <td>-0.101613</td>\n",
              "      <td>-0.191156</td>\n",
              "      <td>-1.767982</td>\n",
              "      <td>0.806118</td>\n",
              "      <td>4.095169</td>\n",
              "      <td>0.343155</td>\n",
              "      <td>-2.280601</td>\n",
              "      <td>1.763206</td>\n",
              "      <td>0.105634</td>\n",
              "      <td>1.394154</td>\n",
              "      <td>0.276918</td>\n",
              "      <td>0.292613</td>\n",
              "      <td>-0.404634</td>\n",
              "      <td>0.603595</td>\n",
              "      <td>-0.044880</td>\n",
              "      <td>-2.009038</td>\n",
              "      <td>-0.123756</td>\n",
              "      <td>-3.254163</td>\n",
              "      <td>0.250192</td>\n",
              "      <td>0.56348</td>\n",
              "      <td>-3.471436</td>\n",
              "      <td>-3.726324</td>\n",
              "      <td>0.271094</td>\n",
              "      <td>-0.100953</td>\n",
              "      <td>3.031193</td>\n",
              "      <td>0.978970</td>\n",
              "      <td>-2.269407</td>\n",
              "      <td>3.289151</td>\n",
              "      <td>-0.003417</td>\n",
              "      <td>-0.145949</td>\n",
              "      <td>-1.951216</td>\n",
              "      <td>-0.086877</td>\n",
              "      <td>-1.036273</td>\n",
              "      <td>2.288875</td>\n",
              "    </tr>\n",
              "  </tbody>\n",
              "</table>\n",
              "<p>2 rows × 209 columns</p>\n",
              "</div>"
            ],
            "text/plain": [
              "         date  ...       199\n",
              "0  2016-10-26  ... -0.413753\n",
              "1  2016-10-29  ...  2.288875\n",
              "\n",
              "[2 rows x 209 columns]"
            ]
          },
          "metadata": {
            "tags": []
          },
          "execution_count": 92
        }
      ]
    },
    {
      "cell_type": "markdown",
      "metadata": {
        "id": "WSoCBKpCOD57",
        "colab_type": "text"
      },
      "source": [
        "### 11.5 Generating coverage score"
      ]
    },
    {
      "cell_type": "code",
      "metadata": {
        "id": "41I3GaynODQ4",
        "colab_type": "code",
        "colab": {}
      },
      "source": [
        "keys = [str(i) for i in range(200)]\n",
        "X_Actual = all_data[['date_int'] + keys ]\n",
        "Y_Predict = f_cov.predict(X_Actual)"
      ],
      "execution_count": 0,
      "outputs": []
    },
    {
      "cell_type": "code",
      "metadata": {
        "id": "sEElzGLGPcew",
        "colab_type": "code",
        "colab": {}
      },
      "source": [
        "all_data['Coverage'] = Y_Predict "
      ],
      "execution_count": 0,
      "outputs": []
    },
    {
      "cell_type": "code",
      "metadata": {
        "id": "0iSBauwTPtFW",
        "colab_type": "code",
        "outputId": "9e0ea35a-4bdb-4ef0-da35-81eeb074cfa4",
        "colab": {
          "base_uri": "https://localhost:8080/",
          "height": 34
        }
      },
      "source": [
        "sorted(Y_Predict, reverse=True )[:10]"
      ],
      "execution_count": 0,
      "outputs": [
        {
          "output_type": "execute_result",
          "data": {
            "text/plain": [
              "[17, 17, 11, 8, 5, 5, 5, 5, 5, 5]"
            ]
          },
          "metadata": {
            "tags": []
          },
          "execution_count": 95
        }
      ]
    },
    {
      "cell_type": "code",
      "metadata": {
        "id": "U2w2EU_u45jA",
        "colab_type": "code",
        "outputId": "119ddd24-ac9b-4fcf-c699-f3c9e15f7ed7",
        "colab": {
          "base_uri": "https://localhost:8080/",
          "height": 67
        }
      },
      "source": [
        "all_data.type.value_counts()"
      ],
      "execution_count": 0,
      "outputs": [
        {
          "output_type": "execute_result",
          "data": {
            "text/plain": [
              "0    51507\n",
              "1    11492\n",
              "Name: type, dtype: int64"
            ]
          },
          "metadata": {
            "tags": []
          },
          "execution_count": 96
        }
      ]
    },
    {
      "cell_type": "code",
      "metadata": {
        "id": "WLUB-JFZs0-4",
        "colab_type": "code",
        "outputId": "0e24de1f-5548-4d57-b6b6-af1ee77e4f78",
        "colab": {
          "base_uri": "https://localhost:8080/",
          "height": 330
        }
      },
      "source": [
        "s= all_data['type'].value_counts()\n",
        "print(s)\n",
        "s.plot(kind='bar')"
      ],
      "execution_count": 0,
      "outputs": [
        {
          "output_type": "stream",
          "text": [
            "0    51507\n",
            "1    11492\n",
            "Name: type, dtype: int64\n"
          ],
          "name": "stdout"
        },
        {
          "output_type": "execute_result",
          "data": {
            "text/plain": [
              "<matplotlib.axes._subplots.AxesSubplot at 0x7f69754c61d0>"
            ]
          },
          "metadata": {
            "tags": []
          },
          "execution_count": 97
        },
        {
          "output_type": "display_data",
          "data": {
            "image/png": "[encoded data removed]",
            "text/plain": [
              "<Figure size 432x288 with 1 Axes>"
            ]
          },
          "metadata": {
            "tags": [],
            "needs_background": "light"
          }
        }
      ]
    },
    {
      "cell_type": "code",
      "metadata": {
        "id": "z5C-YY4vPm6J",
        "colab_type": "code",
        "outputId": "e8fc4bf1-0be0-48e6-a084-87e2bcaa9c25",
        "colab": {
          "base_uri": "https://localhost:8080/",
          "height": 390
        }
      },
      "source": [
        "all_data.head(2)"
      ],
      "execution_count": 0,
      "outputs": [
        {
          "output_type": "execute_result",
          "data": {
            "text/html": [
              "<div>\n",
              "<style scoped>\n",
              "    .dataframe tbody tr th:only-of-type {\n",
              "        vertical-align: middle;\n",
              "    }\n",
              "\n",
              "    .dataframe tbody tr th {\n",
              "        vertical-align: top;\n",
              "    }\n",
              "\n",
              "    .dataframe thead th {\n",
              "        text-align: right;\n",
              "    }\n",
              "</style>\n",
              "<table border=\"1\" class=\"dataframe\">\n",
              "  <thead>\n",
              "    <tr style=\"text-align: right;\">\n",
              "      <th></th>\n",
              "      <th>date</th>\n",
              "      <th>title</th>\n",
              "      <th>text</th>\n",
              "      <th>type</th>\n",
              "      <th>text_clean</th>\n",
              "      <th>topics</th>\n",
              "      <th>topic_0</th>\n",
              "      <th>topic_1</th>\n",
              "      <th>date_int</th>\n",
              "      <th>0</th>\n",
              "      <th>1</th>\n",
              "      <th>2</th>\n",
              "      <th>3</th>\n",
              "      <th>4</th>\n",
              "      <th>5</th>\n",
              "      <th>6</th>\n",
              "      <th>7</th>\n",
              "      <th>8</th>\n",
              "      <th>9</th>\n",
              "      <th>10</th>\n",
              "      <th>11</th>\n",
              "      <th>12</th>\n",
              "      <th>13</th>\n",
              "      <th>14</th>\n",
              "      <th>15</th>\n",
              "      <th>16</th>\n",
              "      <th>17</th>\n",
              "      <th>18</th>\n",
              "      <th>19</th>\n",
              "      <th>20</th>\n",
              "      <th>21</th>\n",
              "      <th>22</th>\n",
              "      <th>23</th>\n",
              "      <th>24</th>\n",
              "      <th>25</th>\n",
              "      <th>26</th>\n",
              "      <th>27</th>\n",
              "      <th>28</th>\n",
              "      <th>29</th>\n",
              "      <th>30</th>\n",
              "      <th>...</th>\n",
              "      <th>161</th>\n",
              "      <th>162</th>\n",
              "      <th>163</th>\n",
              "      <th>164</th>\n",
              "      <th>165</th>\n",
              "      <th>166</th>\n",
              "      <th>167</th>\n",
              "      <th>168</th>\n",
              "      <th>169</th>\n",
              "      <th>170</th>\n",
              "      <th>171</th>\n",
              "      <th>172</th>\n",
              "      <th>173</th>\n",
              "      <th>174</th>\n",
              "      <th>175</th>\n",
              "      <th>176</th>\n",
              "      <th>177</th>\n",
              "      <th>178</th>\n",
              "      <th>179</th>\n",
              "      <th>180</th>\n",
              "      <th>181</th>\n",
              "      <th>182</th>\n",
              "      <th>183</th>\n",
              "      <th>184</th>\n",
              "      <th>185</th>\n",
              "      <th>186</th>\n",
              "      <th>187</th>\n",
              "      <th>188</th>\n",
              "      <th>189</th>\n",
              "      <th>190</th>\n",
              "      <th>191</th>\n",
              "      <th>192</th>\n",
              "      <th>193</th>\n",
              "      <th>194</th>\n",
              "      <th>195</th>\n",
              "      <th>196</th>\n",
              "      <th>197</th>\n",
              "      <th>198</th>\n",
              "      <th>199</th>\n",
              "      <th>Coverage</th>\n",
              "    </tr>\n",
              "  </thead>\n",
              "  <tbody>\n",
              "    <tr>\n",
              "      <th>0</th>\n",
              "      <td>2016-10-26</td>\n",
              "      <td>Muslims BUSTED: They Stole Millions In Gov’t B...</td>\n",
              "      <td>Print They should pay all the back all the mon...</td>\n",
              "      <td>0</td>\n",
              "      <td>[print, pay, back, money, plus, interest, enti...</td>\n",
              "      <td>[government , group]</td>\n",
              "      <td>[-0.1733947992324829, -0.8915804624557495, 0.0...</td>\n",
              "      <td>[-0.1733947992324829, -0.8915804624557495, 0.0...</td>\n",
              "      <td>201610</td>\n",
              "      <td>-0.173395</td>\n",
              "      <td>-0.891580</td>\n",
              "      <td>0.060823</td>\n",
              "      <td>3.312421</td>\n",
              "      <td>0.231936</td>\n",
              "      <td>2.750938</td>\n",
              "      <td>-0.271186</td>\n",
              "      <td>-2.411854</td>\n",
              "      <td>-0.382584</td>\n",
              "      <td>-0.490341</td>\n",
              "      <td>0.626130</td>\n",
              "      <td>-0.589607</td>\n",
              "      <td>-1.758963</td>\n",
              "      <td>-1.296880</td>\n",
              "      <td>0.790806</td>\n",
              "      <td>0.385367</td>\n",
              "      <td>-2.276515</td>\n",
              "      <td>-0.154486</td>\n",
              "      <td>-1.358704</td>\n",
              "      <td>-2.978072</td>\n",
              "      <td>1.785823</td>\n",
              "      <td>2.758748</td>\n",
              "      <td>1.460959</td>\n",
              "      <td>1.517574</td>\n",
              "      <td>-2.500423</td>\n",
              "      <td>-0.496182</td>\n",
              "      <td>1.108973</td>\n",
              "      <td>-1.512697</td>\n",
              "      <td>1.382489</td>\n",
              "      <td>-1.563169</td>\n",
              "      <td>2.356459</td>\n",
              "      <td>...</td>\n",
              "      <td>4.222023</td>\n",
              "      <td>0.337220</td>\n",
              "      <td>-1.073706</td>\n",
              "      <td>0.381967</td>\n",
              "      <td>0.131377</td>\n",
              "      <td>-1.409240</td>\n",
              "      <td>0.648077</td>\n",
              "      <td>-3.143917</td>\n",
              "      <td>-0.472733</td>\n",
              "      <td>-2.223505</td>\n",
              "      <td>-0.836300</td>\n",
              "      <td>2.693700</td>\n",
              "      <td>-0.944663</td>\n",
              "      <td>0.833425</td>\n",
              "      <td>-0.802933</td>\n",
              "      <td>-1.630299</td>\n",
              "      <td>-1.559976</td>\n",
              "      <td>0.806982</td>\n",
              "      <td>-1.003949</td>\n",
              "      <td>1.523741</td>\n",
              "      <td>-0.988339</td>\n",
              "      <td>1.223467</td>\n",
              "      <td>-1.516205</td>\n",
              "      <td>-0.512805</td>\n",
              "      <td>0.24737</td>\n",
              "      <td>-0.011138</td>\n",
              "      <td>-0.005962</td>\n",
              "      <td>0.156812</td>\n",
              "      <td>-0.363005</td>\n",
              "      <td>-4.115564</td>\n",
              "      <td>1.716272</td>\n",
              "      <td>1.783408</td>\n",
              "      <td>1.192768</td>\n",
              "      <td>-0.964811</td>\n",
              "      <td>0.842061</td>\n",
              "      <td>-1.525443</td>\n",
              "      <td>2.420656</td>\n",
              "      <td>1.385487</td>\n",
              "      <td>-0.413753</td>\n",
              "      <td>0</td>\n",
              "    </tr>\n",
              "    <tr>\n",
              "      <th>1</th>\n",
              "      <td>2016-10-29</td>\n",
              "      <td>Re: Why Did Attorney General Loretta Lynch Ple...</td>\n",
              "      <td>Why Did Attorney General Loretta Lynch Plead T...</td>\n",
              "      <td>0</td>\n",
              "      <td>[attorney, general, loretta, lynch, plead, fif...</td>\n",
              "      <td>[lynch , cash]</td>\n",
              "      <td>[0.42601731419563293, 0.21464447677135468, -0....</td>\n",
              "      <td>[0.42601731419563293, 0.21464447677135468, -0....</td>\n",
              "      <td>201610</td>\n",
              "      <td>0.426017</td>\n",
              "      <td>0.214644</td>\n",
              "      <td>-0.216890</td>\n",
              "      <td>1.668777</td>\n",
              "      <td>1.617055</td>\n",
              "      <td>0.907496</td>\n",
              "      <td>-0.187264</td>\n",
              "      <td>-0.230224</td>\n",
              "      <td>-0.514038</td>\n",
              "      <td>-1.027847</td>\n",
              "      <td>0.876765</td>\n",
              "      <td>-0.665336</td>\n",
              "      <td>1.169308</td>\n",
              "      <td>0.875009</td>\n",
              "      <td>0.182923</td>\n",
              "      <td>-0.629195</td>\n",
              "      <td>0.022829</td>\n",
              "      <td>1.507794</td>\n",
              "      <td>-0.625272</td>\n",
              "      <td>1.732559</td>\n",
              "      <td>2.282631</td>\n",
              "      <td>1.427866</td>\n",
              "      <td>0.093813</td>\n",
              "      <td>1.606595</td>\n",
              "      <td>-1.201756</td>\n",
              "      <td>0.414337</td>\n",
              "      <td>0.831319</td>\n",
              "      <td>-0.073277</td>\n",
              "      <td>0.485346</td>\n",
              "      <td>-2.295456</td>\n",
              "      <td>-0.662552</td>\n",
              "      <td>...</td>\n",
              "      <td>0.544378</td>\n",
              "      <td>-0.003539</td>\n",
              "      <td>-1.171714</td>\n",
              "      <td>0.764273</td>\n",
              "      <td>-0.397583</td>\n",
              "      <td>-0.101613</td>\n",
              "      <td>-0.191156</td>\n",
              "      <td>-1.767982</td>\n",
              "      <td>0.806118</td>\n",
              "      <td>4.095169</td>\n",
              "      <td>0.343155</td>\n",
              "      <td>-2.280601</td>\n",
              "      <td>1.763206</td>\n",
              "      <td>0.105634</td>\n",
              "      <td>1.394154</td>\n",
              "      <td>0.276918</td>\n",
              "      <td>0.292613</td>\n",
              "      <td>-0.404634</td>\n",
              "      <td>0.603595</td>\n",
              "      <td>-0.044880</td>\n",
              "      <td>-2.009038</td>\n",
              "      <td>-0.123756</td>\n",
              "      <td>-3.254163</td>\n",
              "      <td>0.250192</td>\n",
              "      <td>0.56348</td>\n",
              "      <td>-3.471436</td>\n",
              "      <td>-3.726324</td>\n",
              "      <td>0.271094</td>\n",
              "      <td>-0.100953</td>\n",
              "      <td>3.031193</td>\n",
              "      <td>0.978970</td>\n",
              "      <td>-2.269407</td>\n",
              "      <td>3.289151</td>\n",
              "      <td>-0.003417</td>\n",
              "      <td>-0.145949</td>\n",
              "      <td>-1.951216</td>\n",
              "      <td>-0.086877</td>\n",
              "      <td>-1.036273</td>\n",
              "      <td>2.288875</td>\n",
              "      <td>0</td>\n",
              "    </tr>\n",
              "  </tbody>\n",
              "</table>\n",
              "<p>2 rows × 210 columns</p>\n",
              "</div>"
            ],
            "text/plain": [
              "         date  ... Coverage\n",
              "0  2016-10-26  ...        0\n",
              "1  2016-10-29  ...        0\n",
              "\n",
              "[2 rows x 210 columns]"
            ]
          },
          "metadata": {
            "tags": []
          },
          "execution_count": 98
        }
      ]
    },
    {
      "cell_type": "markdown",
      "metadata": {
        "id": "jmhUTyQSQdrD",
        "colab_type": "text"
      },
      "source": [
        "### 11.6 Exporting csv file"
      ]
    },
    {
      "cell_type": "code",
      "metadata": {
        "id": "jDU7r-jeQfdU",
        "colab_type": "code",
        "colab": {}
      },
      "source": [
        "all_data_to_export = all_data[[\"title\", \"Coverage\"]]\n",
        "all_data_to_export.to_csv('all_data_coverage_condensed.csv', index=False )"
      ],
      "execution_count": 0,
      "outputs": []
    },
    {
      "cell_type": "markdown",
      "metadata": {
        "id": "4OcXzrCvs6O5",
        "colab_type": "text"
      },
      "source": [
        "Commenting file download"
      ]
    },
    {
      "cell_type": "code",
      "metadata": {
        "id": "R8ANQnadYPry",
        "colab_type": "code",
        "colab": {}
      },
      "source": [
        "from google.colab import files\n",
        "\n",
        "#files.download('all_data_coverage_condensed.csv')"
      ],
      "execution_count": 0,
      "outputs": []
    },
    {
      "cell_type": "markdown",
      "metadata": {
        "id": "ZmFpmsBReluz",
        "colab_type": "text"
      },
      "source": [
        "### 11.7 Plotting results for visualization"
      ]
    },
    {
      "cell_type": "code",
      "metadata": {
        "id": "BXdP1JmmfaSp",
        "colab_type": "code",
        "outputId": "f8b5c569-e3fb-4871-d251-14c820fb347c",
        "colab": {
          "base_uri": "https://localhost:8080/",
          "height": 296
        }
      },
      "source": [
        "import matplotlib.pyplot as plt\n",
        "\n",
        "bins = range(10)\n",
        "plt.hist(all_data.Coverage, bins, histtype='bar', rwidth=0.8, cumulative=False )\n",
        "plt.xlabel( \"Coverage Score\" )\n",
        "plt.ylabel( \"Count\")"
      ],
      "execution_count": 0,
      "outputs": [
        {
          "output_type": "execute_result",
          "data": {
            "text/plain": [
              "Text(0, 0.5, 'Count')"
            ]
          },
          "metadata": {
            "tags": []
          },
          "execution_count": 101
        },
        {
          "output_type": "display_data",
          "data": {
            "image/png": "[encoded data removed]",
            "text/plain": [
              "<Figure size 432x288 with 1 Axes>"
            ]
          },
          "metadata": {
            "tags": [],
            "needs_background": "light"
          }
        }
      ]
    },
    {
      "cell_type": "code",
      "metadata": {
        "id": "Lp0uOhGEnKmj",
        "colab_type": "code",
        "outputId": "fb72139b-71e0-4aa5-f5bb-55606472e88f",
        "colab": {
          "base_uri": "https://localhost:8080/",
          "height": 296
        }
      },
      "source": [
        "plt.scatter(all_data.date_int, all_data.Coverage )\n",
        "plt.xlabel( \"Date (Integer/Concatenated Form)\" )\n",
        "plt.ylabel( \"Coverage Score\" )"
      ],
      "execution_count": 0,
      "outputs": [
        {
          "output_type": "execute_result",
          "data": {
            "text/plain": [
              "Text(0, 0.5, 'Coverage Score')"
            ]
          },
          "metadata": {
            "tags": []
          },
          "execution_count": 102
        },
        {
          "output_type": "display_data",
          "data": {
            "image/png": "[encoded data removed]",
            "text/plain": [
              "<Figure size 432x288 with 1 Axes>"
            ]
          },
          "metadata": {
            "tags": [],
            "needs_background": "light"
          }
        }
      ]
    },
    {
      "cell_type": "markdown",
      "metadata": {
        "id": "VdXbya-ulkvZ",
        "colab_type": "text"
      },
      "source": [
        "## **Reference**\n",
        "\n",
        "* 1. https://towardsdatascience.com/topic-modelling-in-python-with-nltk-and-gensim-4ef03213cd21"
      ]
    }
  ]
}