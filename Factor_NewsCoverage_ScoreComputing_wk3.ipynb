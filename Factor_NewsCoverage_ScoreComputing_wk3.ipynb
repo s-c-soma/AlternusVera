{
  "nbformat": 4,
  "nbformat_minor": 0,
  "metadata": {
    "colab": {
      "name": "Factor_NewsCoverage_ScoreComputing_wk3.ipynb",
      "provenance": [],
      "collapsed_sections": [],
      "toc_visible": true,
      "machine_shape": "hm",
      "include_colab_link": true
    },
    "kernelspec": {
      "name": "python3",
      "display_name": "Python 3"
    },
    "accelerator": "GPU"
  },
  "cells": [
    {
      "cell_type": "markdown",
      "metadata": {
        "id": "view-in-github",
        "colab_type": "text"
      },
      "source": [
        "<a href=\"https://colab.research.google.com/github/s-c-soma/AlternusVera/blob/master/Factor_NewsCoverage_ScoreComputing_wk3.ipynb\" target=\"_parent\"><img src=\"https://colab.research.google.com/assets/colab-badge.svg\" alt=\"Open In Colab\"/></a>"
      ]
    },
    {
      "cell_type": "markdown",
      "metadata": {
        "id": "kWBbJqDFhN5p",
        "colab_type": "text"
      },
      "source": [
        "## Subarna Chowdhury Soma"
      ]
    },
    {
      "cell_type": "code",
      "metadata": {
        "id": "wJKaCuStfGCW",
        "colab_type": "code",
        "outputId": "2af1c80c-84fd-4696-83dc-4bd856153484",
        "colab": {
          "base_uri": "https://localhost:8080/",
          "height": 121
        }
      },
      "source": [
        "from google.colab import drive\n",
        "drive.mount('/content/drive')"
      ],
      "execution_count": 0,
      "outputs": [
        {
          "output_type": "stream",
          "text": [
            "Go to this URL in a browser: https://accounts.google.com/o/oauth2/auth?client_id=947318989803-6bn6qk8qdgf4n4g3pfee6491hc0brc4i.apps.googleusercontent.com&redirect_uri=urn%3aietf%3awg%3aoauth%3a2.0%3aoob&response_type=code&scope=email%20https%3a%2f%2fwww.googleapis.com%2fauth%2fdocs.test%20https%3a%2f%2fwww.googleapis.com%2fauth%2fdrive%20https%3a%2f%2fwww.googleapis.com%2fauth%2fdrive.photos.readonly%20https%3a%2f%2fwww.googleapis.com%2fauth%2fpeopleapi.readonly\n",
            "\n",
            "Enter your authorization code:\n",
            "··········\n",
            "Mounted at /content/drive\n"
          ],
          "name": "stdout"
        }
      ]
    },
    {
      "cell_type": "markdown",
      "metadata": {
        "id": "Q-8OIZALZUHv",
        "colab_type": "text"
      },
      "source": [
        "## 1 Introduction\n",
        "\n",
        "I will be focusing on the factor **news coverage** to identify  which if a news story is genuine or fake news, as shown below:\n",
        "\n",
        "| Factor | Score Computation| Explanation|\n",
        "| -- | -- | -- |\n",
        "| News Coverage| Coverage of the latent story from outside sources  | Level of coverage regarding the latent story or topic  | \n",
        "\n",
        "\n",
        "The news coverage is the factor I put my most personal effort in, covering all areas of distillation (preprocessing, LDA, sentiment analysis)\n",
        "\n",
        "**Definitions:**\n",
        "We shall define the  following terms as follows:\n",
        "\n",
        ">> * **ARTICLE** - a single article printed by one news publication\n",
        ">> * **STORY** - the underlying event that an article is in reference to\n",
        ">> * **NEWS COVERAGE**  - number of news from media outlet that covered the same event or latent topic depicted in the article, within a fixed time window. There is a fixed window of time 1 month (coverage 30) and 2 months (coverage 60) before and after the article was published.\n",
        "\n"
      ]
    },
    {
      "cell_type": "markdown",
      "metadata": {
        "id": "Z3oI6SJzHc35",
        "colab_type": "text"
      },
      "source": [
        "## 2 Design Approach\n",
        "\n",
        "I shall try all the distillation approach on liar liar data set first and then on all news data set. Then I shall perform LDA to to identify topics with score. Next plan is comparing the topic stories between liar liar and all news data set. Most important task is computing news coverage score. Final implementation identifying best fit classification model through auto ML. Best performed classification will be applied on liar liar dataset, kaggle all news dataset and combined data set after amalgamation. "
      ]
    },
    {
      "cell_type": "markdown",
      "metadata": {
        "id": "OIM_ME3FGXtE",
        "colab_type": "text"
      },
      "source": [
        "### 2.1  Scope\n",
        "\n",
        "The goal is to create approximate scores for news coverage.\n",
        "\n",
        "To summarize the document sections will focus on:\n",
        "\n",
        "1. Introduction\n",
        "2. Design Approaches\n",
        "3. Liar Liar and Kaggle all news data loading and preparation\n",
        "4. Trying different distillation approaches on Liar Liar data\n",
        "5. LDA topic modeling on Liar liar data\n",
        "6. Data enrichment by using kaggle all news data set and different exploratory analysis\n",
        "7. Applying distillation approaches and cleaning kaggle all news data\n",
        "8. LDA topic modeling on kaggle all news data\n",
        "9. News Coverage score computation comparing computed topics from LDA\n",
        "10. Building model by applying different classification model\n",
        "11. Testing score on Non-fake (all news data) and comparison\n",
        "12. Amalgamation (partially done)\n"
      ]
    },
    {
      "cell_type": "markdown",
      "metadata": {
        "id": "chJbzhJcFciq",
        "colab_type": "text"
      },
      "source": [
        " ### 2.2 News Coverage\n",
        " * **Coverage** We first use topic modeling to find the key latent topics. Then we use a separate dataset called \"All the news\" dataset to see if there are other  articles covering a similar story. It is important to note that we are *not* cross-checking factual claims made in the article, but rather checking to see if a related and latent topic can be found in other news sources. If there are no external coverage for the story/topic, chances are that the article in question is likely a fake news. However, just because there are sufficient coverage during the time frame, it does not necessarily mean that the news is completely reliable.\n",
        "  \n"
      ]
    },
    {
      "cell_type": "markdown",
      "metadata": {
        "id": "YSJ18x01FgFv",
        "colab_type": "text"
      },
      "source": [
        "### 2.3 Alternative Methods Tried\n",
        "\n",
        "\n",
        "\n",
        "As a team we collected financial news data using API from Newyork Times and Reddit News for our first Machine Learning project. At first I tried to use that news collection, but that dataset has only two news source. For news coverage I need a data set with multiple source covering the same story. Later I have found Kaggle \"All News\" dataset which contains news of various domain from 15 news sources. So I am proceeding with Kaggle dataset for data enrichment and amalgamation.\n",
        "\n"
      ]
    },
    {
      "cell_type": "markdown",
      "metadata": {
        "id": "fOlkr5a4XBUY",
        "colab_type": "text"
      },
      "source": [
        "## 3 Data Preprataions\n"
      ]
    },
    {
      "cell_type": "markdown",
      "metadata": {
        "id": "syWUTZ9KIgXf",
        "colab_type": "text"
      },
      "source": [
        "### 3.1 Import Libraries"
      ]
    },
    {
      "cell_type": "code",
      "metadata": {
        "id": "uKTkSKmvt4pZ",
        "colab_type": "code",
        "outputId": "c3f6494c-d0f7-4dec-99b3-4e0d79e23027",
        "colab": {
          "base_uri": "https://localhost:8080/",
          "height": 34
        }
      },
      "source": [
        "# For caculating approximate time to process notebook (IGNORE)\n",
        "import datetime\n",
        "datetime.datetime.now()"
      ],
      "execution_count": 0,
      "outputs": [
        {
          "output_type": "execute_result",
          "data": {
            "text/plain": [
              "datetime.datetime(2020, 4, 27, 21, 16, 37, 60543)"
            ]
          },
          "metadata": {
            "tags": []
          },
          "execution_count": 2
        }
      ]
    },
    {
      "cell_type": "code",
      "metadata": {
        "id": "GbtKyhjPZPJn",
        "colab_type": "code",
        "outputId": "6c1ca09e-2dbd-4803-da07-d9b52403ef21",
        "colab": {
          "base_uri": "https://localhost:8080/",
          "height": 101
        }
      },
      "source": [
        "from nltk.corpus import stopwords\n",
        "from string import punctuation\n",
        "\n",
        "import pandas as pd\n",
        "import nltk\n",
        "import io\n",
        "import requests\n",
        "import re\n",
        "\n",
        "# download nltk stopwords\n",
        "nltk.download('stopwords')\n",
        "nltk.download('wordnet')\n",
        "\n",
        "\n"
      ],
      "execution_count": 0,
      "outputs": [
        {
          "output_type": "stream",
          "text": [
            "[nltk_data] Downloading package stopwords to /root/nltk_data...\n",
            "[nltk_data]   Unzipping corpora/stopwords.zip.\n",
            "[nltk_data] Downloading package wordnet to /root/nltk_data...\n",
            "[nltk_data]   Unzipping corpora/wordnet.zip.\n"
          ],
          "name": "stdout"
        },
        {
          "output_type": "execute_result",
          "data": {
            "text/plain": [
              "True"
            ]
          },
          "metadata": {
            "tags": []
          },
          "execution_count": 3
        }
      ]
    },
    {
      "cell_type": "code",
      "metadata": {
        "id": "0JdYiClyeAkm",
        "colab_type": "code",
        "outputId": "34c6c9ae-0569-448a-a79d-0d355e6deef8",
        "colab": {
          "base_uri": "https://localhost:8080/",
          "height": 289
        }
      },
      "source": [
        "import argparse\n",
        "import pandas as pd\n",
        "import numpy as np\n",
        "import operator\n",
        "import matplotlib.pyplot as plt\n",
        "import nltk as nl\n",
        "from nltk.sentiment.vader import SentimentIntensityAnalyzer\n",
        "from sklearn.model_selection import ParameterGrid\n",
        "import statistics\n",
        "import random\n",
        "import warnings\n",
        "from string import punctuation\n",
        "from matplotlib import pyplot\n",
        "from pandas import Series, datetime\n",
        "from pandas.plotting import scatter_matrix, autocorrelation_plot\n",
        "from sklearn.preprocessing import StandardScaler\n",
        "from sklearn.model_selection import train_test_split, KFold, cross_val_score, GridSearchCV, TimeSeriesSplit\n",
        "from sklearn.metrics import classification_report, confusion_matrix, accuracy_score, mean_squared_error\n",
        "from sklearn.pipeline import Pipeline\n",
        "from sklearn.linear_model import LogisticRegression\n",
        "from sklearn.tree import DecisionTreeClassifier\n",
        "from sklearn.neighbors import KNeighborsClassifier\n",
        "from sklearn.discriminant_analysis import LinearDiscriminantAnalysis\n",
        "from sklearn.naive_bayes import GaussianNB\n",
        "from sklearn.svm import SVC\n",
        "from sklearn.ensemble import AdaBoostClassifier, GradientBoostingClassifier, RandomForestClassifier, ExtraTreesClassifier\n",
        "from sklearn.metrics import roc_curve, auc\n",
        "from sklearn.feature_extraction.text import CountVectorizer\n",
        "from xgboost import XGBClassifier\n",
        "from sklearn.naive_bayes import MultinomialNB\n",
        "import nltk\n",
        "import re\n",
        "import io\n",
        "import requests\n",
        "import time\n",
        "import gensim\n",
        "from nltk.stem.wordnet import WordNetLemmatizer\n",
        "from nltk.corpus import stopwords\n",
        "import nltk.sentiment\n",
        "\n",
        "nltk.download('punkt')\n",
        "nltk.download('stopwords')\n",
        "nltk.download('averaged_perceptron_tagger')\n",
        "nltk.download('punkt')\n",
        "nltk.download('wordnet')\n",
        "nltk.download('vader_lexicon')"
      ],
      "execution_count": 0,
      "outputs": [
        {
          "output_type": "stream",
          "text": [
            "/usr/local/lib/python3.6/dist-packages/nltk/twitter/__init__.py:20: UserWarning: The twython library has not been installed. Some functionality from the twitter package will not be available.\n",
            "  warnings.warn(\"The twython library has not been installed. \"\n"
          ],
          "name": "stderr"
        },
        {
          "output_type": "stream",
          "text": [
            "[nltk_data] Downloading package punkt to /root/nltk_data...\n",
            "[nltk_data]   Unzipping tokenizers/punkt.zip.\n",
            "[nltk_data] Downloading package stopwords to /root/nltk_data...\n",
            "[nltk_data]   Package stopwords is already up-to-date!\n",
            "[nltk_data] Downloading package averaged_perceptron_tagger to\n",
            "[nltk_data]     /root/nltk_data...\n",
            "[nltk_data]   Unzipping taggers/averaged_perceptron_tagger.zip.\n",
            "[nltk_data] Downloading package punkt to /root/nltk_data...\n",
            "[nltk_data]   Package punkt is already up-to-date!\n",
            "[nltk_data] Downloading package wordnet to /root/nltk_data...\n",
            "[nltk_data]   Package wordnet is already up-to-date!\n",
            "[nltk_data] Downloading package vader_lexicon to /root/nltk_data...\n"
          ],
          "name": "stdout"
        },
        {
          "output_type": "execute_result",
          "data": {
            "text/plain": [
              "True"
            ]
          },
          "metadata": {
            "tags": []
          },
          "execution_count": 4
        }
      ]
    },
    {
      "cell_type": "markdown",
      "metadata": {
        "id": "vpgjGVAEFmk7",
        "colab_type": "text"
      },
      "source": [
        "### 3.2 Data Load: Liar Liar Dataset\n",
        "\n",
        "For the purpose of this study, we will focus on the Kaggle's Liar Dataset (Risdal, 2016) The main benefit of Kaggle's Liar Dataset is the text entry that is included with the headline.\n",
        "\n",
        "https://github.com/synle/machine-learning-sample-dataset/raw/master/liar_dataset/kaggle"
      ]
    },
    {
      "cell_type": "code",
      "metadata": {
        "id": "4MOppAByIs4U",
        "colab_type": "code",
        "colab": {}
      },
      "source": [
        "def get_parsed_data(url, sep='\\t', header=None ):\n",
        "  return pd.read_csv(io.StringIO(requests.get(url).content.decode('utf-8')), sep=sep, header=header )\n",
        "\n",
        "# Download and parse the dataset... Let us first work with 100 articles\n",
        "KAGGLE_DATASET = 'https://github.com/synle/machine-learning-sample-dataset/raw/master/liar_dataset/kaggle'\n",
        "data_liar_liar = get_parsed_data('%s/kaggle-fake.csv'% KAGGLE_DATASET, ',' , 'infer' )[:1000]"
      ],
      "execution_count": 0,
      "outputs": []
    },
    {
      "cell_type": "code",
      "metadata": {
        "id": "b71vANUdD3Wu",
        "colab_type": "code",
        "outputId": "bc3c6d37-ce73-44d9-81ab-64fcf2fda935",
        "colab": {
          "base_uri": "https://localhost:8080/",
          "height": 214
        }
      },
      "source": [
        "data_liar_liar.head(1)"
      ],
      "execution_count": 0,
      "outputs": [
        {
          "output_type": "execute_result",
          "data": {
            "text/html": [
              "<div>\n",
              "<style scoped>\n",
              "    .dataframe tbody tr th:only-of-type {\n",
              "        vertical-align: middle;\n",
              "    }\n",
              "\n",
              "    .dataframe tbody tr th {\n",
              "        vertical-align: top;\n",
              "    }\n",
              "\n",
              "    .dataframe thead th {\n",
              "        text-align: right;\n",
              "    }\n",
              "</style>\n",
              "<table border=\"1\" class=\"dataframe\">\n",
              "  <thead>\n",
              "    <tr style=\"text-align: right;\">\n",
              "      <th></th>\n",
              "      <th>uuid</th>\n",
              "      <th>ord_in_thread</th>\n",
              "      <th>author</th>\n",
              "      <th>published</th>\n",
              "      <th>title</th>\n",
              "      <th>text</th>\n",
              "      <th>language</th>\n",
              "      <th>crawled</th>\n",
              "      <th>site_url</th>\n",
              "      <th>country</th>\n",
              "      <th>domain_rank</th>\n",
              "      <th>thread_title</th>\n",
              "      <th>spam_score</th>\n",
              "      <th>main_img_url</th>\n",
              "      <th>replies_count</th>\n",
              "      <th>participants_count</th>\n",
              "      <th>likes</th>\n",
              "      <th>comments</th>\n",
              "      <th>shares</th>\n",
              "      <th>type</th>\n",
              "    </tr>\n",
              "  </thead>\n",
              "  <tbody>\n",
              "    <tr>\n",
              "      <th>0</th>\n",
              "      <td>6a175f46bcd24d39b3e962ad0f29936721db70db</td>\n",
              "      <td>0</td>\n",
              "      <td>Barracuda Brigade</td>\n",
              "      <td>2016-10-26T21:41:00.000+03:00</td>\n",
              "      <td>Muslims BUSTED: They Stole Millions In Gov’t B...</td>\n",
              "      <td>Print They should pay all the back all the mon...</td>\n",
              "      <td>english</td>\n",
              "      <td>2016-10-27T01:49:27.168+03:00</td>\n",
              "      <td>100percentfedup.com</td>\n",
              "      <td>US</td>\n",
              "      <td>25689.0</td>\n",
              "      <td>Muslims BUSTED: They Stole Millions In Gov’t B...</td>\n",
              "      <td>0.0</td>\n",
              "      <td>http://bb4sp.com/wp-content/uploads/2016/10/Fu...</td>\n",
              "      <td>0</td>\n",
              "      <td>1</td>\n",
              "      <td>0</td>\n",
              "      <td>0</td>\n",
              "      <td>0</td>\n",
              "      <td>bias</td>\n",
              "    </tr>\n",
              "  </tbody>\n",
              "</table>\n",
              "</div>"
            ],
            "text/plain": [
              "                                       uuid  ord_in_thread  ... shares  type\n",
              "0  6a175f46bcd24d39b3e962ad0f29936721db70db              0  ...      0  bias\n",
              "\n",
              "[1 rows x 20 columns]"
            ]
          },
          "metadata": {
            "tags": []
          },
          "execution_count": 6
        }
      ]
    },
    {
      "cell_type": "markdown",
      "metadata": {
        "id": "BQ937__JFq8k",
        "colab_type": "text"
      },
      "source": [
        "### 3.3 Data Load: Kaggle All News Dataset\n",
        "\n",
        "We have use two main datasets to be used for data enrichment:\n",
        "\n",
        "**Dataset 1** - All The News (Thompson, 2017)\n",
        "- Original: https://www.kaggle.com/snapcrack/all-the-news\n",
        "- Github Link: https://github.com/hyunwookshin/all_news_dataset_kaggle\n",
        "\n",
        "The above data is useful for analyzing coverage report of non-fake news articles\n",
        "curated from mainstream news media sites.\n",
        "\n"
      ]
    },
    {
      "cell_type": "code",
      "metadata": {
        "id": "hwwYLQS97IQW",
        "colab_type": "code",
        "colab": {}
      },
      "source": [
        "# All News Kaggle\n",
        "\n",
        "def get_parsed_data2(url):\n",
        "    return pd.read_csv(io.StringIO(requests.get(url, verify=False).content.decode('utf-8')), sep=',', header='infer')\n",
        "\n",
        "# download and parse the dataset from github\n",
        "#data_all_news = get_parsed_data2('https://media.githubusercontent.com/media/hyunwookshin/all_news_dataset_kaggle/master/articles1.csv')"
      ],
      "execution_count": 0,
      "outputs": []
    },
    {
      "cell_type": "code",
      "metadata": {
        "id": "-dFabNg87Fd0",
        "colab_type": "code",
        "outputId": "8d445194-0eba-4b41-9193-bbdcac15b4d7",
        "colab": {
          "base_uri": "https://localhost:8080/",
          "height": 296
        }
      },
      "source": [
        "data_all_news = pd.read_csv('/content/drive/My Drive/Colab Notebooks/articles1.csv', low_memory =False, encoding = 'utf-8')\n",
        "data_all_news.head(5)"
      ],
      "execution_count": 0,
      "outputs": [
        {
          "output_type": "execute_result",
          "data": {
            "text/html": [
              "<div>\n",
              "<style scoped>\n",
              "    .dataframe tbody tr th:only-of-type {\n",
              "        vertical-align: middle;\n",
              "    }\n",
              "\n",
              "    .dataframe tbody tr th {\n",
              "        vertical-align: top;\n",
              "    }\n",
              "\n",
              "    .dataframe thead th {\n",
              "        text-align: right;\n",
              "    }\n",
              "</style>\n",
              "<table border=\"1\" class=\"dataframe\">\n",
              "  <thead>\n",
              "    <tr style=\"text-align: right;\">\n",
              "      <th></th>\n",
              "      <th>Unnamed: 0</th>\n",
              "      <th>id</th>\n",
              "      <th>title</th>\n",
              "      <th>publication</th>\n",
              "      <th>author</th>\n",
              "      <th>date</th>\n",
              "      <th>year</th>\n",
              "      <th>month</th>\n",
              "      <th>url</th>\n",
              "      <th>content</th>\n",
              "    </tr>\n",
              "  </thead>\n",
              "  <tbody>\n",
              "    <tr>\n",
              "      <th>0</th>\n",
              "      <td>0</td>\n",
              "      <td>17283</td>\n",
              "      <td>House Republicans Fret About Winning Their Hea...</td>\n",
              "      <td>New York Times</td>\n",
              "      <td>Carl Hulse</td>\n",
              "      <td>2016-12-31</td>\n",
              "      <td>2016.0</td>\n",
              "      <td>12.0</td>\n",
              "      <td>NaN</td>\n",
              "      <td>WASHINGTON  —   Congressional Republicans have...</td>\n",
              "    </tr>\n",
              "    <tr>\n",
              "      <th>1</th>\n",
              "      <td>1</td>\n",
              "      <td>17284</td>\n",
              "      <td>Rift Between Officers and Residents as Killing...</td>\n",
              "      <td>New York Times</td>\n",
              "      <td>Benjamin Mueller and Al Baker</td>\n",
              "      <td>2017-06-19</td>\n",
              "      <td>2017.0</td>\n",
              "      <td>6.0</td>\n",
              "      <td>NaN</td>\n",
              "      <td>After the bullet shells get counted, the blood...</td>\n",
              "    </tr>\n",
              "    <tr>\n",
              "      <th>2</th>\n",
              "      <td>2</td>\n",
              "      <td>17285</td>\n",
              "      <td>Tyrus Wong, ‘Bambi’ Artist Thwarted by Racial ...</td>\n",
              "      <td>New York Times</td>\n",
              "      <td>Margalit Fox</td>\n",
              "      <td>2017-01-06</td>\n",
              "      <td>2017.0</td>\n",
              "      <td>1.0</td>\n",
              "      <td>NaN</td>\n",
              "      <td>When Walt Disney’s “Bambi” opened in 1942, cri...</td>\n",
              "    </tr>\n",
              "    <tr>\n",
              "      <th>3</th>\n",
              "      <td>3</td>\n",
              "      <td>17286</td>\n",
              "      <td>Among Deaths in 2016, a Heavy Toll in Pop Musi...</td>\n",
              "      <td>New York Times</td>\n",
              "      <td>William McDonald</td>\n",
              "      <td>2017-04-10</td>\n",
              "      <td>2017.0</td>\n",
              "      <td>4.0</td>\n",
              "      <td>NaN</td>\n",
              "      <td>Death may be the great equalizer, but it isn’t...</td>\n",
              "    </tr>\n",
              "    <tr>\n",
              "      <th>4</th>\n",
              "      <td>4</td>\n",
              "      <td>17287</td>\n",
              "      <td>Kim Jong-un Says North Korea Is Preparing to T...</td>\n",
              "      <td>New York Times</td>\n",
              "      <td>Choe Sang-Hun</td>\n",
              "      <td>2017-01-02</td>\n",
              "      <td>2017.0</td>\n",
              "      <td>1.0</td>\n",
              "      <td>NaN</td>\n",
              "      <td>SEOUL, South Korea  —   North Korea’s leader, ...</td>\n",
              "    </tr>\n",
              "  </tbody>\n",
              "</table>\n",
              "</div>"
            ],
            "text/plain": [
              "   Unnamed: 0     id  ... url                                            content\n",
              "0           0  17283  ... NaN  WASHINGTON  —   Congressional Republicans have...\n",
              "1           1  17284  ... NaN  After the bullet shells get counted, the blood...\n",
              "2           2  17285  ... NaN  When Walt Disney’s “Bambi” opened in 1942, cri...\n",
              "3           3  17286  ... NaN  Death may be the great equalizer, but it isn’t...\n",
              "4           4  17287  ... NaN  SEOUL, South Korea  —   North Korea’s leader, ...\n",
              "\n",
              "[5 rows x 10 columns]"
            ]
          },
          "metadata": {
            "tags": []
          },
          "execution_count": 8
        }
      ]
    },
    {
      "cell_type": "markdown",
      "metadata": {
        "id": "Bl8tguc6Fz0T",
        "colab_type": "text"
      },
      "source": [
        "## 4 Distillation - Liar Liar Data"
      ]
    },
    {
      "cell_type": "markdown",
      "metadata": {
        "id": "m0aPcu4lD26_",
        "colab_type": "text"
      },
      "source": [
        "### 4.1 Tokenization\n",
        "\n",
        "As part of the distillation, we tokenize the headline and the body of the articles, by the following methods. First the words are split based on the white space. We also use this step to combine the title with the body of the article.\n",
        "\n",
        "\n",
        "\n"
      ]
    },
    {
      "cell_type": "code",
      "metadata": {
        "id": "yFMX9n-AvUdB",
        "colab_type": "code",
        "outputId": "554248e0-f914-4b08-ad87-508ed3308c30",
        "colab": {
          "base_uri": "https://localhost:8080/",
          "height": 214
        }
      },
      "source": [
        "data_liar_liar['text_distilled'] = data_liar_liar['title'].apply(lambda x : re.split('\\W+', str(x).lower())) +\\\n",
        "   data_liar_liar['text'].apply(lambda x : re.split('\\W+', str(x).lower()))\n",
        "data_liar_liar.head(1)"
      ],
      "execution_count": 0,
      "outputs": [
        {
          "output_type": "execute_result",
          "data": {
            "text/html": [
              "<div>\n",
              "<style scoped>\n",
              "    .dataframe tbody tr th:only-of-type {\n",
              "        vertical-align: middle;\n",
              "    }\n",
              "\n",
              "    .dataframe tbody tr th {\n",
              "        vertical-align: top;\n",
              "    }\n",
              "\n",
              "    .dataframe thead th {\n",
              "        text-align: right;\n",
              "    }\n",
              "</style>\n",
              "<table border=\"1\" class=\"dataframe\">\n",
              "  <thead>\n",
              "    <tr style=\"text-align: right;\">\n",
              "      <th></th>\n",
              "      <th>uuid</th>\n",
              "      <th>ord_in_thread</th>\n",
              "      <th>author</th>\n",
              "      <th>published</th>\n",
              "      <th>title</th>\n",
              "      <th>text</th>\n",
              "      <th>language</th>\n",
              "      <th>crawled</th>\n",
              "      <th>site_url</th>\n",
              "      <th>country</th>\n",
              "      <th>domain_rank</th>\n",
              "      <th>thread_title</th>\n",
              "      <th>spam_score</th>\n",
              "      <th>main_img_url</th>\n",
              "      <th>replies_count</th>\n",
              "      <th>participants_count</th>\n",
              "      <th>likes</th>\n",
              "      <th>comments</th>\n",
              "      <th>shares</th>\n",
              "      <th>type</th>\n",
              "      <th>text_distilled</th>\n",
              "    </tr>\n",
              "  </thead>\n",
              "  <tbody>\n",
              "    <tr>\n",
              "      <th>0</th>\n",
              "      <td>6a175f46bcd24d39b3e962ad0f29936721db70db</td>\n",
              "      <td>0</td>\n",
              "      <td>Barracuda Brigade</td>\n",
              "      <td>2016-10-26T21:41:00.000+03:00</td>\n",
              "      <td>Muslims BUSTED: They Stole Millions In Gov’t B...</td>\n",
              "      <td>Print They should pay all the back all the mon...</td>\n",
              "      <td>english</td>\n",
              "      <td>2016-10-27T01:49:27.168+03:00</td>\n",
              "      <td>100percentfedup.com</td>\n",
              "      <td>US</td>\n",
              "      <td>25689.0</td>\n",
              "      <td>Muslims BUSTED: They Stole Millions In Gov’t B...</td>\n",
              "      <td>0.0</td>\n",
              "      <td>http://bb4sp.com/wp-content/uploads/2016/10/Fu...</td>\n",
              "      <td>0</td>\n",
              "      <td>1</td>\n",
              "      <td>0</td>\n",
              "      <td>0</td>\n",
              "      <td>0</td>\n",
              "      <td>bias</td>\n",
              "      <td>[muslims, busted, they, stole, millions, in, g...</td>\n",
              "    </tr>\n",
              "  </tbody>\n",
              "</table>\n",
              "</div>"
            ],
            "text/plain": [
              "                                       uuid  ...                                     text_distilled\n",
              "0  6a175f46bcd24d39b3e962ad0f29936721db70db  ...  [muslims, busted, they, stole, millions, in, g...\n",
              "\n",
              "[1 rows x 21 columns]"
            ]
          },
          "metadata": {
            "tags": []
          },
          "execution_count": 9
        }
      ]
    },
    {
      "cell_type": "code",
      "metadata": {
        "id": "AwTbLXScyNPI",
        "colab_type": "code",
        "outputId": "f4ec0037-b622-422a-f0cf-2492e16f3f29",
        "colab": {
          "base_uri": "https://localhost:8080/",
          "height": 437
        }
      },
      "source": [
        "data_liar_liar.text_distilled[0][:25]"
      ],
      "execution_count": 0,
      "outputs": [
        {
          "output_type": "execute_result",
          "data": {
            "text/plain": [
              "['muslims',\n",
              " 'busted',\n",
              " 'they',\n",
              " 'stole',\n",
              " 'millions',\n",
              " 'in',\n",
              " 'gov',\n",
              " 't',\n",
              " 'benefits',\n",
              " 'print',\n",
              " 'they',\n",
              " 'should',\n",
              " 'pay',\n",
              " 'all',\n",
              " 'the',\n",
              " 'back',\n",
              " 'all',\n",
              " 'the',\n",
              " 'money',\n",
              " 'plus',\n",
              " 'interest',\n",
              " 'the',\n",
              " 'entire',\n",
              " 'family',\n",
              " 'and']"
            ]
          },
          "metadata": {
            "tags": []
          },
          "execution_count": 10
        }
      ]
    },
    {
      "cell_type": "markdown",
      "metadata": {
        "id": "K9zg6DzVyV1Q",
        "colab_type": "text"
      },
      "source": [
        "### 4.2 Lemmatization\n",
        "  \n",
        "First, the raw words must be converted to root forms.  "
      ]
    },
    {
      "cell_type": "code",
      "metadata": {
        "id": "Qs9YyZ8WygUo",
        "colab_type": "code",
        "outputId": "0f955a4a-62f9-4130-daab-083818fa40fe",
        "colab": {
          "base_uri": "https://localhost:8080/",
          "height": 269
        }
      },
      "source": [
        "def lemmatize(tokenized_words):\n",
        "  text = [nltk.WordNetLemmatizer().lemmatize(word) for word in tokenized_words]\n",
        "  return text\n",
        "\n",
        "# Commented out per rationale above\n",
        "#def stemming(tokenized_words):\n",
        "#  text = [nltk.PorterStemmer().stem(word) for word in tokenized_words]\n",
        "#  return text\n",
        "\n",
        "data_liar_liar['text_distilled_lemma'] = data_liar_liar['text_distilled'].apply(lemmatize)\n",
        "data_liar_liar.text_distilled[0][:15]"
      ],
      "execution_count": 0,
      "outputs": [
        {
          "output_type": "execute_result",
          "data": {
            "text/plain": [
              "['muslims',\n",
              " 'busted',\n",
              " 'they',\n",
              " 'stole',\n",
              " 'millions',\n",
              " 'in',\n",
              " 'gov',\n",
              " 't',\n",
              " 'benefits',\n",
              " 'print',\n",
              " 'they',\n",
              " 'should',\n",
              " 'pay',\n",
              " 'all',\n",
              " 'the']"
            ]
          },
          "metadata": {
            "tags": []
          },
          "execution_count": 11
        }
      ]
    },
    {
      "cell_type": "markdown",
      "metadata": {
        "id": "CRnq7Orw5sSW",
        "colab_type": "text"
      },
      "source": [
        "### 4.3 Removing Stop words\n",
        "\n"
      ]
    },
    {
      "cell_type": "code",
      "metadata": {
        "id": "7axUBcsp5yXD",
        "colab_type": "code",
        "outputId": "737e01ae-e944-4247-d040-cc1cac0beb41",
        "colab": {
          "base_uri": "https://localhost:8080/",
          "height": 269
        }
      },
      "source": [
        "english_stopwords = set(stopwords.words('english') + list(punctuation) + [''])\n",
        "\n",
        "def remove_stopwords(tokenized_words):\n",
        "  text = [word for word in tokenized_words if word not in english_stopwords]\n",
        "  return text\n",
        "\n",
        "data_liar_liar['text_distilled'] = data_liar_liar['text_distilled'].apply(remove_stopwords)\n",
        "data_liar_liar.text_distilled[0][:15]"
      ],
      "execution_count": 0,
      "outputs": [
        {
          "output_type": "execute_result",
          "data": {
            "text/plain": [
              "['muslims',\n",
              " 'busted',\n",
              " 'stole',\n",
              " 'millions',\n",
              " 'gov',\n",
              " 'benefits',\n",
              " 'print',\n",
              " 'pay',\n",
              " 'back',\n",
              " 'money',\n",
              " 'plus',\n",
              " 'interest',\n",
              " 'entire',\n",
              " 'family',\n",
              " 'everyone']"
            ]
          },
          "metadata": {
            "tags": []
          },
          "execution_count": 12
        }
      ]
    },
    {
      "cell_type": "markdown",
      "metadata": {
        "id": "ejCglovYHwyb",
        "colab_type": "text"
      },
      "source": [
        "### 4.4 Custom Filtering\n",
        "\n",
        "Some of the one or two-letter words from the tokenized words are also removed to further cleanse the raw text. "
      ]
    },
    {
      "cell_type": "code",
      "metadata": {
        "id": "Z9ujoC42HwGM",
        "colab_type": "code",
        "colab": {}
      },
      "source": [
        "whitelist = set(['ai', 'ax', 'ca', 'eu', 'go', 'io', 'la', 'ox', 'us', 'uk', \n",
        "                 'al', 'ak', 'az', 'ar', 'ca', 'co', 'ct', 'de', 'fl', 'ga', 'hi', \n",
        "                 'id', 'il', 'in', 'ia', 'ks', 'ky', 'la', 'me', 'md', 'ma', 'mi',\n",
        "                 'mn', 'ms', 'mo', 'mt', 'ne', 'nv', 'nh', 'nj', 'nm', 'ny',\n",
        "                 'nc', 'nd', 'oh', 'ok', 'or', 'pa', 'ri', 'sc', 'sd', 'tn',\n",
        "                 'tx', 'ut', 'vt', 'va', 'wa', 'wv', 'wi', 'wy' ])\n",
        "def remove_too_short(tokenized_words):\n",
        "  text = [word for word in tokenized_words if (len(word) >= 3 or word not in whitelist) ]\n",
        "  return text"
      ],
      "execution_count": 0,
      "outputs": []
    },
    {
      "cell_type": "code",
      "metadata": {
        "id": "iG4ozbF3I_gb",
        "colab_type": "code",
        "outputId": "b4e78675-be05-4d15-a013-2f41b7574620",
        "colab": {
          "base_uri": "https://localhost:8080/",
          "height": 269
        }
      },
      "source": [
        "data_liar_liar['text_distilled'] = data_liar_liar['text_distilled'].apply(remove_too_short)\n",
        "data_liar_liar.text_distilled[0][:15]"
      ],
      "execution_count": 0,
      "outputs": [
        {
          "output_type": "execute_result",
          "data": {
            "text/plain": [
              "['muslims',\n",
              " 'busted',\n",
              " 'stole',\n",
              " 'millions',\n",
              " 'gov',\n",
              " 'benefits',\n",
              " 'print',\n",
              " 'pay',\n",
              " 'back',\n",
              " 'money',\n",
              " 'plus',\n",
              " 'interest',\n",
              " 'entire',\n",
              " 'family',\n",
              " 'everyone']"
            ]
          },
          "metadata": {
            "tags": []
          },
          "execution_count": 14
        }
      ]
    },
    {
      "cell_type": "markdown",
      "metadata": {
        "id": "VJZExfZ4F5DY",
        "colab_type": "text"
      },
      "source": [
        "## 5 Topic Modeling - Liar Liar Data"
      ]
    },
    {
      "cell_type": "markdown",
      "metadata": {
        "id": "DGmEhyrkC0e5",
        "colab_type": "text"
      },
      "source": [
        "### 5.1 LDA Analysis\n"
      ]
    },
    {
      "cell_type": "code",
      "metadata": {
        "id": "aMZcdhA7E0Rv",
        "colab_type": "code",
        "outputId": "e597d566-6538-4f3c-f353-05604352bc88",
        "colab": {
          "base_uri": "https://localhost:8080/",
          "height": 322
        }
      },
      "source": [
        "! pip install gensim"
      ],
      "execution_count": 0,
      "outputs": [
        {
          "output_type": "stream",
          "text": [
            "Requirement already satisfied: gensim in /usr/local/lib/python3.6/dist-packages (3.6.0)\n",
            "Requirement already satisfied: six>=1.5.0 in /usr/local/lib/python3.6/dist-packages (from gensim) (1.12.0)\n",
            "Requirement already satisfied: smart-open>=1.2.1 in /usr/local/lib/python3.6/dist-packages (from gensim) (1.11.1)\n",
            "Requirement already satisfied: scipy>=0.18.1 in /usr/local/lib/python3.6/dist-packages (from gensim) (1.4.1)\n",
            "Requirement already satisfied: numpy>=1.11.3 in /usr/local/lib/python3.6/dist-packages (from gensim) (1.18.3)\n",
            "Requirement already satisfied: requests in /usr/local/lib/python3.6/dist-packages (from smart-open>=1.2.1->gensim) (2.21.0)\n",
            "Requirement already satisfied: boto in /usr/local/lib/python3.6/dist-packages (from smart-open>=1.2.1->gensim) (2.49.0)\n",
            "Requirement already satisfied: boto3 in /usr/local/lib/python3.6/dist-packages (from smart-open>=1.2.1->gensim) (1.12.43)\n",
            "Requirement already satisfied: chardet<3.1.0,>=3.0.2 in /usr/local/lib/python3.6/dist-packages (from requests->smart-open>=1.2.1->gensim) (3.0.4)\n",
            "Requirement already satisfied: idna<2.9,>=2.5 in /usr/local/lib/python3.6/dist-packages (from requests->smart-open>=1.2.1->gensim) (2.8)\n",
            "Requirement already satisfied: certifi>=2017.4.17 in /usr/local/lib/python3.6/dist-packages (from requests->smart-open>=1.2.1->gensim) (2020.4.5.1)\n",
            "Requirement already satisfied: urllib3<1.25,>=1.21.1 in /usr/local/lib/python3.6/dist-packages (from requests->smart-open>=1.2.1->gensim) (1.24.3)\n",
            "Requirement already satisfied: botocore<1.16.0,>=1.15.43 in /usr/local/lib/python3.6/dist-packages (from boto3->smart-open>=1.2.1->gensim) (1.15.43)\n",
            "Requirement already satisfied: jmespath<1.0.0,>=0.7.1 in /usr/local/lib/python3.6/dist-packages (from boto3->smart-open>=1.2.1->gensim) (0.9.5)\n",
            "Requirement already satisfied: s3transfer<0.4.0,>=0.3.0 in /usr/local/lib/python3.6/dist-packages (from boto3->smart-open>=1.2.1->gensim) (0.3.3)\n",
            "Requirement already satisfied: docutils<0.16,>=0.10 in /usr/local/lib/python3.6/dist-packages (from botocore<1.16.0,>=1.15.43->boto3->smart-open>=1.2.1->gensim) (0.15.2)\n",
            "Requirement already satisfied: python-dateutil<3.0.0,>=2.1 in /usr/local/lib/python3.6/dist-packages (from botocore<1.16.0,>=1.15.43->boto3->smart-open>=1.2.1->gensim) (2.8.1)\n"
          ],
          "name": "stdout"
        }
      ]
    },
    {
      "cell_type": "code",
      "metadata": {
        "id": "M7Fdvch1EjQ4",
        "colab_type": "code",
        "colab": {}
      },
      "source": [
        "from gensim.models.ldamodel import LdaModel\n",
        "from gensim.corpora import Dictionary\n",
        "\n",
        "def topics(tokenized_words):\n",
        "    d = Dictionary([tokenized_words])\n",
        "    c = [d.doc2bow(tokenized_words)]\n",
        "    m = LdaModel(c, num_topics=1, id2word=d)\n",
        "    return list(m.print_topics(num_words=2))\n",
        "  \n",
        "data_liar_liar['topics'] = data_liar_liar['text_distilled'].apply(topics)\n"
      ],
      "execution_count": 0,
      "outputs": []
    },
    {
      "cell_type": "markdown",
      "metadata": {
        "id": "U2_6vpztHdgn",
        "colab_type": "text"
      },
      "source": [
        "The topics of some sample articles:"
      ]
    },
    {
      "cell_type": "code",
      "metadata": {
        "id": "bYd-SH8nHhOI",
        "colab_type": "code",
        "outputId": "679dc29b-3fba-4dda-ef93-298413c09cfa",
        "colab": {
          "base_uri": "https://localhost:8080/",
          "height": 50
        }
      },
      "source": [
        "data_liar_liar.title[1],data_liar_liar.topics[1]"
      ],
      "execution_count": 0,
      "outputs": [
        {
          "output_type": "execute_result",
          "data": {
            "text/plain": [
              "('Re: Why Did Attorney General Loretta Lynch Plead The Fifth?',\n",
              " [(0, '0.033*\"lynch\" + 0.020*\"attorney\"')])"
            ]
          },
          "metadata": {
            "tags": []
          },
          "execution_count": 17
        }
      ]
    },
    {
      "cell_type": "code",
      "metadata": {
        "id": "pbXOFnFFHlMX",
        "colab_type": "code",
        "outputId": "52601496-d4b8-4fda-bbb6-64df53eab3ab",
        "colab": {
          "base_uri": "https://localhost:8080/",
          "height": 50
        }
      },
      "source": [
        "data_liar_liar.title[2],data_liar_liar.topics[2]"
      ],
      "execution_count": 0,
      "outputs": [
        {
          "output_type": "execute_result",
          "data": {
            "text/plain": [
              "('BREAKING: Weiner Cooperating With FBI On Hillary Email Investigation',\n",
              " [(0, '0.029*\"weiner\" + 0.017*\"breaking\"')])"
            ]
          },
          "metadata": {
            "tags": []
          },
          "execution_count": 18
        }
      ]
    },
    {
      "cell_type": "code",
      "metadata": {
        "id": "OVo-d0S6H_Q5",
        "colab_type": "code",
        "outputId": "fdbd8d15-af01-4451-d2ba-89a1e1acb92e",
        "colab": {
          "base_uri": "https://localhost:8080/",
          "height": 50
        }
      },
      "source": [
        "data_liar_liar.title[4],data_liar_liar.topics[4]"
      ],
      "execution_count": 0,
      "outputs": [
        {
          "output_type": "execute_result",
          "data": {
            "text/plain": [
              "(\"FANTASTIC! TRUMP'S 7 POINT PLAN To Reform Healthcare Begins With A Bombshell! » 100percentfedUp.com\",\n",
              " [(0, '0.022*\"insurance\" + 0.016*\"must\"')])"
            ]
          },
          "metadata": {
            "tags": []
          },
          "execution_count": 19
        }
      ]
    },
    {
      "cell_type": "code",
      "metadata": {
        "id": "UsAmtH0abASA",
        "colab_type": "code",
        "outputId": "50dbfa97-5826-446c-f7c2-8d2f861cdc93",
        "colab": {
          "base_uri": "https://localhost:8080/",
          "height": 34
        }
      },
      "source": [
        "len(data_liar_liar.title)"
      ],
      "execution_count": 0,
      "outputs": [
        {
          "output_type": "execute_result",
          "data": {
            "text/plain": [
              "1000"
            ]
          },
          "metadata": {
            "tags": []
          },
          "execution_count": 20
        }
      ]
    },
    {
      "cell_type": "markdown",
      "metadata": {
        "id": "ze4YTpBLultl",
        "colab_type": "text"
      },
      "source": [
        "### 5.2 Topics as Simple List of Words\n",
        "\n",
        "A list of topic terms is compiled as show below. The coefficients in front of each word are dropped as part of simplification. The assumption is that the top two words comprising the topic, are both significant enough to be treated equally. It is important that the goal is to build a reliable prediction model. While there is a risk of oversimplification, if the final model results in a poor accuracy score, the coefficient can always be reintroduced here."
      ]
    },
    {
      "cell_type": "code",
      "metadata": {
        "id": "a1fxmdcyuqoB",
        "colab_type": "code",
        "colab": {}
      },
      "source": [
        "def parseTopics(topics):\n",
        "   output = []\n",
        "   words = topics[0][1].split( '+' )\n",
        "   for word in words:\n",
        "       output.append( word.split('*')[1].replace( '\"', '' ) )\n",
        "   return output\n",
        "\n",
        "data_liar_liar['topics'] = data_liar_liar['topics'].apply(parseTopics)"
      ],
      "execution_count": 0,
      "outputs": []
    },
    {
      "cell_type": "code",
      "metadata": {
        "id": "ea1LjWkvyjGg",
        "colab_type": "code",
        "outputId": "b4275689-3b83-40c4-8652-1f968387e992",
        "colab": {
          "base_uri": "https://localhost:8080/",
          "height": 50
        }
      },
      "source": [
        "data_liar_liar.title[1],data_liar_liar.topics[1]"
      ],
      "execution_count": 0,
      "outputs": [
        {
          "output_type": "execute_result",
          "data": {
            "text/plain": [
              "('Re: Why Did Attorney General Loretta Lynch Plead The Fifth?',\n",
              " ['lynch ', 'attorney'])"
            ]
          },
          "metadata": {
            "tags": []
          },
          "execution_count": 22
        }
      ]
    },
    {
      "cell_type": "markdown",
      "metadata": {
        "id": "4zphchkmJTFm",
        "colab_type": "text"
      },
      "source": [
        "\n",
        "\n",
        "## 6 Data Enrichment and Visual Analysis\n",
        "\n",
        "The notebook uses Kaggle's \"All the news\" dataset to curate reference articles to enrich the study of coverage analysis  (Thompson,  2017).\n",
        "\n"
      ]
    },
    {
      "cell_type": "markdown",
      "metadata": {
        "id": "S2-jg47QJw-E",
        "colab_type": "text"
      },
      "source": [
        "Since \"articles1.csv\" was sufficient to get a good coverage analysis. The data from articles2.csv and articles3.csv were dropped. Including all data unnecesarily, can result in slow distillation, training and testing."
      ]
    },
    {
      "cell_type": "code",
      "metadata": {
        "id": "Po0XsMLYfajj",
        "colab_type": "code",
        "colab": {}
      },
      "source": [
        "#data_all_news = pd.read_csv('/content/drive/My Drive/Colab Notebooks/articles1.csv', low_memory =False, encoding = \"ISO-8859-1\")\n",
        "#data_all_news.head(20)"
      ],
      "execution_count": 0,
      "outputs": []
    },
    {
      "cell_type": "markdown",
      "metadata": {
        "id": "aI2CymBjK90q",
        "colab_type": "text"
      },
      "source": [
        "### 6.1 Article Count by News Sources"
      ]
    },
    {
      "cell_type": "code",
      "metadata": {
        "id": "4eqDPc3FLH2q",
        "colab_type": "code",
        "outputId": "27b3cf40-2af4-4e03-bfeb-e65aede5a2f8",
        "colab": {
          "base_uri": "https://localhost:8080/",
          "height": 488
        }
      },
      "source": [
        "print(\"\\nArticle counts by publisher:\")\n",
        "s= data_all_news['publication'].value_counts()\n",
        "print(s)\n",
        "s.plot(kind='bar')"
      ],
      "execution_count": 0,
      "outputs": [
        {
          "output_type": "stream",
          "text": [
            "\n",
            "Article counts by publisher:\n",
            "Breitbart           23781\n",
            "CNN                 11488\n",
            "New York Times       7803\n",
            "Business Insider     6757\n",
            "Atlantic              171\n",
            "Name: publication, dtype: int64\n"
          ],
          "name": "stdout"
        },
        {
          "output_type": "execute_result",
          "data": {
            "text/plain": [
              "<matplotlib.axes._subplots.AxesSubplot at 0x7f1bf73bccc0>"
            ]
          },
          "metadata": {
            "tags": []
          },
          "execution_count": 24
        },
        {
          "output_type": "display_data",
          "data": {
            "image/png": "[encoded data removed]",
            "text/plain": [
              "<Figure size 432x288 with 1 Axes>"
            ]
          },
          "metadata": {
            "tags": [],
            "needs_background": "light"
          }
        }
      ]
    },
    {
      "cell_type": "markdown",
      "metadata": {
        "id": "1OlXGP9BLT0K",
        "colab_type": "text"
      },
      "source": [
        "### 6.2 Article Count by Date"
      ]
    },
    {
      "cell_type": "code",
      "metadata": {
        "id": "nB4g3VsxLYfm",
        "colab_type": "code",
        "outputId": "a031f489-48a4-4bb2-fa42-4ff83d5d9167",
        "colab": {
          "base_uri": "https://localhost:8080/",
          "height": 565
        }
      },
      "source": [
        "print(\"\\nArticle counts by date:\")\n",
        "s= data_all_news['date'].value_counts()\n",
        "print(s)\n",
        "s.plot(kind='bar')"
      ],
      "execution_count": 0,
      "outputs": [
        {
          "output_type": "stream",
          "text": [
            "\n",
            "Article counts by date:\n",
            "2016-08-22    221\n",
            "2017-04-13    187\n",
            "2017-04-14    180\n",
            "2017-02-03    172\n",
            "2017-04-07    169\n",
            "             ... \n",
            "2013-02-22      1\n",
            "2015-09-24      1\n",
            "2015-12-24      1\n",
            "2013-02-28      1\n",
            "2014-07-01      1\n",
            "Name: date, Length: 983, dtype: int64\n"
          ],
          "name": "stdout"
        },
        {
          "output_type": "execute_result",
          "data": {
            "text/plain": [
              "<matplotlib.axes._subplots.AxesSubplot at 0x7f1bf7566a58>"
            ]
          },
          "metadata": {
            "tags": []
          },
          "execution_count": 25
        },
        {
          "output_type": "display_data",
          "data": {
            "image/png": "[encoded data removed]",
            "text/plain": [
              "<Figure size 432x288 with 1 Axes>"
            ]
          },
          "metadata": {
            "tags": [],
            "needs_background": "light"
          }
        }
      ]
    },
    {
      "cell_type": "markdown",
      "metadata": {
        "id": "vkfLrxSrMFx8",
        "colab_type": "text"
      },
      "source": [
        "## 7 Distillation - Kaggle All News Dataset"
      ]
    },
    {
      "cell_type": "markdown",
      "metadata": {
        "id": "ZhQ-IF-zOUO0",
        "colab_type": "text"
      },
      "source": [
        "### 7.1 Cleansing \"All News\" Articles and Finding Document Similarity\n",
        "\n",
        "For each article, the goal is to count all relevant articles in the data_all_news dataset that contain similar topics. To achieve this, we also need to do a latent topic modelling.\n",
        "\n"
      ]
    },
    {
      "cell_type": "markdown",
      "metadata": {
        "id": "b9l9rOTXKamH",
        "colab_type": "text"
      },
      "source": [
        "### 7.2 Distillation - Tokenization"
      ]
    },
    {
      "cell_type": "code",
      "metadata": {
        "id": "sbO7ZLO1YH4W",
        "colab_type": "code",
        "colab": {}
      },
      "source": [
        "data_all_news['text_distilled'] = data_all_news['title'].apply(lambda x : re.split('\\W+', str(x).lower())) +\\\n",
        "   data_all_news['content'].apply(lambda x : re.split('\\W+', str(x).lower()))"
      ],
      "execution_count": 0,
      "outputs": []
    },
    {
      "cell_type": "markdown",
      "metadata": {
        "id": "E9irzj0FZEhF",
        "colab_type": "text"
      },
      "source": [
        "### 7.3 Distillation - Lemmatization"
      ]
    },
    {
      "cell_type": "code",
      "metadata": {
        "id": "PAfdciGTZI1O",
        "colab_type": "code",
        "colab": {}
      },
      "source": [
        "data_all_news['text_distilled'] = data_all_news['text_distilled'].apply(lemmatize)"
      ],
      "execution_count": 0,
      "outputs": []
    },
    {
      "cell_type": "markdown",
      "metadata": {
        "id": "grYBujqWZOq6",
        "colab_type": "text"
      },
      "source": [
        "### 7.4 Distillation - Stop Words"
      ]
    },
    {
      "cell_type": "code",
      "metadata": {
        "id": "gX8qfbHaZQs7",
        "colab_type": "code",
        "colab": {}
      },
      "source": [
        "data_all_news['text_distilled'] = data_all_news['text_distilled'].apply(remove_stopwords)"
      ],
      "execution_count": 0,
      "outputs": []
    },
    {
      "cell_type": "markdown",
      "metadata": {
        "id": "gY0-N4QcZVZg",
        "colab_type": "text"
      },
      "source": [
        "### 7.5 Distillation - Additional"
      ]
    },
    {
      "cell_type": "code",
      "metadata": {
        "id": "NE_D_lRwZeFS",
        "colab_type": "code",
        "outputId": "06fe4902-e536-40cc-95c1-8ad19c35dc4a",
        "colab": {
          "base_uri": "https://localhost:8080/",
          "height": 269
        }
      },
      "source": [
        "data_all_news['text_distilled'] = data_all_news['text_distilled'].apply(remove_too_short)\n",
        "data_all_news.text_distilled[0][:15]"
      ],
      "execution_count": 0,
      "outputs": [
        {
          "output_type": "execute_result",
          "data": {
            "text/plain": [
              "['house',\n",
              " 'republican',\n",
              " 'fret',\n",
              " 'winning',\n",
              " 'health',\n",
              " 'care',\n",
              " 'suit',\n",
              " 'new',\n",
              " 'york',\n",
              " 'time',\n",
              " 'washington',\n",
              " 'congressional',\n",
              " 'republican',\n",
              " 'new',\n",
              " 'fear']"
            ]
          },
          "metadata": {
            "tags": []
          },
          "execution_count": 29
        }
      ]
    },
    {
      "cell_type": "markdown",
      "metadata": {
        "id": "tRzTRRnFMtBo",
        "colab_type": "text"
      },
      "source": [
        "## 8 Topic Modeling - All News Data"
      ]
    },
    {
      "cell_type": "markdown",
      "metadata": {
        "id": "w3-ov1YYh0T7",
        "colab_type": "text"
      },
      "source": [
        "### 8.1 Topic Analysis - Running LDA to Extract Topics"
      ]
    },
    {
      "cell_type": "code",
      "metadata": {
        "id": "VXE5jGJch3Sl",
        "colab_type": "code",
        "colab": {}
      },
      "source": [
        "data_all_news['topics'] = data_all_news['text_distilled'].apply(topics)"
      ],
      "execution_count": 0,
      "outputs": []
    },
    {
      "cell_type": "code",
      "metadata": {
        "id": "g-X6lPwwzFKq",
        "colab_type": "code",
        "colab": {}
      },
      "source": [
        "data_all_news['topics'] = data_all_news['topics'].apply(parseTopics)"
      ],
      "execution_count": 0,
      "outputs": []
    },
    {
      "cell_type": "markdown",
      "metadata": {
        "id": "2i5bFLlWooh9",
        "colab_type": "text"
      },
      "source": [
        "Making sure that the distillation is succesful, the following snippet was run."
      ]
    },
    {
      "cell_type": "code",
      "metadata": {
        "id": "oJiv4v0o1Nds",
        "colab_type": "code",
        "outputId": "933ff76b-939e-43bc-8bfe-0a8e4f2c1829",
        "colab": {
          "base_uri": "https://localhost:8080/",
          "height": 50
        }
      },
      "source": [
        "data_all_news.title[0], data_all_news.topics[0]"
      ],
      "execution_count": 0,
      "outputs": [
        {
          "output_type": "execute_result",
          "data": {
            "text/plain": [
              "('House Republicans Fret About Winning Their Health Care Suit - The New York Times',\n",
              " ['house ', 'republican'])"
            ]
          },
          "metadata": {
            "tags": []
          },
          "execution_count": 32
        }
      ]
    },
    {
      "cell_type": "markdown",
      "metadata": {
        "id": "rF7YvJWHF76L",
        "colab_type": "text"
      },
      "source": [
        "## 9 News Coverage Computation"
      ]
    },
    {
      "cell_type": "markdown",
      "metadata": {
        "id": "niepPGo74ydv",
        "colab_type": "text"
      },
      "source": [
        "### 9.1 Scoring Coverage (Ranking)\n",
        "\n",
        "The latent topics are parsed from non-fake news datset. To make an appropriate scoring coverage, the latent topics between \"all news\" data set and fake news dataset (`data_liar_liar`) are compared."
      ]
    },
    {
      "cell_type": "code",
      "metadata": {
        "id": "i2AldcftKUOQ",
        "colab_type": "code",
        "colab": {}
      },
      "source": [
        "def setDate( published ):\n",
        "   return published.split( \"T\" )[0]\n",
        "\n",
        "data_liar_liar[ 'date' ] = data_liar_liar.published.apply( setDate )"
      ],
      "execution_count": 0,
      "outputs": []
    },
    {
      "cell_type": "code",
      "metadata": {
        "id": "GmUHDODsMss4",
        "colab_type": "code",
        "outputId": "0c49a149-e572-4184-ac70-94246b8cb9cd",
        "colab": {
          "base_uri": "https://localhost:8080/",
          "height": 214
        }
      },
      "source": [
        "data_liar_liar.head(1)"
      ],
      "execution_count": 0,
      "outputs": [
        {
          "output_type": "execute_result",
          "data": {
            "text/html": [
              "<div>\n",
              "<style scoped>\n",
              "    .dataframe tbody tr th:only-of-type {\n",
              "        vertical-align: middle;\n",
              "    }\n",
              "\n",
              "    .dataframe tbody tr th {\n",
              "        vertical-align: top;\n",
              "    }\n",
              "\n",
              "    .dataframe thead th {\n",
              "        text-align: right;\n",
              "    }\n",
              "</style>\n",
              "<table border=\"1\" class=\"dataframe\">\n",
              "  <thead>\n",
              "    <tr style=\"text-align: right;\">\n",
              "      <th></th>\n",
              "      <th>uuid</th>\n",
              "      <th>ord_in_thread</th>\n",
              "      <th>author</th>\n",
              "      <th>published</th>\n",
              "      <th>title</th>\n",
              "      <th>text</th>\n",
              "      <th>language</th>\n",
              "      <th>crawled</th>\n",
              "      <th>site_url</th>\n",
              "      <th>country</th>\n",
              "      <th>domain_rank</th>\n",
              "      <th>thread_title</th>\n",
              "      <th>spam_score</th>\n",
              "      <th>main_img_url</th>\n",
              "      <th>replies_count</th>\n",
              "      <th>participants_count</th>\n",
              "      <th>likes</th>\n",
              "      <th>comments</th>\n",
              "      <th>shares</th>\n",
              "      <th>type</th>\n",
              "      <th>text_distilled</th>\n",
              "      <th>text_distilled_lemma</th>\n",
              "      <th>topics</th>\n",
              "      <th>date</th>\n",
              "    </tr>\n",
              "  </thead>\n",
              "  <tbody>\n",
              "    <tr>\n",
              "      <th>0</th>\n",
              "      <td>6a175f46bcd24d39b3e962ad0f29936721db70db</td>\n",
              "      <td>0</td>\n",
              "      <td>Barracuda Brigade</td>\n",
              "      <td>2016-10-26T21:41:00.000+03:00</td>\n",
              "      <td>Muslims BUSTED: They Stole Millions In Gov’t B...</td>\n",
              "      <td>Print They should pay all the back all the mon...</td>\n",
              "      <td>english</td>\n",
              "      <td>2016-10-27T01:49:27.168+03:00</td>\n",
              "      <td>100percentfedup.com</td>\n",
              "      <td>US</td>\n",
              "      <td>25689.0</td>\n",
              "      <td>Muslims BUSTED: They Stole Millions In Gov’t B...</td>\n",
              "      <td>0.0</td>\n",
              "      <td>http://bb4sp.com/wp-content/uploads/2016/10/Fu...</td>\n",
              "      <td>0</td>\n",
              "      <td>1</td>\n",
              "      <td>0</td>\n",
              "      <td>0</td>\n",
              "      <td>0</td>\n",
              "      <td>bias</td>\n",
              "      <td>[muslims, busted, stole, millions, gov, benefi...</td>\n",
              "      <td>[muslim, busted, they, stole, million, in, gov...</td>\n",
              "      <td>[benefits , government]</td>\n",
              "      <td>2016-10-26</td>\n",
              "    </tr>\n",
              "  </tbody>\n",
              "</table>\n",
              "</div>"
            ],
            "text/plain": [
              "                                       uuid  ...        date\n",
              "0  6a175f46bcd24d39b3e962ad0f29936721db70db  ...  2016-10-26\n",
              "\n",
              "[1 rows x 24 columns]"
            ]
          },
          "metadata": {
            "tags": []
          },
          "execution_count": 34
        }
      ]
    },
    {
      "cell_type": "markdown",
      "metadata": {
        "id": "KUkP6m52K1bm",
        "colab_type": "text"
      },
      "source": [
        "The coverage window is simply a time-range where two articles are considered to be pushed in the same approximate \"time frame\". Narrowing the window size will result in low coverage score across all rows. Increasing the window size will result in high coverage score across all rows. The choice of the window size was arbitrary (30 days). Please see section 7.17 for 60-day coverage window."
      ]
    },
    {
      "cell_type": "code",
      "metadata": {
        "id": "W7lBooYW_G73",
        "colab_type": "code",
        "colab": {}
      },
      "source": [
        "import datetime\n",
        "\n",
        "def window( datestring, n ):\n",
        "   d = datetime.datetime.strptime( datestring, \"%Y-%m-%d\" )\n",
        "   delta = datetime.timedelta(days=n)\n",
        "   fromdate = datetime.datetime.strftime(d - delta, \"%Y-%m-%d\")\n",
        "   todate = datetime.datetime.strftime(d + delta, \"%Y-%m-%d\")\n",
        "   return ( fromdate, todate )"
      ],
      "execution_count": 0,
      "outputs": []
    },
    {
      "cell_type": "markdown",
      "metadata": {
        "id": "nhoxnbkTn853",
        "colab_type": "text"
      },
      "source": [
        "to assign coverage score, the topic “label” for each fake news article is searched in the\n",
        "“all news” dataset. For each label matches, we increment the coverage score by 1. However, if\n",
        "the publication dates of the two news articles (one from fake news article, and one from the “all\n",
        "news” dataset) do not fall in the same time window (30 days or 60 days), no points are awarded\n",
        "to the coverage score from that particular match. If no news articles match, the coverage score\n",
        "would be assigned a score of 0 accordingly."
      ]
    },
    {
      "cell_type": "markdown",
      "metadata": {
        "id": "s7E8BzmwZwzy",
        "colab_type": "text"
      },
      "source": [
        "Please note that coverage scoring below can take about 10~15 minutes to complete (With GPU Hardware accelerator)."
      ]
    },
    {
      "cell_type": "code",
      "metadata": {
        "id": "Rf0YsfVr4-sj",
        "colab_type": "code",
        "outputId": "399c9da0-bf05-453a-df43-206a8f3094c8",
        "colab": {
          "base_uri": "https://localhost:8080/",
          "height": 151
        }
      },
      "source": [
        "import datetime\n",
        "\n",
        "print( \"Start Time\", datetime.datetime.now() )\n",
        "\n",
        "def coverage( article ):\n",
        "   fromdate, todate = window( article[ 'date' ], 15 )\n",
        "   selected_coverage = data_all_news[(data_all_news['date'] > fromdate) & (data_all_news['date'] < todate)]\n",
        "   selected_coverage['covered'] = selected_coverage.apply( lambda r: r[ 'topics' ][0] in article.topics and\n",
        "                                                       r[ 'topics' ][1] in article.topics, axis=1 )\n",
        "   return len(selected_coverage[selected_coverage['covered'] == True])\n",
        "\n",
        "data_liar_liar[ 'coverage' ] = data_liar_liar.apply( coverage, axis=1 )\n",
        "\n",
        "print( \"Finished Time\", datetime.datetime.now() )"
      ],
      "execution_count": 0,
      "outputs": [
        {
          "output_type": "stream",
          "text": [
            "Start Time 2020-04-27 21:20:56.432949\n"
          ],
          "name": "stdout"
        },
        {
          "output_type": "stream",
          "text": [
            "/usr/local/lib/python3.6/dist-packages/ipykernel_launcher.py:9: SettingWithCopyWarning: \n",
            "A value is trying to be set on a copy of a slice from a DataFrame.\n",
            "Try using .loc[row_indexer,col_indexer] = value instead\n",
            "\n",
            "See the caveats in the documentation: https://pandas.pydata.org/pandas-docs/stable/user_guide/indexing.html#returning-a-view-versus-a-copy\n",
            "  if __name__ == '__main__':\n"
          ],
          "name": "stderr"
        },
        {
          "output_type": "stream",
          "text": [
            "Finished Time 2020-04-27 21:22:16.740545\n"
          ],
          "name": "stdout"
        }
      ]
    },
    {
      "cell_type": "code",
      "metadata": {
        "id": "7xSxz3uSSR0l",
        "colab_type": "code",
        "outputId": "ba02c8c0-e3a5-4f25-cb58-d40adc7e57ec",
        "colab": {
          "base_uri": "https://localhost:8080/",
          "height": 669
        }
      },
      "source": [
        "data_liar_liar.sort_values(by=['coverage'], ascending=False ).head(5)"
      ],
      "execution_count": 0,
      "outputs": [
        {
          "output_type": "execute_result",
          "data": {
            "text/html": [
              "<div>\n",
              "<style scoped>\n",
              "    .dataframe tbody tr th:only-of-type {\n",
              "        vertical-align: middle;\n",
              "    }\n",
              "\n",
              "    .dataframe tbody tr th {\n",
              "        vertical-align: top;\n",
              "    }\n",
              "\n",
              "    .dataframe thead th {\n",
              "        text-align: right;\n",
              "    }\n",
              "</style>\n",
              "<table border=\"1\" class=\"dataframe\">\n",
              "  <thead>\n",
              "    <tr style=\"text-align: right;\">\n",
              "      <th></th>\n",
              "      <th>uuid</th>\n",
              "      <th>ord_in_thread</th>\n",
              "      <th>author</th>\n",
              "      <th>published</th>\n",
              "      <th>title</th>\n",
              "      <th>text</th>\n",
              "      <th>language</th>\n",
              "      <th>crawled</th>\n",
              "      <th>site_url</th>\n",
              "      <th>country</th>\n",
              "      <th>domain_rank</th>\n",
              "      <th>thread_title</th>\n",
              "      <th>spam_score</th>\n",
              "      <th>main_img_url</th>\n",
              "      <th>replies_count</th>\n",
              "      <th>participants_count</th>\n",
              "      <th>likes</th>\n",
              "      <th>comments</th>\n",
              "      <th>shares</th>\n",
              "      <th>type</th>\n",
              "      <th>text_distilled</th>\n",
              "      <th>text_distilled_lemma</th>\n",
              "      <th>topics</th>\n",
              "      <th>date</th>\n",
              "      <th>coverage</th>\n",
              "    </tr>\n",
              "  </thead>\n",
              "  <tbody>\n",
              "    <tr>\n",
              "      <th>53</th>\n",
              "      <td>a36405a8d7d32c2192b9a9b482dcf0ebc83c62eb</td>\n",
              "      <td>0</td>\n",
              "      <td>Mike Rivero</td>\n",
              "      <td>2016-11-23T00:49:00.000+02:00</td>\n",
              "      <td>FLASHBACK - Hillary Clinton’s ‘KKK’ Smear Agai...</td>\n",
              "      <td>November 21, 2016 By 21wire Leave a Comment \\n...</td>\n",
              "      <td>english</td>\n",
              "      <td>2016-11-23T01:36:58.899+02:00</td>\n",
              "      <td>21stcenturywire.com</td>\n",
              "      <td>US</td>\n",
              "      <td>NaN</td>\n",
              "      <td>FLASHBACK - Hillary Clinton’s ‘KKK’ Smear Agai...</td>\n",
              "      <td>0.0</td>\n",
              "      <td>http://i2.wp.com/21stcenturywire.com/wp-conten...</td>\n",
              "      <td>0</td>\n",
              "      <td>1</td>\n",
              "      <td>0</td>\n",
              "      <td>0</td>\n",
              "      <td>0</td>\n",
              "      <td>conspiracy</td>\n",
              "      <td>[flashback, hillary, clinton, kkk, smear, trum...</td>\n",
              "      <td>[flashback, hillary, clinton, s, kkk, smear, a...</td>\n",
              "      <td>[mr , trump]</td>\n",
              "      <td>2016-11-23</td>\n",
              "      <td>41</td>\n",
              "    </tr>\n",
              "    <tr>\n",
              "      <th>26</th>\n",
              "      <td>c1a86b752a21196a06591d5a785fa29b14fab245</td>\n",
              "      <td>0</td>\n",
              "      <td>EdJenner</td>\n",
              "      <td>2016-11-22T08:17:53.961+02:00</td>\n",
              "      <td>DONALD TRUMP Calls Meeting With Press…Dresses ...</td>\n",
              "      <td>Go to Article \\nThey had to know they had it c...</td>\n",
              "      <td>english</td>\n",
              "      <td>2016-11-22T08:17:53.961+02:00</td>\n",
              "      <td>100percentfedup.com</td>\n",
              "      <td>US</td>\n",
              "      <td>25689.0</td>\n",
              "      <td>DONALD TRUMP Calls Meeting With Press…Dresses ...</td>\n",
              "      <td>0.0</td>\n",
              "      <td>http://conservativeangle.com/wp-content/upload...</td>\n",
              "      <td>0</td>\n",
              "      <td>1</td>\n",
              "      <td>0</td>\n",
              "      <td>0</td>\n",
              "      <td>0</td>\n",
              "      <td>bias</td>\n",
              "      <td>[donald, trump, calls, meeting, press, dresses...</td>\n",
              "      <td>[donald, trump, call, meeting, with, press, dr...</td>\n",
              "      <td>[trump , said]</td>\n",
              "      <td>2016-11-22</td>\n",
              "      <td>22</td>\n",
              "    </tr>\n",
              "    <tr>\n",
              "      <th>980</th>\n",
              "      <td>29aa6e6c0aa6e47a2ee80e18b8ddc031657425b0</td>\n",
              "      <td>0</td>\n",
              "      <td>NaN</td>\n",
              "      <td>2016-10-28T18:34:48.985+03:00</td>\n",
              "      <td>FEAR OF TRUMP: BUSH, OBAMA, CLINTON ALL BUYING...</td>\n",
              "      <td>Email \\n\\nIt appears Bill and Hillary Clinton ...</td>\n",
              "      <td>english</td>\n",
              "      <td>2016-10-28T18:34:48.985+03:00</td>\n",
              "      <td>awdnews.com</td>\n",
              "      <td>DE</td>\n",
              "      <td>NaN</td>\n",
              "      <td>FEAR OF TRUMP: BUSH, OBAMA, CLINTON ALL BUYING...</td>\n",
              "      <td>0.0</td>\n",
              "      <td>http://awdnews.com/images/14776680451.jpg</td>\n",
              "      <td>0</td>\n",
              "      <td>0</td>\n",
              "      <td>0</td>\n",
              "      <td>0</td>\n",
              "      <td>0</td>\n",
              "      <td>conspiracy</td>\n",
              "      <td>[fear, trump, bush, obama, clinton, buying, pr...</td>\n",
              "      <td>[fear, of, trump, bush, obama, clinton, all, b...</td>\n",
              "      <td>[trump , clinton]</td>\n",
              "      <td>2016-10-28</td>\n",
              "      <td>20</td>\n",
              "    </tr>\n",
              "    <tr>\n",
              "      <th>988</th>\n",
              "      <td>b2e81b8debd3ca29f942d34b781126c07e427194</td>\n",
              "      <td>0</td>\n",
              "      <td>NaN</td>\n",
              "      <td>2016-10-28T18:40:18.626+03:00</td>\n",
              "      <td>FEAR OF TRUMP: BUSH, OBAMA, CLINTON ALL BUYING...</td>\n",
              "      <td>Email \\n\\nIt appears Bill and Hillary Clinton ...</td>\n",
              "      <td>english</td>\n",
              "      <td>2016-10-28T18:40:18.626+03:00</td>\n",
              "      <td>awdnews.com</td>\n",
              "      <td>DE</td>\n",
              "      <td>NaN</td>\n",
              "      <td>FEAR OF TRUMP: BUSH, OBAMA, CLINTON ALL BUYING...</td>\n",
              "      <td>0.0</td>\n",
              "      <td>http://awdnews.com/images/14776680451.jpg</td>\n",
              "      <td>0</td>\n",
              "      <td>0</td>\n",
              "      <td>0</td>\n",
              "      <td>0</td>\n",
              "      <td>0</td>\n",
              "      <td>conspiracy</td>\n",
              "      <td>[fear, trump, bush, obama, clinton, buying, pr...</td>\n",
              "      <td>[fear, of, trump, bush, obama, clinton, all, b...</td>\n",
              "      <td>[trump , clinton]</td>\n",
              "      <td>2016-10-28</td>\n",
              "      <td>20</td>\n",
              "    </tr>\n",
              "    <tr>\n",
              "      <th>968</th>\n",
              "      <td>cb64c208ace64bd6dbe9f5d8a892f510e3ae5dec</td>\n",
              "      <td>0</td>\n",
              "      <td>NaN</td>\n",
              "      <td>2016-10-28T00:14:00.000+03:00</td>\n",
              "      <td>Donald Trump threatens to jail Hillary Clinton</td>\n",
              "      <td>Email \\nThe second presidential debate flew of...</td>\n",
              "      <td>english</td>\n",
              "      <td>2016-10-28T08:22:41.010+03:00</td>\n",
              "      <td>awdnews.com</td>\n",
              "      <td>DE</td>\n",
              "      <td>NaN</td>\n",
              "      <td>Donald Trump threatens to jail Hillary Clinton</td>\n",
              "      <td>0.0</td>\n",
              "      <td>http://awdnews.com/images/1477584851donald-tru...</td>\n",
              "      <td>0</td>\n",
              "      <td>0</td>\n",
              "      <td>0</td>\n",
              "      <td>0</td>\n",
              "      <td>0</td>\n",
              "      <td>conspiracy</td>\n",
              "      <td>[donald, trump, threatens, jail, hillary, clin...</td>\n",
              "      <td>[donald, trump, threatens, to, jail, hillary, ...</td>\n",
              "      <td>[trump , said]</td>\n",
              "      <td>2016-10-28</td>\n",
              "      <td>18</td>\n",
              "    </tr>\n",
              "  </tbody>\n",
              "</table>\n",
              "</div>"
            ],
            "text/plain": [
              "                                         uuid  ...  coverage\n",
              "53   a36405a8d7d32c2192b9a9b482dcf0ebc83c62eb  ...        41\n",
              "26   c1a86b752a21196a06591d5a785fa29b14fab245  ...        22\n",
              "980  29aa6e6c0aa6e47a2ee80e18b8ddc031657425b0  ...        20\n",
              "988  b2e81b8debd3ca29f942d34b781126c07e427194  ...        20\n",
              "968  cb64c208ace64bd6dbe9f5d8a892f510e3ae5dec  ...        18\n",
              "\n",
              "[5 rows x 25 columns]"
            ]
          },
          "metadata": {
            "tags": []
          },
          "execution_count": 37
        }
      ]
    },
    {
      "cell_type": "code",
      "metadata": {
        "id": "bwZBsbTCUZVW",
        "colab_type": "code",
        "outputId": "9259889d-ada5-4490-8e2b-891dc5ca1151",
        "colab": {
          "base_uri": "https://localhost:8080/",
          "height": 67
        }
      },
      "source": [
        "data_liar_liar.sort_values(by=['coverage'], ascending=False ).head(1)['title'], data_liar_liar.sort_values(by=['coverage'], ascending=False ).head(1)['coverage']"
      ],
      "execution_count": 0,
      "outputs": [
        {
          "output_type": "execute_result",
          "data": {
            "text/plain": [
              "(53    FLASHBACK - Hillary Clinton’s ‘KKK’ Smear Agai...\n",
              " Name: title, dtype: object, 53    41\n",
              " Name: coverage, dtype: int64)"
            ]
          },
          "metadata": {
            "tags": []
          },
          "execution_count": 38
        }
      ]
    },
    {
      "cell_type": "markdown",
      "metadata": {
        "id": "wYppcAHMCJTg",
        "colab_type": "text"
      },
      "source": [
        "### 9.2 Intermediary Analysis\n",
        "\n",
        "**Label Pairing** - For now,  top two words of the topics are chosen in the all-news dataset, as \"labels.\" Then using the topics of each fake news datasets and number all-news articles corresponding to each fake news article can be deduced. This means that for every article, we are searching for related articles. \n",
        "\n",
        "<i>Hypothetical Label Pairing for Illustration Purposes</i>\n",
        "\n",
        "Table A (10 articles)\n",
        "\n",
        "|  Articles | Topic Words | Computed Coverage Score | Rationale |\n",
        "| -- | -- | -- |\n",
        "|  1            | \"Apple\", \"Banana\" | 0 | Matches None from B |\n",
        "|  2            | \"Apple\", \"Orange\" | 1 |  Matches B.2 |\n",
        "|  3            | \"Orange\", \"Pear\" | 2 | Matches B.3 and B.1023 | \n",
        "| ... | ... |\n",
        "\n",
        "Table B (10,000 articles)\n",
        "\n",
        "|  Articles | Topic Words |\n",
        "| -- | -- |\n",
        "|  1            | \"Apple\", \"Pear\" |\n",
        "|  2            | \"Apple\", \"Orange\" |\n",
        "|  3            | \"Orange\", \"Pear\" |\n",
        "| ... | ... |\n",
        "|  1023      | \"Orange\", \"Pear\" |\n",
        "| ... | ... | \n",
        "\n",
        "**Building a Model** This \"search\" part should only be done during training stage, but not during testing and validation stages. But manually searching each row in the database is expensive and unscalable. Also, if the model simply looks up in internal database and return the score, it is more or less a search solution, not a Machine Learning Classification solution.\n",
        "\n",
        "Instead of doing this search for every article, the model should predict how much coverage it is likely to have based on the top two **topic terms** and the **date** of publication with classifiers such as Naive Bayes or Decision Trees. Clearly it will require lot of articles for training since there will be a rich set of topic terms and dates resulting in wide range of coverage scores.\n",
        "\n",
        "**Risks** There is some risk involved with this approach. Sometimes LDA and topic modeliing doesn't get us far enough. Sometimes the keywords generated by LDA such as \"Car\", \"Bus\", \"Train\" all have the latent super-topic called \"transporation\".  So in our distillation not only we should filter out stop words and run lemmatization, we should condense the words even further such as \"transportation\".  This will require additional data enrichment."
      ]
    },
    {
      "cell_type": "markdown",
      "metadata": {
        "id": "GqBDT4GRSfzk",
        "colab_type": "text"
      },
      "source": [
        "### 9.3 Using word2vec to Convert Topics to Vector Embeddings\n",
        "\n",
        "We use word2vec to fit the entire text from all articles, and then use word2vec model to convert the topic words to vectors."
      ]
    },
    {
      "cell_type": "code",
      "metadata": {
        "id": "UvYioQTYX45d",
        "colab_type": "code",
        "colab": {}
      },
      "source": [
        "from gensim.models import Word2Vec\n",
        "\n",
        "m = Word2Vec( data_liar_liar[ 'text_distilled' ] )"
      ],
      "execution_count": 0,
      "outputs": []
    },
    {
      "cell_type": "code",
      "metadata": {
        "id": "fOm_gT6kX-4n",
        "colab_type": "code",
        "outputId": "d2eb3804-f498-4289-ca3f-0005b30bee40",
        "colab": {
          "base_uri": "https://localhost:8080/",
          "height": 121
        }
      },
      "source": [
        "m.similarity( 'clinton', 'hillary' )"
      ],
      "execution_count": 0,
      "outputs": [
        {
          "output_type": "stream",
          "text": [
            "/usr/local/lib/python3.6/dist-packages/ipykernel_launcher.py:1: DeprecationWarning: Call to deprecated `similarity` (Method will be removed in 4.0.0, use self.wv.similarity() instead).\n",
            "  \"\"\"Entry point for launching an IPython kernel.\n",
            "/usr/local/lib/python3.6/dist-packages/gensim/matutils.py:737: FutureWarning: Conversion of the second argument of issubdtype from `int` to `np.signedinteger` is deprecated. In future, it will be treated as `np.int64 == np.dtype(int).type`.\n",
            "  if np.issubdtype(vec.dtype, np.int):\n"
          ],
          "name": "stderr"
        },
        {
          "output_type": "execute_result",
          "data": {
            "text/plain": [
              "0.9625188"
            ]
          },
          "metadata": {
            "tags": []
          },
          "execution_count": 40
        }
      ]
    },
    {
      "cell_type": "code",
      "metadata": {
        "id": "TIkRu0jJDf7O",
        "colab_type": "code",
        "outputId": "82f7e92b-1317-41f6-cfd3-8ec7eb064971",
        "colab": {
          "base_uri": "https://localhost:8080/",
          "height": 121
        }
      },
      "source": [
        "m.similarity( 'trump', 'election' )"
      ],
      "execution_count": 0,
      "outputs": [
        {
          "output_type": "stream",
          "text": [
            "/usr/local/lib/python3.6/dist-packages/ipykernel_launcher.py:1: DeprecationWarning: Call to deprecated `similarity` (Method will be removed in 4.0.0, use self.wv.similarity() instead).\n",
            "  \"\"\"Entry point for launching an IPython kernel.\n",
            "/usr/local/lib/python3.6/dist-packages/gensim/matutils.py:737: FutureWarning: Conversion of the second argument of issubdtype from `int` to `np.signedinteger` is deprecated. In future, it will be treated as `np.int64 == np.dtype(int).type`.\n",
            "  if np.issubdtype(vec.dtype, np.int):\n"
          ],
          "name": "stderr"
        },
        {
          "output_type": "execute_result",
          "data": {
            "text/plain": [
              "0.9060609"
            ]
          },
          "metadata": {
            "tags": []
          },
          "execution_count": 41
        }
      ]
    },
    {
      "cell_type": "code",
      "metadata": {
        "id": "2xU2GJjca4ne",
        "colab_type": "code",
        "outputId": "5fa489cf-5743-41cd-9f8c-3c6c66932989",
        "colab": {
          "base_uri": "https://localhost:8080/",
          "height": 138
        }
      },
      "source": [
        "import numpy as np\n",
        "\n",
        "def encodeFirstColumn( topics ):\n",
        "   topic = topics[0].strip()\n",
        "   if topic in m:\n",
        "      return m[topic].tolist()\n",
        "   else:\n",
        "      return np.zeros( len(m[list(m.wv.vocab)[0]]) ).tolist()\n",
        "   \n",
        "data_liar_liar[ 'topic_0' ] = data_liar_liar.topics.apply( encodeFirstColumn )"
      ],
      "execution_count": 0,
      "outputs": [
        {
          "output_type": "stream",
          "text": [
            "/usr/local/lib/python3.6/dist-packages/ipykernel_launcher.py:5: DeprecationWarning: Call to deprecated `__contains__` (Method will be removed in 4.0.0, use self.wv.__contains__() instead).\n",
            "  \"\"\"\n",
            "/usr/local/lib/python3.6/dist-packages/ipykernel_launcher.py:6: DeprecationWarning: Call to deprecated `__getitem__` (Method will be removed in 4.0.0, use self.wv.__getitem__() instead).\n",
            "  \n",
            "/usr/local/lib/python3.6/dist-packages/ipykernel_launcher.py:8: DeprecationWarning: Call to deprecated `__getitem__` (Method will be removed in 4.0.0, use self.wv.__getitem__() instead).\n",
            "  \n"
          ],
          "name": "stderr"
        }
      ]
    },
    {
      "cell_type": "markdown",
      "metadata": {
        "id": "G7Twt8fwOD9q",
        "colab_type": "text"
      },
      "source": [
        "Running few sanity check, to ensure that the computation is correct,"
      ]
    },
    {
      "cell_type": "code",
      "metadata": {
        "id": "UxVAnQpEeFkK",
        "colab_type": "code",
        "outputId": "09288f98-ba96-4c69-8c55-53c120a12799",
        "colab": {
          "base_uri": "https://localhost:8080/",
          "height": 87
        }
      },
      "source": [
        "'clinton' in m"
      ],
      "execution_count": 0,
      "outputs": [
        {
          "output_type": "stream",
          "text": [
            "/usr/local/lib/python3.6/dist-packages/ipykernel_launcher.py:1: DeprecationWarning: Call to deprecated `__contains__` (Method will be removed in 4.0.0, use self.wv.__contains__() instead).\n",
            "  \"\"\"Entry point for launching an IPython kernel.\n"
          ],
          "name": "stderr"
        },
        {
          "output_type": "execute_result",
          "data": {
            "text/plain": [
              "True"
            ]
          },
          "metadata": {
            "tags": []
          },
          "execution_count": 43
        }
      ]
    },
    {
      "cell_type": "code",
      "metadata": {
        "id": "hmUtOkKddfwx",
        "colab_type": "code",
        "outputId": "363804d0-9638-4542-d376-fd1c21d6c80b",
        "colab": {
          "base_uri": "https://localhost:8080/",
          "height": 423
        }
      },
      "source": [
        "m['hillary']"
      ],
      "execution_count": 0,
      "outputs": [
        {
          "output_type": "stream",
          "text": [
            "/usr/local/lib/python3.6/dist-packages/ipykernel_launcher.py:1: DeprecationWarning: Call to deprecated `__getitem__` (Method will be removed in 4.0.0, use self.wv.__getitem__() instead).\n",
            "  \"\"\"Entry point for launching an IPython kernel.\n"
          ],
          "name": "stderr"
        },
        {
          "output_type": "execute_result",
          "data": {
            "text/plain": [
              "array([-0.01539379, -0.25937366,  0.59684855, -0.4789657 ,  0.7748751 ,\n",
              "        0.48123166,  0.45310947, -0.27360788,  0.6626037 , -0.10473096,\n",
              "       -1.8129221 ,  0.89976174, -0.07806198,  0.73519325,  0.16284281,\n",
              "       -0.25991917,  0.35025728, -0.70768976,  0.18020491,  0.44952524,\n",
              "       -1.2493131 ,  0.3268489 , -0.14260955, -0.01858092, -0.43046933,\n",
              "        1.2619629 , -0.6499945 , -0.21852474,  0.08753746,  0.1433507 ,\n",
              "        0.3609358 , -0.17607053, -0.3765327 ,  0.8182454 ,  0.45172408,\n",
              "       -0.95328397, -0.59919626, -0.6392082 , -0.09271853, -0.20862499,\n",
              "        0.7614471 , -0.27541563, -0.170978  , -0.31362736, -0.3007571 ,\n",
              "        0.31815925, -0.03898058, -0.3640253 , -0.8744753 ,  0.2877752 ,\n",
              "       -0.5096679 , -1.0697215 ,  0.24589793,  0.08461931,  0.43007573,\n",
              "       -0.24418744, -0.14492959, -0.2920292 ,  0.8109119 ,  0.47997525,\n",
              "        0.2533467 ,  0.4334274 ,  1.0005087 , -0.0936659 ,  0.11638267,\n",
              "       -0.32025647,  0.7431594 ,  0.27451822, -1.2187992 ,  0.40177986,\n",
              "       -0.67359   ,  0.8883055 ,  1.1557256 , -0.06993295, -0.6165814 ,\n",
              "       -0.43916032, -0.16544165,  0.9832207 , -0.11318067, -0.36433187,\n",
              "        0.5847905 ,  0.5514799 , -1.4870964 , -0.5417503 , -0.42448628,\n",
              "        0.41506466,  0.8723363 ,  0.15025765,  0.46102348, -0.5449956 ,\n",
              "        0.45772552,  0.87324387,  0.9422229 , -0.05567911, -0.66443014,\n",
              "       -0.54711145, -0.7050396 ,  0.5632374 ,  1.5207891 ,  0.0991799 ],\n",
              "      dtype=float32)"
            ]
          },
          "metadata": {
            "tags": []
          },
          "execution_count": 44
        }
      ]
    },
    {
      "cell_type": "code",
      "metadata": {
        "id": "L2O1Hndddaya",
        "colab_type": "code",
        "outputId": "d6eda095-7617-4010-81a8-db476b4edb05",
        "colab": {
          "base_uri": "https://localhost:8080/",
          "height": 202
        }
      },
      "source": [
        "data_liar_liar[ 'topic_0' ][:10]"
      ],
      "execution_count": 0,
      "outputs": [
        {
          "output_type": "execute_result",
          "data": {
            "text/plain": [
              "0    [-0.17947407066822052, 0.016692141070961952, 0...\n",
              "1    [-0.20414549112319946, 0.016652867197990417, 0...\n",
              "2    [-0.30600839853286743, 0.013785785995423794, 0...\n",
              "3    [-0.3388674557209015, 0.013840449042618275, 0....\n",
              "4    [-0.21912060678005219, 0.010111524723470211, 0...\n",
              "5    [-0.35572656989097595, -0.13462898135185242, 0...\n",
              "6    [-0.1894136220216751, 0.010795913636684418, 0....\n",
              "7    [-0.36804109811782837, 0.02789086103439331, 0....\n",
              "8    [-0.35572656989097595, -0.13462898135185242, 0...\n",
              "9    [0.08522806316614151, -0.34258320927619934, 0....\n",
              "Name: topic_0, dtype: object"
            ]
          },
          "metadata": {
            "tags": []
          },
          "execution_count": 45
        }
      ]
    },
    {
      "cell_type": "code",
      "metadata": {
        "id": "CR9_HEdIrK4H",
        "colab_type": "code",
        "outputId": "24773817-292e-457a-8087-871d52dd8c7d",
        "colab": {
          "base_uri": "https://localhost:8080/",
          "height": 70
        }
      },
      "source": [
        "def assertDim( topic_vec ):\n",
        "   assert len(topic_vec) == len(m[list(m.wv.vocab)[0]]) and len(topic_vec) > 0\n",
        "    \n",
        "def assertType( topic_vec ):\n",
        "   assert isinstance(topic_vec, list)\n",
        "    \n",
        "data_liar_liar.topic_0.apply( assertDim )[0]\n",
        "data_liar_liar.topic_0.apply( assertType )[0]"
      ],
      "execution_count": 0,
      "outputs": [
        {
          "output_type": "stream",
          "text": [
            "/usr/local/lib/python3.6/dist-packages/ipykernel_launcher.py:2: DeprecationWarning: Call to deprecated `__getitem__` (Method will be removed in 4.0.0, use self.wv.__getitem__() instead).\n",
            "  \n"
          ],
          "name": "stderr"
        }
      ]
    },
    {
      "cell_type": "markdown",
      "metadata": {
        "id": "ahGoFM6vh7x7",
        "colab_type": "text"
      },
      "source": [
        "The second topic term is also encoded into word2vec vector."
      ]
    },
    {
      "cell_type": "code",
      "metadata": {
        "id": "umXWwTwPh-Cq",
        "colab_type": "code",
        "outputId": "bcd7a1a7-38aa-4271-d946-16fa8b646bbf",
        "colab": {
          "base_uri": "https://localhost:8080/",
          "height": 205
        }
      },
      "source": [
        "import numpy as np\n",
        "\n",
        "vector_dim = len(m[list(m.wv.vocab)[0]])\n",
        "\n",
        "def encodeSecondColumn( topics ):\n",
        "\n",
        "   if len( topics ) > 1 :\n",
        "      topic = topics[1].strip()\n",
        "   else:\n",
        "      return np.zeros( len(m[list(m.wv.vocab)[0]]) ).tolist()\n",
        "   if topic in m:\n",
        "      return m[topic].tolist()\n",
        "   else:\n",
        "      return np.zeros( len(m[list(m.wv.vocab)[0]]) ).tolist()\n",
        "   \n",
        "data_liar_liar[ 'topic_1' ] = data_liar_liar.topics.apply( encodeSecondColumn )"
      ],
      "execution_count": 0,
      "outputs": [
        {
          "output_type": "stream",
          "text": [
            "/usr/local/lib/python3.6/dist-packages/ipykernel_launcher.py:3: DeprecationWarning: Call to deprecated `__getitem__` (Method will be removed in 4.0.0, use self.wv.__getitem__() instead).\n",
            "  This is separate from the ipykernel package so we can avoid doing imports until\n",
            "/usr/local/lib/python3.6/dist-packages/ipykernel_launcher.py:11: DeprecationWarning: Call to deprecated `__contains__` (Method will be removed in 4.0.0, use self.wv.__contains__() instead).\n",
            "  # This is added back by InteractiveShellApp.init_path()\n",
            "/usr/local/lib/python3.6/dist-packages/ipykernel_launcher.py:12: DeprecationWarning: Call to deprecated `__getitem__` (Method will be removed in 4.0.0, use self.wv.__getitem__() instead).\n",
            "  if sys.path[0] == '':\n",
            "/usr/local/lib/python3.6/dist-packages/ipykernel_launcher.py:14: DeprecationWarning: Call to deprecated `__getitem__` (Method will be removed in 4.0.0, use self.wv.__getitem__() instead).\n",
            "  \n",
            "/usr/local/lib/python3.6/dist-packages/ipykernel_launcher.py:10: DeprecationWarning: Call to deprecated `__getitem__` (Method will be removed in 4.0.0, use self.wv.__getitem__() instead).\n",
            "  # Remove the CWD from sys.path while we load stuff.\n"
          ],
          "name": "stderr"
        }
      ]
    },
    {
      "cell_type": "code",
      "metadata": {
        "id": "2sHff2U4rk42",
        "colab_type": "code",
        "outputId": "347a6d24-9016-42c1-e7b9-dcce1af13f9f",
        "colab": {
          "base_uri": "https://localhost:8080/",
          "height": 70
        }
      },
      "source": [
        "data_liar_liar.topic_1.apply( assertDim )[0]\n",
        "data_liar_liar.topic_1.apply( assertType )[0]"
      ],
      "execution_count": 0,
      "outputs": [
        {
          "output_type": "stream",
          "text": [
            "/usr/local/lib/python3.6/dist-packages/ipykernel_launcher.py:2: DeprecationWarning: Call to deprecated `__getitem__` (Method will be removed in 4.0.0, use self.wv.__getitem__() instead).\n",
            "  \n"
          ],
          "name": "stderr"
        }
      ]
    },
    {
      "cell_type": "markdown",
      "metadata": {
        "id": "GJaoPNCgOx35",
        "colab_type": "text"
      },
      "source": [
        "### 9.4 Sentiment Analysis\n",
        "\n",
        "Sentiment analysis has been done on the Kaggle data set, from \n",
        "(Martin et. al, n.d)"
      ]
    },
    {
      "cell_type": "code",
      "metadata": {
        "id": "ZC6SGIW2ynYk",
        "colab_type": "code",
        "outputId": "803cd09e-a647-49ef-fbf4-921816e74fab",
        "colab": {
          "base_uri": "https://localhost:8080/",
          "height": 235
        }
      },
      "source": [
        "import nltk\n",
        "nltk.download('vader_lexicon')\n",
        "from nltk.sentiment.vader import SentimentIntensityAnalyzer\n",
        "\n",
        "sia = SentimentIntensityAnalyzer()\n",
        "\n",
        "def getSentiment( text ):\n",
        "    return sia.polarity_scores(text)\n",
        "  \n",
        "data_liar_liar[ 'text_distilled_joined' ] = data_liar_liar[ 'text_distilled' ].apply( lambda x : ' '.join(x) ) \n",
        "data_liar_liar[ 'sentiment' ] = data_liar_liar.text_distilled_joined.apply( getSentiment )\n",
        "\n",
        "print(data_liar_liar['sentiment' ][:10] )"
      ],
      "execution_count": 0,
      "outputs": [
        {
          "output_type": "stream",
          "text": [
            "[nltk_data] Downloading package vader_lexicon to /root/nltk_data...\n",
            "[nltk_data]   Package vader_lexicon is already up-to-date!\n",
            "0    {'neg': 0.135, 'neu': 0.669, 'pos': 0.196, 'co...\n",
            "1    {'neg': 0.129, 'neu': 0.815, 'pos': 0.057, 'co...\n",
            "2    {'neg': 0.051, 'neu': 0.791, 'pos': 0.158, 'co...\n",
            "3    {'neg': 0.3, 'neu': 0.46, 'pos': 0.24, 'compou...\n",
            "4    {'neg': 0.093, 'neu': 0.722, 'pos': 0.185, 'co...\n",
            "5    {'neg': 0.356, 'neu': 0.591, 'pos': 0.053, 'co...\n",
            "6    {'neg': 0.135, 'neu': 0.723, 'pos': 0.142, 'co...\n",
            "7    {'neg': 0.193, 'neu': 0.735, 'pos': 0.072, 'co...\n",
            "8    {'neg': 0.066, 'neu': 0.842, 'pos': 0.093, 'co...\n",
            "9    {'neg': 0.152, 'neu': 0.792, 'pos': 0.056, 'co...\n",
            "Name: sentiment, dtype: object\n"
          ],
          "name": "stdout"
        }
      ]
    },
    {
      "cell_type": "markdown",
      "metadata": {
        "id": "XLbABjp8js1G",
        "colab_type": "text"
      },
      "source": [
        "### 9.5 Converting Dates to Numeric Format\n",
        "\n",
        "The date column with format YYYY-MM-dd is converted into YYYYMM  (where MM is month, and YYYY) is year. Specific day of the months is dropped to avoid overfitting.\n",
        "\n"
      ]
    },
    {
      "cell_type": "code",
      "metadata": {
        "id": "moZ3wZ8el_vt",
        "colab_type": "code",
        "colab": {}
      },
      "source": [
        "def setNumericDate( date ):\n",
        "   y, m, d = date.split( \"-\" )\n",
        "   return int(y + m)\n",
        "\n",
        "data_liar_liar[ 'date_int' ] = data_liar_liar.date.apply( setNumericDate )"
      ],
      "execution_count": 0,
      "outputs": []
    },
    {
      "cell_type": "code",
      "metadata": {
        "id": "tbTvpmfWqCpa",
        "colab_type": "code",
        "outputId": "c5fef8bf-59a4-465b-88e7-637e845b3a3d",
        "colab": {
          "base_uri": "https://localhost:8080/",
          "height": 34
        }
      },
      "source": [
        "data_liar_liar[ 'date_int' ][0]"
      ],
      "execution_count": 0,
      "outputs": [
        {
          "output_type": "execute_result",
          "data": {
            "text/plain": [
              "201610"
            ]
          },
          "metadata": {
            "tags": []
          },
          "execution_count": 51
        }
      ]
    },
    {
      "cell_type": "markdown",
      "metadata": {
        "id": "UvPdWL9YY1sH",
        "colab_type": "text"
      },
      "source": [
        "## Building Classifier Model"
      ]
    },
    {
      "cell_type": "markdown",
      "metadata": {
        "id": "WpG9THMLn5SM",
        "colab_type": "text"
      },
      "source": [
        "### 9.6 Auto ML\n",
        "\n",
        "Using the numeric (integer) dates, and two vectors (for top two topics chosen), autoML classifier is trained."
      ]
    },
    {
      "cell_type": "code",
      "metadata": {
        "id": "lHN5I6ET38BH",
        "colab_type": "code",
        "outputId": "a66d6214-f058-47ee-c333-55c08524a653",
        "colab": {
          "base_uri": "https://localhost:8080/",
          "height": 159
        }
      },
      "source": [
        "# First split the vectors of word2vec into individual columns\n",
        "\n",
        "X_prep = data_liar_liar[[ 'date_int', 'topic_0', 'topic_1' ]]\n",
        "\n",
        "def select(topic_vec, idx):\n",
        "   return topic_vec[idx]\n",
        "\n",
        "prep_dict = { \"date_int\" : [] }\n",
        "for i in range( vector_dim*2 ):\n",
        "   prep_dict[str(i)] = []\n",
        "    \n",
        "X_COV = pd.DataFrame(prep_dict)\n",
        "X_COV[ 'date_int' ] = X_prep[ 'date_int' ]\n",
        "\n",
        "vector_dim = len(m[list(m.wv.vocab)[0]])\n",
        "\n",
        "for i in range( vector_dim ):\n",
        "   X_COV[str(i)] = X_prep.topic_0.apply( lambda x : select(x, i ) )\n",
        "    \n",
        "X_COV.head(1)"
      ],
      "execution_count": 0,
      "outputs": [
        {
          "output_type": "stream",
          "text": [
            "/usr/local/lib/python3.6/dist-packages/ipykernel_launcher.py:14: DeprecationWarning: Call to deprecated `__getitem__` (Method will be removed in 4.0.0, use self.wv.__getitem__() instead).\n",
            "  \n"
          ],
          "name": "stderr"
        },
        {
          "output_type": "execute_result",
          "data": {
            "text/html": [
              "<div>\n",
              "<style scoped>\n",
              "    .dataframe tbody tr th:only-of-type {\n",
              "        vertical-align: middle;\n",
              "    }\n",
              "\n",
              "    .dataframe tbody tr th {\n",
              "        vertical-align: top;\n",
              "    }\n",
              "\n",
              "    .dataframe thead th {\n",
              "        text-align: right;\n",
              "    }\n",
              "</style>\n",
              "<table border=\"1\" class=\"dataframe\">\n",
              "  <thead>\n",
              "    <tr style=\"text-align: right;\">\n",
              "      <th></th>\n",
              "      <th>date_int</th>\n",
              "      <th>0</th>\n",
              "      <th>1</th>\n",
              "      <th>2</th>\n",
              "      <th>3</th>\n",
              "      <th>4</th>\n",
              "      <th>5</th>\n",
              "      <th>6</th>\n",
              "      <th>7</th>\n",
              "      <th>8</th>\n",
              "      <th>9</th>\n",
              "      <th>10</th>\n",
              "      <th>11</th>\n",
              "      <th>12</th>\n",
              "      <th>13</th>\n",
              "      <th>14</th>\n",
              "      <th>15</th>\n",
              "      <th>16</th>\n",
              "      <th>17</th>\n",
              "      <th>18</th>\n",
              "      <th>19</th>\n",
              "      <th>20</th>\n",
              "      <th>21</th>\n",
              "      <th>22</th>\n",
              "      <th>23</th>\n",
              "      <th>24</th>\n",
              "      <th>25</th>\n",
              "      <th>26</th>\n",
              "      <th>27</th>\n",
              "      <th>28</th>\n",
              "      <th>29</th>\n",
              "      <th>30</th>\n",
              "      <th>31</th>\n",
              "      <th>32</th>\n",
              "      <th>33</th>\n",
              "      <th>34</th>\n",
              "      <th>35</th>\n",
              "      <th>36</th>\n",
              "      <th>37</th>\n",
              "      <th>38</th>\n",
              "      <th>...</th>\n",
              "      <th>160</th>\n",
              "      <th>161</th>\n",
              "      <th>162</th>\n",
              "      <th>163</th>\n",
              "      <th>164</th>\n",
              "      <th>165</th>\n",
              "      <th>166</th>\n",
              "      <th>167</th>\n",
              "      <th>168</th>\n",
              "      <th>169</th>\n",
              "      <th>170</th>\n",
              "      <th>171</th>\n",
              "      <th>172</th>\n",
              "      <th>173</th>\n",
              "      <th>174</th>\n",
              "      <th>175</th>\n",
              "      <th>176</th>\n",
              "      <th>177</th>\n",
              "      <th>178</th>\n",
              "      <th>179</th>\n",
              "      <th>180</th>\n",
              "      <th>181</th>\n",
              "      <th>182</th>\n",
              "      <th>183</th>\n",
              "      <th>184</th>\n",
              "      <th>185</th>\n",
              "      <th>186</th>\n",
              "      <th>187</th>\n",
              "      <th>188</th>\n",
              "      <th>189</th>\n",
              "      <th>190</th>\n",
              "      <th>191</th>\n",
              "      <th>192</th>\n",
              "      <th>193</th>\n",
              "      <th>194</th>\n",
              "      <th>195</th>\n",
              "      <th>196</th>\n",
              "      <th>197</th>\n",
              "      <th>198</th>\n",
              "      <th>199</th>\n",
              "    </tr>\n",
              "  </thead>\n",
              "  <tbody>\n",
              "    <tr>\n",
              "      <th>0</th>\n",
              "      <td>201610</td>\n",
              "      <td>-0.179474</td>\n",
              "      <td>0.016692</td>\n",
              "      <td>0.402846</td>\n",
              "      <td>-0.157587</td>\n",
              "      <td>0.181213</td>\n",
              "      <td>0.228336</td>\n",
              "      <td>0.218406</td>\n",
              "      <td>-0.227579</td>\n",
              "      <td>0.014559</td>\n",
              "      <td>-0.117554</td>\n",
              "      <td>-0.196143</td>\n",
              "      <td>0.116279</td>\n",
              "      <td>-0.03802</td>\n",
              "      <td>0.265098</td>\n",
              "      <td>-0.033657</td>\n",
              "      <td>0.063792</td>\n",
              "      <td>0.059606</td>\n",
              "      <td>-0.020346</td>\n",
              "      <td>-0.055646</td>\n",
              "      <td>0.116103</td>\n",
              "      <td>-0.154518</td>\n",
              "      <td>0.254342</td>\n",
              "      <td>-0.012289</td>\n",
              "      <td>-0.123005</td>\n",
              "      <td>-0.002631</td>\n",
              "      <td>0.316818</td>\n",
              "      <td>0.102325</td>\n",
              "      <td>0.045064</td>\n",
              "      <td>0.134415</td>\n",
              "      <td>0.038832</td>\n",
              "      <td>0.163788</td>\n",
              "      <td>-0.036952</td>\n",
              "      <td>0.006347</td>\n",
              "      <td>0.418274</td>\n",
              "      <td>0.329992</td>\n",
              "      <td>-0.322314</td>\n",
              "      <td>0.083721</td>\n",
              "      <td>-0.107036</td>\n",
              "      <td>-0.101815</td>\n",
              "      <td>...</td>\n",
              "      <td>NaN</td>\n",
              "      <td>NaN</td>\n",
              "      <td>NaN</td>\n",
              "      <td>NaN</td>\n",
              "      <td>NaN</td>\n",
              "      <td>NaN</td>\n",
              "      <td>NaN</td>\n",
              "      <td>NaN</td>\n",
              "      <td>NaN</td>\n",
              "      <td>NaN</td>\n",
              "      <td>NaN</td>\n",
              "      <td>NaN</td>\n",
              "      <td>NaN</td>\n",
              "      <td>NaN</td>\n",
              "      <td>NaN</td>\n",
              "      <td>NaN</td>\n",
              "      <td>NaN</td>\n",
              "      <td>NaN</td>\n",
              "      <td>NaN</td>\n",
              "      <td>NaN</td>\n",
              "      <td>NaN</td>\n",
              "      <td>NaN</td>\n",
              "      <td>NaN</td>\n",
              "      <td>NaN</td>\n",
              "      <td>NaN</td>\n",
              "      <td>NaN</td>\n",
              "      <td>NaN</td>\n",
              "      <td>NaN</td>\n",
              "      <td>NaN</td>\n",
              "      <td>NaN</td>\n",
              "      <td>NaN</td>\n",
              "      <td>NaN</td>\n",
              "      <td>NaN</td>\n",
              "      <td>NaN</td>\n",
              "      <td>NaN</td>\n",
              "      <td>NaN</td>\n",
              "      <td>NaN</td>\n",
              "      <td>NaN</td>\n",
              "      <td>NaN</td>\n",
              "      <td>NaN</td>\n",
              "    </tr>\n",
              "  </tbody>\n",
              "</table>\n",
              "<p>1 rows × 201 columns</p>\n",
              "</div>"
            ],
            "text/plain": [
              "   date_int         0         1         2         3  ...  195  196  197  198  199\n",
              "0    201610 -0.179474  0.016692  0.402846 -0.157587  ...  NaN  NaN  NaN  NaN  NaN\n",
              "\n",
              "[1 rows x 201 columns]"
            ]
          },
          "metadata": {
            "tags": []
          },
          "execution_count": 52
        }
      ]
    },
    {
      "cell_type": "code",
      "metadata": {
        "id": "p7GG5K-q6T0V",
        "colab_type": "code",
        "colab": {}
      },
      "source": [
        "for i in range( vector_dim ):\n",
        "   X_COV[str(vector_dim + i)] = X_prep.topic_1.apply( lambda x : select(x, i ) )"
      ],
      "execution_count": 0,
      "outputs": []
    },
    {
      "cell_type": "code",
      "metadata": {
        "id": "sbanTosZ55UU",
        "colab_type": "code",
        "outputId": "0a58c37f-ff3c-4319-bd56-72247befcff9",
        "colab": {
          "base_uri": "https://localhost:8080/",
          "height": 126
        }
      },
      "source": [
        "X_COV.head(1)"
      ],
      "execution_count": 0,
      "outputs": [
        {
          "output_type": "execute_result",
          "data": {
            "text/html": [
              "<div>\n",
              "<style scoped>\n",
              "    .dataframe tbody tr th:only-of-type {\n",
              "        vertical-align: middle;\n",
              "    }\n",
              "\n",
              "    .dataframe tbody tr th {\n",
              "        vertical-align: top;\n",
              "    }\n",
              "\n",
              "    .dataframe thead th {\n",
              "        text-align: right;\n",
              "    }\n",
              "</style>\n",
              "<table border=\"1\" class=\"dataframe\">\n",
              "  <thead>\n",
              "    <tr style=\"text-align: right;\">\n",
              "      <th></th>\n",
              "      <th>date_int</th>\n",
              "      <th>0</th>\n",
              "      <th>1</th>\n",
              "      <th>2</th>\n",
              "      <th>3</th>\n",
              "      <th>4</th>\n",
              "      <th>5</th>\n",
              "      <th>6</th>\n",
              "      <th>7</th>\n",
              "      <th>8</th>\n",
              "      <th>9</th>\n",
              "      <th>10</th>\n",
              "      <th>11</th>\n",
              "      <th>12</th>\n",
              "      <th>13</th>\n",
              "      <th>14</th>\n",
              "      <th>15</th>\n",
              "      <th>16</th>\n",
              "      <th>17</th>\n",
              "      <th>18</th>\n",
              "      <th>19</th>\n",
              "      <th>20</th>\n",
              "      <th>21</th>\n",
              "      <th>22</th>\n",
              "      <th>23</th>\n",
              "      <th>24</th>\n",
              "      <th>25</th>\n",
              "      <th>26</th>\n",
              "      <th>27</th>\n",
              "      <th>28</th>\n",
              "      <th>29</th>\n",
              "      <th>30</th>\n",
              "      <th>31</th>\n",
              "      <th>32</th>\n",
              "      <th>33</th>\n",
              "      <th>34</th>\n",
              "      <th>35</th>\n",
              "      <th>36</th>\n",
              "      <th>37</th>\n",
              "      <th>38</th>\n",
              "      <th>...</th>\n",
              "      <th>160</th>\n",
              "      <th>161</th>\n",
              "      <th>162</th>\n",
              "      <th>163</th>\n",
              "      <th>164</th>\n",
              "      <th>165</th>\n",
              "      <th>166</th>\n",
              "      <th>167</th>\n",
              "      <th>168</th>\n",
              "      <th>169</th>\n",
              "      <th>170</th>\n",
              "      <th>171</th>\n",
              "      <th>172</th>\n",
              "      <th>173</th>\n",
              "      <th>174</th>\n",
              "      <th>175</th>\n",
              "      <th>176</th>\n",
              "      <th>177</th>\n",
              "      <th>178</th>\n",
              "      <th>179</th>\n",
              "      <th>180</th>\n",
              "      <th>181</th>\n",
              "      <th>182</th>\n",
              "      <th>183</th>\n",
              "      <th>184</th>\n",
              "      <th>185</th>\n",
              "      <th>186</th>\n",
              "      <th>187</th>\n",
              "      <th>188</th>\n",
              "      <th>189</th>\n",
              "      <th>190</th>\n",
              "      <th>191</th>\n",
              "      <th>192</th>\n",
              "      <th>193</th>\n",
              "      <th>194</th>\n",
              "      <th>195</th>\n",
              "      <th>196</th>\n",
              "      <th>197</th>\n",
              "      <th>198</th>\n",
              "      <th>199</th>\n",
              "    </tr>\n",
              "  </thead>\n",
              "  <tbody>\n",
              "    <tr>\n",
              "      <th>0</th>\n",
              "      <td>201610</td>\n",
              "      <td>-0.179474</td>\n",
              "      <td>0.016692</td>\n",
              "      <td>0.402846</td>\n",
              "      <td>-0.157587</td>\n",
              "      <td>0.181213</td>\n",
              "      <td>0.228336</td>\n",
              "      <td>0.218406</td>\n",
              "      <td>-0.227579</td>\n",
              "      <td>0.014559</td>\n",
              "      <td>-0.117554</td>\n",
              "      <td>-0.196143</td>\n",
              "      <td>0.116279</td>\n",
              "      <td>-0.03802</td>\n",
              "      <td>0.265098</td>\n",
              "      <td>-0.033657</td>\n",
              "      <td>0.063792</td>\n",
              "      <td>0.059606</td>\n",
              "      <td>-0.020346</td>\n",
              "      <td>-0.055646</td>\n",
              "      <td>0.116103</td>\n",
              "      <td>-0.154518</td>\n",
              "      <td>0.254342</td>\n",
              "      <td>-0.012289</td>\n",
              "      <td>-0.123005</td>\n",
              "      <td>-0.002631</td>\n",
              "      <td>0.316818</td>\n",
              "      <td>0.102325</td>\n",
              "      <td>0.045064</td>\n",
              "      <td>0.134415</td>\n",
              "      <td>0.038832</td>\n",
              "      <td>0.163788</td>\n",
              "      <td>-0.036952</td>\n",
              "      <td>0.006347</td>\n",
              "      <td>0.418274</td>\n",
              "      <td>0.329992</td>\n",
              "      <td>-0.322314</td>\n",
              "      <td>0.083721</td>\n",
              "      <td>-0.107036</td>\n",
              "      <td>-0.101815</td>\n",
              "      <td>...</td>\n",
              "      <td>-0.581421</td>\n",
              "      <td>-0.312092</td>\n",
              "      <td>0.724196</td>\n",
              "      <td>0.033512</td>\n",
              "      <td>0.293248</td>\n",
              "      <td>-0.102612</td>\n",
              "      <td>0.081429</td>\n",
              "      <td>0.002498</td>\n",
              "      <td>-0.137717</td>\n",
              "      <td>0.622194</td>\n",
              "      <td>-0.147175</td>\n",
              "      <td>0.402722</td>\n",
              "      <td>0.226633</td>\n",
              "      <td>0.168999</td>\n",
              "      <td>-0.186694</td>\n",
              "      <td>-0.12739</td>\n",
              "      <td>0.677037</td>\n",
              "      <td>-0.10175</td>\n",
              "      <td>-0.194165</td>\n",
              "      <td>-0.078131</td>\n",
              "      <td>0.612051</td>\n",
              "      <td>0.540289</td>\n",
              "      <td>-0.451899</td>\n",
              "      <td>0.419454</td>\n",
              "      <td>-0.469739</td>\n",
              "      <td>-0.15183</td>\n",
              "      <td>0.185491</td>\n",
              "      <td>0.029397</td>\n",
              "      <td>0.3825</td>\n",
              "      <td>-0.194391</td>\n",
              "      <td>0.080912</td>\n",
              "      <td>-0.135562</td>\n",
              "      <td>0.408053</td>\n",
              "      <td>0.171623</td>\n",
              "      <td>-0.261223</td>\n",
              "      <td>-0.487554</td>\n",
              "      <td>-0.106454</td>\n",
              "      <td>0.118701</td>\n",
              "      <td>0.777712</td>\n",
              "      <td>0.445272</td>\n",
              "    </tr>\n",
              "  </tbody>\n",
              "</table>\n",
              "<p>1 rows × 201 columns</p>\n",
              "</div>"
            ],
            "text/plain": [
              "   date_int         0         1  ...       197       198       199\n",
              "0    201610 -0.179474  0.016692  ...  0.118701  0.777712  0.445272\n",
              "\n",
              "[1 rows x 201 columns]"
            ]
          },
          "metadata": {
            "tags": []
          },
          "execution_count": 54
        }
      ]
    },
    {
      "cell_type": "markdown",
      "metadata": {
        "id": "VA9RRpayfFGM",
        "colab_type": "text"
      },
      "source": [
        "The following code creates training and test data."
      ]
    },
    {
      "cell_type": "code",
      "metadata": {
        "id": "E_ZO5jWRoFDK",
        "colab_type": "code",
        "outputId": "21a977a4-233b-427e-8a78-93a1ce808045",
        "colab": {
          "base_uri": "https://localhost:8080/",
          "height": 50
        }
      },
      "source": [
        "from sklearn.ensemble import RandomForestClassifier\n",
        "from sklearn.model_selection import train_test_split\n",
        "\n",
        "Y_COV = data_liar_liar[ 'coverage' ]\n",
        "X_train, X_test, y_train, y_test = train_test_split(X_COV, Y_COV, test_size=0.33, random_state=42)\n",
        "print(\"train:\" , X_train.shape)\n",
        "print(\"test:\" , X_test.shape)"
      ],
      "execution_count": 0,
      "outputs": [
        {
          "output_type": "stream",
          "text": [
            "train: (670, 201)\n",
            "test: (330, 201)\n"
          ],
          "name": "stdout"
        }
      ]
    },
    {
      "cell_type": "code",
      "metadata": {
        "id": "A767PTCrrp51",
        "colab_type": "code",
        "outputId": "5be0e3a5-59b3-4cbc-beb8-d42853ebab8e",
        "colab": {
          "base_uri": "https://localhost:8080/",
          "height": 185
        }
      },
      "source": [
        "X_COV.head(3)"
      ],
      "execution_count": 0,
      "outputs": [
        {
          "output_type": "execute_result",
          "data": {
            "text/html": [
              "<div>\n",
              "<style scoped>\n",
              "    .dataframe tbody tr th:only-of-type {\n",
              "        vertical-align: middle;\n",
              "    }\n",
              "\n",
              "    .dataframe tbody tr th {\n",
              "        vertical-align: top;\n",
              "    }\n",
              "\n",
              "    .dataframe thead th {\n",
              "        text-align: right;\n",
              "    }\n",
              "</style>\n",
              "<table border=\"1\" class=\"dataframe\">\n",
              "  <thead>\n",
              "    <tr style=\"text-align: right;\">\n",
              "      <th></th>\n",
              "      <th>date_int</th>\n",
              "      <th>0</th>\n",
              "      <th>1</th>\n",
              "      <th>2</th>\n",
              "      <th>3</th>\n",
              "      <th>4</th>\n",
              "      <th>5</th>\n",
              "      <th>6</th>\n",
              "      <th>7</th>\n",
              "      <th>8</th>\n",
              "      <th>9</th>\n",
              "      <th>10</th>\n",
              "      <th>11</th>\n",
              "      <th>12</th>\n",
              "      <th>13</th>\n",
              "      <th>14</th>\n",
              "      <th>15</th>\n",
              "      <th>16</th>\n",
              "      <th>17</th>\n",
              "      <th>18</th>\n",
              "      <th>19</th>\n",
              "      <th>20</th>\n",
              "      <th>21</th>\n",
              "      <th>22</th>\n",
              "      <th>23</th>\n",
              "      <th>24</th>\n",
              "      <th>25</th>\n",
              "      <th>26</th>\n",
              "      <th>27</th>\n",
              "      <th>28</th>\n",
              "      <th>29</th>\n",
              "      <th>30</th>\n",
              "      <th>31</th>\n",
              "      <th>32</th>\n",
              "      <th>33</th>\n",
              "      <th>34</th>\n",
              "      <th>35</th>\n",
              "      <th>36</th>\n",
              "      <th>37</th>\n",
              "      <th>38</th>\n",
              "      <th>...</th>\n",
              "      <th>160</th>\n",
              "      <th>161</th>\n",
              "      <th>162</th>\n",
              "      <th>163</th>\n",
              "      <th>164</th>\n",
              "      <th>165</th>\n",
              "      <th>166</th>\n",
              "      <th>167</th>\n",
              "      <th>168</th>\n",
              "      <th>169</th>\n",
              "      <th>170</th>\n",
              "      <th>171</th>\n",
              "      <th>172</th>\n",
              "      <th>173</th>\n",
              "      <th>174</th>\n",
              "      <th>175</th>\n",
              "      <th>176</th>\n",
              "      <th>177</th>\n",
              "      <th>178</th>\n",
              "      <th>179</th>\n",
              "      <th>180</th>\n",
              "      <th>181</th>\n",
              "      <th>182</th>\n",
              "      <th>183</th>\n",
              "      <th>184</th>\n",
              "      <th>185</th>\n",
              "      <th>186</th>\n",
              "      <th>187</th>\n",
              "      <th>188</th>\n",
              "      <th>189</th>\n",
              "      <th>190</th>\n",
              "      <th>191</th>\n",
              "      <th>192</th>\n",
              "      <th>193</th>\n",
              "      <th>194</th>\n",
              "      <th>195</th>\n",
              "      <th>196</th>\n",
              "      <th>197</th>\n",
              "      <th>198</th>\n",
              "      <th>199</th>\n",
              "    </tr>\n",
              "  </thead>\n",
              "  <tbody>\n",
              "    <tr>\n",
              "      <th>0</th>\n",
              "      <td>201610</td>\n",
              "      <td>-0.179474</td>\n",
              "      <td>0.016692</td>\n",
              "      <td>0.402846</td>\n",
              "      <td>-0.157587</td>\n",
              "      <td>0.181213</td>\n",
              "      <td>0.228336</td>\n",
              "      <td>0.218406</td>\n",
              "      <td>-0.227579</td>\n",
              "      <td>0.014559</td>\n",
              "      <td>-0.117554</td>\n",
              "      <td>-0.196143</td>\n",
              "      <td>0.116279</td>\n",
              "      <td>-0.038020</td>\n",
              "      <td>0.265098</td>\n",
              "      <td>-0.033657</td>\n",
              "      <td>0.063792</td>\n",
              "      <td>0.059606</td>\n",
              "      <td>-0.020346</td>\n",
              "      <td>-0.055646</td>\n",
              "      <td>0.116103</td>\n",
              "      <td>-0.154518</td>\n",
              "      <td>0.254342</td>\n",
              "      <td>-0.012289</td>\n",
              "      <td>-0.123005</td>\n",
              "      <td>-0.002631</td>\n",
              "      <td>0.316818</td>\n",
              "      <td>0.102325</td>\n",
              "      <td>0.045064</td>\n",
              "      <td>0.134415</td>\n",
              "      <td>0.038832</td>\n",
              "      <td>0.163788</td>\n",
              "      <td>-0.036952</td>\n",
              "      <td>0.006347</td>\n",
              "      <td>0.418274</td>\n",
              "      <td>0.329992</td>\n",
              "      <td>-0.322314</td>\n",
              "      <td>0.083721</td>\n",
              "      <td>-0.107036</td>\n",
              "      <td>-0.101815</td>\n",
              "      <td>...</td>\n",
              "      <td>-0.581421</td>\n",
              "      <td>-0.312092</td>\n",
              "      <td>0.724196</td>\n",
              "      <td>0.033512</td>\n",
              "      <td>0.293248</td>\n",
              "      <td>-0.102612</td>\n",
              "      <td>0.081429</td>\n",
              "      <td>0.002498</td>\n",
              "      <td>-0.137717</td>\n",
              "      <td>0.622194</td>\n",
              "      <td>-0.147175</td>\n",
              "      <td>0.402722</td>\n",
              "      <td>0.226633</td>\n",
              "      <td>0.168999</td>\n",
              "      <td>-0.186694</td>\n",
              "      <td>-0.127390</td>\n",
              "      <td>0.677037</td>\n",
              "      <td>-0.101750</td>\n",
              "      <td>-0.194165</td>\n",
              "      <td>-0.078131</td>\n",
              "      <td>0.612051</td>\n",
              "      <td>0.540289</td>\n",
              "      <td>-0.451899</td>\n",
              "      <td>0.419454</td>\n",
              "      <td>-0.469739</td>\n",
              "      <td>-0.151830</td>\n",
              "      <td>0.185491</td>\n",
              "      <td>0.029397</td>\n",
              "      <td>0.382500</td>\n",
              "      <td>-0.194391</td>\n",
              "      <td>0.080912</td>\n",
              "      <td>-0.135562</td>\n",
              "      <td>0.408053</td>\n",
              "      <td>0.171623</td>\n",
              "      <td>-0.261223</td>\n",
              "      <td>-0.487554</td>\n",
              "      <td>-0.106454</td>\n",
              "      <td>0.118701</td>\n",
              "      <td>0.777712</td>\n",
              "      <td>0.445272</td>\n",
              "    </tr>\n",
              "    <tr>\n",
              "      <th>1</th>\n",
              "      <td>201610</td>\n",
              "      <td>-0.204145</td>\n",
              "      <td>0.016653</td>\n",
              "      <td>0.441929</td>\n",
              "      <td>-0.176799</td>\n",
              "      <td>0.201900</td>\n",
              "      <td>0.241310</td>\n",
              "      <td>0.242866</td>\n",
              "      <td>-0.248099</td>\n",
              "      <td>0.024200</td>\n",
              "      <td>-0.137073</td>\n",
              "      <td>-0.231158</td>\n",
              "      <td>0.145402</td>\n",
              "      <td>-0.036554</td>\n",
              "      <td>0.298999</td>\n",
              "      <td>-0.027799</td>\n",
              "      <td>0.060344</td>\n",
              "      <td>0.061008</td>\n",
              "      <td>-0.036661</td>\n",
              "      <td>-0.063366</td>\n",
              "      <td>0.145393</td>\n",
              "      <td>-0.182512</td>\n",
              "      <td>0.288607</td>\n",
              "      <td>-0.013883</td>\n",
              "      <td>-0.143493</td>\n",
              "      <td>0.000343</td>\n",
              "      <td>0.373003</td>\n",
              "      <td>0.097849</td>\n",
              "      <td>0.060276</td>\n",
              "      <td>0.145621</td>\n",
              "      <td>0.033011</td>\n",
              "      <td>0.192498</td>\n",
              "      <td>-0.044373</td>\n",
              "      <td>-0.007630</td>\n",
              "      <td>0.451994</td>\n",
              "      <td>0.374290</td>\n",
              "      <td>-0.354244</td>\n",
              "      <td>0.070987</td>\n",
              "      <td>-0.126051</td>\n",
              "      <td>-0.111264</td>\n",
              "      <td>...</td>\n",
              "      <td>-0.360481</td>\n",
              "      <td>-0.210281</td>\n",
              "      <td>0.554804</td>\n",
              "      <td>0.000935</td>\n",
              "      <td>0.232301</td>\n",
              "      <td>-0.083957</td>\n",
              "      <td>0.118247</td>\n",
              "      <td>0.002619</td>\n",
              "      <td>-0.196388</td>\n",
              "      <td>0.449942</td>\n",
              "      <td>-0.172329</td>\n",
              "      <td>0.372937</td>\n",
              "      <td>0.240639</td>\n",
              "      <td>0.139438</td>\n",
              "      <td>-0.212017</td>\n",
              "      <td>-0.108741</td>\n",
              "      <td>0.465314</td>\n",
              "      <td>0.024753</td>\n",
              "      <td>-0.172426</td>\n",
              "      <td>-0.104107</td>\n",
              "      <td>0.489907</td>\n",
              "      <td>0.409090</td>\n",
              "      <td>-0.435949</td>\n",
              "      <td>0.226507</td>\n",
              "      <td>-0.339086</td>\n",
              "      <td>-0.039961</td>\n",
              "      <td>0.211495</td>\n",
              "      <td>0.052984</td>\n",
              "      <td>0.286550</td>\n",
              "      <td>-0.168204</td>\n",
              "      <td>0.106659</td>\n",
              "      <td>-0.023655</td>\n",
              "      <td>0.353867</td>\n",
              "      <td>0.114050</td>\n",
              "      <td>-0.238503</td>\n",
              "      <td>-0.412918</td>\n",
              "      <td>-0.105724</td>\n",
              "      <td>0.113031</td>\n",
              "      <td>0.726713</td>\n",
              "      <td>0.302547</td>\n",
              "    </tr>\n",
              "    <tr>\n",
              "      <th>2</th>\n",
              "      <td>201610</td>\n",
              "      <td>-0.306008</td>\n",
              "      <td>0.013786</td>\n",
              "      <td>0.683118</td>\n",
              "      <td>-0.274711</td>\n",
              "      <td>0.320528</td>\n",
              "      <td>0.384646</td>\n",
              "      <td>0.386826</td>\n",
              "      <td>-0.373494</td>\n",
              "      <td>0.068723</td>\n",
              "      <td>-0.208103</td>\n",
              "      <td>-0.450339</td>\n",
              "      <td>0.263782</td>\n",
              "      <td>-0.054146</td>\n",
              "      <td>0.484793</td>\n",
              "      <td>-0.033897</td>\n",
              "      <td>0.076626</td>\n",
              "      <td>0.116025</td>\n",
              "      <td>-0.096363</td>\n",
              "      <td>-0.072650</td>\n",
              "      <td>0.238884</td>\n",
              "      <td>-0.341101</td>\n",
              "      <td>0.429839</td>\n",
              "      <td>-0.019535</td>\n",
              "      <td>-0.216578</td>\n",
              "      <td>-0.028741</td>\n",
              "      <td>0.611901</td>\n",
              "      <td>0.115786</td>\n",
              "      <td>0.078255</td>\n",
              "      <td>0.202379</td>\n",
              "      <td>0.057083</td>\n",
              "      <td>0.298108</td>\n",
              "      <td>-0.062935</td>\n",
              "      <td>-0.040935</td>\n",
              "      <td>0.707154</td>\n",
              "      <td>0.576675</td>\n",
              "      <td>-0.574557</td>\n",
              "      <td>0.069621</td>\n",
              "      <td>-0.217553</td>\n",
              "      <td>-0.158037</td>\n",
              "      <td>...</td>\n",
              "      <td>-0.229798</td>\n",
              "      <td>-0.154595</td>\n",
              "      <td>0.380863</td>\n",
              "      <td>0.005619</td>\n",
              "      <td>0.166245</td>\n",
              "      <td>-0.046058</td>\n",
              "      <td>0.072008</td>\n",
              "      <td>-0.008190</td>\n",
              "      <td>-0.136406</td>\n",
              "      <td>0.304533</td>\n",
              "      <td>-0.120590</td>\n",
              "      <td>0.260950</td>\n",
              "      <td>0.146712</td>\n",
              "      <td>0.097662</td>\n",
              "      <td>-0.141356</td>\n",
              "      <td>-0.064766</td>\n",
              "      <td>0.331605</td>\n",
              "      <td>0.008476</td>\n",
              "      <td>-0.123478</td>\n",
              "      <td>-0.074263</td>\n",
              "      <td>0.336442</td>\n",
              "      <td>0.276664</td>\n",
              "      <td>-0.286102</td>\n",
              "      <td>0.151709</td>\n",
              "      <td>-0.229935</td>\n",
              "      <td>-0.031427</td>\n",
              "      <td>0.135008</td>\n",
              "      <td>0.034065</td>\n",
              "      <td>0.194917</td>\n",
              "      <td>-0.110802</td>\n",
              "      <td>0.084196</td>\n",
              "      <td>-0.022338</td>\n",
              "      <td>0.238093</td>\n",
              "      <td>0.066060</td>\n",
              "      <td>-0.159394</td>\n",
              "      <td>-0.286972</td>\n",
              "      <td>-0.075978</td>\n",
              "      <td>0.080492</td>\n",
              "      <td>0.501681</td>\n",
              "      <td>0.211201</td>\n",
              "    </tr>\n",
              "  </tbody>\n",
              "</table>\n",
              "<p>3 rows × 201 columns</p>\n",
              "</div>"
            ],
            "text/plain": [
              "   date_int         0         1  ...       197       198       199\n",
              "0    201610 -0.179474  0.016692  ...  0.118701  0.777712  0.445272\n",
              "1    201610 -0.204145  0.016653  ...  0.113031  0.726713  0.302547\n",
              "2    201610 -0.306008  0.013786  ...  0.080492  0.501681  0.211201\n",
              "\n",
              "[3 rows x 201 columns]"
            ]
          },
          "metadata": {
            "tags": []
          },
          "execution_count": 56
        }
      ]
    },
    {
      "cell_type": "code",
      "metadata": {
        "id": "R0Lt5tBu1bQK",
        "colab_type": "code",
        "colab": {}
      },
      "source": [
        "from sklearn.discriminant_analysis import LinearDiscriminantAnalysis\n",
        "from sklearn.linear_model import LogisticRegression\n",
        "num_folds = 10\n",
        "seed = 7\n",
        "scoring = 'accuracy'\n",
        "\n",
        "models = []\n",
        "models.append(('LR' , LogisticRegression()))\n",
        "models.append(('LDA' , LinearDiscriminantAnalysis()))\n",
        "#models.append(('KNN' , KNeighborsClassifier()))\n",
        "#models.append(('CART' , DecisionTreeClassifier()))\n",
        "#models.append(('NB' , GaussianNB()))\n",
        "#models.append(('SVM' , SVC()))\n",
        "#models.append(('MNB', MultinomialNB()))\n",
        "models.append(('RF' , RandomForestClassifier(n_estimators=50)))\n",
        "#models.append(('XGBoost', XGBClassifier()))"
      ],
      "execution_count": 0,
      "outputs": []
    },
    {
      "cell_type": "code",
      "metadata": {
        "id": "7_WWzOq31y-9",
        "colab_type": "code",
        "outputId": "efed36ad-96bb-47b5-b752-e8b4917ce6f6",
        "colab": {
          "base_uri": "https://localhost:8080/",
          "height": 67
        }
      },
      "source": [
        "results = []\n",
        "names = []\n",
        "\n",
        "'''\n",
        "for name, model in models:\n",
        "  kfold = KFold(n_splits=num_folds, random_state=42)\n",
        "  cv_results = cross_val_score(model, X_train, y_train, cv=kfold, scoring=scoring)\n",
        "  results.append(cv_results)\n",
        "  names.append(name)\n",
        "  msg = \"%s: %f (%f)\" % (name, cv_results.mean(), cv_results.std())\n",
        "  print(msg) '''\n",
        "\n",
        "for name, model in models:\n",
        "    clf = model\n",
        "    clf.fit(X_train, y_train)\n",
        "    y_pred = clf.predict(X_test)\n",
        "    accu_score = accuracy_score(y_test, y_pred)\n",
        "    print(name + \": \" + str(accu_score))"
      ],
      "execution_count": 0,
      "outputs": [
        {
          "output_type": "stream",
          "text": [
            "LR: 0.906060606060606\n",
            "LDA: 0.8181818181818182\n",
            "RF: 0.9333333333333333\n"
          ],
          "name": "stdout"
        }
      ]
    },
    {
      "cell_type": "markdown",
      "metadata": {
        "id": "opTaVsuM5yy2",
        "colab_type": "text"
      },
      "source": [
        "### 9.7 Using Ranfom Forrest Classifier"
      ]
    },
    {
      "cell_type": "code",
      "metadata": {
        "id": "eeWd0pHVqn6q",
        "colab_type": "code",
        "colab": {}
      },
      "source": [
        "f_cov = RandomForestClassifier(n_estimators=10)\n",
        "f_cov.fit(X_train, y_train)\n",
        "y_pred = f_cov.predict(X_test)"
      ],
      "execution_count": 0,
      "outputs": []
    },
    {
      "cell_type": "markdown",
      "metadata": {
        "id": "awhW0Wfr6tao",
        "colab_type": "text"
      },
      "source": [
        "Predicting the accuracy of the coverage,"
      ]
    },
    {
      "cell_type": "code",
      "metadata": {
        "id": "3S28IoxY6wVL",
        "colab_type": "code",
        "outputId": "f0490cf4-2fc5-42de-b7ba-29e47e2f72cc",
        "colab": {
          "base_uri": "https://localhost:8080/",
          "height": 34
        }
      },
      "source": [
        "from sklearn import metrics\n",
        "\n",
        "'Accuracy', metrics.accuracy_score(y_test, y_pred)"
      ],
      "execution_count": 0,
      "outputs": [
        {
          "output_type": "execute_result",
          "data": {
            "text/plain": [
              "('Accuracy', 0.9272727272727272)"
            ]
          },
          "metadata": {
            "tags": []
          },
          "execution_count": 60
        }
      ]
    },
    {
      "cell_type": "markdown",
      "metadata": {
        "id": "sHC2IGew6_Qg",
        "colab_type": "text"
      },
      "source": [
        "The accuracy based on the unseen test data is 90%~95%. This means that using the word2vec-based model one can build a reliable coverage score."
      ]
    },
    {
      "cell_type": "code",
      "metadata": {
        "id": "-6qus8Ai7dux",
        "colab_type": "code",
        "outputId": "43927ca7-fd38-40ff-be62-27f61b506cf6",
        "colab": {
          "base_uri": "https://localhost:8080/",
          "height": 339
        }
      },
      "source": [
        "import matplotlib.pyplot as plt\n",
        "import seaborn as sns\n",
        "\n",
        "importantCols = pd.Series(f_cov.feature_importances_,index=list(X_COV)).sort_values(ascending=False)\n",
        "sns.barplot(y=importantCols[:20], x=importantCols.index[:20])\n",
        "\n",
        "plt.ylabel('Importance Score')\n",
        "plt.xlabel('Columns')\n",
        "plt.xticks(rotation=45)\n",
        "plt.title(\"Importance Sorted\")\n",
        "plt.legend()\n",
        "plt.show()"
      ],
      "execution_count": 0,
      "outputs": [
        {
          "output_type": "stream",
          "text": [
            "No handles with labels found to put in legend.\n"
          ],
          "name": "stderr"
        },
        {
          "output_type": "display_data",
          "data": {
            "image/png": "[encoded data removed]",
            "text/plain": [
              "<Figure size 432x288 with 1 Axes>"
            ]
          },
          "metadata": {
            "tags": [],
            "needs_background": "light"
          }
        }
      ]
    },
    {
      "cell_type": "markdown",
      "metadata": {
        "id": "CiWlQq2M-tfz",
        "colab_type": "text"
      },
      "source": [
        "### 9.8 Interpretation\n",
        "\n",
        "As shown above \"`date_int`\"  is one of the most important feature in determining whether or not the news has high news coverage. This is expected since the date the news has been posted definitely impacts on whether the news has sufficient coverage from peer articles. Some of the numeric (word2vec) columns  have significant impact on the prediction of the coverage score. But, since these factors are latent, they do not correspond to specific words in the vocabulary."
      ]
    },
    {
      "cell_type": "markdown",
      "metadata": {
        "id": "JiIceCrcYqx9",
        "colab_type": "text"
      },
      "source": [
        "### 9.10 Other Methods Tried\n",
        "Also tried using TFIDF as well as shown below."
      ]
    },
    {
      "cell_type": "code",
      "metadata": {
        "id": "N_b0jANCS4Jx",
        "colab_type": "code",
        "colab": {}
      },
      "source": [
        "from sklearn.feature_extraction.text import TfidfVectorizer\n",
        "\n",
        "ktdv = TfidfVectorizer()\n",
        "  \n",
        "data_liar_liar['text_distilled_joined'] = data_liar_liar[ 'text_distilled' ].apply( lambda x :  ' '.join( x ) )\n",
        "ktdv.fit( data_liar_liar[ 'text_distilled_joined' ])\n",
        "dim_row = len(ktdv.transform([data_liar_liar[ 'text_distilled_joined' ][0]]).toarray())\n",
        "dim_col = len(ktdv.transform([data_liar_liar[ 'text_distilled_joined' ][0]]).toarray()[0])\n",
        "# Eventually dropped"
      ],
      "execution_count": 0,
      "outputs": []
    },
    {
      "cell_type": "markdown",
      "metadata": {
        "id": "P7lp6PDLbb7c",
        "colab_type": "text"
      },
      "source": [
        "### 9.11 Extension - Increase  the window to 2 Months\n",
        "\n",
        "Now that we have coverage of 5 and above for 6/100 articles. We can try and see what values we see if the coverage is increased from 30 days to 60 days"
      ]
    },
    {
      "cell_type": "code",
      "metadata": {
        "id": "mKe0HrIYcHp_",
        "colab_type": "code",
        "outputId": "56efcbaa-1896-46ce-9ca1-318c928c97aa",
        "colab": {
          "base_uri": "https://localhost:8080/",
          "height": 118
        }
      },
      "source": [
        "def coverage60( article ):\n",
        "   fromdate, todate = window( article[ 'date' ], 60 )\n",
        "   selected_coverage = data_all_news[(data_all_news['date'] > fromdate) & (data_all_news['date'] < todate)]\n",
        "   selected_coverage['covered'] = selected_coverage.apply( lambda r: r[ 'topics' ][0] in article.topics and\n",
        "                                                       r[ 'topics' ][1] in article.topics, axis=1 )\n",
        "   return len(selected_coverage[selected_coverage['covered'] == True])\n",
        "\n",
        "data_liar_liar[ 'coverage60' ] = data_liar_liar.apply( coverage60, axis=1 )"
      ],
      "execution_count": 0,
      "outputs": [
        {
          "output_type": "stream",
          "text": [
            "/usr/local/lib/python3.6/dist-packages/ipykernel_launcher.py:5: SettingWithCopyWarning: \n",
            "A value is trying to be set on a copy of a slice from a DataFrame.\n",
            "Try using .loc[row_indexer,col_indexer] = value instead\n",
            "\n",
            "See the caveats in the documentation: https://pandas.pydata.org/pandas-docs/stable/user_guide/indexing.html#returning-a-view-versus-a-copy\n",
            "  \"\"\"\n"
          ],
          "name": "stderr"
        }
      ]
    },
    {
      "cell_type": "code",
      "metadata": {
        "id": "gw8RejabdY8t",
        "colab_type": "code",
        "outputId": "536a9601-ed74-44dd-8fe7-1fe033e4eb70",
        "colab": {
          "base_uri": "https://localhost:8080/",
          "height": 719
        }
      },
      "source": [
        "data_liar_liar.sort_values(by=['coverage'], ascending=False ).head(5)"
      ],
      "execution_count": 0,
      "outputs": [
        {
          "output_type": "execute_result",
          "data": {
            "text/html": [
              "<div>\n",
              "<style scoped>\n",
              "    .dataframe tbody tr th:only-of-type {\n",
              "        vertical-align: middle;\n",
              "    }\n",
              "\n",
              "    .dataframe tbody tr th {\n",
              "        vertical-align: top;\n",
              "    }\n",
              "\n",
              "    .dataframe thead th {\n",
              "        text-align: right;\n",
              "    }\n",
              "</style>\n",
              "<table border=\"1\" class=\"dataframe\">\n",
              "  <thead>\n",
              "    <tr style=\"text-align: right;\">\n",
              "      <th></th>\n",
              "      <th>uuid</th>\n",
              "      <th>ord_in_thread</th>\n",
              "      <th>author</th>\n",
              "      <th>published</th>\n",
              "      <th>title</th>\n",
              "      <th>text</th>\n",
              "      <th>language</th>\n",
              "      <th>crawled</th>\n",
              "      <th>site_url</th>\n",
              "      <th>country</th>\n",
              "      <th>domain_rank</th>\n",
              "      <th>thread_title</th>\n",
              "      <th>spam_score</th>\n",
              "      <th>main_img_url</th>\n",
              "      <th>replies_count</th>\n",
              "      <th>participants_count</th>\n",
              "      <th>likes</th>\n",
              "      <th>comments</th>\n",
              "      <th>shares</th>\n",
              "      <th>type</th>\n",
              "      <th>text_distilled</th>\n",
              "      <th>text_distilled_lemma</th>\n",
              "      <th>topics</th>\n",
              "      <th>date</th>\n",
              "      <th>coverage</th>\n",
              "      <th>topic_0</th>\n",
              "      <th>topic_1</th>\n",
              "      <th>text_distilled_joined</th>\n",
              "      <th>sentiment</th>\n",
              "      <th>date_int</th>\n",
              "      <th>coverage60</th>\n",
              "    </tr>\n",
              "  </thead>\n",
              "  <tbody>\n",
              "    <tr>\n",
              "      <th>53</th>\n",
              "      <td>a36405a8d7d32c2192b9a9b482dcf0ebc83c62eb</td>\n",
              "      <td>0</td>\n",
              "      <td>Mike Rivero</td>\n",
              "      <td>2016-11-23T00:49:00.000+02:00</td>\n",
              "      <td>FLASHBACK - Hillary Clinton’s ‘KKK’ Smear Agai...</td>\n",
              "      <td>November 21, 2016 By 21wire Leave a Comment \\n...</td>\n",
              "      <td>english</td>\n",
              "      <td>2016-11-23T01:36:58.899+02:00</td>\n",
              "      <td>21stcenturywire.com</td>\n",
              "      <td>US</td>\n",
              "      <td>NaN</td>\n",
              "      <td>FLASHBACK - Hillary Clinton’s ‘KKK’ Smear Agai...</td>\n",
              "      <td>0.0</td>\n",
              "      <td>http://i2.wp.com/21stcenturywire.com/wp-conten...</td>\n",
              "      <td>0</td>\n",
              "      <td>1</td>\n",
              "      <td>0</td>\n",
              "      <td>0</td>\n",
              "      <td>0</td>\n",
              "      <td>conspiracy</td>\n",
              "      <td>[flashback, hillary, clinton, kkk, smear, trum...</td>\n",
              "      <td>[flashback, hillary, clinton, s, kkk, smear, a...</td>\n",
              "      <td>[mr , trump]</td>\n",
              "      <td>2016-11-23</td>\n",
              "      <td>41</td>\n",
              "      <td>[-0.4423174262046814, -0.06086936965584755, 1....</td>\n",
              "      <td>[0.08522806316614151, -0.34258320927619934, 0....</td>\n",
              "      <td>flashback hillary clinton kkk smear trump demo...</td>\n",
              "      <td>{'neg': 0.141, 'neu': 0.737, 'pos': 0.122, 'co...</td>\n",
              "      <td>201611</td>\n",
              "      <td>119</td>\n",
              "    </tr>\n",
              "    <tr>\n",
              "      <th>26</th>\n",
              "      <td>c1a86b752a21196a06591d5a785fa29b14fab245</td>\n",
              "      <td>0</td>\n",
              "      <td>EdJenner</td>\n",
              "      <td>2016-11-22T08:17:53.961+02:00</td>\n",
              "      <td>DONALD TRUMP Calls Meeting With Press…Dresses ...</td>\n",
              "      <td>Go to Article \\nThey had to know they had it c...</td>\n",
              "      <td>english</td>\n",
              "      <td>2016-11-22T08:17:53.961+02:00</td>\n",
              "      <td>100percentfedup.com</td>\n",
              "      <td>US</td>\n",
              "      <td>25689.0</td>\n",
              "      <td>DONALD TRUMP Calls Meeting With Press…Dresses ...</td>\n",
              "      <td>0.0</td>\n",
              "      <td>http://conservativeangle.com/wp-content/upload...</td>\n",
              "      <td>0</td>\n",
              "      <td>1</td>\n",
              "      <td>0</td>\n",
              "      <td>0</td>\n",
              "      <td>0</td>\n",
              "      <td>bias</td>\n",
              "      <td>[donald, trump, calls, meeting, press, dresses...</td>\n",
              "      <td>[donald, trump, call, meeting, with, press, dr...</td>\n",
              "      <td>[trump , said]</td>\n",
              "      <td>2016-11-22</td>\n",
              "      <td>22</td>\n",
              "      <td>[0.08522806316614151, -0.34258320927619934, 0....</td>\n",
              "      <td>[-0.4195807874202728, -0.08816979825496674, 0....</td>\n",
              "      <td>donald trump calls meeting press dresses real ...</td>\n",
              "      <td>{'neg': 0.217, 'neu': 0.719, 'pos': 0.064, 'co...</td>\n",
              "      <td>201611</td>\n",
              "      <td>65</td>\n",
              "    </tr>\n",
              "    <tr>\n",
              "      <th>980</th>\n",
              "      <td>29aa6e6c0aa6e47a2ee80e18b8ddc031657425b0</td>\n",
              "      <td>0</td>\n",
              "      <td>NaN</td>\n",
              "      <td>2016-10-28T18:34:48.985+03:00</td>\n",
              "      <td>FEAR OF TRUMP: BUSH, OBAMA, CLINTON ALL BUYING...</td>\n",
              "      <td>Email \\n\\nIt appears Bill and Hillary Clinton ...</td>\n",
              "      <td>english</td>\n",
              "      <td>2016-10-28T18:34:48.985+03:00</td>\n",
              "      <td>awdnews.com</td>\n",
              "      <td>DE</td>\n",
              "      <td>NaN</td>\n",
              "      <td>FEAR OF TRUMP: BUSH, OBAMA, CLINTON ALL BUYING...</td>\n",
              "      <td>0.0</td>\n",
              "      <td>http://awdnews.com/images/14776680451.jpg</td>\n",
              "      <td>0</td>\n",
              "      <td>0</td>\n",
              "      <td>0</td>\n",
              "      <td>0</td>\n",
              "      <td>0</td>\n",
              "      <td>conspiracy</td>\n",
              "      <td>[fear, trump, bush, obama, clinton, buying, pr...</td>\n",
              "      <td>[fear, of, trump, bush, obama, clinton, all, b...</td>\n",
              "      <td>[trump , clinton]</td>\n",
              "      <td>2016-10-28</td>\n",
              "      <td>20</td>\n",
              "      <td>[0.08522806316614151, -0.34258320927619934, 0....</td>\n",
              "      <td>[-0.35572656989097595, -0.13462898135185242, 0...</td>\n",
              "      <td>fear trump bush obama clinton buying property ...</td>\n",
              "      <td>{'neg': 0.107, 'neu': 0.745, 'pos': 0.148, 'co...</td>\n",
              "      <td>201610</td>\n",
              "      <td>97</td>\n",
              "    </tr>\n",
              "    <tr>\n",
              "      <th>988</th>\n",
              "      <td>b2e81b8debd3ca29f942d34b781126c07e427194</td>\n",
              "      <td>0</td>\n",
              "      <td>NaN</td>\n",
              "      <td>2016-10-28T18:40:18.626+03:00</td>\n",
              "      <td>FEAR OF TRUMP: BUSH, OBAMA, CLINTON ALL BUYING...</td>\n",
              "      <td>Email \\n\\nIt appears Bill and Hillary Clinton ...</td>\n",
              "      <td>english</td>\n",
              "      <td>2016-10-28T18:40:18.626+03:00</td>\n",
              "      <td>awdnews.com</td>\n",
              "      <td>DE</td>\n",
              "      <td>NaN</td>\n",
              "      <td>FEAR OF TRUMP: BUSH, OBAMA, CLINTON ALL BUYING...</td>\n",
              "      <td>0.0</td>\n",
              "      <td>http://awdnews.com/images/14776680451.jpg</td>\n",
              "      <td>0</td>\n",
              "      <td>0</td>\n",
              "      <td>0</td>\n",
              "      <td>0</td>\n",
              "      <td>0</td>\n",
              "      <td>conspiracy</td>\n",
              "      <td>[fear, trump, bush, obama, clinton, buying, pr...</td>\n",
              "      <td>[fear, of, trump, bush, obama, clinton, all, b...</td>\n",
              "      <td>[trump , clinton]</td>\n",
              "      <td>2016-10-28</td>\n",
              "      <td>20</td>\n",
              "      <td>[0.08522806316614151, -0.34258320927619934, 0....</td>\n",
              "      <td>[-0.35572656989097595, -0.13462898135185242, 0...</td>\n",
              "      <td>fear trump bush obama clinton buying property ...</td>\n",
              "      <td>{'neg': 0.107, 'neu': 0.745, 'pos': 0.148, 'co...</td>\n",
              "      <td>201610</td>\n",
              "      <td>97</td>\n",
              "    </tr>\n",
              "    <tr>\n",
              "      <th>968</th>\n",
              "      <td>cb64c208ace64bd6dbe9f5d8a892f510e3ae5dec</td>\n",
              "      <td>0</td>\n",
              "      <td>NaN</td>\n",
              "      <td>2016-10-28T00:14:00.000+03:00</td>\n",
              "      <td>Donald Trump threatens to jail Hillary Clinton</td>\n",
              "      <td>Email \\nThe second presidential debate flew of...</td>\n",
              "      <td>english</td>\n",
              "      <td>2016-10-28T08:22:41.010+03:00</td>\n",
              "      <td>awdnews.com</td>\n",
              "      <td>DE</td>\n",
              "      <td>NaN</td>\n",
              "      <td>Donald Trump threatens to jail Hillary Clinton</td>\n",
              "      <td>0.0</td>\n",
              "      <td>http://awdnews.com/images/1477584851donald-tru...</td>\n",
              "      <td>0</td>\n",
              "      <td>0</td>\n",
              "      <td>0</td>\n",
              "      <td>0</td>\n",
              "      <td>0</td>\n",
              "      <td>conspiracy</td>\n",
              "      <td>[donald, trump, threatens, jail, hillary, clin...</td>\n",
              "      <td>[donald, trump, threatens, to, jail, hillary, ...</td>\n",
              "      <td>[trump , said]</td>\n",
              "      <td>2016-10-28</td>\n",
              "      <td>18</td>\n",
              "      <td>[0.08522806316614151, -0.34258320927619934, 0....</td>\n",
              "      <td>[-0.4195807874202728, -0.08816979825496674, 0....</td>\n",
              "      <td>donald trump threatens jail hillary clinton em...</td>\n",
              "      <td>{'neg': 0.112, 'neu': 0.734, 'pos': 0.154, 'co...</td>\n",
              "      <td>201610</td>\n",
              "      <td>61</td>\n",
              "    </tr>\n",
              "  </tbody>\n",
              "</table>\n",
              "</div>"
            ],
            "text/plain": [
              "                                         uuid  ...  coverage60\n",
              "53   a36405a8d7d32c2192b9a9b482dcf0ebc83c62eb  ...         119\n",
              "26   c1a86b752a21196a06591d5a785fa29b14fab245  ...          65\n",
              "980  29aa6e6c0aa6e47a2ee80e18b8ddc031657425b0  ...          97\n",
              "988  b2e81b8debd3ca29f942d34b781126c07e427194  ...          97\n",
              "968  cb64c208ace64bd6dbe9f5d8a892f510e3ae5dec  ...          61\n",
              "\n",
              "[5 rows x 31 columns]"
            ]
          },
          "metadata": {
            "tags": []
          },
          "execution_count": 64
        }
      ]
    },
    {
      "cell_type": "markdown",
      "metadata": {
        "id": "ntHZZBZre56u",
        "colab_type": "text"
      },
      "source": [
        "Counting number of articles with coverage scores above 1"
      ]
    },
    {
      "cell_type": "code",
      "metadata": {
        "id": "2PcffI6Oe9-9",
        "colab_type": "code",
        "outputId": "c9b5959b-b88a-4023-9942-0921023618a7",
        "colab": {
          "base_uri": "https://localhost:8080/",
          "height": 34
        }
      },
      "source": [
        "len(data_liar_liar[data_liar_liar['coverage60']>1])"
      ],
      "execution_count": 0,
      "outputs": [
        {
          "output_type": "execute_result",
          "data": {
            "text/plain": [
              "97"
            ]
          },
          "metadata": {
            "tags": []
          },
          "execution_count": 65
        }
      ]
    },
    {
      "cell_type": "markdown",
      "metadata": {
        "id": "AhnJaXY8cVtD",
        "colab_type": "text"
      },
      "source": [
        "## 10 Testing on Non-Fake News\n",
        "\n",
        "The coverage scores (with window = 60 days) are compared between fake news dataset and \"All news\" non-fake news dataset. Since window of 60 days are chosen for fake news dataset, the same window is chosen for non-fake datasets for consistency."
      ]
    },
    {
      "cell_type": "code",
      "metadata": {
        "id": "vbcKaZ3MdNBz",
        "colab_type": "code",
        "outputId": "9ec5fd3d-566b-4587-c112-3f89907f2bd2",
        "colab": {
          "base_uri": "https://localhost:8080/",
          "height": 218
        }
      },
      "source": [
        "non_fake_data = data_all_news[:100]\n",
        "\n",
        "non_fake_data[ 'coverage60' ] = non_fake_data.apply( coverage60, axis=1 )"
      ],
      "execution_count": 0,
      "outputs": [
        {
          "output_type": "stream",
          "text": [
            "/usr/local/lib/python3.6/dist-packages/ipykernel_launcher.py:5: SettingWithCopyWarning: \n",
            "A value is trying to be set on a copy of a slice from a DataFrame.\n",
            "Try using .loc[row_indexer,col_indexer] = value instead\n",
            "\n",
            "See the caveats in the documentation: https://pandas.pydata.org/pandas-docs/stable/user_guide/indexing.html#returning-a-view-versus-a-copy\n",
            "  \"\"\"\n",
            "/usr/local/lib/python3.6/dist-packages/ipykernel_launcher.py:3: SettingWithCopyWarning: \n",
            "A value is trying to be set on a copy of a slice from a DataFrame.\n",
            "Try using .loc[row_indexer,col_indexer] = value instead\n",
            "\n",
            "See the caveats in the documentation: https://pandas.pydata.org/pandas-docs/stable/user_guide/indexing.html#returning-a-view-versus-a-copy\n",
            "  This is separate from the ipykernel package so we can avoid doing imports until\n"
          ],
          "name": "stderr"
        }
      ]
    },
    {
      "cell_type": "code",
      "metadata": {
        "id": "XjnAL_cxebSx",
        "colab_type": "code",
        "outputId": "35991d09-2716-44ce-c43d-65014f1e7399",
        "colab": {
          "base_uri": "https://localhost:8080/",
          "height": 464
        }
      },
      "source": [
        "non_fake_data.sort_values(by=['coverage60'], ascending=False ).head(5)"
      ],
      "execution_count": 0,
      "outputs": [
        {
          "output_type": "execute_result",
          "data": {
            "text/html": [
              "<div>\n",
              "<style scoped>\n",
              "    .dataframe tbody tr th:only-of-type {\n",
              "        vertical-align: middle;\n",
              "    }\n",
              "\n",
              "    .dataframe tbody tr th {\n",
              "        vertical-align: top;\n",
              "    }\n",
              "\n",
              "    .dataframe thead th {\n",
              "        text-align: right;\n",
              "    }\n",
              "</style>\n",
              "<table border=\"1\" class=\"dataframe\">\n",
              "  <thead>\n",
              "    <tr style=\"text-align: right;\">\n",
              "      <th></th>\n",
              "      <th>Unnamed: 0</th>\n",
              "      <th>id</th>\n",
              "      <th>title</th>\n",
              "      <th>publication</th>\n",
              "      <th>author</th>\n",
              "      <th>date</th>\n",
              "      <th>year</th>\n",
              "      <th>month</th>\n",
              "      <th>url</th>\n",
              "      <th>content</th>\n",
              "      <th>text_distilled</th>\n",
              "      <th>topics</th>\n",
              "      <th>coverage60</th>\n",
              "    </tr>\n",
              "  </thead>\n",
              "  <tbody>\n",
              "    <tr>\n",
              "      <th>43</th>\n",
              "      <td>43</td>\n",
              "      <td>17334</td>\n",
              "      <td>Trump Appears to Side With Assange Over Intell...</td>\n",
              "      <td>New York Times</td>\n",
              "      <td>Scott Shane, Maggie Haberman and Julie Hirschf...</td>\n",
              "      <td>2017-01-05</td>\n",
              "      <td>2017.0</td>\n",
              "      <td>1.0</td>\n",
              "      <td>NaN</td>\n",
              "      <td>■   Donald J. Trump appears to side with the W...</td>\n",
              "      <td>[trump, appears, side, assange, intelligence, ...</td>\n",
              "      <td>[mr , trump]</td>\n",
              "      <td>156</td>\n",
              "    </tr>\n",
              "    <tr>\n",
              "      <th>93</th>\n",
              "      <td>93</td>\n",
              "      <td>17392</td>\n",
              "      <td>Trump Takes on Democrats and Health Law in New...</td>\n",
              "      <td>New York Times</td>\n",
              "      <td>Julie Hirschfeld Davis</td>\n",
              "      <td>2017-01-06</td>\n",
              "      <td>2017.0</td>\n",
              "      <td>1.0</td>\n",
              "      <td>NaN</td>\n",
              "      <td>WASHINGTON  —     Donald J. Trump lashed out a...</td>\n",
              "      <td>[trump, take, democrat, health, law, new, twit...</td>\n",
              "      <td>[mr , trump]</td>\n",
              "      <td>156</td>\n",
              "    </tr>\n",
              "    <tr>\n",
              "      <th>12</th>\n",
              "      <td>12</td>\n",
              "      <td>17295</td>\n",
              "      <td>Mar-a-Lago, the Future Winter White House and ...</td>\n",
              "      <td>New York Times</td>\n",
              "      <td>Maggie Haberman</td>\n",
              "      <td>2017-01-02</td>\n",
              "      <td>2017.0</td>\n",
              "      <td>1.0</td>\n",
              "      <td>NaN</td>\n",
              "      <td>WEST PALM BEACH, Fla.  —   When   Donald J. Tr...</td>\n",
              "      <td>[mar, lago, future, winter, white, house, home...</td>\n",
              "      <td>[mr , trump]</td>\n",
              "      <td>153</td>\n",
              "    </tr>\n",
              "    <tr>\n",
              "      <th>77</th>\n",
              "      <td>77</td>\n",
              "      <td>17373</td>\n",
              "      <td>Enough With the Tweets, China’s State Media Te...</td>\n",
              "      <td>New York Times</td>\n",
              "      <td>Chris Buckley</td>\n",
              "      <td>2017-01-05</td>\n",
              "      <td>2017.0</td>\n",
              "      <td>1.0</td>\n",
              "      <td>NaN</td>\n",
              "      <td>BEIJING  —   China’s leaders thought they had ...</td>\n",
              "      <td>[enough, tweet, china, state, medium, tell, tr...</td>\n",
              "      <td>[trump , mr]</td>\n",
              "      <td>75</td>\n",
              "    </tr>\n",
              "    <tr>\n",
              "      <th>10</th>\n",
              "      <td>10</td>\n",
              "      <td>17293</td>\n",
              "      <td>Weak Federal Powers Could Limit Trump’s Climat...</td>\n",
              "      <td>New York Times</td>\n",
              "      <td>Justin Gillis</td>\n",
              "      <td>2017-01-03</td>\n",
              "      <td>2017.0</td>\n",
              "      <td>1.0</td>\n",
              "      <td>NaN</td>\n",
              "      <td>With Donald J. Trump about to take control of ...</td>\n",
              "      <td>[weak, federal, power, could, limit, trump, cl...</td>\n",
              "      <td>[trump , mr]</td>\n",
              "      <td>75</td>\n",
              "    </tr>\n",
              "  </tbody>\n",
              "</table>\n",
              "</div>"
            ],
            "text/plain": [
              "    Unnamed: 0     id  ...        topics coverage60\n",
              "43          43  17334  ...  [mr , trump]        156\n",
              "93          93  17392  ...  [mr , trump]        156\n",
              "12          12  17295  ...  [mr , trump]        153\n",
              "77          77  17373  ...  [trump , mr]         75\n",
              "10          10  17293  ...  [trump , mr]         75\n",
              "\n",
              "[5 rows x 13 columns]"
            ]
          },
          "metadata": {
            "tags": []
          },
          "execution_count": 67
        }
      ]
    },
    {
      "cell_type": "markdown",
      "metadata": {
        "id": "Mgwc_azbfHdK",
        "colab_type": "text"
      },
      "source": [
        "Counting the number of articles with coverage score greater than 1,"
      ]
    },
    {
      "cell_type": "code",
      "metadata": {
        "id": "IJ1dxOHVfKOh",
        "colab_type": "code",
        "outputId": "7f58ebbf-3ff5-4057-e8d2-69eaff4cf3c2",
        "colab": {
          "base_uri": "https://localhost:8080/",
          "height": 34
        }
      },
      "source": [
        "len(non_fake_data[non_fake_data['coverage60']>1])"
      ],
      "execution_count": 0,
      "outputs": [
        {
          "output_type": "execute_result",
          "data": {
            "text/plain": [
              "30"
            ]
          },
          "metadata": {
            "tags": []
          },
          "execution_count": 68
        }
      ]
    },
    {
      "cell_type": "markdown",
      "metadata": {
        "id": "CadFX0H6T3Qg",
        "colab_type": "text"
      },
      "source": [
        "### 10.1 Comparisons between Fake and Non-Fake News Datasets\n",
        "\n",
        "Based on sample of 100 articles from pool of fake and non-fake news sources, the coverage score for non-fake news articles are significantly higher than the fake news articles. In particular, around 30 out of 100 of non-fake news articles had coverage score greater than one. On the other hand, only 14 out of 100 of fake news articles had coverge score greater than one. \n"
      ]
    },
    {
      "cell_type": "code",
      "metadata": {
        "id": "U2qLJGG11B6n",
        "colab_type": "code",
        "outputId": "b347ccc1-4aa7-4c86-a49c-a8dbbe929939",
        "colab": {
          "base_uri": "https://localhost:8080/",
          "height": 34
        }
      },
      "source": [
        "# For caculating approximate time to process notebook (IGNORE)\n",
        "import datetime\n",
        "datetime.datetime.now()"
      ],
      "execution_count": 0,
      "outputs": [
        {
          "output_type": "execute_result",
          "data": {
            "text/plain": [
              "datetime.datetime(2020, 4, 27, 21, 29, 7, 890465)"
            ]
          },
          "metadata": {
            "tags": []
          },
          "execution_count": 69
        }
      ]
    },
    {
      "cell_type": "markdown",
      "metadata": {
        "id": "twKJ25sCO2en",
        "colab_type": "text"
      },
      "source": [
        "## 11 Amalgamation (Liar Liar + All News)"
      ]
    },
    {
      "cell_type": "markdown",
      "metadata": {
        "id": "fkzIohC5pBQS",
        "colab_type": "text"
      },
      "source": [
        "### 11.0 Preparing for the Polynomial (News Coverage Score)\n",
        "\n",
        "To prepare for polynomial equation, I have amalgamated combined fake and non-fake news dataset. \n",
        "\n",
        "\n"
      ]
    },
    {
      "cell_type": "markdown",
      "metadata": {
        "id": "uf6lwvd-YZ3t",
        "colab_type": "text"
      },
      "source": [
        "### 11.1 Cleaning Up Exiting Data"
      ]
    },
    {
      "cell_type": "code",
      "metadata": {
        "id": "7AmiK2Atuyyp",
        "colab_type": "code",
        "colab": {}
      },
      "source": [
        "# Clean up some existing data\n",
        "\n",
        "data_all_news = data_all_news.iloc[0:0]\n",
        "data_liar_liar = data_liar_liar.iloc[0:0] "
      ],
      "execution_count": 0,
      "outputs": []
    },
    {
      "cell_type": "markdown",
      "metadata": {
        "id": "C2Ydtpy1YiyL",
        "colab_type": "text"
      },
      "source": [
        "### 11.2 Uniform Data Preparation\n",
        "\n",
        "We need to apply our trained model on amalgamated data. No training is required. We just need to apply our model to this dataset."
      ]
    },
    {
      "cell_type": "code",
      "metadata": {
        "id": "MgkthGJX5AKG",
        "colab_type": "code",
        "outputId": "b110229b-8297-4520-8f6d-aa1cca9fac1d",
        "colab": {
          "base_uri": "https://localhost:8080/",
          "height": 322
        }
      },
      "source": [
        "!pip install gensim"
      ],
      "execution_count": 0,
      "outputs": [
        {
          "output_type": "stream",
          "text": [
            "Requirement already satisfied: gensim in /usr/local/lib/python3.6/dist-packages (3.6.0)\n",
            "Requirement already satisfied: six>=1.5.0 in /usr/local/lib/python3.6/dist-packages (from gensim) (1.12.0)\n",
            "Requirement already satisfied: smart-open>=1.2.1 in /usr/local/lib/python3.6/dist-packages (from gensim) (1.11.1)\n",
            "Requirement already satisfied: scipy>=0.18.1 in /usr/local/lib/python3.6/dist-packages (from gensim) (1.4.1)\n",
            "Requirement already satisfied: numpy>=1.11.3 in /usr/local/lib/python3.6/dist-packages (from gensim) (1.18.3)\n",
            "Requirement already satisfied: boto in /usr/local/lib/python3.6/dist-packages (from smart-open>=1.2.1->gensim) (2.49.0)\n",
            "Requirement already satisfied: boto3 in /usr/local/lib/python3.6/dist-packages (from smart-open>=1.2.1->gensim) (1.12.43)\n",
            "Requirement already satisfied: requests in /usr/local/lib/python3.6/dist-packages (from smart-open>=1.2.1->gensim) (2.21.0)\n",
            "Requirement already satisfied: jmespath<1.0.0,>=0.7.1 in /usr/local/lib/python3.6/dist-packages (from boto3->smart-open>=1.2.1->gensim) (0.9.5)\n",
            "Requirement already satisfied: s3transfer<0.4.0,>=0.3.0 in /usr/local/lib/python3.6/dist-packages (from boto3->smart-open>=1.2.1->gensim) (0.3.3)\n",
            "Requirement already satisfied: botocore<1.16.0,>=1.15.43 in /usr/local/lib/python3.6/dist-packages (from boto3->smart-open>=1.2.1->gensim) (1.15.43)\n",
            "Requirement already satisfied: certifi>=2017.4.17 in /usr/local/lib/python3.6/dist-packages (from requests->smart-open>=1.2.1->gensim) (2020.4.5.1)\n",
            "Requirement already satisfied: chardet<3.1.0,>=3.0.2 in /usr/local/lib/python3.6/dist-packages (from requests->smart-open>=1.2.1->gensim) (3.0.4)\n",
            "Requirement already satisfied: idna<2.9,>=2.5 in /usr/local/lib/python3.6/dist-packages (from requests->smart-open>=1.2.1->gensim) (2.8)\n",
            "Requirement already satisfied: urllib3<1.25,>=1.21.1 in /usr/local/lib/python3.6/dist-packages (from requests->smart-open>=1.2.1->gensim) (1.24.3)\n",
            "Requirement already satisfied: docutils<0.16,>=0.10 in /usr/local/lib/python3.6/dist-packages (from botocore<1.16.0,>=1.15.43->boto3->smart-open>=1.2.1->gensim) (0.15.2)\n",
            "Requirement already satisfied: python-dateutil<3.0.0,>=2.1 in /usr/local/lib/python3.6/dist-packages (from botocore<1.16.0,>=1.15.43->boto3->smart-open>=1.2.1->gensim) (2.8.1)\n"
          ],
          "name": "stdout"
        }
      ]
    },
    {
      "cell_type": "code",
      "metadata": {
        "id": "LPc-q4aGpgtl",
        "colab_type": "code",
        "outputId": "7b1522c8-fdf0-4606-df33-104cbb842fa7",
        "colab": {
          "base_uri": "https://localhost:8080/",
          "height": 168
        }
      },
      "source": [
        "\n",
        "# dependencies\n",
        "import pandas as pd\n",
        "import nltk\n",
        "import numpy as np\n",
        "import io\n",
        "import requests\n",
        "from sklearn.feature_extraction.text import TfidfVectorizer\n",
        "from nltk import word_tokenize\n",
        "from nltk.corpus import stopwords\n",
        "# from sklearn.pipeline import Pipeline\n",
        "from sklearn.decomposition import TruncatedSVD\n",
        "from sklearn.feature_selection import chi2\n",
        "from string import punctuation\n",
        "from nltk import PorterStemmer\n",
        "import copy \n",
        "import re, math\n",
        "from sklearn.model_selection import train_test_split\n",
        "from nltk import WordNetLemmatizer\n",
        "from nltk import bigrams\n",
        "from nltk.util import ngrams\n",
        "from nltk.sentiment.vader import SentimentIntensityAnalyzer\n",
        "from gensim.models.ldamodel import LdaModel\n",
        "from gensim.corpora import Dictionary\n",
        "import pickle\n",
        "from collections import Counter\n",
        "from sklearn.ensemble import RandomForestClassifier\n",
        "from sklearn.svm import SVC\n",
        "from sklearn.linear_model import LogisticRegression\n",
        "from sklearn.naive_bayes import GaussianNB\n",
        "from sklearn.metrics import accuracy_score, confusion_matrix, roc_auc_score\n",
        "from xgboost import XGBClassifier\n",
        "\n",
        "nltk.download('vader_lexicon')\n",
        "nltk.download('punkt')\n",
        "nltk.download('stopwords')\n",
        "nltk.download('wordnet')"
      ],
      "execution_count": 0,
      "outputs": [
        {
          "output_type": "stream",
          "text": [
            "[nltk_data] Downloading package vader_lexicon to /root/nltk_data...\n",
            "[nltk_data]   Package vader_lexicon is already up-to-date!\n",
            "[nltk_data] Downloading package punkt to /root/nltk_data...\n",
            "[nltk_data]   Package punkt is already up-to-date!\n",
            "[nltk_data] Downloading package stopwords to /root/nltk_data...\n",
            "[nltk_data]   Package stopwords is already up-to-date!\n",
            "[nltk_data] Downloading package wordnet to /root/nltk_data...\n",
            "[nltk_data]   Package wordnet is already up-to-date!\n"
          ],
          "name": "stdout"
        },
        {
          "output_type": "execute_result",
          "data": {
            "text/plain": [
              "True"
            ]
          },
          "metadata": {
            "tags": []
          },
          "execution_count": 72
        }
      ]
    },
    {
      "cell_type": "code",
      "metadata": {
        "id": "yHe-bOHApmVA",
        "colab_type": "code",
        "outputId": "329d072a-6bca-4744-a1ae-b16babee7350",
        "colab": {
          "base_uri": "https://localhost:8080/",
          "height": 104
        }
      },
      "source": [
        "\n",
        "def get_parsed_data2(url):\n",
        "    return pd.read_csv(io.StringIO(requests.get(url, verify=False).content.decode('utf-8')), sep=',', header='infer')\n",
        "\n",
        "# download and parse the dataset...\n",
        "data_kg_fake_news = get_parsed_data2('https://github.com/synle/machine-learning-sample-dataset/raw/master/liar_dataset/kaggle/kaggle-fake.csv')"
      ],
      "execution_count": 0,
      "outputs": [
        {
          "output_type": "stream",
          "text": [
            "/usr/local/lib/python3.6/dist-packages/urllib3/connectionpool.py:847: InsecureRequestWarning: Unverified HTTPS request is being made. Adding certificate verification is strongly advised. See: https://urllib3.readthedocs.io/en/latest/advanced-usage.html#ssl-warnings\n",
            "  InsecureRequestWarning)\n",
            "/usr/local/lib/python3.6/dist-packages/urllib3/connectionpool.py:847: InsecureRequestWarning: Unverified HTTPS request is being made. Adding certificate verification is strongly advised. See: https://urllib3.readthedocs.io/en/latest/advanced-usage.html#ssl-warnings\n",
            "  InsecureRequestWarning)\n"
          ],
          "name": "stderr"
        }
      ]
    },
    {
      "cell_type": "code",
      "metadata": {
        "id": "x3AuNeD_9u67",
        "colab_type": "code",
        "colab": {}
      },
      "source": [
        "# All News Kaggle\n",
        "\n",
        "def get_parsed_data2(url):\n",
        "    return pd.read_csv(io.StringIO(requests.get(url, verify=False).content.decode('utf-8')), sep=',', header='infer')\n",
        "\n",
        "# download and parse the dataset...\n",
        "#data_kg_nonfake_news = get_parsed_data2('https://media.githubusercontent.com/media/hyunwookshin/all_news_dataset_kaggle/master/articles1.csv')"
      ],
      "execution_count": 0,
      "outputs": []
    },
    {
      "cell_type": "code",
      "metadata": {
        "id": "D8ZriaagVqgB",
        "colab_type": "code",
        "outputId": "91ac4ed9-1228-4713-8ad4-2a668df45ab1",
        "colab": {
          "base_uri": "https://localhost:8080/",
          "height": 296
        }
      },
      "source": [
        "data_kg_nonfake_news = pd.read_csv('/content/drive/My Drive/Colab Notebooks/articles1.csv', low_memory =False, encoding = \"ISO-8859-1\")\n",
        "data_kg_nonfake_news.head(5)"
      ],
      "execution_count": 0,
      "outputs": [
        {
          "output_type": "execute_result",
          "data": {
            "text/html": [
              "<div>\n",
              "<style scoped>\n",
              "    .dataframe tbody tr th:only-of-type {\n",
              "        vertical-align: middle;\n",
              "    }\n",
              "\n",
              "    .dataframe tbody tr th {\n",
              "        vertical-align: top;\n",
              "    }\n",
              "\n",
              "    .dataframe thead th {\n",
              "        text-align: right;\n",
              "    }\n",
              "</style>\n",
              "<table border=\"1\" class=\"dataframe\">\n",
              "  <thead>\n",
              "    <tr style=\"text-align: right;\">\n",
              "      <th></th>\n",
              "      <th>Unnamed: 0</th>\n",
              "      <th>id</th>\n",
              "      <th>title</th>\n",
              "      <th>publication</th>\n",
              "      <th>author</th>\n",
              "      <th>date</th>\n",
              "      <th>year</th>\n",
              "      <th>month</th>\n",
              "      <th>url</th>\n",
              "      <th>content</th>\n",
              "    </tr>\n",
              "  </thead>\n",
              "  <tbody>\n",
              "    <tr>\n",
              "      <th>0</th>\n",
              "      <td>0</td>\n",
              "      <td>17283</td>\n",
              "      <td>House Republicans Fret About Winning Their Hea...</td>\n",
              "      <td>New York Times</td>\n",
              "      <td>Carl Hulse</td>\n",
              "      <td>2016-12-31</td>\n",
              "      <td>2016.0</td>\n",
              "      <td>12.0</td>\n",
              "      <td>NaN</td>\n",
              "      <td>WASHINGTON  â   Congressional Republicans ha...</td>\n",
              "    </tr>\n",
              "    <tr>\n",
              "      <th>1</th>\n",
              "      <td>1</td>\n",
              "      <td>17284</td>\n",
              "      <td>Rift Between Officers and Residents as Killing...</td>\n",
              "      <td>New York Times</td>\n",
              "      <td>Benjamin Mueller and Al Baker</td>\n",
              "      <td>2017-06-19</td>\n",
              "      <td>2017.0</td>\n",
              "      <td>6.0</td>\n",
              "      <td>NaN</td>\n",
              "      <td>After the bullet shells get counted, the blood...</td>\n",
              "    </tr>\n",
              "    <tr>\n",
              "      <th>2</th>\n",
              "      <td>2</td>\n",
              "      <td>17285</td>\n",
              "      <td>Tyrus Wong, âBambiâ Artist Thwarted by Rac...</td>\n",
              "      <td>New York Times</td>\n",
              "      <td>Margalit Fox</td>\n",
              "      <td>2017-01-06</td>\n",
              "      <td>2017.0</td>\n",
              "      <td>1.0</td>\n",
              "      <td>NaN</td>\n",
              "      <td>When Walt Disneyâs âBambiâ opened in 194...</td>\n",
              "    </tr>\n",
              "    <tr>\n",
              "      <th>3</th>\n",
              "      <td>3</td>\n",
              "      <td>17286</td>\n",
              "      <td>Among Deaths in 2016, a Heavy Toll in Pop Musi...</td>\n",
              "      <td>New York Times</td>\n",
              "      <td>William McDonald</td>\n",
              "      <td>2017-04-10</td>\n",
              "      <td>2017.0</td>\n",
              "      <td>4.0</td>\n",
              "      <td>NaN</td>\n",
              "      <td>Death may be the great equalizer, but it isnâ...</td>\n",
              "    </tr>\n",
              "    <tr>\n",
              "      <th>4</th>\n",
              "      <td>4</td>\n",
              "      <td>17287</td>\n",
              "      <td>Kim Jong-un Says North Korea Is Preparing to T...</td>\n",
              "      <td>New York Times</td>\n",
              "      <td>Choe Sang-Hun</td>\n",
              "      <td>2017-01-02</td>\n",
              "      <td>2017.0</td>\n",
              "      <td>1.0</td>\n",
              "      <td>NaN</td>\n",
              "      <td>SEOUL, South Korea  â   North Koreaâs lead...</td>\n",
              "    </tr>\n",
              "  </tbody>\n",
              "</table>\n",
              "</div>"
            ],
            "text/plain": [
              "   Unnamed: 0     id  ... url                                            content\n",
              "0           0  17283  ... NaN  WASHINGTON  â   Congressional Republicans ha...\n",
              "1           1  17284  ... NaN  After the bullet shells get counted, the blood...\n",
              "2           2  17285  ... NaN  When Walt Disneyâs âBambiâ opened in 194...\n",
              "3           3  17286  ... NaN  Death may be the great equalizer, but it isnâ...\n",
              "4           4  17287  ... NaN  SEOUL, South Korea  â   North Koreaâs lead...\n",
              "\n",
              "[5 rows x 10 columns]"
            ]
          },
          "metadata": {
            "tags": []
          },
          "execution_count": 75
        }
      ]
    },
    {
      "cell_type": "code",
      "metadata": {
        "id": "P4XaxlhWpwy2",
        "colab_type": "code",
        "colab": {}
      },
      "source": [
        "\n",
        "def tokenize2(text):\n",
        "    cachedStopWords = set(stopwords.words('english') + list(punctuation))\n",
        "    min_length = 3\n",
        "    # tokenize\n",
        "    # convert to lower case\n",
        "    words = map(lambda word: word.lower(), word_tokenize(text))\n",
        "    # remove stop words\n",
        "    words = [word for word in words if word not in cachedStopWords]\n",
        "    # steming\n",
        "    #tokens = list(map(lambda token: PorterStemmer().stem(token), words))\n",
        "    # lemmatize\n",
        "    lemmas = [WordNetLemmatizer().lemmatize(word) for word in words]\n",
        "    # only focus on alphabetic words\n",
        "    p = re.compile('[a-zA-Z]+')\n",
        "    \n",
        "    filtered_lemmas = list(filter(lambda lemma: p.match(lemma) and len(lemma) >= min_length, lemmas))\n",
        "    return filtered_lemmas\n"
      ],
      "execution_count": 0,
      "outputs": []
    },
    {
      "cell_type": "code",
      "metadata": {
        "id": "K5w6iiEZ0JTR",
        "colab_type": "code",
        "colab": {}
      },
      "source": [
        "\n",
        "data_kg_nonfake_news.rename(columns={\"content\": \"text\"}, inplace=True)\n",
        "data_kg_nonfake_news['type'] = 0\n",
        "data_kg_fake_news.loc[data_kg_fake_news['type']!='bs', 'type'] = 0\n",
        "data_kg_fake_news.loc[data_kg_fake_news['type']=='bs', 'type'] = 1\n",
        "\n",
        "\n",
        "### From Earlier Part of the assignment\n",
        "def setDate( published ):\n",
        "   return published.split( \"T\" )[0]\n",
        "  \n",
        "data_kg_fake_news[ 'date' ] = data_kg_fake_news.published.apply( setDate )\n",
        "\n",
        "all_data = pd.concat([data_kg_fake_news[['date', 'title','text','type']], data_kg_nonfake_news[['date', 'title','text','type']]])"
      ],
      "execution_count": 0,
      "outputs": []
    },
    {
      "cell_type": "code",
      "metadata": {
        "id": "aceO8aMm5-bM",
        "colab_type": "code",
        "outputId": "027ea6d2-83da-4db4-8666-f802749cc69f",
        "colab": {
          "base_uri": "https://localhost:8080/",
          "height": 67
        }
      },
      "source": [
        "all_data.type.value_counts()"
      ],
      "execution_count": 0,
      "outputs": [
        {
          "output_type": "execute_result",
          "data": {
            "text/plain": [
              "0    51507\n",
              "1    11492\n",
              "Name: type, dtype: int64"
            ]
          },
          "metadata": {
            "tags": []
          },
          "execution_count": 78
        }
      ]
    },
    {
      "cell_type": "code",
      "metadata": {
        "id": "dg9ucgHo6lUe",
        "colab_type": "code",
        "colab": {}
      },
      "source": [
        "all_data_to_export = all_data[[\"title\"]]\n",
        "all_data_to_export.to_csv('all_data_mini.csv', 'w' )\n",
        "from google.colab import files\n",
        "\n",
        "#files.download('all_data_mini.csv')"
      ],
      "execution_count": 0,
      "outputs": []
    },
    {
      "cell_type": "code",
      "metadata": {
        "id": "LGwTsk1gp62l",
        "colab_type": "code",
        "colab": {}
      },
      "source": [
        "\n",
        "all_data['text_clean']=all_data['text'].astype('U').apply(tokenize2)\n",
        "#all_data['title_clean']=all_data['title'].astype('U').apply(tokenize2)"
      ],
      "execution_count": 0,
      "outputs": []
    },
    {
      "cell_type": "markdown",
      "metadata": {
        "id": "gToCjmRTrEDe",
        "colab_type": "text"
      },
      "source": [
        "Please refer to section 7.9 - 14 for explanations"
      ]
    },
    {
      "cell_type": "code",
      "metadata": {
        "id": "npXQ9HDU3Nsl",
        "colab_type": "code",
        "outputId": "63675b45-ebc1-44b9-f723-72c5b52ff3de",
        "colab": {
          "base_uri": "https://localhost:8080/",
          "height": 67
        }
      },
      "source": [
        "all_data.text_clean.head(2)"
      ],
      "execution_count": 0,
      "outputs": [
        {
          "output_type": "execute_result",
          "data": {
            "text/plain": [
              "0    [print, pay, back, money, plus, interest, enti...\n",
              "1    [attorney, general, loretta, lynch, plead, fif...\n",
              "Name: text_clean, dtype: object"
            ]
          },
          "metadata": {
            "tags": []
          },
          "execution_count": 81
        }
      ]
    },
    {
      "cell_type": "code",
      "metadata": {
        "id": "53nejRhj6IbI",
        "colab_type": "code",
        "outputId": "c59023cb-8bba-42d4-82a5-744edbc8ccfd",
        "colab": {
          "base_uri": "https://localhost:8080/",
          "height": 67
        }
      },
      "source": [
        "all_data.type.value_counts()"
      ],
      "execution_count": 0,
      "outputs": [
        {
          "output_type": "execute_result",
          "data": {
            "text/plain": [
              "0    51507\n",
              "1    11492\n",
              "Name: type, dtype: int64"
            ]
          },
          "metadata": {
            "tags": []
          },
          "execution_count": 82
        }
      ]
    },
    {
      "cell_type": "code",
      "metadata": {
        "id": "YoCKS-7bqqiH",
        "colab_type": "code",
        "outputId": "0b118613-8117-4f91-f77f-8b28cc1e4f38",
        "colab": {
          "base_uri": "https://localhost:8080/",
          "height": 330
        }
      },
      "source": [
        "\n",
        "s= all_data['type'].value_counts()\n",
        "print(s)\n",
        "s.plot(kind='bar')"
      ],
      "execution_count": 0,
      "outputs": [
        {
          "output_type": "stream",
          "text": [
            "0    51507\n",
            "1    11492\n",
            "Name: type, dtype: int64\n"
          ],
          "name": "stdout"
        },
        {
          "output_type": "execute_result",
          "data": {
            "text/plain": [
              "<matplotlib.axes._subplots.AxesSubplot at 0x7f1b5892dda0>"
            ]
          },
          "metadata": {
            "tags": []
          },
          "execution_count": 83
        },
        {
          "output_type": "display_data",
          "data": {
            "image/png": "[encoded data removed]",
            "text/plain": [
              "<Figure size 432x288 with 1 Axes>"
            ]
          },
          "metadata": {
            "tags": [],
            "needs_background": "light"
          }
        }
      ]
    },
    {
      "cell_type": "markdown",
      "metadata": {
        "id": "auh3CfmuZFsL",
        "colab_type": "text"
      },
      "source": [
        "### 11.3 Applying LDA (as done before)"
      ]
    },
    {
      "cell_type": "code",
      "metadata": {
        "id": "SUk43bSXqsZw",
        "colab_type": "code",
        "colab": {}
      },
      "source": [
        "#all_data['text_distilled'] = all_data[ 'text_clean' ].apply( lambda x : x.split())\n",
        "from gensim.models.ldamodel import LdaModel\n",
        "from gensim.corpora import Dictionary\n",
        "\n",
        "def topics(tokenized_words):\n",
        "    if len( tokenized_words ) == 0 :\n",
        "      return []\n",
        "    d = Dictionary([tokenized_words])\n",
        "    c = [d.doc2bow(tokenized_words)]\n",
        "    m = LdaModel(c, num_topics=1, id2word=d)\n",
        "    return list(m.print_topics(num_words=2))\n",
        "  \n",
        "all_data['topics'] = all_data['text_clean'].apply(topics)\n"
      ],
      "execution_count": 0,
      "outputs": []
    },
    {
      "cell_type": "code",
      "metadata": {
        "id": "fAVl3EZk5wHR",
        "colab_type": "code",
        "outputId": "2c44c842-336a-4dda-afff-4e64c875b455",
        "colab": {
          "base_uri": "https://localhost:8080/",
          "height": 118
        }
      },
      "source": [
        "all_data['topics'].head(5)"
      ],
      "execution_count": 0,
      "outputs": [
        {
          "output_type": "execute_result",
          "data": {
            "text/plain": [
              "0    [(0, 0.036*\"government\" + 0.036*\"group\")]\n",
              "1          [(0, 0.033*\"lynch\" + 0.022*\"cash\")]\n",
              "2         [(0, 0.027*\"weiner\" + 0.018*\"form\")]\n",
              "3      [(0, 0.056*\"mueller\" + 0.056*\"speech\")]\n",
              "4      [(0, 0.024*\"insurance\" + 0.018*\"must\")]\n",
              "Name: topics, dtype: object"
            ]
          },
          "metadata": {
            "tags": []
          },
          "execution_count": 85
        }
      ]
    },
    {
      "cell_type": "code",
      "metadata": {
        "id": "iA6Uytjb5rIe",
        "colab_type": "code",
        "colab": {}
      },
      "source": [
        "\n",
        "def parseTopics(topics):\n",
        "   output = []\n",
        "   if len( topics ) >= 1 :\n",
        "      words = topics[0][1].split( '+' )\n",
        "   else:\n",
        "      return []\n",
        "   for word in words:\n",
        "       if '*' not in word:\n",
        "           print(word)\n",
        "           output.append( word )\n",
        "       else:\n",
        "           output.append( word.split('*')[1].replace( '\"', '' ) )\n",
        "   if len( output ) < 2:\n",
        "      output.append( output[0] )\n",
        "   if len( output ) != 2:\n",
        "      return output[:2]\n",
        "   if not isinstance( output[0], str ) or not isinstance( output[1], str ):\n",
        "      print( output )\n",
        "      assert isinstance( output[0], str )\n",
        "      assert isinstance( output[1], str )\n",
        "   return output"
      ],
      "execution_count": 0,
      "outputs": []
    },
    {
      "cell_type": "code",
      "metadata": {
        "id": "uIpZ2p7orDIc",
        "colab_type": "code",
        "outputId": "176b8731-a29c-4039-8e39-7ee2051d3478",
        "colab": {
          "base_uri": "https://localhost:8080/",
          "height": 118
        }
      },
      "source": [
        "all_data['topics'] = all_data['topics'].apply(parseTopics)"
      ],
      "execution_count": 0,
      "outputs": [
        {
          "output_type": "stream",
          "text": [
            "force\"\n",
            "1z\"\n",
            "1z\"\n",
            "1z\"\n",
            "1z\"\n",
            "equality\"\n"
          ],
          "name": "stdout"
        }
      ]
    },
    {
      "cell_type": "markdown",
      "metadata": {
        "id": "pDHoVJiOY9-_",
        "colab_type": "text"
      },
      "source": [
        "### 11.4 Encoding Topics using word2vec (Same Practice)"
      ]
    },
    {
      "cell_type": "code",
      "metadata": {
        "id": "SMHYRuc3rStb",
        "colab_type": "code",
        "outputId": "6df4014d-e96e-4c0a-b2d6-0092de28f035",
        "colab": {
          "base_uri": "https://localhost:8080/",
          "height": 289
        }
      },
      "source": [
        "m = Word2Vec( all_data[ 'text_clean' ] )\n",
        "vector_dim = len(m[list(m.wv.vocab)[0]])\n",
        "\n",
        "def encodeFirstColumn( topics ):\n",
        "   if len(topics) == 0:\n",
        "      return np.zeros( len(m[list(m.wv.vocab)[0]]) ).tolist()\n",
        "   topic = topics[0].strip()\n",
        "   if topic in m:\n",
        "      return m[topic].tolist()\n",
        "   else:\n",
        "      return np.zeros( len(m[list(m.wv.vocab)[0]]) ).tolist()\n",
        "    \n",
        "def encodeSecondColumn( topics ):\n",
        "   if len(topics) == 0:\n",
        "      return np.zeros( len(m[list(m.wv.vocab)[0]]) ).tolist()\n",
        "   topic = topics[0].strip()\n",
        "   if topic in m:\n",
        "      return m[topic].tolist()\n",
        "   else:\n",
        "      return np.zeros( len(m[list(m.wv.vocab)[0]]) ).tolist()\n",
        "    \n",
        "all_data[ 'topic_0' ] = all_data.topics.apply( encodeFirstColumn )\n",
        "all_data[ 'topic_1' ] = all_data.topics.apply( encodeSecondColumn )"
      ],
      "execution_count": 0,
      "outputs": [
        {
          "output_type": "stream",
          "text": [
            "/usr/local/lib/python3.6/dist-packages/ipykernel_launcher.py:2: DeprecationWarning: Call to deprecated `__getitem__` (Method will be removed in 4.0.0, use self.wv.__getitem__() instead).\n",
            "  \n",
            "/usr/local/lib/python3.6/dist-packages/ipykernel_launcher.py:8: DeprecationWarning: Call to deprecated `__contains__` (Method will be removed in 4.0.0, use self.wv.__contains__() instead).\n",
            "  \n",
            "/usr/local/lib/python3.6/dist-packages/ipykernel_launcher.py:9: DeprecationWarning: Call to deprecated `__getitem__` (Method will be removed in 4.0.0, use self.wv.__getitem__() instead).\n",
            "  if __name__ == '__main__':\n",
            "/usr/local/lib/python3.6/dist-packages/ipykernel_launcher.py:6: DeprecationWarning: Call to deprecated `__getitem__` (Method will be removed in 4.0.0, use self.wv.__getitem__() instead).\n",
            "  \n",
            "/usr/local/lib/python3.6/dist-packages/ipykernel_launcher.py:11: DeprecationWarning: Call to deprecated `__getitem__` (Method will be removed in 4.0.0, use self.wv.__getitem__() instead).\n",
            "  # This is added back by InteractiveShellApp.init_path()\n",
            "/usr/local/lib/python3.6/dist-packages/ipykernel_launcher.py:17: DeprecationWarning: Call to deprecated `__contains__` (Method will be removed in 4.0.0, use self.wv.__contains__() instead).\n",
            "/usr/local/lib/python3.6/dist-packages/ipykernel_launcher.py:18: DeprecationWarning: Call to deprecated `__getitem__` (Method will be removed in 4.0.0, use self.wv.__getitem__() instead).\n",
            "/usr/local/lib/python3.6/dist-packages/ipykernel_launcher.py:15: DeprecationWarning: Call to deprecated `__getitem__` (Method will be removed in 4.0.0, use self.wv.__getitem__() instead).\n",
            "  from ipykernel import kernelapp as app\n",
            "/usr/local/lib/python3.6/dist-packages/ipykernel_launcher.py:20: DeprecationWarning: Call to deprecated `__getitem__` (Method will be removed in 4.0.0, use self.wv.__getitem__() instead).\n"
          ],
          "name": "stderr"
        }
      ]
    },
    {
      "cell_type": "code",
      "metadata": {
        "id": "G1uM8QhQG886",
        "colab_type": "code",
        "outputId": "5166d91f-d841-4b60-f807-97908deeb92b",
        "colab": {
          "base_uri": "https://localhost:8080/",
          "height": 174
        }
      },
      "source": [
        "all_data.head(2)"
      ],
      "execution_count": 0,
      "outputs": [
        {
          "output_type": "execute_result",
          "data": {
            "text/html": [
              "<div>\n",
              "<style scoped>\n",
              "    .dataframe tbody tr th:only-of-type {\n",
              "        vertical-align: middle;\n",
              "    }\n",
              "\n",
              "    .dataframe tbody tr th {\n",
              "        vertical-align: top;\n",
              "    }\n",
              "\n",
              "    .dataframe thead th {\n",
              "        text-align: right;\n",
              "    }\n",
              "</style>\n",
              "<table border=\"1\" class=\"dataframe\">\n",
              "  <thead>\n",
              "    <tr style=\"text-align: right;\">\n",
              "      <th></th>\n",
              "      <th>date</th>\n",
              "      <th>title</th>\n",
              "      <th>text</th>\n",
              "      <th>type</th>\n",
              "      <th>text_clean</th>\n",
              "      <th>topics</th>\n",
              "      <th>topic_0</th>\n",
              "      <th>topic_1</th>\n",
              "    </tr>\n",
              "  </thead>\n",
              "  <tbody>\n",
              "    <tr>\n",
              "      <th>0</th>\n",
              "      <td>2016-10-26</td>\n",
              "      <td>Muslims BUSTED: They Stole Millions In Gov’t B...</td>\n",
              "      <td>Print They should pay all the back all the mon...</td>\n",
              "      <td>0</td>\n",
              "      <td>[print, pay, back, money, plus, interest, enti...</td>\n",
              "      <td>[government , group]</td>\n",
              "      <td>[-1.5645276308059692, 1.4541507959365845, -0.0...</td>\n",
              "      <td>[-1.5645276308059692, 1.4541507959365845, -0.0...</td>\n",
              "    </tr>\n",
              "    <tr>\n",
              "      <th>1</th>\n",
              "      <td>2016-10-29</td>\n",
              "      <td>Re: Why Did Attorney General Loretta Lynch Ple...</td>\n",
              "      <td>Why Did Attorney General Loretta Lynch Plead T...</td>\n",
              "      <td>0</td>\n",
              "      <td>[attorney, general, loretta, lynch, plead, fif...</td>\n",
              "      <td>[lynch , cash]</td>\n",
              "      <td>[0.8736134767532349, 0.9413124322891235, 0.875...</td>\n",
              "      <td>[0.8736134767532349, 0.9413124322891235, 0.875...</td>\n",
              "    </tr>\n",
              "  </tbody>\n",
              "</table>\n",
              "</div>"
            ],
            "text/plain": [
              "         date  ...                                            topic_1\n",
              "0  2016-10-26  ...  [-1.5645276308059692, 1.4541507959365845, -0.0...\n",
              "1  2016-10-29  ...  [0.8736134767532349, 0.9413124322891235, 0.875...\n",
              "\n",
              "[2 rows x 8 columns]"
            ]
          },
          "metadata": {
            "tags": []
          },
          "execution_count": 89
        }
      ]
    },
    {
      "cell_type": "code",
      "metadata": {
        "id": "M8qvjQz5voEd",
        "colab_type": "code",
        "colab": {}
      },
      "source": [
        "all_data[ 'date_int' ] = all_data.date.apply( setNumericDate )"
      ],
      "execution_count": 0,
      "outputs": []
    },
    {
      "cell_type": "code",
      "metadata": {
        "id": "-YjzryxOHEDx",
        "colab_type": "code",
        "outputId": "06b9c192-75d1-4d99-8fb0-2db4473ca480",
        "colab": {
          "base_uri": "https://localhost:8080/",
          "height": 110
        }
      },
      "source": [
        "all_data.head(1)"
      ],
      "execution_count": 0,
      "outputs": [
        {
          "output_type": "execute_result",
          "data": {
            "text/html": [
              "<div>\n",
              "<style scoped>\n",
              "    .dataframe tbody tr th:only-of-type {\n",
              "        vertical-align: middle;\n",
              "    }\n",
              "\n",
              "    .dataframe tbody tr th {\n",
              "        vertical-align: top;\n",
              "    }\n",
              "\n",
              "    .dataframe thead th {\n",
              "        text-align: right;\n",
              "    }\n",
              "</style>\n",
              "<table border=\"1\" class=\"dataframe\">\n",
              "  <thead>\n",
              "    <tr style=\"text-align: right;\">\n",
              "      <th></th>\n",
              "      <th>date</th>\n",
              "      <th>title</th>\n",
              "      <th>text</th>\n",
              "      <th>type</th>\n",
              "      <th>text_clean</th>\n",
              "      <th>topics</th>\n",
              "      <th>topic_0</th>\n",
              "      <th>topic_1</th>\n",
              "      <th>date_int</th>\n",
              "    </tr>\n",
              "  </thead>\n",
              "  <tbody>\n",
              "    <tr>\n",
              "      <th>0</th>\n",
              "      <td>2016-10-26</td>\n",
              "      <td>Muslims BUSTED: They Stole Millions In Gov’t B...</td>\n",
              "      <td>Print They should pay all the back all the mon...</td>\n",
              "      <td>0</td>\n",
              "      <td>[print, pay, back, money, plus, interest, enti...</td>\n",
              "      <td>[government , group]</td>\n",
              "      <td>[-1.5645276308059692, 1.4541507959365845, -0.0...</td>\n",
              "      <td>[-1.5645276308059692, 1.4541507959365845, -0.0...</td>\n",
              "      <td>201610</td>\n",
              "    </tr>\n",
              "  </tbody>\n",
              "</table>\n",
              "</div>"
            ],
            "text/plain": [
              "         date  ... date_int\n",
              "0  2016-10-26  ...   201610\n",
              "\n",
              "[1 rows x 9 columns]"
            ]
          },
          "metadata": {
            "tags": []
          },
          "execution_count": 91
        }
      ]
    },
    {
      "cell_type": "code",
      "metadata": {
        "id": "m2Aj0rzQwwuB",
        "colab_type": "code",
        "colab": {}
      },
      "source": [
        "for i in range( vector_dim ):\n",
        "   all_data[str(i)] = all_data.topic_0.apply( lambda x : select(x, i ) )\n",
        "    \n",
        "for i in range( vector_dim ):\n",
        "   all_data[str(vector_dim + i)] = all_data.topic_0.apply( lambda x : select(x, i ) )"
      ],
      "execution_count": 0,
      "outputs": []
    },
    {
      "cell_type": "code",
      "metadata": {
        "id": "m7N75jLuHXmh",
        "colab_type": "code",
        "outputId": "30026239-60f4-4376-b3e4-04ae8e26a6f6",
        "colab": {
          "base_uri": "https://localhost:8080/",
          "height": 390
        }
      },
      "source": [
        "all_data.head(2)"
      ],
      "execution_count": 0,
      "outputs": [
        {
          "output_type": "execute_result",
          "data": {
            "text/html": [
              "<div>\n",
              "<style scoped>\n",
              "    .dataframe tbody tr th:only-of-type {\n",
              "        vertical-align: middle;\n",
              "    }\n",
              "\n",
              "    .dataframe tbody tr th {\n",
              "        vertical-align: top;\n",
              "    }\n",
              "\n",
              "    .dataframe thead th {\n",
              "        text-align: right;\n",
              "    }\n",
              "</style>\n",
              "<table border=\"1\" class=\"dataframe\">\n",
              "  <thead>\n",
              "    <tr style=\"text-align: right;\">\n",
              "      <th></th>\n",
              "      <th>date</th>\n",
              "      <th>title</th>\n",
              "      <th>text</th>\n",
              "      <th>type</th>\n",
              "      <th>text_clean</th>\n",
              "      <th>topics</th>\n",
              "      <th>topic_0</th>\n",
              "      <th>topic_1</th>\n",
              "      <th>date_int</th>\n",
              "      <th>0</th>\n",
              "      <th>1</th>\n",
              "      <th>2</th>\n",
              "      <th>3</th>\n",
              "      <th>4</th>\n",
              "      <th>5</th>\n",
              "      <th>6</th>\n",
              "      <th>7</th>\n",
              "      <th>8</th>\n",
              "      <th>9</th>\n",
              "      <th>10</th>\n",
              "      <th>11</th>\n",
              "      <th>12</th>\n",
              "      <th>13</th>\n",
              "      <th>14</th>\n",
              "      <th>15</th>\n",
              "      <th>16</th>\n",
              "      <th>17</th>\n",
              "      <th>18</th>\n",
              "      <th>19</th>\n",
              "      <th>20</th>\n",
              "      <th>21</th>\n",
              "      <th>22</th>\n",
              "      <th>23</th>\n",
              "      <th>24</th>\n",
              "      <th>25</th>\n",
              "      <th>26</th>\n",
              "      <th>27</th>\n",
              "      <th>28</th>\n",
              "      <th>29</th>\n",
              "      <th>30</th>\n",
              "      <th>...</th>\n",
              "      <th>160</th>\n",
              "      <th>161</th>\n",
              "      <th>162</th>\n",
              "      <th>163</th>\n",
              "      <th>164</th>\n",
              "      <th>165</th>\n",
              "      <th>166</th>\n",
              "      <th>167</th>\n",
              "      <th>168</th>\n",
              "      <th>169</th>\n",
              "      <th>170</th>\n",
              "      <th>171</th>\n",
              "      <th>172</th>\n",
              "      <th>173</th>\n",
              "      <th>174</th>\n",
              "      <th>175</th>\n",
              "      <th>176</th>\n",
              "      <th>177</th>\n",
              "      <th>178</th>\n",
              "      <th>179</th>\n",
              "      <th>180</th>\n",
              "      <th>181</th>\n",
              "      <th>182</th>\n",
              "      <th>183</th>\n",
              "      <th>184</th>\n",
              "      <th>185</th>\n",
              "      <th>186</th>\n",
              "      <th>187</th>\n",
              "      <th>188</th>\n",
              "      <th>189</th>\n",
              "      <th>190</th>\n",
              "      <th>191</th>\n",
              "      <th>192</th>\n",
              "      <th>193</th>\n",
              "      <th>194</th>\n",
              "      <th>195</th>\n",
              "      <th>196</th>\n",
              "      <th>197</th>\n",
              "      <th>198</th>\n",
              "      <th>199</th>\n",
              "    </tr>\n",
              "  </thead>\n",
              "  <tbody>\n",
              "    <tr>\n",
              "      <th>0</th>\n",
              "      <td>2016-10-26</td>\n",
              "      <td>Muslims BUSTED: They Stole Millions In Gov’t B...</td>\n",
              "      <td>Print They should pay all the back all the mon...</td>\n",
              "      <td>0</td>\n",
              "      <td>[print, pay, back, money, plus, interest, enti...</td>\n",
              "      <td>[government , group]</td>\n",
              "      <td>[-1.5645276308059692, 1.4541507959365845, -0.0...</td>\n",
              "      <td>[-1.5645276308059692, 1.4541507959365845, -0.0...</td>\n",
              "      <td>201610</td>\n",
              "      <td>-1.564528</td>\n",
              "      <td>1.454151</td>\n",
              "      <td>-0.039847</td>\n",
              "      <td>2.196764</td>\n",
              "      <td>-0.011605</td>\n",
              "      <td>-0.768730</td>\n",
              "      <td>-1.461499</td>\n",
              "      <td>1.380923</td>\n",
              "      <td>-0.934244</td>\n",
              "      <td>-1.904287</td>\n",
              "      <td>3.736290</td>\n",
              "      <td>-2.460487</td>\n",
              "      <td>0.286847</td>\n",
              "      <td>-0.477085</td>\n",
              "      <td>-2.496452</td>\n",
              "      <td>2.235849</td>\n",
              "      <td>-0.561342</td>\n",
              "      <td>-0.563942</td>\n",
              "      <td>-0.934179</td>\n",
              "      <td>-1.303649</td>\n",
              "      <td>2.557044</td>\n",
              "      <td>0.033058</td>\n",
              "      <td>-0.244822</td>\n",
              "      <td>0.61812</td>\n",
              "      <td>-2.675227</td>\n",
              "      <td>-3.230678</td>\n",
              "      <td>0.262552</td>\n",
              "      <td>1.318629</td>\n",
              "      <td>0.809069</td>\n",
              "      <td>3.304798</td>\n",
              "      <td>0.842182</td>\n",
              "      <td>...</td>\n",
              "      <td>-0.824607</td>\n",
              "      <td>-0.029308</td>\n",
              "      <td>-3.144988</td>\n",
              "      <td>0.565182</td>\n",
              "      <td>2.409506</td>\n",
              "      <td>-0.386705</td>\n",
              "      <td>-0.801560</td>\n",
              "      <td>-0.079114</td>\n",
              "      <td>0.509543</td>\n",
              "      <td>1.430312</td>\n",
              "      <td>0.552912</td>\n",
              "      <td>-2.026430</td>\n",
              "      <td>-1.532733</td>\n",
              "      <td>1.289936</td>\n",
              "      <td>1.966171</td>\n",
              "      <td>-2.257101</td>\n",
              "      <td>-1.607572</td>\n",
              "      <td>0.391218</td>\n",
              "      <td>0.224091</td>\n",
              "      <td>-1.522621</td>\n",
              "      <td>-1.283834</td>\n",
              "      <td>-0.859486</td>\n",
              "      <td>0.440952</td>\n",
              "      <td>1.382748</td>\n",
              "      <td>-1.092382</td>\n",
              "      <td>-3.324852</td>\n",
              "      <td>-1.100997</td>\n",
              "      <td>0.384406</td>\n",
              "      <td>-0.026271</td>\n",
              "      <td>0.813503</td>\n",
              "      <td>-3.218100</td>\n",
              "      <td>-1.127342</td>\n",
              "      <td>-1.098107</td>\n",
              "      <td>3.310213</td>\n",
              "      <td>-2.975988</td>\n",
              "      <td>-0.649707</td>\n",
              "      <td>-1.306538</td>\n",
              "      <td>-2.638757</td>\n",
              "      <td>-1.246701</td>\n",
              "      <td>-0.341516</td>\n",
              "    </tr>\n",
              "    <tr>\n",
              "      <th>1</th>\n",
              "      <td>2016-10-29</td>\n",
              "      <td>Re: Why Did Attorney General Loretta Lynch Ple...</td>\n",
              "      <td>Why Did Attorney General Loretta Lynch Plead T...</td>\n",
              "      <td>0</td>\n",
              "      <td>[attorney, general, loretta, lynch, plead, fif...</td>\n",
              "      <td>[lynch , cash]</td>\n",
              "      <td>[0.8736134767532349, 0.9413124322891235, 0.875...</td>\n",
              "      <td>[0.8736134767532349, 0.9413124322891235, 0.875...</td>\n",
              "      <td>201610</td>\n",
              "      <td>0.873613</td>\n",
              "      <td>0.941312</td>\n",
              "      <td>0.875362</td>\n",
              "      <td>0.724927</td>\n",
              "      <td>-1.926456</td>\n",
              "      <td>0.126535</td>\n",
              "      <td>1.373657</td>\n",
              "      <td>1.182966</td>\n",
              "      <td>-1.719459</td>\n",
              "      <td>-1.688331</td>\n",
              "      <td>-1.683824</td>\n",
              "      <td>-1.210116</td>\n",
              "      <td>-1.201814</td>\n",
              "      <td>-1.571694</td>\n",
              "      <td>1.653164</td>\n",
              "      <td>0.426717</td>\n",
              "      <td>-0.753706</td>\n",
              "      <td>0.335027</td>\n",
              "      <td>-0.172219</td>\n",
              "      <td>1.649472</td>\n",
              "      <td>-0.104064</td>\n",
              "      <td>-1.599473</td>\n",
              "      <td>-0.373350</td>\n",
              "      <td>-0.75850</td>\n",
              "      <td>-1.090540</td>\n",
              "      <td>-2.296453</td>\n",
              "      <td>-1.108829</td>\n",
              "      <td>1.289600</td>\n",
              "      <td>0.842624</td>\n",
              "      <td>0.157548</td>\n",
              "      <td>-1.284966</td>\n",
              "      <td>...</td>\n",
              "      <td>-0.343070</td>\n",
              "      <td>1.192492</td>\n",
              "      <td>1.768397</td>\n",
              "      <td>-1.229909</td>\n",
              "      <td>1.217032</td>\n",
              "      <td>-1.554310</td>\n",
              "      <td>2.383523</td>\n",
              "      <td>1.758280</td>\n",
              "      <td>-0.755661</td>\n",
              "      <td>-1.716614</td>\n",
              "      <td>1.136116</td>\n",
              "      <td>-0.116316</td>\n",
              "      <td>0.720884</td>\n",
              "      <td>-0.457352</td>\n",
              "      <td>2.607279</td>\n",
              "      <td>-1.473192</td>\n",
              "      <td>-2.574947</td>\n",
              "      <td>1.433931</td>\n",
              "      <td>1.583300</td>\n",
              "      <td>-1.144878</td>\n",
              "      <td>-0.299538</td>\n",
              "      <td>2.904371</td>\n",
              "      <td>-2.308572</td>\n",
              "      <td>-0.476509</td>\n",
              "      <td>-1.757415</td>\n",
              "      <td>2.504000</td>\n",
              "      <td>-2.037196</td>\n",
              "      <td>0.205508</td>\n",
              "      <td>0.148330</td>\n",
              "      <td>-0.734430</td>\n",
              "      <td>-1.676754</td>\n",
              "      <td>1.421988</td>\n",
              "      <td>0.493536</td>\n",
              "      <td>-0.799470</td>\n",
              "      <td>0.403992</td>\n",
              "      <td>-0.776166</td>\n",
              "      <td>-0.249491</td>\n",
              "      <td>1.273293</td>\n",
              "      <td>4.526765</td>\n",
              "      <td>-2.600111</td>\n",
              "    </tr>\n",
              "  </tbody>\n",
              "</table>\n",
              "<p>2 rows × 209 columns</p>\n",
              "</div>"
            ],
            "text/plain": [
              "         date  ...       199\n",
              "0  2016-10-26  ... -0.341516\n",
              "1  2016-10-29  ... -2.600111\n",
              "\n",
              "[2 rows x 209 columns]"
            ]
          },
          "metadata": {
            "tags": []
          },
          "execution_count": 93
        }
      ]
    },
    {
      "cell_type": "markdown",
      "metadata": {
        "id": "WSoCBKpCOD57",
        "colab_type": "text"
      },
      "source": [
        "### 11.5 Generating coverage score"
      ]
    },
    {
      "cell_type": "code",
      "metadata": {
        "id": "41I3GaynODQ4",
        "colab_type": "code",
        "colab": {}
      },
      "source": [
        "keys = [str(i) for i in range(200)]\n",
        "X_Actual = all_data[['date_int'] + keys ]\n",
        "Y_Predict = f_cov.predict(X_Actual)"
      ],
      "execution_count": 0,
      "outputs": []
    },
    {
      "cell_type": "code",
      "metadata": {
        "id": "sEElzGLGPcew",
        "colab_type": "code",
        "colab": {}
      },
      "source": [
        "all_data['Coverage'] = Y_Predict "
      ],
      "execution_count": 0,
      "outputs": []
    },
    {
      "cell_type": "code",
      "metadata": {
        "id": "0iSBauwTPtFW",
        "colab_type": "code",
        "outputId": "9adc8f1a-d898-4b78-bdd6-52cee72090b0",
        "colab": {
          "base_uri": "https://localhost:8080/",
          "height": 34
        }
      },
      "source": [
        "sorted(Y_Predict, reverse=True )[:10]"
      ],
      "execution_count": 0,
      "outputs": [
        {
          "output_type": "execute_result",
          "data": {
            "text/plain": [
              "[41, 41, 41, 41, 41, 41, 41, 17, 17, 17]"
            ]
          },
          "metadata": {
            "tags": []
          },
          "execution_count": 96
        }
      ]
    },
    {
      "cell_type": "code",
      "metadata": {
        "id": "U2w2EU_u45jA",
        "colab_type": "code",
        "outputId": "0a63bd49-7672-41f7-acc9-d2bd15f7c904",
        "colab": {
          "base_uri": "https://localhost:8080/",
          "height": 67
        }
      },
      "source": [
        "all_data.type.value_counts()"
      ],
      "execution_count": 0,
      "outputs": [
        {
          "output_type": "execute_result",
          "data": {
            "text/plain": [
              "0    51507\n",
              "1    11492\n",
              "Name: type, dtype: int64"
            ]
          },
          "metadata": {
            "tags": []
          },
          "execution_count": 97
        }
      ]
    },
    {
      "cell_type": "code",
      "metadata": {
        "id": "WLUB-JFZs0-4",
        "colab_type": "code",
        "outputId": "52cefb47-dc6b-441d-f0ae-88424a50df06",
        "colab": {
          "base_uri": "https://localhost:8080/",
          "height": 330
        }
      },
      "source": [
        "s= all_data['type'].value_counts()\n",
        "print(s)\n",
        "s.plot(kind='bar')"
      ],
      "execution_count": 0,
      "outputs": [
        {
          "output_type": "stream",
          "text": [
            "0    51507\n",
            "1    11492\n",
            "Name: type, dtype: int64\n"
          ],
          "name": "stdout"
        },
        {
          "output_type": "execute_result",
          "data": {
            "text/plain": [
              "<matplotlib.axes._subplots.AxesSubplot at 0x7f1b791b6a90>"
            ]
          },
          "metadata": {
            "tags": []
          },
          "execution_count": 98
        },
        {
          "output_type": "display_data",
          "data": {
            "image/png": "[encoded data removed]",
            "text/plain": [
              "<Figure size 432x288 with 1 Axes>"
            ]
          },
          "metadata": {
            "tags": [],
            "needs_background": "light"
          }
        }
      ]
    },
    {
      "cell_type": "code",
      "metadata": {
        "id": "z5C-YY4vPm6J",
        "colab_type": "code",
        "outputId": "9cffbfa6-6010-446c-e3e7-3dae935b91bc",
        "colab": {
          "base_uri": "https://localhost:8080/",
          "height": 390
        }
      },
      "source": [
        "all_data.head(2)"
      ],
      "execution_count": 0,
      "outputs": [
        {
          "output_type": "execute_result",
          "data": {
            "text/html": [
              "<div>\n",
              "<style scoped>\n",
              "    .dataframe tbody tr th:only-of-type {\n",
              "        vertical-align: middle;\n",
              "    }\n",
              "\n",
              "    .dataframe tbody tr th {\n",
              "        vertical-align: top;\n",
              "    }\n",
              "\n",
              "    .dataframe thead th {\n",
              "        text-align: right;\n",
              "    }\n",
              "</style>\n",
              "<table border=\"1\" class=\"dataframe\">\n",
              "  <thead>\n",
              "    <tr style=\"text-align: right;\">\n",
              "      <th></th>\n",
              "      <th>date</th>\n",
              "      <th>title</th>\n",
              "      <th>text</th>\n",
              "      <th>type</th>\n",
              "      <th>text_clean</th>\n",
              "      <th>topics</th>\n",
              "      <th>topic_0</th>\n",
              "      <th>topic_1</th>\n",
              "      <th>date_int</th>\n",
              "      <th>0</th>\n",
              "      <th>1</th>\n",
              "      <th>2</th>\n",
              "      <th>3</th>\n",
              "      <th>4</th>\n",
              "      <th>5</th>\n",
              "      <th>6</th>\n",
              "      <th>7</th>\n",
              "      <th>8</th>\n",
              "      <th>9</th>\n",
              "      <th>10</th>\n",
              "      <th>11</th>\n",
              "      <th>12</th>\n",
              "      <th>13</th>\n",
              "      <th>14</th>\n",
              "      <th>15</th>\n",
              "      <th>16</th>\n",
              "      <th>17</th>\n",
              "      <th>18</th>\n",
              "      <th>19</th>\n",
              "      <th>20</th>\n",
              "      <th>21</th>\n",
              "      <th>22</th>\n",
              "      <th>23</th>\n",
              "      <th>24</th>\n",
              "      <th>25</th>\n",
              "      <th>26</th>\n",
              "      <th>27</th>\n",
              "      <th>28</th>\n",
              "      <th>29</th>\n",
              "      <th>30</th>\n",
              "      <th>...</th>\n",
              "      <th>161</th>\n",
              "      <th>162</th>\n",
              "      <th>163</th>\n",
              "      <th>164</th>\n",
              "      <th>165</th>\n",
              "      <th>166</th>\n",
              "      <th>167</th>\n",
              "      <th>168</th>\n",
              "      <th>169</th>\n",
              "      <th>170</th>\n",
              "      <th>171</th>\n",
              "      <th>172</th>\n",
              "      <th>173</th>\n",
              "      <th>174</th>\n",
              "      <th>175</th>\n",
              "      <th>176</th>\n",
              "      <th>177</th>\n",
              "      <th>178</th>\n",
              "      <th>179</th>\n",
              "      <th>180</th>\n",
              "      <th>181</th>\n",
              "      <th>182</th>\n",
              "      <th>183</th>\n",
              "      <th>184</th>\n",
              "      <th>185</th>\n",
              "      <th>186</th>\n",
              "      <th>187</th>\n",
              "      <th>188</th>\n",
              "      <th>189</th>\n",
              "      <th>190</th>\n",
              "      <th>191</th>\n",
              "      <th>192</th>\n",
              "      <th>193</th>\n",
              "      <th>194</th>\n",
              "      <th>195</th>\n",
              "      <th>196</th>\n",
              "      <th>197</th>\n",
              "      <th>198</th>\n",
              "      <th>199</th>\n",
              "      <th>Coverage</th>\n",
              "    </tr>\n",
              "  </thead>\n",
              "  <tbody>\n",
              "    <tr>\n",
              "      <th>0</th>\n",
              "      <td>2016-10-26</td>\n",
              "      <td>Muslims BUSTED: They Stole Millions In Gov’t B...</td>\n",
              "      <td>Print They should pay all the back all the mon...</td>\n",
              "      <td>0</td>\n",
              "      <td>[print, pay, back, money, plus, interest, enti...</td>\n",
              "      <td>[government , group]</td>\n",
              "      <td>[-1.5645276308059692, 1.4541507959365845, -0.0...</td>\n",
              "      <td>[-1.5645276308059692, 1.4541507959365845, -0.0...</td>\n",
              "      <td>201610</td>\n",
              "      <td>-1.564528</td>\n",
              "      <td>1.454151</td>\n",
              "      <td>-0.039847</td>\n",
              "      <td>2.196764</td>\n",
              "      <td>-0.011605</td>\n",
              "      <td>-0.768730</td>\n",
              "      <td>-1.461499</td>\n",
              "      <td>1.380923</td>\n",
              "      <td>-0.934244</td>\n",
              "      <td>-1.904287</td>\n",
              "      <td>3.736290</td>\n",
              "      <td>-2.460487</td>\n",
              "      <td>0.286847</td>\n",
              "      <td>-0.477085</td>\n",
              "      <td>-2.496452</td>\n",
              "      <td>2.235849</td>\n",
              "      <td>-0.561342</td>\n",
              "      <td>-0.563942</td>\n",
              "      <td>-0.934179</td>\n",
              "      <td>-1.303649</td>\n",
              "      <td>2.557044</td>\n",
              "      <td>0.033058</td>\n",
              "      <td>-0.244822</td>\n",
              "      <td>0.61812</td>\n",
              "      <td>-2.675227</td>\n",
              "      <td>-3.230678</td>\n",
              "      <td>0.262552</td>\n",
              "      <td>1.318629</td>\n",
              "      <td>0.809069</td>\n",
              "      <td>3.304798</td>\n",
              "      <td>0.842182</td>\n",
              "      <td>...</td>\n",
              "      <td>-0.029308</td>\n",
              "      <td>-3.144988</td>\n",
              "      <td>0.565182</td>\n",
              "      <td>2.409506</td>\n",
              "      <td>-0.386705</td>\n",
              "      <td>-0.801560</td>\n",
              "      <td>-0.079114</td>\n",
              "      <td>0.509543</td>\n",
              "      <td>1.430312</td>\n",
              "      <td>0.552912</td>\n",
              "      <td>-2.026430</td>\n",
              "      <td>-1.532733</td>\n",
              "      <td>1.289936</td>\n",
              "      <td>1.966171</td>\n",
              "      <td>-2.257101</td>\n",
              "      <td>-1.607572</td>\n",
              "      <td>0.391218</td>\n",
              "      <td>0.224091</td>\n",
              "      <td>-1.522621</td>\n",
              "      <td>-1.283834</td>\n",
              "      <td>-0.859486</td>\n",
              "      <td>0.440952</td>\n",
              "      <td>1.382748</td>\n",
              "      <td>-1.092382</td>\n",
              "      <td>-3.324852</td>\n",
              "      <td>-1.100997</td>\n",
              "      <td>0.384406</td>\n",
              "      <td>-0.026271</td>\n",
              "      <td>0.813503</td>\n",
              "      <td>-3.218100</td>\n",
              "      <td>-1.127342</td>\n",
              "      <td>-1.098107</td>\n",
              "      <td>3.310213</td>\n",
              "      <td>-2.975988</td>\n",
              "      <td>-0.649707</td>\n",
              "      <td>-1.306538</td>\n",
              "      <td>-2.638757</td>\n",
              "      <td>-1.246701</td>\n",
              "      <td>-0.341516</td>\n",
              "      <td>0</td>\n",
              "    </tr>\n",
              "    <tr>\n",
              "      <th>1</th>\n",
              "      <td>2016-10-29</td>\n",
              "      <td>Re: Why Did Attorney General Loretta Lynch Ple...</td>\n",
              "      <td>Why Did Attorney General Loretta Lynch Plead T...</td>\n",
              "      <td>0</td>\n",
              "      <td>[attorney, general, loretta, lynch, plead, fif...</td>\n",
              "      <td>[lynch , cash]</td>\n",
              "      <td>[0.8736134767532349, 0.9413124322891235, 0.875...</td>\n",
              "      <td>[0.8736134767532349, 0.9413124322891235, 0.875...</td>\n",
              "      <td>201610</td>\n",
              "      <td>0.873613</td>\n",
              "      <td>0.941312</td>\n",
              "      <td>0.875362</td>\n",
              "      <td>0.724927</td>\n",
              "      <td>-1.926456</td>\n",
              "      <td>0.126535</td>\n",
              "      <td>1.373657</td>\n",
              "      <td>1.182966</td>\n",
              "      <td>-1.719459</td>\n",
              "      <td>-1.688331</td>\n",
              "      <td>-1.683824</td>\n",
              "      <td>-1.210116</td>\n",
              "      <td>-1.201814</td>\n",
              "      <td>-1.571694</td>\n",
              "      <td>1.653164</td>\n",
              "      <td>0.426717</td>\n",
              "      <td>-0.753706</td>\n",
              "      <td>0.335027</td>\n",
              "      <td>-0.172219</td>\n",
              "      <td>1.649472</td>\n",
              "      <td>-0.104064</td>\n",
              "      <td>-1.599473</td>\n",
              "      <td>-0.373350</td>\n",
              "      <td>-0.75850</td>\n",
              "      <td>-1.090540</td>\n",
              "      <td>-2.296453</td>\n",
              "      <td>-1.108829</td>\n",
              "      <td>1.289600</td>\n",
              "      <td>0.842624</td>\n",
              "      <td>0.157548</td>\n",
              "      <td>-1.284966</td>\n",
              "      <td>...</td>\n",
              "      <td>1.192492</td>\n",
              "      <td>1.768397</td>\n",
              "      <td>-1.229909</td>\n",
              "      <td>1.217032</td>\n",
              "      <td>-1.554310</td>\n",
              "      <td>2.383523</td>\n",
              "      <td>1.758280</td>\n",
              "      <td>-0.755661</td>\n",
              "      <td>-1.716614</td>\n",
              "      <td>1.136116</td>\n",
              "      <td>-0.116316</td>\n",
              "      <td>0.720884</td>\n",
              "      <td>-0.457352</td>\n",
              "      <td>2.607279</td>\n",
              "      <td>-1.473192</td>\n",
              "      <td>-2.574947</td>\n",
              "      <td>1.433931</td>\n",
              "      <td>1.583300</td>\n",
              "      <td>-1.144878</td>\n",
              "      <td>-0.299538</td>\n",
              "      <td>2.904371</td>\n",
              "      <td>-2.308572</td>\n",
              "      <td>-0.476509</td>\n",
              "      <td>-1.757415</td>\n",
              "      <td>2.504000</td>\n",
              "      <td>-2.037196</td>\n",
              "      <td>0.205508</td>\n",
              "      <td>0.148330</td>\n",
              "      <td>-0.734430</td>\n",
              "      <td>-1.676754</td>\n",
              "      <td>1.421988</td>\n",
              "      <td>0.493536</td>\n",
              "      <td>-0.799470</td>\n",
              "      <td>0.403992</td>\n",
              "      <td>-0.776166</td>\n",
              "      <td>-0.249491</td>\n",
              "      <td>1.273293</td>\n",
              "      <td>4.526765</td>\n",
              "      <td>-2.600111</td>\n",
              "      <td>0</td>\n",
              "    </tr>\n",
              "  </tbody>\n",
              "</table>\n",
              "<p>2 rows × 210 columns</p>\n",
              "</div>"
            ],
            "text/plain": [
              "         date  ... Coverage\n",
              "0  2016-10-26  ...        0\n",
              "1  2016-10-29  ...        0\n",
              "\n",
              "[2 rows x 210 columns]"
            ]
          },
          "metadata": {
            "tags": []
          },
          "execution_count": 99
        }
      ]
    },
    {
      "cell_type": "markdown",
      "metadata": {
        "id": "jmhUTyQSQdrD",
        "colab_type": "text"
      },
      "source": [
        "### 11.6 Exporting csv file"
      ]
    },
    {
      "cell_type": "code",
      "metadata": {
        "id": "jDU7r-jeQfdU",
        "colab_type": "code",
        "colab": {}
      },
      "source": [
        "all_data_to_export = all_data[[\"title\", \"Coverage\"]]\n",
        "all_data_to_export.to_csv('all_data_coverage_condensed.csv', index=False )"
      ],
      "execution_count": 0,
      "outputs": []
    },
    {
      "cell_type": "markdown",
      "metadata": {
        "id": "4OcXzrCvs6O5",
        "colab_type": "text"
      },
      "source": [
        "Commenting file download"
      ]
    },
    {
      "cell_type": "code",
      "metadata": {
        "id": "R8ANQnadYPry",
        "colab_type": "code",
        "colab": {}
      },
      "source": [
        "from google.colab import files\n",
        "\n",
        "#files.download('all_data_coverage_condensed.csv')"
      ],
      "execution_count": 0,
      "outputs": []
    },
    {
      "cell_type": "markdown",
      "metadata": {
        "id": "ZmFpmsBReluz",
        "colab_type": "text"
      },
      "source": [
        "### 11.7 Plotting results for visualization"
      ]
    },
    {
      "cell_type": "code",
      "metadata": {
        "id": "BXdP1JmmfaSp",
        "colab_type": "code",
        "outputId": "6beaa10f-977b-4ac4-da64-3287b656398d",
        "colab": {
          "base_uri": "https://localhost:8080/",
          "height": 296
        }
      },
      "source": [
        "import matplotlib.pyplot as plt\n",
        "\n",
        "bins = range(10)\n",
        "plt.hist(all_data.Coverage, bins, histtype='bar', rwidth=0.8, cumulative=False )\n",
        "plt.xlabel( \"Coverage Score\" )\n",
        "plt.ylabel( \"Count\")"
      ],
      "execution_count": 0,
      "outputs": [
        {
          "output_type": "execute_result",
          "data": {
            "text/plain": [
              "Text(0, 0.5, 'Count')"
            ]
          },
          "metadata": {
            "tags": []
          },
          "execution_count": 102
        },
        {
          "output_type": "display_data",
          "data": {
            "image/png": "[encoded data removed]",
            "text/plain": [
              "<Figure size 432x288 with 1 Axes>"
            ]
          },
          "metadata": {
            "tags": [],
            "needs_background": "light"
          }
        }
      ]
    },
    {
      "cell_type": "code",
      "metadata": {
        "id": "Lp0uOhGEnKmj",
        "colab_type": "code",
        "outputId": "7ba50a59-b100-4caa-f2e5-0e28685957a7",
        "colab": {
          "base_uri": "https://localhost:8080/",
          "height": 296
        }
      },
      "source": [
        "plt.scatter(all_data.date_int, all_data.Coverage )\n",
        "plt.xlabel( \"Date (Integer/Concatenated Form)\" )\n",
        "plt.ylabel( \"Coverage Score\" )"
      ],
      "execution_count": 0,
      "outputs": [
        {
          "output_type": "execute_result",
          "data": {
            "text/plain": [
              "Text(0, 0.5, 'Coverage Score')"
            ]
          },
          "metadata": {
            "tags": []
          },
          "execution_count": 103
        },
        {
          "output_type": "display_data",
          "data": {
            "image/png": "[encoded data removed]",
            "text/plain": [
              "<Figure size 432x288 with 1 Axes>"
            ]
          },
          "metadata": {
            "tags": [],
            "needs_background": "light"
          }
        }
      ]
    },
    {
      "cell_type": "markdown",
      "metadata": {
        "id": "VdXbya-ulkvZ",
        "colab_type": "text"
      },
      "source": [
        "## **Reference**\n",
        "\n",
        "* 1. https://towardsdatascience.com/topic-modelling-in-python-with-nltk-and-gensim-4ef03213cd21\n",
        "* 2. https://github.com/hyunwookshin/all_news_dataset_kaggle"
      ]
    }
  ]
}